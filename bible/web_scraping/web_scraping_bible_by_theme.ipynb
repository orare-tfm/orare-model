{
 "cells": [
  {
   "cell_type": "code",
   "execution_count": 1,
   "metadata": {},
   "outputs": [
    {
     "name": "stdout",
     "output_type": "stream",
     "text": [
      "Version BeautifulSoup:  4.12.2\n",
      "Version BeautifulSoup:  2.31.0\n"
     ]
    }
   ],
   "source": [
    "import requests\n",
    "import bs4\n",
    "from bs4 import BeautifulSoup\n",
    "\n",
    "# Versiones bs4 and requests\n",
    "print(\"Version BeautifulSoup: \", bs4.__version__)\n",
    "print(\"Version BeautifulSoup: \", requests.__version__)"
   ]
  },
  {
   "cell_type": "code",
   "execution_count": 2,
   "metadata": {},
   "outputs": [],
   "source": [
    "def fun(url, purpose):\n",
    "    response = requests.get(url)\n",
    "    soup = BeautifulSoup(response.text, 'html.parser')\n",
    "    js = {\"purpose\": purpose,\n",
    "          \"versiculos\": []}\n",
    "    for parrafo in soup.find('ul', {'id': 'maintab'}).find_all('li'):\n",
    "        try:\n",
    "            clean_text = parrafo.get_text(separator=\" \", strip=True).split(' - ')[0]\n",
    "            reference_link = parrafo.find('span', class_='verselink').get_text(strip=True)\n",
    "            if reference_link in clean_text:\n",
    "                clean_text = clean_text.replace(reference_link, \"\").strip()\n",
    "            js[\"versiculos\"].append({\"pasaje\": reference_link, \"texto\": clean_text})\n",
    "        except:\n",
    "            None\n",
    "    return js"
   ]
  },
  {
   "cell_type": "code",
   "execution_count": 3,
   "metadata": {},
   "outputs": [],
   "source": [
    "v = [\n",
    "    'https://www.wordproject.org/bibles/verses/spanish/01_salvation.htm',\n",
    "     'https://www.wordproject.org/bibles/verses/spanish/02_prayer.htm',\n",
    "     'https://www.wordproject.org/bibles/verses/spanish/03_praise.htm',\n",
    "     'https://www.wordproject.org/bibles/verses/spanish/04_faith.htm',\n",
    "     'https://www.wordproject.org/bibles/verses/spanish/05_love.htm',\n",
    "     'https://www.wordproject.org/bibles/verses/spanish/06_resting.htm',\n",
    "     'https://www.wordproject.org/bibles/verses/spanish/07_word.htm',\n",
    "     'https://www.wordproject.org/bibles/verses/spanish/08_fear.htm',\n",
    "     'https://www.wordproject.org/bibles/verses/spanish/09_supply.htm',\n",
    "     'https://www.wordproject.org/bibles/verses/spanish/10_forgiveness.htm',\n",
    "     'https://www.wordproject.org/bibles/verses/spanish/11_growth.htm',\n",
    "     'https://www.wordproject.org/bibles/verses/spanish/12_giving.htm',\n",
    "     'https://www.wordproject.org/bibles/verses/spanish/13_healing.htm',\n",
    "     'https://www.wordproject.org/bibles/verses/spanish/14_protection.htm',\n",
    "     'https://www.wordproject.org/bibles/verses/spanish/15_guidance.htm',\n",
    "     'https://www.wordproject.org/bibles/verses/spanish/16_fight.htm',\n",
    "     'https://www.wordproject.org/bibles/verses/spanish/17_happiness.htm',\n",
    "     'https://www.wordproject.org/bibles/verses/spanish/18_strength.htm',\n",
    "     'https://www.wordproject.org/bibles/verses/spanish/19_creation_evolution.htm',\n",
    "     'https://www.wordproject.org/bibles/verses/spanish/20_fight_for_you.htm',\n",
    "     'https://www.wordproject.org/bibles/verses/spanish/21_honesty.htm',\n",
    "     'https://www.wordproject.org/bibles/verses/spanish/22_discipline.htm',\n",
    "     'https://www.wordproject.org/bibles/verses/spanish/23_pregnancy.htm',\n",
    "     'https://www.wordproject.org/bibles/verses/spanish/24_abortion.htm',\n",
    "     'https://www.wordproject.org/bibles/verses/spanish/25_results.htm',\n",
    "     'https://www.wordproject.org/bibles/verses/spanish/26_peace.htm',\n",
    "     'https://www.wordproject.org/bibles/verses/spanish/27_rest.htm',\n",
    "     'https://www.wordproject.org/bibles/verses/spanish/28_dependency.htm',\n",
    "     'https://www.wordproject.org/bibles/verses/spanish/29_difficult.htm',\n",
    "     'https://www.wordproject.org/bibles/verses/spanish/30_wisdom.htm',\n",
    "     'https://www.wordproject.org/bibles/verses/spanish/31_boldness.htm',\n",
    "     'https://www.wordproject.org/bibles/verses/spanish/32_vice.htm',\n",
    "     'https://www.wordproject.org/bibles/verses/spanish/33_pride.htm',\n",
    "     'https://www.wordproject.org/bibles/verses/spanish/34_separation.htm',\n",
    "     'https://www.wordproject.org/bibles/verses/spanish/35_legalities.htm',\n",
    "     'https://www.wordproject.org/bibles/verses/spanish/36_perversion.htm',\n",
    "     'https://www.wordproject.org/bibles/verses/spanish/37_resisting.htm',\n",
    "     'https://www.wordproject.org/bibles/verses/spanish/38_claiming.htm',\n",
    "     'https://www.wordproject.org/bibles/verses/spanish/39_marriage_sex.htm',\n",
    "     'https://www.wordproject.org/bibles/verses/spanish/40_simplicity.htm'\n",
    "     ]\n",
    "purposes_english = ['salvation', 'prayer', 'praise', 'faith', 'love', 'resting', 'word', 'fear', 'supply', \n",
    "            'forgiveness', 'growth', 'giving', 'healing', 'protection', 'guidance', 'fight', 'happiness', \n",
    "            'strength', 'creation_evolution', 'fight_for_you', 'honesty', 'discipline', 'pregnancy', 'abortion', \n",
    "            'results', 'peace', 'rest', 'dependency', 'difficult', 'wisdom', 'boldness', 'vice', 'pride', 'separation', \n",
    "            'legalities', 'perversion', 'resisting', 'claiming', 'marriage_sex', 'simplicity']\n",
    "\n",
    "purposes = ['salvación', 'oración', 'alabanza', 'fe', 'amor', 'descanso en el señor', 'la palabra', 'libertad del miedo', 'suministro de dios', \n",
    "            'perdón y misericordia', 'crecimiento espiritual', 'altruismo', 'salud y curación', 'protección', 'pastores y líderes', 'batalla de la fe', 'felicidad', \n",
    "            'fuerza y ánimo', 'creación/evolución', 'victoria en el señor', 'honestidad', 'disciplina/niños', 'maternidad', 'aborto', \n",
    "            'gratitud', 'paz', 'descanso y vacaciones', 'valor y audacia', 'dificultades', 'sabiduria', 'convicción', 'vicio', 'orgullo', 'separación', \n",
    "            'legalidades', 'perversión', 'resistencia al diablo', 'reivindicación', 'matrimonio y el sexo', 'Jesús, el hijo de Dios - simplicidad']"
   ]
  },
  {
   "cell_type": "code",
   "execution_count": 4,
   "metadata": {},
   "outputs": [],
   "source": [
    "l = []\n",
    "for i in range(40):\n",
    "    #print(i)\n",
    "    j = fun(v[i],purposes[i])\n",
    "    l.append(j)"
   ]
  },
  {
   "cell_type": "code",
   "execution_count": 5,
   "metadata": {},
   "outputs": [
    {
     "name": "stdout",
     "output_type": "stream",
     "text": [
      "Data has been saved to text_and_references.json\n"
     ]
    }
   ],
   "source": [
    "import json\n",
    "\n",
    "# Save the extracted text and references to a JSON file\n",
    "with open('text_and_references.json', 'w', encoding='utf-8') as json_file:\n",
    "    json.dump(l, json_file, ensure_ascii=False, indent=4)\n",
    "\n",
    "print(\"Data has been saved to text_and_references.json\")"
   ]
  },
  {
   "cell_type": "code",
   "execution_count": null,
   "metadata": {},
   "outputs": [],
   "source": []
  }
 ],
 "metadata": {
  "kernelspec": {
   "display_name": "base",
   "language": "python",
   "name": "python3"
  },
  "language_info": {
   "codemirror_mode": {
    "name": "ipython",
    "version": 3
   },
   "file_extension": ".py",
   "mimetype": "text/x-python",
   "name": "python",
   "nbconvert_exporter": "python",
   "pygments_lexer": "ipython3",
   "version": "3.11.7"
  }
 },
 "nbformat": 4,
 "nbformat_minor": 2
}
