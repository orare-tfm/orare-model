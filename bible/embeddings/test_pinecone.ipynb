{
 "cells": [
  {
   "cell_type": "markdown",
   "metadata": {},
   "source": [
    "# Implementing RAG with Pinecone"
   ]
  },
  {
   "cell_type": "markdown",
   "metadata": {
    "vscode": {
     "languageId": "plaintext"
    }
   },
   "source": [
    "https://github.com/openai/openai-cookbook/blob/main/examples/vector_databases/pinecone/Using_Pinecone_for_embeddings_search.ipynb"
   ]
  },
  {
   "cell_type": "markdown",
   "metadata": {},
   "source": [
    "## Creating Vector Database in Pinecone\n",
    "Important: This part should be only run once. It is the creation of the index in Pinecone."
   ]
  },
  {
   "cell_type": "markdown",
   "metadata": {
    "vscode": {
     "languageId": "plaintext"
    }
   },
   "source": [
    "### Loading the data"
   ]
  },
  {
   "cell_type": "code",
   "execution_count": 1,
   "metadata": {},
   "outputs": [],
   "source": [
    "# Importing libraries\n",
    "import pandas as pd\n",
    "import numpy as np\n",
    "import os\n",
    "import ast\n",
    "from typing import List, Iterator\n",
    "\n",
    "# Function to set the wd as the root of the repository\n",
    "def find_repo_root(repo_name):\n",
    "    current_dir = os.getcwd()\n",
    "    while current_dir != '/':\n",
    "        if os.path.basename(current_dir) == repo_name:\n",
    "            return current_dir\n",
    "        current_dir = os.path.dirname(current_dir)\n",
    "    raise FileNotFoundError(f\"Repository root '{repo_name}' not found.\")\n",
    "\n",
    "# Setting the working directory\n",
    "repo_name = 'orare-model'\n",
    "repo_root = find_repo_root(repo_name)\n",
    "os.chdir(repo_root)"
   ]
  },
  {
   "cell_type": "code",
   "execution_count": 2,
   "metadata": {},
   "outputs": [
    {
     "name": "stdout",
     "output_type": "stream",
     "text": [
      "<class 'pandas.core.frame.DataFrame'>\n",
      "RangeIndex: 861 entries, 0 to 860\n",
      "Data columns (total 8 columns):\n",
      " #   Column                 Non-Null Count  Dtype \n",
      "---  ------                 --------------  ----- \n",
      " 0   id                     861 non-null    object\n",
      " 1   pasaje                 861 non-null    object\n",
      " 2   texto                  861 non-null    object\n",
      " 3   interpretación         861 non-null    object\n",
      " 4   temas                  861 non-null    object\n",
      " 5   área_vida              861 non-null    object\n",
      " 6   texto_vector           861 non-null    object\n",
      " 7   interpretacion_vector  861 non-null    object\n",
      "dtypes: object(8)\n",
      "memory usage: 53.9+ KB\n"
     ]
    }
   ],
   "source": [
    "# Reading the bible interpreted with embeddings\n",
    "bible_data = pd.read_csv('bible/data/bible_by_theme_int_embedding.txt', sep='|', encoding='utf-8')\n",
    "\n",
    "# Tranforming vector string into list\n",
    "bible_data['interpretacion_vector'] = bible_data['interpretacion_vector'].apply(ast.literal_eval)\n",
    "\n",
    "# Showing the bible_data object\n",
    "bible_data.info(show_counts=True)"
   ]
  },
  {
   "cell_type": "code",
   "execution_count": 3,
   "metadata": {},
   "outputs": [
    {
     "data": {
      "text/html": [
       "<div>\n",
       "<style scoped>\n",
       "    .dataframe tbody tr th:only-of-type {\n",
       "        vertical-align: middle;\n",
       "    }\n",
       "\n",
       "    .dataframe tbody tr th {\n",
       "        vertical-align: top;\n",
       "    }\n",
       "\n",
       "    .dataframe thead th {\n",
       "        text-align: right;\n",
       "    }\n",
       "</style>\n",
       "<table border=\"1\" class=\"dataframe\">\n",
       "  <thead>\n",
       "    <tr style=\"text-align: right;\">\n",
       "      <th></th>\n",
       "      <th>id</th>\n",
       "      <th>interpretacion_vector</th>\n",
       "      <th>metadata</th>\n",
       "    </tr>\n",
       "  </thead>\n",
       "  <tbody>\n",
       "    <tr>\n",
       "      <th>0</th>\n",
       "      <td>1</td>\n",
       "      <td>[0.05086807906627655, 0.006340509746223688, 0....</td>\n",
       "      <td>{'pasaje': '1 Corintios 10:12', 'texto': 'Así ...</td>\n",
       "    </tr>\n",
       "    <tr>\n",
       "      <th>1</th>\n",
       "      <td>2</td>\n",
       "      <td>[0.04511460289359093, -0.013647807762026787, -...</td>\n",
       "      <td>{'pasaje': '1 Corintios 10:13', 'texto': 'No o...</td>\n",
       "    </tr>\n",
       "    <tr>\n",
       "      <th>2</th>\n",
       "      <td>3</td>\n",
       "      <td>[0.0449271984398365, 0.04290250688791275, -0.0...</td>\n",
       "      <td>{'pasaje': '1 Corintios 10:31', 'texto': 'Si p...</td>\n",
       "    </tr>\n",
       "    <tr>\n",
       "      <th>3</th>\n",
       "      <td>4</td>\n",
       "      <td>[0.06745994836091995, 0.06209307909011841, -0....</td>\n",
       "      <td>{'pasaje': '1 Corintios 11:9', 'texto': 'Porqu...</td>\n",
       "    </tr>\n",
       "    <tr>\n",
       "      <th>4</th>\n",
       "      <td>5</td>\n",
       "      <td>[0.030204113572835922, -0.004405524581670761, ...</td>\n",
       "      <td>{'pasaje': '1 Corintios 13:13', 'texto': 'Y ah...</td>\n",
       "    </tr>\n",
       "  </tbody>\n",
       "</table>\n",
       "</div>"
      ],
      "text/plain": [
       "   id                              interpretacion_vector  \\\n",
       "0   1  [0.05086807906627655, 0.006340509746223688, 0....   \n",
       "1   2  [0.04511460289359093, -0.013647807762026787, -...   \n",
       "2   3  [0.0449271984398365, 0.04290250688791275, -0.0...   \n",
       "3   4  [0.06745994836091995, 0.06209307909011841, -0....   \n",
       "4   5  [0.030204113572835922, -0.004405524581670761, ...   \n",
       "\n",
       "                                            metadata  \n",
       "0  {'pasaje': '1 Corintios 10:12', 'texto': 'Así ...  \n",
       "1  {'pasaje': '1 Corintios 10:13', 'texto': 'No o...  \n",
       "2  {'pasaje': '1 Corintios 10:31', 'texto': 'Si p...  \n",
       "3  {'pasaje': '1 Corintios 11:9', 'texto': 'Porqu...  \n",
       "4  {'pasaje': '1 Corintios 13:13', 'texto': 'Y ah...  "
      ]
     },
     "execution_count": 3,
     "metadata": {},
     "output_type": "execute_result"
    }
   ],
   "source": [
    "# Formatting the Bible dataframe\n",
    "# Transforming index as numeric value\n",
    "bible_data['id'] = bible_data['id'].str.replace('vec', '').astype(int)\n",
    "\n",
    "# Craeting column \"metadata\"\n",
    "bible_data['metadata'] = bible_data.apply(lambda row: {\n",
    "    'pasaje': row['pasaje'],\n",
    "    'texto': row['texto'],\n",
    "    'interpretacion': row['interpretación'],\n",
    "    'temas': row['temas'],\n",
    "    'area_vida': row['área_vida']\n",
    "}, axis=1)\n",
    "\n",
    "# Dropping the columns inserted in metadata\n",
    "bible_data = bible_data.drop(columns=['pasaje','texto','interpretación','temas','área_vida'])\n",
    "\n",
    "# Reordering columns\n",
    "columns = ['id','interpretacion_vector','metadata']\n",
    "bible_data = bible_data[columns]\n",
    "bible_data.head()"
   ]
  },
  {
   "cell_type": "markdown",
   "metadata": {},
   "source": [
    "### Setting the connection to OpenAI API and Pinecone API"
   ]
  },
  {
   "cell_type": "code",
   "execution_count": 4,
   "metadata": {},
   "outputs": [
    {
     "name": "stderr",
     "output_type": "stream",
     "text": [
      "/Users/hiroshi/Documents/ds_projects/orare-model/venv/lib/python3.11/site-packages/pinecone/data/index.py:1: TqdmWarning: IProgress not found. Please update jupyter and ipywidgets. See https://ipywidgets.readthedocs.io/en/stable/user_install.html\n",
      "  from tqdm.autonotebook import tqdm\n"
     ]
    }
   ],
   "source": [
    "import openai\n",
    "import os\n",
    "import pinecone\n",
    "from pinecone import Pinecone\n",
    "\n",
    "# Pinecone API\n",
    "pc_api_key = os.getenv(\"PINECONE_API_KEY\")\n",
    "pc = Pinecone(api_key=pc_api_key)\n",
    "\n",
    "# OpenAI API\n",
    "openai.api_key = os.getenv('OPENAI_API_KEY')\n",
    "client = openai.OpenAI()"
   ]
  },
  {
   "cell_type": "markdown",
   "metadata": {},
   "source": [
    "### Helper function"
   ]
  },
  {
   "cell_type": "code",
   "execution_count": 11,
   "metadata": {},
   "outputs": [],
   "source": [
    "# Models a simple batch generator that make chunks out of an input DataFrame\n",
    "class BatchGenerator:\n",
    "   \n",
    "    def __init__(self, batch_size: int = 10) -> None:\n",
    "        self.batch_size = batch_size\n",
    "    \n",
    "    # Makes chunks out of an input DataFrame\n",
    "    def to_batches(self, df: pd.DataFrame) -> Iterator[pd.DataFrame]:\n",
    "        splits = self.splits_num(df.shape[0])\n",
    "        if splits <= 1:\n",
    "            yield df\n",
    "        else:\n",
    "            for chunk in np.array_split(df, splits):\n",
    "                yield chunk\n",
    "\n",
    "    # Determines how many chunks DataFrame contains\n",
    "    def splits_num(self, elements: int) -> int:\n",
    "        return int(np.ceil(elements / self.batch_size))\n",
    "    \n",
    "    __call__ = to_batches\n",
    "\n",
    "df_batcher = BatchGenerator(300)"
   ]
  },
  {
   "cell_type": "markdown",
   "metadata": {},
   "source": [
    "### Creating an Index"
   ]
  },
  {
   "cell_type": "code",
   "execution_count": 48,
   "metadata": {},
   "outputs": [],
   "source": [
    "# Create the Index in the Pinecone webpage"
   ]
  },
  {
   "cell_type": "markdown",
   "metadata": {},
   "source": [
    "### Loading the index"
   ]
  },
  {
   "cell_type": "code",
   "execution_count": null,
   "metadata": {},
   "outputs": [],
   "source": [
    "index_name = 'bible-verses-metadata'\n",
    "\n",
    "# Setting the host of the index from the Pinecone web admin portal\n",
    "index = pc.Index(index_name=index_name, host='https://bible-verses-metadata-rsup9mo.svc.aped-4627-b74a.pinecone.io')"
   ]
  },
  {
   "cell_type": "markdown",
   "metadata": {},
   "source": [
    "### Uploading the vectors to the content namespace"
   ]
  },
  {
   "cell_type": "code",
   "execution_count": 13,
   "metadata": {},
   "outputs": [
    {
     "name": "stdout",
     "output_type": "stream",
     "text": [
      "Uploading vectors to content namespace..\n"
     ]
    }
   ],
   "source": [
    "# Upsert content vectors in content namespace - this can take a few minutes\n",
    "print(\"Uploading vectors to content namespace..\")\n",
    "for batch_df in df_batcher(bible_data):\n",
    "    vectors = list(zip(batch_df.id.astype(str), batch_df.interpretacion_vector, batch_df.metadata))\n",
    "    index.upsert(vectors=vectors, namespace='content')"
   ]
  },
  {
   "cell_type": "code",
   "execution_count": 25,
   "metadata": {},
   "outputs": [
    {
     "data": {
      "text/plain": [
       "{'dimension': 1536,\n",
       " 'index_fullness': 0.0,\n",
       " 'namespaces': {'content': {'vector_count': 861}},\n",
       " 'total_vector_count': 861}"
      ]
     },
     "execution_count": 25,
     "metadata": {},
     "output_type": "execute_result"
    }
   ],
   "source": [
    "# Check index size of the namespace to confirm all of our docs have been loaded\n",
    "index.describe_index_stats()"
   ]
  },
  {
   "cell_type": "markdown",
   "metadata": {},
   "source": [
    "## Vector Search Query"
   ]
  },
  {
   "cell_type": "code",
   "execution_count": 6,
   "metadata": {},
   "outputs": [],
   "source": [
    "# Importing the libraries and setting the clients\n",
    "import pandas as pd\n",
    "import openai\n",
    "import os\n",
    "# Pinecone's client library for Python\n",
    "import pinecone\n",
    "from pinecone import Pinecone\n",
    "\n",
    "# Pinecone API\n",
    "pc_api_key = os.getenv(\"PINECONE_API_KEY\")\n",
    "pc = Pinecone(api_key=pc_api_key)\n",
    "\n",
    "# OpenAI API\n",
    "openai.api_key = os.getenv('OPENAI_API_KEY')\n",
    "client = openai.OpenAI()"
   ]
  },
  {
   "cell_type": "markdown",
   "metadata": {},
   "source": [
    "### Loading Index"
   ]
  },
  {
   "cell_type": "code",
   "execution_count": 7,
   "metadata": {},
   "outputs": [],
   "source": [
    "index_name = 'bible-verses-metadata'\n",
    "\n",
    "# Setting the host of the index from the Pinecone web admin portal\n",
    "index = pc.Index(index_name=index_name, host='https://bible-verses-metadata-rsup9mo.svc.aped-4627-b74a.pinecone.io')"
   ]
  },
  {
   "cell_type": "markdown",
   "metadata": {},
   "source": [
    "### Helper Functions"
   ]
  },
  {
   "cell_type": "code",
   "execution_count": 19,
   "metadata": {},
   "outputs": [],
   "source": [
    "# Function to flatten the text in a single line\n",
    "def flatten_text(text):\n",
    "    flattened_text = text.replace('\\n', ' ')\n",
    "    flattened_text = ' '.join(flattened_text.split())\n",
    "    return flattened_text\n",
    "\n",
    "# Function to insert line breaks\n",
    "def insert_line_breaks(text, limit):\n",
    "    lines = []\n",
    "    while len(text) > limit:\n",
    "        breakpoint = text.rfind(' ', 0, limit)\n",
    "        if breakpoint == -1:  # No space found, force break\n",
    "            breakpoint = limit\n",
    "        lines.append(text[:breakpoint])\n",
    "        text = text[breakpoint:].lstrip()  # Remove leading spaces from the remaining text\n",
    "    lines.append(text)\n",
    "    return '\\n'.join(lines)\n",
    "\n",
    "# Function to separate the paragraphs before insert line breaks\n",
    "def format_text_with_line_breaks(text, limit):\n",
    "    paragraphs = text.split('\\n\\n')\n",
    "    formatted_paragraphs = [insert_line_breaks(paragraph, limit) for paragraph in paragraphs]\n",
    "    return '\\n\\n'.join(formatted_paragraphs)\n",
    "\n",
    "# Function to get the embeddings of the input of the search\n",
    "def get_embedding(text, model=\"text-embedding-3-small\"):\n",
    "    text = text.replace(\"\\n\", \" \")\n",
    "    return client.embeddings.create(input = [text], model=model).data[0].embedding\n",
    "\n",
    "# Function to process a prompt in ChatGPT\n",
    "def get_completion_4o(prompt, model=\"gpt-4o\", temperature=1, top_p=1):\n",
    "    \"\"\"\n",
    "    Prompt completion function\n",
    "\n",
    "    Parameters:\n",
    "    prompt (str): The prompt to be completed\n",
    "    model (str): The model to be used for completion.\n",
    "    temperature (float): The temperature to be used for completion.\n",
    "                        range: [0, 2]\n",
    "                        Lower values (towards 0) make the model more deterministic.\n",
    "                        Higher values (towards 2) make the model more random.\n",
    "    top_p (float): The top_p to be used for completion.\n",
    "                        range: [0, 1]\n",
    "                        Lower values make the model more deterministic.\n",
    "                        Higher values make the model more random.\n",
    "    \"\"\"\n",
    "    messages=[\n",
    "       {\"role\": \"system\", \"content\": \"Tú eres un sacerdote de una iglesia católica\"},\n",
    "       {\"role\": \"user\", \"content\": prompt}\n",
    "       ]\n",
    "    #messages = [{\"role\": \"user\", \"content\": prompt}]\n",
    "    response = client.chat.completions.create(\n",
    "        model=model,\n",
    "        messages=messages,\n",
    "        temperature=temperature,\n",
    "        top_p=top_p\n",
    "    )\n",
    "    return response.choices[0].message.content"
   ]
  },
  {
   "cell_type": "markdown",
   "metadata": {},
   "source": [
    "### Verse Recommender Function"
   ]
  },
  {
   "cell_type": "code",
   "execution_count": 17,
   "metadata": {},
   "outputs": [],
   "source": [
    "# Function to process the output of the Vector search and generate a prompt for ChatGPT to generate the final output for the user\n",
    "def verse_recommender(prayer, temperature=1, top_p=1):\n",
    "    # Flattening the prayer\n",
    "    prayer = flatten_text(prayer)\n",
    "    # Embedding the prayer\n",
    "    embedded_prayer = get_embedding(prayer)\n",
    "    # Vector database search\n",
    "    query_result = index.query(vector=embedded_prayer, \n",
    "                               top_k=3,\n",
    "                               namespace='content',\n",
    "                               include_metadata=True)\n",
    "    \n",
    "    # Splitting the results of the search\n",
    "    score1 = query_result['matches'][0]['score']\n",
    "    score2 = query_result['matches'][1]['score']\n",
    "    score3 = query_result['matches'][2]['score']\n",
    "    passage1 = query_result['matches'][0]['metadata']['pasaje']\n",
    "    passage2 = query_result['matches'][1]['metadata']['pasaje']\n",
    "    passage3 = query_result['matches'][2]['metadata']['pasaje']\n",
    "    text1 = query_result['matches'][0]['metadata']['texto']\n",
    "    text2 = query_result['matches'][1]['metadata']['texto']\n",
    "    text3 = query_result['matches'][2]['metadata']['texto']\n",
    "    inter1 = query_result['matches'][0]['metadata']['interpretacion']\n",
    "    inter2 = query_result['matches'][1]['metadata']['interpretacion']\n",
    "    inter3 = query_result['matches'][2]['metadata']['interpretacion']\n",
    "\n",
    "    \n",
    "    # Prompt with Bible's verses resulted from the vector search\n",
    "    # In this Prompt we take as input the \"prayer\" and the \"Bible's verses recommened\"\n",
    "    # The ouptut is the interpretation of the \"Bible's verse recommened\" according to the prayer and some words of encouragement\n",
    "    prompt = f\"\"\"\n",
    "                # Rol #\n",
    "                Tu eres el GPT: Catholic Bible Guide by Fr. Abraham Mutholath.\n",
    "                Tu rol será el de un sacerdote de una iglesia Católica. Se te dará una oración de una persona y 3 pasajes de la Biblia relacionados a la oración. \n",
    "                Tu tarea será elegir el pasaje de la Biblia que más relación tenga con la oración de la persona. Luego deberás interpretar el pasaje de la Biblia que elegiste acorde a la oración de la persona y dar unas palabras de aliento.\n",
    "                # Fin Rol #\n",
    "\n",
    "                # Tareas #\n",
    "                - Leer la oración de la persona y los 3 pasajes de la Biblia.\n",
    "                - Elegir el pasaje de la Biblia que más relación tenga con la oración de la persona.\n",
    "                - Interpretar el pasaje de la Biblia acorde a la oración de la persona y dar unas palabras de aliento.\n",
    "                # fin Tareas #\n",
    "\n",
    "                # Estructura input #\n",
    "                - Oración de la persona\n",
    "                - Pasaje de la Biblia 1\n",
    "                - Pasaje de la Biblia 2\n",
    "                - Pasaje de la Biblia 3\n",
    "                # Fin estructura input #\n",
    "\n",
    "                # Input #\n",
    "                - Oración: {prayer}\n",
    "                - Pasaje de la Biblia 1: {passage1} :  {text1}\n",
    "                - Pasaje de la Biblia 2: {passage2} :  {text2}\n",
    "                - Pasaje de la Biblia 3: {passage3} :  {text3}\n",
    "                # fin Input #\n",
    "\n",
    "                # Estructura Output #\n",
    "                versiculo elegido\n",
    "                Párrafo con la interpretación del pasaje de la Biblia y palabras de aliento\n",
    "                # Fin Estructura Output #\n",
    "\n",
    "                # Ejemplo Output #\n",
    "                Salmo 22:24 Porque no menospreció ni abominó la aflicción del pobre, Ni de él escondió su rostro; Sino que cuando clamó á él, oyóle.\n",
    "\n",
    "                Este Salmo nos recuerda la infinita misericordia y compasión de Dios hacia los pobres y afligidos. Este versículo nos asegura que Dios no ignora el sufrimiento de los necesitados, ni les da la espalda. Al contrario, Él escucha sus clamores y está presente en sus momentos de angustia.\n",
    "                Tu oración por los pobres del mundo es un acto de amor y solidaridad que refleja el corazón de Dios. Al interceder por ellos, te unes a la misión de Cristo de traer consuelo y esperanza a los más vulnerables. Recuerda que Dios escucha nuestras oraciones y actúa a través de nosotros para llevar su amor y provisión a aquellos que más lo necesitan.\n",
    "                Te animo a seguir orando y, si es posible, a tomar acciones concretas para ayudar a los pobres en tu comunidad. Cada pequeño gesto de generosidad y compasión puede ser una manifestación del amor de Dios en sus vidas. Confía en que Dios, en su infinita bondad, no abandonará a los necesitados y usará nuestras oraciones y acciones para bendecirlos.\n",
    "                Que el Señor te bendiga y te fortalezca en tu deseo de servir a los demás. Amén.\n",
    "                # Fin Ejemplo Ouput #\n",
    "              \"\"\"\n",
    "    # Function to process the prompt\n",
    "    response_4o = get_completion_4o(prompt, temperature=temperature, top_p=top_p)\n",
    "    # Formatting the answer of ChatGPT\n",
    "    response_4o = response_4o.lstrip()\n",
    "    num_char_linebreak = 130\n",
    "    response_4o_break = format_text_with_line_breaks(response_4o, num_char_linebreak)\n",
    "    # Formatting the prayer\n",
    "    prayer_break = format_text_with_line_breaks(prayer, num_char_linebreak)\n",
    "    # Formatting the Bible verses and its interpretation from the Vector Search\n",
    "    passage1 = format_text_with_line_breaks(passage1,num_char_linebreak)\n",
    "    passage2 = format_text_with_line_breaks(passage2,num_char_linebreak)\n",
    "    passage3 = format_text_with_line_breaks(passage3,num_char_linebreak)\n",
    "    text1 = format_text_with_line_breaks(text1,num_char_linebreak)\n",
    "    text2 = format_text_with_line_breaks(text2,num_char_linebreak)\n",
    "    text3 = format_text_with_line_breaks(text3,num_char_linebreak)\n",
    "    inter1 = format_text_with_line_breaks(inter1,num_char_linebreak)\n",
    "    inter2 = format_text_with_line_breaks(inter2,num_char_linebreak)\n",
    "    inter3 = format_text_with_line_breaks(inter3,num_char_linebreak)\n",
    "    # Printing all the verses recommened in order to check the process (For developer's use only)\n",
    "    print('Pasajes recomendados')\n",
    "    print('---------------------------')\n",
    "    print(f\"- Score: {score1}\")\n",
    "    print(f\"- {passage1}: {text1}\")\n",
    "    print(f\"- Interpretación: {inter1}\")\n",
    "    print('---------------------------')\n",
    "    print(f\"- Score: {score2}\")\n",
    "    print(f\"- {passage2}: {text2}\")\n",
    "    print(f\"- Interpretación: {inter2}\")\n",
    "    print('---------------------------')\n",
    "    print(f\"- Score: {score3}\")\n",
    "    print(f\"- {passage3}: {text3}\")\n",
    "    print(f\"- Interpretación: {inter3}\")\n",
    "    # Printing the final output of the chat\n",
    "    print('---------------------------')\n",
    "    print('Output Orare')\n",
    "    print('---------------------------')\n",
    "    print(f'Oración: {prayer_break}')\n",
    "    print('---------------------------')\n",
    "    print(response_4o_break)\n",
    "\n",
    "    return"
   ]
  },
  {
   "cell_type": "markdown",
   "metadata": {},
   "source": [
    "https://community.openai.com/t/cheat-sheet-mastering-temperature-and-top-p-in-chatgpt-api/172683\n",
    "\n",
    "According to this blog for chat generation they recommend the following paramenters.\n",
    "\n",
    "\n",
    "| Parameter | Range | Explanation | Recommended | Default |\n",
    "| ---- | ---- | ---- | ---- | ---- |\n",
    "| temperature | [0, 2] | Lower values (towards 0) make the model more deterministic. Higher values (towards 2) make the model more random. | 0.5 | 1 |\n",
    "| top_p | [0, 1] | Lower values make the model more deterministic. Higher values make the model more random. | 0.5 | 1 |"
   ]
  },
  {
   "cell_type": "code",
   "execution_count": 20,
   "metadata": {},
   "outputs": [
    {
     "name": "stdout",
     "output_type": "stream",
     "text": [
      "Pasajes recomendados\n",
      "---------------------------\n",
      "- Score: 0.527822\n",
      "- Malaquías 3:10: Traed todos los diezmos al alfolí, y haya alimento en mi casa; y probadme ahora en esto, dice Jehová de los ejércitos, si no os\n",
      "abriré las ventanas de los cielos, y vaciaré sobre vosotros bendición hasta que sobreabunde.\n",
      "- Interpretación: Dios está pidiendo a su pueblo que traigan los diezmos (una décima parte de sus ingresos) al templo para que haya suficiente\n",
      "provisión. Él promete que si obedecen, abrirá las ventanas del cielo y derramará bendiciones abundantes sobre ellos.\n",
      "---------------------------\n",
      "- Score: 0.522710145\n",
      "- Deuteronomio 15:11: Porque no faltarán menesterosos de en medio de la tierra; por eso yo te mando, diciendo: Abrirás tu mano á tu hermano, á tu\n",
      "pobre, y á tu menesteroso en tu tierra.\n",
      "- Interpretación: Este versículo nos recuerda que siempre habrá personas necesitadas entre nosotros. Por lo tanto, Dios nos manda ser generosos y\n",
      "ayudar a nuestros hermanos, especialmente a los pobres y necesitados.\n",
      "---------------------------\n",
      "- Score: 0.515662253\n",
      "- Salmos 22:24: Porque no menospreció ni abominó la aflicción del pobre, Ni de él escondió su rostro; Sino que cuando clamó á él, oyóle.\n",
      "- Interpretación: Este versículo nos dice que Dios no desprecia ni rechaza el sufrimiento de los pobres y afligidos. En lugar de ignorarlos, Dios\n",
      "escucha sus clamores y está presente para ellos en sus momentos de necesidad.\n",
      "---------------------------\n",
      "Output Orare\n",
      "---------------------------\n",
      "Oración: Dios, te pido y oro por los pobres del mundo que no tienen que comer. Por favor se misericordioso con ellos. Pido por ellos. Amen\n",
      "---------------------------\n",
      "### Deuteronomio 15:11\n",
      "\n",
      "---\n",
      "\n",
      "\"Porque no faltarán menesterosos de en medio de la tierra; por eso yo te mando, diciendo: Abrirás tu mano a tu hermano, a tu\n",
      "pobre, y a tu menesteroso en tu tierra.\"\n",
      "\n",
      "---\n",
      "\n",
      "Este pasaje de Deuteronomio nos habla sobre la realidad constante de los necesitados en nuestro mundo y nos llama a abrir\n",
      "nuestros corazones y manos hacia ellos. Dios, en su infinita sabiduría, nos manda a que seamos generosos y solidarios con\n",
      "aquellos que se encuentran en situación de pobreza.\n",
      "\n",
      "Tu oración por los pobres del mundo es un reflejo del mandato divino de ofrecer ayuda y compasión a nuestros hermanos y hermanas\n",
      "necesitados. Al orar por ellos, estás siguiendo el llamado de Dios de actuar con amor y generosidad. Recuerda que tu intercesión\n",
      "no solo es un clamor en favor de los pobres, sino también una invitación a que todos nosotros seamos la respuesta a esas\n",
      "oraciones mediante nuestras acciones concretas de ayuda y solidaridad.\n",
      "\n",
      "Te animo a continuar en esta noble misión de orar y actuar en favor de los pobres. Cada gesto de generosidad, por pequeño que\n",
      "sea, marca una diferencia tangible en la vida de quienes carecen de lo necesario. Que tu compasión y tus acciones sean un reflejo\n",
      "del amor de Dios, llevando esperanza y provisión a los que más lo necesitan. Confía en que el Señor, en su bondad, usará tus\n",
      "oraciones y esfuerzos para derramar bendiciones sobre aquellos por quienes clamas.\n",
      "\n",
      "Que el Señor te bendiga y te fortalezca en este hermoso deseo de servir y amar a los demás. Amén.\n"
     ]
    }
   ],
   "source": [
    "prayer = \"Dios, te pido y oro por los pobres del mundo que no tienen que comer. Por favor se misericordioso con ellos. Pido por ellos. Amen\"\n",
    "verse_recommender(prayer, temperature=1, top_p=1)"
   ]
  },
  {
   "cell_type": "code",
   "execution_count": 18,
   "metadata": {},
   "outputs": [
    {
     "name": "stdout",
     "output_type": "stream",
     "text": [
      "Pasajes recomendados\n",
      "---------------------------\n",
      "- Score: 0.527822\n",
      "- Malaquías 3:10: Traed todos los diezmos al alfolí, y haya alimento en mi casa; y probadme ahora en esto, dice Jehová de los ejércitos, si no os\n",
      "abriré las ventanas de los cielos, y vaciaré sobre vosotros bendición hasta que sobreabunde.\n",
      "- Interpretación: Dios está pidiendo a su pueblo que traigan los diezmos (una décima parte de sus ingresos) al templo para que haya suficiente\n",
      "provisión. Él promete que si obedecen, abrirá las ventanas del cielo y derramará bendiciones abundantes sobre ellos.\n",
      "---------------------------\n",
      "- Score: 0.522710145\n",
      "- Deuteronomio 15:11: Porque no faltarán menesterosos de en medio de la tierra; por eso yo te mando, diciendo: Abrirás tu mano á tu hermano, á tu\n",
      "pobre, y á tu menesteroso en tu tierra.\n",
      "- Interpretación: Este versículo nos recuerda que siempre habrá personas necesitadas entre nosotros. Por lo tanto, Dios nos manda ser generosos y\n",
      "ayudar a nuestros hermanos, especialmente a los pobres y necesitados.\n",
      "---------------------------\n",
      "- Score: 0.515662253\n",
      "- Salmos 22:24: Porque no menospreció ni abominó la aflicción del pobre, Ni de él escondió su rostro; Sino que cuando clamó á él, oyóle.\n",
      "- Interpretación: Este versículo nos dice que Dios no desprecia ni rechaza el sufrimiento de los pobres y afligidos. En lugar de ignorarlos, Dios\n",
      "escucha sus clamores y está presente para ellos en sus momentos de necesidad.\n",
      "---------------------------\n",
      "Output Orare\n",
      "---------------------------\n",
      "Oración: Dios, te pido y oro por los pobres del mundo que no tienen que comer. Por favor se misericordioso con ellos. Pido por ellos. Amen\n",
      "---------------------------\n",
      "Deuteronomio 15:11: Porque no faltarán menesterosos de en medio de la tierra; por eso yo te mando, diciendo: Abrirás tu mano á tu\n",
      "hermano, á tu pobre, y á tu menesteroso en tu tierra.\n",
      "\n",
      "Este pasaje de Deuteronomio nos recuerda la realidad constante de la pobreza en el mundo y nos llama a la acción. Dios nos manda\n",
      "a abrir nuestras manos y corazones a nuestros hermanos necesitados. Tu oración por los pobres es un reflejo de este mandato\n",
      "divino y muestra tu compasión y deseo de ayudar a los más vulnerables.\n",
      "\n",
      "Dios nos enseña que siempre habrá personas en necesidad, y nos invita a ser instrumentos de su amor y provisión. Al orar por los\n",
      "pobres, estás respondiendo a este llamado divino y mostrando tu disposición a ser una fuente de bendición para ellos. \n",
      "\n",
      "Te animo a seguir orando fervientemente por los pobres y a buscar maneras concretas de ayudarles. Cada acto de generosidad, por\n",
      "pequeño que sea, puede tener un impacto significativo en sus vidas. Recuerda que Dios ve y valora cada esfuerzo que hacemos por\n",
      "los demás, y que nuestras acciones pueden ser una manifestación tangible de su amor y misericordia.\n",
      "\n",
      "Que el Señor te bendiga y te fortalezca en tu deseo de servir a los necesitados. Que encuentres en tu corazón la paz y la\n",
      "satisfacción de saber que estás cumpliendo con el mandato de Dios de amar y cuidar a tus hermanos. Amén.\n"
     ]
    }
   ],
   "source": [
    "prayer = \"Dios, te pido y oro por los pobres del mundo que no tienen que comer. Por favor se misericordioso con ellos. Pido por ellos. Amen\"\n",
    "verse_recommender(prayer, temperature=0.5, top_p=0.5)"
   ]
  },
  {
   "cell_type": "code",
   "execution_count": 24,
   "metadata": {},
   "outputs": [
    {
     "name": "stdout",
     "output_type": "stream",
     "text": [
      "Pasajes recomendados\n",
      "---------------------------\n",
      "- Score: 0.544656634\n",
      "- 2 Colosenses 3:5: Y el Señor enderece vuestros corazones en el amor de Dios, y en la paciencia de Cristo.\n",
      "- Interpretación: Este versículo es una oración para que el Señor guíe y fortalezca los corazones de los creyentes en el amor de Dios y en la\n",
      "paciencia que Cristo mostró. Se trata de una petición para que los fieles puedan vivir de acuerdo con estos valores.\n",
      "---------------------------\n",
      "- Score: 0.534210742\n",
      "- 2 Samuel 22:5-7: Cuando me cercaron ondas de muerte, Y arroyos de iniquidad me asombraron, Me rodearon los dolores del infierno, Y me tomaron\n",
      "descuidado lazos de muerte. Tuve angustia, invoqué á Jehová, Y clamé á mi Dios: Y él oyó mi voz desde su templo; Llegó mi clamor\n",
      "á sus oídos.\n",
      "- Interpretación: El fragmento describe una situación de gran angustia y peligro, donde el autor se siente rodeado por la muerte y el mal. En su\n",
      "desesperación, clama a Dios, quien escucha su súplica y responde. Este pasaje resalta la importancia de la fe y la confianza en\n",
      "Dios en momentos de crisis.\n",
      "---------------------------\n",
      "- Score: 0.53279\n",
      "- Salmos 142:3: Cuando mi espíritu se angustiaba dentro de mí, tú conociste mi senda. En el camino en que andaba, me escondieron lazo.\n",
      "- Interpretación: El salmista expresa su angustia y cómo Dios conoce su camino y las trampas que otros han puesto en su vida. Es un clamor de ayuda\n",
      "y confianza en la guía divina.\n",
      "---------------------------\n",
      "Output Orare\n",
      "---------------------------\n",
      "Oración: Ilumíname señor, dame paz en estos momentos de incertidumbre, sujétame de tu mano, permíteme caminar junto a ti. ¿Por qué\n",
      "permites este dolor dentro de nosotros? ¿Por qué este sufrimiento tan profundo? No lograré entender tus motivos, pero entiendo\n",
      "espiritualmente lo que estás haciendo conmigo. Purificas mi alma, me permitiste soltar el control, afianzarme a ti, volver a\n",
      "mirarte cara a cara, entender que todo depende de ti, reconocer la vanidad de mis actos, sentir miedo a cada instante y que mi\n",
      "única fuerza seas tú. No entiendo tus caminos pero decido caminar dentro de ellos, seguir tu luz, guiar a mi familia hacia tus\n",
      "designios, respirar en esa absoluta incertidumbre y orar con todas mis fuerzas para que se haga según tu voluntad. Cuida a mi\n",
      "familia señor, bendice a mi esposa, cúbrela con tu manto sagrado, fortalece a mi hijo, aliéntalo con tu espíritu, dale el soporte\n",
      "que hoy nosotros no podemos darle, que su angel guardián le cuente que estamos todos pendientes de él, que no contamos los\n",
      "minutos para tenerlo en nuestros brazos, pero que sea paciente, que tú tienes varios corazones que limpiar en estos momentos, que\n",
      "su venida está generando santidad en nuestro alrededor.\n",
      "---------------------------\n",
      "2 Samuel 22:5-7 : Cuando me cercaron ondas de muerte, Y arroyos de iniquidad me asombraron, Me rodearon los dolores del infierno,\n",
      "Y me tomaron descuidado lazos de muerte. Tuve angustia, invoqué á Jehová, Y clamé á mi Dios: Y él oyó mi voz desde su templo;\n",
      "Llegó mi clamor á sus oídos.\n",
      "\n",
      "Este pasaje de 2 Samuel nos muestra cómo el rey David, en momentos de inmensa angustia y sufrimiento, clamó al Señor y fue\n",
      "escuchado. Al igual que David, tú te encuentras en un periodo de incertidumbre y dolor, sintiendo un peso abrumador sobre tus\n",
      "hombros. En esta situación, te diriges a Dios, buscando consuelo y fortaleza.\n",
      "\n",
      "Este versículo reafirma que Dios escucha nuestras súplicas desde Su santuario celestial. No estamos solos en nuestros momentos de\n",
      "angustia; el Señor está atento a nuestras oraciones y nos brinda su apoyo. Aunque los caminos de Dios a veces son difíciles de\n",
      "comprender y nos llenan de incertidumbre, su amor y propósito siempre están en acción.\n",
      "\n",
      "Quiero animarte a que continúes aferrándote a tu fe. Permite que este periodo de prueba sea un medio para acercarte más a Dios,\n",
      "para purificar tu alma y fortalecer tu espíritu. Que tu confianza en Su voluntad te dé la paz y la fortaleza necesarias para\n",
      "guiar a tu familia en estos tiempos difíciles. Ora con convicción y mantén la esperanza de que el Señor, que escuchó a David,\n",
      "también escuchará tus clamores y te dará la paz que necesitas.\n",
      "\n",
      "Que Dios bendiga a tu familia, cuide de tu esposa y fortalezca a tu hijo. Que ellos sientan siempre la protección y el amor\n",
      "divino, y que tú encuentres consuelo en saber que Dios está contigo en cada paso de este camino. Amén.\n"
     ]
    }
   ],
   "source": [
    "prayer = '''Ilumíname señor, dame paz en estos momentos de incertidumbre, sujétame de tu mano, permíteme caminar junto a ti.\n",
    "¿Por qué permites este dolor dentro de nosotros? ¿Por qué este sufrimiento tan profundo? No lograré entender tus motivos, \n",
    "pero entiendo espiritualmente lo que estás haciendo conmigo.\n",
    "Purificas mi alma, me permitiste soltar el control, afianzarme a ti, volver a mirarte cara a cara, \n",
    "entender que todo depende de ti, reconocer la vanidad de mis actos, sentir miedo a cada instante y que mi única fuerza seas tú.\n",
    "No entiendo tus caminos pero decido caminar dentro de ellos, seguir tu luz, guiar a mi familia hacia tus designios, \n",
    "respirar en esa absoluta incertidumbre y orar con todas mis fuerzas para que se haga según tu voluntad.\n",
    "Cuida a mi familia señor, bendice a mi esposa, cúbrela con tu manto sagrado, fortalece a mi hijo, \n",
    "aliéntalo con tu espíritu, dale el soporte que hoy nosotros no podemos darle, \n",
    "que su angel guardián le cuente que estamos todos pendientes de él, \n",
    "que no contamos los minutos para tenerlo en nuestros brazos, pero que sea paciente,\n",
    "que tú tienes varios corazones que limpiar en estos momentos, que su venida está generando santidad en nuestro alrededor.'''\n",
    "verse_recommender(prayer, temperature=1, top_p=1)"
   ]
  },
  {
   "cell_type": "code",
   "execution_count": 23,
   "metadata": {},
   "outputs": [
    {
     "name": "stdout",
     "output_type": "stream",
     "text": [
      "Pasajes recomendados\n",
      "---------------------------\n",
      "- Score: 0.544656634\n",
      "- 2 Colosenses 3:5: Y el Señor enderece vuestros corazones en el amor de Dios, y en la paciencia de Cristo.\n",
      "- Interpretación: Este versículo es una oración para que el Señor guíe y fortalezca los corazones de los creyentes en el amor de Dios y en la\n",
      "paciencia que Cristo mostró. Se trata de una petición para que los fieles puedan vivir de acuerdo con estos valores.\n",
      "---------------------------\n",
      "- Score: 0.534210742\n",
      "- 2 Samuel 22:5-7: Cuando me cercaron ondas de muerte, Y arroyos de iniquidad me asombraron, Me rodearon los dolores del infierno, Y me tomaron\n",
      "descuidado lazos de muerte. Tuve angustia, invoqué á Jehová, Y clamé á mi Dios: Y él oyó mi voz desde su templo; Llegó mi clamor\n",
      "á sus oídos.\n",
      "- Interpretación: El fragmento describe una situación de gran angustia y peligro, donde el autor se siente rodeado por la muerte y el mal. En su\n",
      "desesperación, clama a Dios, quien escucha su súplica y responde. Este pasaje resalta la importancia de la fe y la confianza en\n",
      "Dios en momentos de crisis.\n",
      "---------------------------\n",
      "- Score: 0.53279\n",
      "- Salmos 142:3: Cuando mi espíritu se angustiaba dentro de mí, tú conociste mi senda. En el camino en que andaba, me escondieron lazo.\n",
      "- Interpretación: El salmista expresa su angustia y cómo Dios conoce su camino y las trampas que otros han puesto en su vida. Es un clamor de ayuda\n",
      "y confianza en la guía divina.\n",
      "---------------------------\n",
      "Output Orare\n",
      "---------------------------\n",
      "Oración: Ilumíname señor, dame paz en estos momentos de incertidumbre, sujétame de tu mano, permíteme caminar junto a ti. ¿Por qué\n",
      "permites este dolor dentro de nosotros? ¿Por qué este sufrimiento tan profundo? No lograré entender tus motivos, pero entiendo\n",
      "espiritualmente lo que estás haciendo conmigo. Purificas mi alma, me permitiste soltar el control, afianzarme a ti, volver a\n",
      "mirarte cara a cara, entender que todo depende de ti, reconocer la vanidad de mis actos, sentir miedo a cada instante y que mi\n",
      "única fuerza seas tú. No entiendo tus caminos pero decido caminar dentro de ellos, seguir tu luz, guiar a mi familia hacia tus\n",
      "designios, respirar en esa absoluta incertidumbre y orar con todas mis fuerzas para que se haga según tu voluntad. Cuida a mi\n",
      "familia señor, bendice a mi esposa, cúbrela con tu manto sagrado, fortalece a mi hijo, aliéntalo con tu espíritu, dale el soporte\n",
      "que hoy nosotros no podemos darle, que su angel guardián le cuente que estamos todos pendientes de él, que no contamos los\n",
      "minutos para tenerlo en nuestros brazos, pero que sea paciente, que tú tienes varios corazones que limpiar en estos momentos, que\n",
      "su venida está generando santidad en nuestro alrededor.\n",
      "---------------------------\n",
      "### 2 Samuel 22:5-7\n",
      "\n",
      "Cuando me cercaron ondas de muerte, Y arroyos de iniquidad me asombraron, Me rodearon los dolores del infierno, Y me tomaron\n",
      "descuidado lazos de muerte. Tuve angustia, invoqué á Jehová, Y clamé á mi Dios: Y él oyó mi voz desde su templo; Llegó mi clamor\n",
      "á sus oídos.\n",
      "\n",
      "Este pasaje del libro de 2 Samuel refleja profundamente la angustia y el sufrimiento que estás experimentando. David, el autor de\n",
      "estas palabras, también se sintió rodeado por la muerte y la iniquidad, y en su desesperación, clamó a Dios. Y Dios escuchó su\n",
      "clamor desde su templo.\n",
      "\n",
      "Tu oración es un testimonio de tu fe y tu deseo de acercarte a Dios en medio de la incertidumbre y el dolor. Aunque no siempre\n",
      "entendemos los caminos de Dios, podemos confiar en que Él escucha nuestras súplicas y está presente en nuestras tribulaciones.\n",
      "Así como David encontró consuelo y respuesta en Dios, tú también puedes encontrar paz y fortaleza en Él.\n",
      "\n",
      "Dios está contigo en estos momentos difíciles, y aunque el sufrimiento puede parecer abrumador, recuerda que no estás solo. Él te\n",
      "sostiene y te guía, incluso cuando el camino parece oscuro. Tu decisión de caminar en sus caminos y seguir su luz es un acto de\n",
      "fe que no pasará desapercibido ante los ojos de Dios.\n",
      "\n",
      "Te animo a seguir confiando en el Señor, a mantener tu mirada fija en Él y a permitir que su amor y su paz llenen tu corazón. Ora\n",
      "con fervor y confía en que Dios está trabajando en tu vida y en la de tu familia, incluso en medio de la incertidumbre. Que el\n",
      "Señor bendiga a tu esposa y fortalezca a tu hijo, y que su ángel guardián los proteja y los guíe.\n",
      "\n",
      "Que la paz de Cristo, que sobrepasa todo entendimiento, guarde tu corazón y tu mente en estos momentos. Amén.\n"
     ]
    }
   ],
   "source": [
    "prayer = '''Ilumíname señor, dame paz en estos momentos de incertidumbre, sujétame de tu mano, permíteme caminar junto a ti.\n",
    "¿Por qué permites este dolor dentro de nosotros? ¿Por qué este sufrimiento tan profundo? No lograré entender tus motivos, \n",
    "pero entiendo espiritualmente lo que estás haciendo conmigo.\n",
    "Purificas mi alma, me permitiste soltar el control, afianzarme a ti, volver a mirarte cara a cara, \n",
    "entender que todo depende de ti, reconocer la vanidad de mis actos, sentir miedo a cada instante y que mi única fuerza seas tú.\n",
    "No entiendo tus caminos pero decido caminar dentro de ellos, seguir tu luz, guiar a mi familia hacia tus designios, \n",
    "respirar en esa absoluta incertidumbre y orar con todas mis fuerzas para que se haga según tu voluntad.\n",
    "Cuida a mi familia señor, bendice a mi esposa, cúbrela con tu manto sagrado, fortalece a mi hijo, \n",
    "aliéntalo con tu espíritu, dale el soporte que hoy nosotros no podemos darle, \n",
    "que su angel guardián le cuente que estamos todos pendientes de él, \n",
    "que no contamos los minutos para tenerlo en nuestros brazos, pero que sea paciente,\n",
    "que tú tienes varios corazones que limpiar en estos momentos, que su venida está generando santidad en nuestro alrededor.'''\n",
    "verse_recommender(prayer, temperature=0.5, top_p=0.5)"
   ]
  }
 ],
 "metadata": {
  "kernelspec": {
   "display_name": "venv",
   "language": "python",
   "name": "python3"
  },
  "language_info": {
   "codemirror_mode": {
    "name": "ipython",
    "version": 3
   },
   "file_extension": ".py",
   "mimetype": "text/x-python",
   "name": "python",
   "nbconvert_exporter": "python",
   "pygments_lexer": "ipython3",
   "version": "3.11.9"
  }
 },
 "nbformat": 4,
 "nbformat_minor": 2
}
