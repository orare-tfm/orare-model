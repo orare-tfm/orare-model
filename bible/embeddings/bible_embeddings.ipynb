{
 "cells": [
  {
   "cell_type": "markdown",
   "metadata": {},
   "source": [
    "# Embedding of the Bible Interpreted"
   ]
  },
  {
   "cell_type": "markdown",
   "metadata": {},
   "source": [
    "### Setting the working directory, loading libraries and data"
   ]
  },
  {
   "cell_type": "code",
   "execution_count": 38,
   "metadata": {},
   "outputs": [
    {
     "data": {
      "text/html": [
       "<div>\n",
       "<style scoped>\n",
       "    .dataframe tbody tr th:only-of-type {\n",
       "        vertical-align: middle;\n",
       "    }\n",
       "\n",
       "    .dataframe tbody tr th {\n",
       "        vertical-align: top;\n",
       "    }\n",
       "\n",
       "    .dataframe thead th {\n",
       "        text-align: right;\n",
       "    }\n",
       "</style>\n",
       "<table border=\"1\" class=\"dataframe\">\n",
       "  <thead>\n",
       "    <tr style=\"text-align: right;\">\n",
       "      <th></th>\n",
       "      <th>id</th>\n",
       "      <th>pasaje</th>\n",
       "      <th>texto</th>\n",
       "      <th>interpretación</th>\n",
       "      <th>temas</th>\n",
       "      <th>área_vida</th>\n",
       "    </tr>\n",
       "  </thead>\n",
       "  <tbody>\n",
       "    <tr>\n",
       "      <th>0</th>\n",
       "      <td>vec1</td>\n",
       "      <td>1 Corintios 10:12</td>\n",
       "      <td>Así que, el que piensa estar firme, mire no ca...</td>\n",
       "      <td>Este versículo nos advierte sobre la importanc...</td>\n",
       "      <td>[orgullo]</td>\n",
       "      <td>[Desarrollo/crecimiento personal, Salud mental...</td>\n",
       "    </tr>\n",
       "    <tr>\n",
       "      <th>1</th>\n",
       "      <td>vec2</td>\n",
       "      <td>1 Corintios 10:13</td>\n",
       "      <td>No os ha tomado tentación, sino humana: mas fi...</td>\n",
       "      <td>Este versículo nos asegura que cualquier tenta...</td>\n",
       "      <td>[crecimiento espiritual, maternidad, vicio]</td>\n",
       "      <td>[Salud mental/emocional, Desarrollo/crecimient...</td>\n",
       "    </tr>\n",
       "    <tr>\n",
       "      <th>2</th>\n",
       "      <td>vec3</td>\n",
       "      <td>1 Corintios 10:31</td>\n",
       "      <td>Si pues coméis, ó bebéis, ó hacéis otra cosa, ...</td>\n",
       "      <td>Este versículo nos enseña que todas nuestras a...</td>\n",
       "      <td>[descanso y vacaciones]</td>\n",
       "      <td>[Misión de vida, Desarrollo/crecimiento personal]</td>\n",
       "    </tr>\n",
       "    <tr>\n",
       "      <th>3</th>\n",
       "      <td>vec4</td>\n",
       "      <td>1 Corintios 11:9</td>\n",
       "      <td>Porque tampoco el varón fué criado por causa d...</td>\n",
       "      <td>Este versículo refleja una perspectiva cultura...</td>\n",
       "      <td>[creación/evolución]</td>\n",
       "      <td>[Relaciones familiares/pareja]</td>\n",
       "    </tr>\n",
       "    <tr>\n",
       "      <th>4</th>\n",
       "      <td>vec5</td>\n",
       "      <td>1 Corintios 13:13</td>\n",
       "      <td>Y ahora permanecen la fe, la esperanza, y la c...</td>\n",
       "      <td>En este versículo, San Pablo destaca tres virt...</td>\n",
       "      <td>[amor]</td>\n",
       "      <td>[Relaciones familiares/pareja, Amistad, Desarr...</td>\n",
       "    </tr>\n",
       "  </tbody>\n",
       "</table>\n",
       "</div>"
      ],
      "text/plain": [
       "     id             pasaje                                              texto  \\\n",
       "0  vec1  1 Corintios 10:12  Así que, el que piensa estar firme, mire no ca...   \n",
       "1  vec2  1 Corintios 10:13  No os ha tomado tentación, sino humana: mas fi...   \n",
       "2  vec3  1 Corintios 10:31  Si pues coméis, ó bebéis, ó hacéis otra cosa, ...   \n",
       "3  vec4   1 Corintios 11:9  Porque tampoco el varón fué criado por causa d...   \n",
       "4  vec5  1 Corintios 13:13  Y ahora permanecen la fe, la esperanza, y la c...   \n",
       "\n",
       "                                      interpretación  \\\n",
       "0  Este versículo nos advierte sobre la importanc...   \n",
       "1  Este versículo nos asegura que cualquier tenta...   \n",
       "2  Este versículo nos enseña que todas nuestras a...   \n",
       "3  Este versículo refleja una perspectiva cultura...   \n",
       "4  En este versículo, San Pablo destaca tres virt...   \n",
       "\n",
       "                                         temas  \\\n",
       "0                                    [orgullo]   \n",
       "1  [crecimiento espiritual, maternidad, vicio]   \n",
       "2                      [descanso y vacaciones]   \n",
       "3                         [creación/evolución]   \n",
       "4                                       [amor]   \n",
       "\n",
       "                                           área_vida  \n",
       "0  [Desarrollo/crecimiento personal, Salud mental...  \n",
       "1  [Salud mental/emocional, Desarrollo/crecimient...  \n",
       "2  [Misión de vida, Desarrollo/crecimiento personal]  \n",
       "3                     [Relaciones familiares/pareja]  \n",
       "4  [Relaciones familiares/pareja, Amistad, Desarr...  "
      ]
     },
     "execution_count": 38,
     "metadata": {},
     "output_type": "execute_result"
    }
   ],
   "source": [
    "# Importing library\n",
    "import json\n",
    "import pandas as pd\n",
    "import os\n",
    "\n",
    "# Function to set the wd as the root of the repository\n",
    "def find_repo_root(repo_name):\n",
    "    current_dir = os.getcwd()\n",
    "    while current_dir != '/':\n",
    "        if os.path.basename(current_dir) == repo_name:\n",
    "            return current_dir\n",
    "        current_dir = os.path.dirname(current_dir)\n",
    "    raise FileNotFoundError(f\"Repository root '{repo_name}' not found.\")\n",
    "\n",
    "# Setting the working directory\n",
    "repo_name = 'orare-model'\n",
    "repo_root = find_repo_root(repo_name)\n",
    "os.chdir(repo_root)\n",
    "\n",
    "# Loading the data\n",
    "with open('bible/data/bible_by_theme_int.json') as f:\n",
    "    data = json.load(f)\n",
    "\n",
    "# Converting json into df\n",
    "bible_data = pd.DataFrame(data)\n",
    "bible_data.head()"
   ]
  },
  {
   "cell_type": "markdown",
   "metadata": {},
   "source": [
    "### Setting the connection to OpenAI API to do the embeddings"
   ]
  },
  {
   "cell_type": "code",
   "execution_count": 9,
   "metadata": {},
   "outputs": [],
   "source": [
    "# Setting the libraries and connection\n",
    "import openai\n",
    "import os\n",
    "\n",
    "from dotenv import load_dotenv, find_dotenv\n",
    "_ = load_dotenv(find_dotenv())\n",
    "\n",
    "# Loading api_key\n",
    "openai.api_key = os.getenv('OPENAI_API_KEY')\n",
    "\n",
    "# Using OpenAI API to do the embeddings\n",
    "client = openai.OpenAI()"
   ]
  },
  {
   "cell_type": "markdown",
   "metadata": {},
   "source": [
    "### Applying the embeddings"
   ]
  },
  {
   "cell_type": "code",
   "execution_count": null,
   "metadata": {},
   "outputs": [],
   "source": [
    "# Function to apply the embeddings\n",
    "def get_embedding(text, model=\"text-embedding-3-small\"):\n",
    "   text = text.replace(\"\\n\", \" \")\n",
    "   return client.embeddings.create(input = [text], model=model).data[0].embedding"
   ]
  },
  {
   "cell_type": "code",
   "execution_count": 13,
   "metadata": {},
   "outputs": [],
   "source": [
    "# Applying the embeddings\n",
    "bible_data['texto_vector'] = bible_data.texto.apply(lambda x: get_embedding(x, model='text-embedding-3-small'))\n",
    "bible_data['interpretacion_vector'] = bible_data.interpretación.apply(lambda x: get_embedding(x, model='text-embedding-3-small'))"
   ]
  },
  {
   "cell_type": "code",
   "execution_count": null,
   "metadata": {},
   "outputs": [],
   "source": [
    "# Saving the embeddings in a file\n",
    "bible_data.to_csv('bible/data/bible_by_theme_int_embedding.txt',sep='|',index=False, encoding='utf-8')"
   ]
  }
 ],
 "metadata": {
  "kernelspec": {
   "display_name": "base",
   "language": "python",
   "name": "python3"
  },
  "language_info": {
   "codemirror_mode": {
    "name": "ipython",
    "version": 3
   },
   "file_extension": ".py",
   "mimetype": "text/x-python",
   "name": "python",
   "nbconvert_exporter": "python",
   "pygments_lexer": "ipython3",
   "version": "3.11.9"
  }
 },
 "nbformat": 4,
 "nbformat_minor": 2
}
