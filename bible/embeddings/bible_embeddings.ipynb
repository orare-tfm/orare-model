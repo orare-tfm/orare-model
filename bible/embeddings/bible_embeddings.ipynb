{
 "cells": [
  {
   "cell_type": "markdown",
   "metadata": {},
   "source": [
    "# Embedding of the Bible Interpreted"
   ]
  },
  {
   "cell_type": "markdown",
   "metadata": {},
   "source": [
    "### Flattening the json"
   ]
  },
  {
   "cell_type": "code",
   "execution_count": null,
   "metadata": {},
   "outputs": [],
   "source": [
    "# Importing library\n",
    "import json\n",
    "import pandas as pd\n",
    "import os\n",
    "\n",
    "# Setting directory\n",
    "# os.chdir('root_repository_path')\n",
    "\n",
    "# Importing data\n",
    "#with open('./bible/data/bible_by_theme_int.json') as f:\n",
    "#    data = json.load(f)"
   ]
  },
  {
   "cell_type": "code",
   "execution_count": 37,
   "metadata": {},
   "outputs": [],
   "source": [
    "# Creating empty lists to save the data\n",
    "list_id = []\n",
    "list_purpose = []\n",
    "list_passage = []\n",
    "list_text = []\n",
    "list_interpretation = []\n",
    "list_area_life = []\n",
    "\n",
    "# For loop to interpret all the fragments of the Bible\n",
    "i = 0\n",
    "for item in data:\n",
    "    purpose = item['purpose']\n",
    "    verses = item['versículos']\n",
    "    for verse in verses:\n",
    "        # Generating and id for each Bible verse\n",
    "        i=i+1\n",
    "        id = \"vec\"+str(i)\n",
    "        list_id.append(id)\n",
    "        passage = verse['pasaje']\n",
    "        text = verse['texto']\n",
    "        interpretation = verse['interpretación']\n",
    "        area_life = verse['áreas de la vida']\n",
    "        list_purpose.append(purpose)\n",
    "        list_passage.append(passage)\n",
    "        list_text.append(text)\n",
    "        list_interpretation.append(interpretation)\n",
    "        list_area_life.append(area_life)"
   ]
  },
  {
   "cell_type": "code",
   "execution_count": 38,
   "metadata": {},
   "outputs": [],
   "source": [
    "# Creating a list to store the data\n",
    "flat_data = []\n",
    "\n",
    "# Iterate through the lists and populate the list\n",
    "for id, purpose, passage, text, interpretation, area in zip(list_id, list_purpose, list_passage, list_text, list_interpretation, list_area_life):\n",
    "    flat_data.append({\n",
    "        'id': id,\n",
    "        'tema': purpose,\n",
    "        'versiculo': passage,\n",
    "        'texto': text,\n",
    "        'interpretacion': interpretation,\n",
    "        'area_vida': area\n",
    "    })\n",
    "\n",
    "\n",
    "# Save the list as a JSON file\n",
    "with open('bible/data/bible_by_theme_int_flat.json', 'w', encoding='utf-8') as json_file:\n",
    "   json.dump(flat_data, json_file, ensure_ascii=False, indent=4)"
   ]
  },
  {
   "cell_type": "markdown",
   "metadata": {},
   "source": [
    "### Creating embeddings"
   ]
  },
  {
   "cell_type": "code",
   "execution_count": 41,
   "metadata": {},
   "outputs": [],
   "source": [
    "# Importing library\n",
    "import json\n",
    "import pandas as pd\n",
    "import os\n",
    "\n",
    "# Setting directory\n",
    "# os.chdir('root_repository_path')\n",
    "\n",
    "with open('bible/data/bible_by_theme_int_flat.json') as f:\n",
    "    flat_data = json.load(f)\n",
    "\n",
    "# Converting json into df\n",
    "bible_data = pd.DataFrame(flat_data)"
   ]
  },
  {
   "cell_type": "code",
   "execution_count": 17,
   "metadata": {},
   "outputs": [],
   "source": [
    "# Setting the libraries and connection\n",
    "import openai\n",
    "import os\n",
    "\n",
    "from dotenv import load_dotenv, find_dotenv\n",
    "_ = load_dotenv(find_dotenv())\n",
    "\n",
    "# Loading api_key\n",
    "openai.api_key = os.getenv('OPENAI_API_KEY')"
   ]
  },
  {
   "cell_type": "code",
   "execution_count": 42,
   "metadata": {},
   "outputs": [
    {
     "data": {
      "text/html": [
       "<div>\n",
       "<style scoped>\n",
       "    .dataframe tbody tr th:only-of-type {\n",
       "        vertical-align: middle;\n",
       "    }\n",
       "\n",
       "    .dataframe tbody tr th {\n",
       "        vertical-align: top;\n",
       "    }\n",
       "\n",
       "    .dataframe thead th {\n",
       "        text-align: right;\n",
       "    }\n",
       "</style>\n",
       "<table border=\"1\" class=\"dataframe\">\n",
       "  <thead>\n",
       "    <tr style=\"text-align: right;\">\n",
       "      <th></th>\n",
       "      <th>id</th>\n",
       "      <th>tema</th>\n",
       "      <th>versiculo</th>\n",
       "      <th>texto</th>\n",
       "      <th>interpretacion</th>\n",
       "      <th>area_vida</th>\n",
       "    </tr>\n",
       "  </thead>\n",
       "  <tbody>\n",
       "    <tr>\n",
       "      <th>0</th>\n",
       "      <td>vec1</td>\n",
       "      <td>salvación</td>\n",
       "      <td>Mateo 18:3</td>\n",
       "      <td>Y dijo: De cierto os digo, que si no os volvie...</td>\n",
       "      <td>Jesús está diciendo que debemos tener la humi...</td>\n",
       "      <td>[Desarrollo/crecimiento personal, Misión de vida]</td>\n",
       "    </tr>\n",
       "    <tr>\n",
       "      <th>1</th>\n",
       "      <td>vec2</td>\n",
       "      <td>salvación</td>\n",
       "      <td>Juan 1:12</td>\n",
       "      <td>Mas á todos los que le recibieron, dióles pote...</td>\n",
       "      <td>Este versículo significa que a todas las pers...</td>\n",
       "      <td>[Desarrollo/crecimiento personal, Misión de vida]</td>\n",
       "    </tr>\n",
       "    <tr>\n",
       "      <th>2</th>\n",
       "      <td>vec3</td>\n",
       "      <td>salvación</td>\n",
       "      <td>Juan 3:3</td>\n",
       "      <td>Respondió Jesús, y díjole: De cierto, de ciert...</td>\n",
       "      <td>Jesús está hablando de la necesidad de un ren...</td>\n",
       "      <td>[Desarrollo/crecimiento personal, Misión de vida]</td>\n",
       "    </tr>\n",
       "    <tr>\n",
       "      <th>3</th>\n",
       "      <td>vec4</td>\n",
       "      <td>salvación</td>\n",
       "      <td>Juan 3:16</td>\n",
       "      <td>Porque de tal manera amó Dios al mundo, que ha...</td>\n",
       "      <td>Este versículo expresa el amor inmenso de Dio...</td>\n",
       "      <td>[Misión de vida, Desarrollo/crecimiento person...</td>\n",
       "    </tr>\n",
       "    <tr>\n",
       "      <th>4</th>\n",
       "      <td>vec5</td>\n",
       "      <td>salvación</td>\n",
       "      <td>Juan 3:36</td>\n",
       "      <td>El que cree en el Hijo, tiene vida eterna; mas...</td>\n",
       "      <td>Este versículo subraya la importancia de la f...</td>\n",
       "      <td>[Misión de vida, Desarrollo/crecimiento person...</td>\n",
       "    </tr>\n",
       "  </tbody>\n",
       "</table>\n",
       "</div>"
      ],
      "text/plain": [
       "     id       tema   versiculo  \\\n",
       "0  vec1  salvación  Mateo 18:3   \n",
       "1  vec2  salvación   Juan 1:12   \n",
       "2  vec3  salvación    Juan 3:3   \n",
       "3  vec4  salvación   Juan 3:16   \n",
       "4  vec5  salvación   Juan 3:36   \n",
       "\n",
       "                                               texto  \\\n",
       "0  Y dijo: De cierto os digo, que si no os volvie...   \n",
       "1  Mas á todos los que le recibieron, dióles pote...   \n",
       "2  Respondió Jesús, y díjole: De cierto, de ciert...   \n",
       "3  Porque de tal manera amó Dios al mundo, que ha...   \n",
       "4  El que cree en el Hijo, tiene vida eterna; mas...   \n",
       "\n",
       "                                      interpretacion  \\\n",
       "0   Jesús está diciendo que debemos tener la humi...   \n",
       "1   Este versículo significa que a todas las pers...   \n",
       "2   Jesús está hablando de la necesidad de un ren...   \n",
       "3   Este versículo expresa el amor inmenso de Dio...   \n",
       "4   Este versículo subraya la importancia de la f...   \n",
       "\n",
       "                                           area_vida  \n",
       "0  [Desarrollo/crecimiento personal, Misión de vida]  \n",
       "1  [Desarrollo/crecimiento personal, Misión de vida]  \n",
       "2  [Desarrollo/crecimiento personal, Misión de vida]  \n",
       "3  [Misión de vida, Desarrollo/crecimiento person...  \n",
       "4  [Misión de vida, Desarrollo/crecimiento person...  "
      ]
     },
     "execution_count": 42,
     "metadata": {},
     "output_type": "execute_result"
    }
   ],
   "source": [
    "bible_data.head()"
   ]
  },
  {
   "cell_type": "code",
   "execution_count": 43,
   "metadata": {},
   "outputs": [],
   "source": [
    "# Using OpenAI API to do the embeddings\n",
    "client = OpenAI()\n",
    "\n",
    "def get_embedding(text, model=\"text-embedding-3-small\"):\n",
    "   text = text.replace(\"\\n\", \" \")\n",
    "   return client.embeddings.create(input = [text], model=model).data[0].embedding\n",
    "\n",
    "bible_data['texto_vector'] = bible_data.texto.apply(lambda x: get_embedding(x, model='text-embedding-3-small'))\n",
    "bible_data['interpretacion_vector'] = bible_data.interpretacion.apply(lambda x: get_embedding(x, model='text-embedding-3-small'))\n",
    "bible_data.to_csv('bible/data/bible_by_theme_int_embedding.csv', index=False)"
   ]
  },
  {
   "cell_type": "markdown",
   "metadata": {},
   "source": [
    "## Creating Collection in VectorDB"
   ]
  },
  {
   "cell_type": "markdown",
   "metadata": {},
   "source": [
    "### Chroma DB\n",
    "\n",
    "https://github.com/openai/openai-cookbook/blob/main/examples/vector_databases/chroma/Using_Chroma_for_embeddings_search.ipynb\n",
    "\n",
    "https://github.com/openai/openai-cookbook/blob/main/examples/vector_databases/chroma/hyde-with-chroma-and-openai.ipynb"
   ]
  },
  {
   "cell_type": "code",
   "execution_count": null,
   "metadata": {},
   "outputs": [],
   "source": [
    "#### When installing ChromaDB library it installs numpy-1.26.4 (deletes numpy 2.0.1). After installing ChromaDB library restart the kernel\n",
    "#https://pypi.org/project/numpy/1.26.4/\n",
    "#https://pypi.org/project/chromadb/0.5.5/"
   ]
  },
  {
   "cell_type": "code",
   "execution_count": 1,
   "metadata": {},
   "outputs": [],
   "source": [
    "import pandas as pd\n",
    "import os\n",
    "\n",
    "os.chdir('/Users/hiroshi/Documents/ds_projects/orare-model')\n",
    "\n",
    "bible_data = pd.read_csv('bible/data/bible_by_theme_int_embedding.csv')"
   ]
  },
  {
   "cell_type": "code",
   "execution_count": 2,
   "metadata": {},
   "outputs": [
    {
     "data": {
      "text/html": [
       "<div>\n",
       "<style scoped>\n",
       "    .dataframe tbody tr th:only-of-type {\n",
       "        vertical-align: middle;\n",
       "    }\n",
       "\n",
       "    .dataframe tbody tr th {\n",
       "        vertical-align: top;\n",
       "    }\n",
       "\n",
       "    .dataframe thead th {\n",
       "        text-align: right;\n",
       "    }\n",
       "</style>\n",
       "<table border=\"1\" class=\"dataframe\">\n",
       "  <thead>\n",
       "    <tr style=\"text-align: right;\">\n",
       "      <th></th>\n",
       "      <th>id</th>\n",
       "      <th>tema</th>\n",
       "      <th>versiculo</th>\n",
       "      <th>texto</th>\n",
       "      <th>interpretacion</th>\n",
       "      <th>area_vida</th>\n",
       "      <th>texto_vector</th>\n",
       "      <th>interpretacion_vector</th>\n",
       "    </tr>\n",
       "  </thead>\n",
       "  <tbody>\n",
       "    <tr>\n",
       "      <th>0</th>\n",
       "      <td>vec1</td>\n",
       "      <td>salvación</td>\n",
       "      <td>Mateo 18:3</td>\n",
       "      <td>Y dijo: De cierto os digo, que si no os volvie...</td>\n",
       "      <td>Jesús está diciendo que debemos tener la humi...</td>\n",
       "      <td>['Desarrollo/crecimiento personal', 'Misión de...</td>\n",
       "      <td>[0.023037778213620186, 0.024053120985627174, -...</td>\n",
       "      <td>[0.03883896768093109, 0.0037278474774211645, -...</td>\n",
       "    </tr>\n",
       "    <tr>\n",
       "      <th>1</th>\n",
       "      <td>vec2</td>\n",
       "      <td>salvación</td>\n",
       "      <td>Juan 1:12</td>\n",
       "      <td>Mas á todos los que le recibieron, dióles pote...</td>\n",
       "      <td>Este versículo significa que a todas las pers...</td>\n",
       "      <td>['Desarrollo/crecimiento personal', 'Misión de...</td>\n",
       "      <td>[0.06051323190331459, 0.038999710232019424, -0...</td>\n",
       "      <td>[0.0385851114988327, 0.054991379380226135, -0....</td>\n",
       "    </tr>\n",
       "    <tr>\n",
       "      <th>2</th>\n",
       "      <td>vec3</td>\n",
       "      <td>salvación</td>\n",
       "      <td>Juan 3:3</td>\n",
       "      <td>Respondió Jesús, y díjole: De cierto, de ciert...</td>\n",
       "      <td>Jesús está hablando de la necesidad de un ren...</td>\n",
       "      <td>['Desarrollo/crecimiento personal', 'Misión de...</td>\n",
       "      <td>[-0.013897780328989029, 0.048658277839422226, ...</td>\n",
       "      <td>[0.017310068011283875, 0.03643307089805603, 0....</td>\n",
       "    </tr>\n",
       "    <tr>\n",
       "      <th>3</th>\n",
       "      <td>vec4</td>\n",
       "      <td>salvación</td>\n",
       "      <td>Juan 3:16</td>\n",
       "      <td>Porque de tal manera amó Dios al mundo, que ha...</td>\n",
       "      <td>Este versículo expresa el amor inmenso de Dio...</td>\n",
       "      <td>['Misión de vida', 'Desarrollo/crecimiento per...</td>\n",
       "      <td>[0.03011396899819374, 0.014558355323970318, -0...</td>\n",
       "      <td>[0.030949406325817108, 0.02243080735206604, 0....</td>\n",
       "    </tr>\n",
       "    <tr>\n",
       "      <th>4</th>\n",
       "      <td>vec5</td>\n",
       "      <td>salvación</td>\n",
       "      <td>Juan 3:36</td>\n",
       "      <td>El que cree en el Hijo, tiene vida eterna; mas...</td>\n",
       "      <td>Este versículo subraya la importancia de la f...</td>\n",
       "      <td>['Misión de vida', 'Desarrollo/crecimiento per...</td>\n",
       "      <td>[0.000544808164704591, 0.0411251038312912, 0.0...</td>\n",
       "      <td>[0.008498639799654484, 0.0067153871059417725, ...</td>\n",
       "    </tr>\n",
       "  </tbody>\n",
       "</table>\n",
       "</div>"
      ],
      "text/plain": [
       "     id       tema   versiculo  \\\n",
       "0  vec1  salvación  Mateo 18:3   \n",
       "1  vec2  salvación   Juan 1:12   \n",
       "2  vec3  salvación    Juan 3:3   \n",
       "3  vec4  salvación   Juan 3:16   \n",
       "4  vec5  salvación   Juan 3:36   \n",
       "\n",
       "                                               texto  \\\n",
       "0  Y dijo: De cierto os digo, que si no os volvie...   \n",
       "1  Mas á todos los que le recibieron, dióles pote...   \n",
       "2  Respondió Jesús, y díjole: De cierto, de ciert...   \n",
       "3  Porque de tal manera amó Dios al mundo, que ha...   \n",
       "4  El que cree en el Hijo, tiene vida eterna; mas...   \n",
       "\n",
       "                                      interpretacion  \\\n",
       "0   Jesús está diciendo que debemos tener la humi...   \n",
       "1   Este versículo significa que a todas las pers...   \n",
       "2   Jesús está hablando de la necesidad de un ren...   \n",
       "3   Este versículo expresa el amor inmenso de Dio...   \n",
       "4   Este versículo subraya la importancia de la f...   \n",
       "\n",
       "                                           area_vida  \\\n",
       "0  ['Desarrollo/crecimiento personal', 'Misión de...   \n",
       "1  ['Desarrollo/crecimiento personal', 'Misión de...   \n",
       "2  ['Desarrollo/crecimiento personal', 'Misión de...   \n",
       "3  ['Misión de vida', 'Desarrollo/crecimiento per...   \n",
       "4  ['Misión de vida', 'Desarrollo/crecimiento per...   \n",
       "\n",
       "                                        texto_vector  \\\n",
       "0  [0.023037778213620186, 0.024053120985627174, -...   \n",
       "1  [0.06051323190331459, 0.038999710232019424, -0...   \n",
       "2  [-0.013897780328989029, 0.048658277839422226, ...   \n",
       "3  [0.03011396899819374, 0.014558355323970318, -0...   \n",
       "4  [0.000544808164704591, 0.0411251038312912, 0.0...   \n",
       "\n",
       "                               interpretacion_vector  \n",
       "0  [0.03883896768093109, 0.0037278474774211645, -...  \n",
       "1  [0.0385851114988327, 0.054991379380226135, -0....  \n",
       "2  [0.017310068011283875, 0.03643307089805603, 0....  \n",
       "3  [0.030949406325817108, 0.02243080735206604, 0....  \n",
       "4  [0.008498639799654484, 0.0067153871059417725, ...  "
      ]
     },
     "execution_count": 2,
     "metadata": {},
     "output_type": "execute_result"
    }
   ],
   "source": [
    "bible_data.head()"
   ]
  },
  {
   "cell_type": "code",
   "execution_count": 3,
   "metadata": {},
   "outputs": [],
   "source": [
    "import openai\n",
    "import pandas as pd\n",
    "import os\n",
    "from ast import literal_eval\n",
    "\n",
    "# Chroma's client library for Python\n",
    "import chromadb\n",
    "\n",
    "# Ignore unclosed SSL socket warnings - optional in case you get these errors\n",
    "#import warnings\n",
    "#warnings.filterwarnings(action=\"ignore\", message=\"unclosed\", category=ResourceWarning)\n",
    "#warnings.filterwarnings(\"ignore\", category=DeprecationWarning) "
   ]
  },
  {
   "cell_type": "code",
   "execution_count": 4,
   "metadata": {},
   "outputs": [
    {
     "name": "stdout",
     "output_type": "stream",
     "text": [
      "<class 'pandas.core.frame.DataFrame'>\n",
      "RangeIndex: 945 entries, 0 to 944\n",
      "Data columns (total 8 columns):\n",
      " #   Column                 Non-Null Count  Dtype \n",
      "---  ------                 --------------  ----- \n",
      " 0   id                     945 non-null    object\n",
      " 1   tema                   945 non-null    object\n",
      " 2   versiculo              945 non-null    object\n",
      " 3   texto                  945 non-null    object\n",
      " 4   interpretacion         945 non-null    object\n",
      " 5   area_vida              945 non-null    object\n",
      " 6   texto_vector           945 non-null    object\n",
      " 7   interpretacion_vector  945 non-null    object\n",
      "dtypes: object(8)\n",
      "memory usage: 59.2+ KB\n"
     ]
    }
   ],
   "source": [
    "# Read vectors from strings back into a list\n",
    "#sample_df['interpretacion_vector'] = sample_df.interpretacion_vector.apply(literal_eval)\n",
    "bible_data.info(show_counts=True)\n"
   ]
  },
  {
   "cell_type": "code",
   "execution_count": 5,
   "metadata": {},
   "outputs": [],
   "source": [
    "# Instantiate the Chroma client\n",
    "chroma_client = chromadb.EphemeralClient() # Equivalent to chromadb.Client(), ephemeral."
   ]
  },
  {
   "cell_type": "code",
   "execution_count": 6,
   "metadata": {},
   "outputs": [
    {
     "name": "stdout",
     "output_type": "stream",
     "text": [
      "OPENAI_API_KEY is ready\n"
     ]
    }
   ],
   "source": [
    "# Create collections\n",
    "from chromadb.utils.embedding_functions import OpenAIEmbeddingFunction\n",
    "\n",
    "if os.getenv(\"OPENAI_API_KEY\") is not None:\n",
    "    openai.api_key = os.getenv(\"OPENAI_API_KEY\")\n",
    "    print (\"OPENAI_API_KEY is ready\")\n",
    "else:\n",
    "    print (\"OPENAI_API_KEY environment variable not found\")\n",
    "\n",
    "EMBEDDING_MODEL = \"text-embedding-3-small\"\n",
    "\n",
    "embedding_function = OpenAIEmbeddingFunction(api_key=os.environ.get('OPENAI_API_KEY'), model_name=EMBEDDING_MODEL)\n",
    "\n"
   ]
  },
  {
   "cell_type": "code",
   "execution_count": 7,
   "metadata": {},
   "outputs": [],
   "source": [
    "# Creating or retrieving the collection in ChromaDB\n",
    "try:\n",
    "    # Try to create the collection (this will raise an error if it already exists)\n",
    "    bible_interpretation_collection = chroma_client.create_collection(name='bible_interpretation', embedding_function=embedding_function)\n",
    "except Exception as e:\n",
    "    # If an error occurs (assuming it's because the collection already exists), retrieve it\n",
    "    if 'Collection bible_interpretation already exists' in str(e):\n",
    "        bible_interpretation_collection = chroma_client.get_collection(name='bible_interpretation')\n",
    "    else:\n",
    "        raise e\n"
   ]
  },
  {
   "cell_type": "code",
   "execution_count": 8,
   "metadata": {},
   "outputs": [],
   "source": [
    "# Tranforming vector string into list\n",
    "import ast\n",
    "bible_data['interpretacion_vector'] = bible_data['interpretacion_vector'].apply(ast.literal_eval)\n",
    "\n",
    "# Ahora intenta agregar los embeddings al collection nuevamente.\n",
    "bible_interpretation_collection.add(\n",
    "    ids=bible_data.id.tolist(),\n",
    "    embeddings=bible_data.interpretacion_vector.tolist()\n",
    ")"
   ]
  },
  {
   "cell_type": "code",
   "execution_count": 9,
   "metadata": {},
   "outputs": [],
   "source": [
    "# Search the collection\n",
    "def query_collection(collection, query, max_results, dataframe):\n",
    "    results = collection.query(query_texts=query, n_results=max_results, include=['distances']) \n",
    "    df = pd.DataFrame({\n",
    "                'id':results['ids'][0], \n",
    "                'score':results['distances'][0],\n",
    "                'tema': dataframe[dataframe.id.isin(results['ids'][0])]['tema'],\n",
    "                'versiculo': dataframe[dataframe.id.isin(results['ids'][0])]['versiculo'],\n",
    "                'texto': dataframe[dataframe.id.isin(results['ids'][0])]['texto'],\n",
    "                'interpretacion': dataframe[dataframe.id.isin(results['ids'][0])]['interpretacion'],\n",
    "                })\n",
    "    \n",
    "    return df"
   ]
  },
  {
   "cell_type": "markdown",
   "metadata": {},
   "source": [
    "### Testing the retrieval from the vector database"
   ]
  },
  {
   "cell_type": "code",
   "execution_count": 10,
   "metadata": {},
   "outputs": [
    {
     "name": "stdout",
     "output_type": "stream",
     "text": [
      "Oración: Dios, te pido y oro por los pobres del mundo que no tienen que comer. Por favor se misericordioso con ellos. Pido por ellos. Amen\n",
      "---------------------------\n",
      "Hebreos 4:16: Lleguémonos pues confiadamente al trono de la gracia, para alcanzar misericordia, y hallar gracia para el oportuno socorro.\n",
      "Interpretación:  Acerquémonos con confianza al trono de la gracia de Dios para recibir misericordia y encontrar la ayuda que necesitamos en el momento oportuno. \n",
      "---------------------------\n",
      "Exodo 23:25: Mas á Jehová vuestro Dios serviréis, y él bendecirá tu pan y tus aguas; y yo quitaré toda enfermedad de en medio de ti.\n",
      "Interpretación: Sirvan al Señor su Dios, y Él bendecirá su alimento y su agua; y yo quitaré toda enfermedad de en medio de ustedes. \n",
      "---------------------------\n",
      "Filipenses 4:6: Por nada estéis afanosos; sino sean notorias vuestras peticiones delante de Dios en toda oración y ruego, con hacimiento de gracias.\n",
      "Interpretación: No se preocupen por nada; en lugar de eso, presenten sus peticiones a Dios mediante la oración y la súplica, con acción de gracias. \n"
     ]
    }
   ],
   "source": [
    "prayer = \"Dios, te pido y oro por los pobres del mundo que no tienen que comer. Por favor se misericordioso con ellos. Pido por ellos. Amen\"\n",
    "\n",
    "title_query_result = query_collection(\n",
    "    collection=bible_interpretation_collection,\n",
    "    query=prayer,\n",
    "    max_results=3,\n",
    "    dataframe=bible_data\n",
    ")\n",
    "\n",
    "print(f\"Oración: {prayer}\")\n",
    "print('---------------------------')\n",
    "print(title_query_result.iloc[0,3] + ': ' + title_query_result.iloc[0,4])\n",
    "print('Interpretación: ' + title_query_result.iloc[0,5])\n",
    "print('---------------------------')\n",
    "print(title_query_result.iloc[1,3] + ': ' + title_query_result.iloc[1,4])\n",
    "print('Interpretación:' + title_query_result.iloc[1,5])\n",
    "print('---------------------------')\n",
    "print(title_query_result.iloc[2,3] + ': ' + title_query_result.iloc[2,4])\n",
    "print('Interpretación:' + title_query_result.iloc[2,5])"
   ]
  },
  {
   "cell_type": "code",
   "execution_count": 11,
   "metadata": {},
   "outputs": [
    {
     "name": "stdout",
     "output_type": "stream",
     "text": [
      "Oración: Querido Dios, \n",
      "Hoy me encuentro angustiado y ansioso por recibir un email que me puede cambiar la vida. Estoy a la espera de una noticia muy importante para mí, pero mi falta de paciencia y de quererlo todo ahora ya, hace que me angustie y estrese. \n",
      "Por otro lado, hoy he vuelto ir a la fisio por un dolor que tuve en la pierna y ya estoy mejor, el estres hace que me tense mucho y mis musculos acaben contracturandose demasio.\n",
      "Te pido que me des paciencia en este momento, que tenga confianza en que todo va a salir bien, y lo que tú quieres para mí se va cumplir tal y como tú lo planeas.\n",
      "Amén.\n",
      "---------------------------\n",
      "Salmos 94:19: En la multitud de mis pensamientos dentro de mí, Tus consolaciones alegraban mi alma.\n",
      "Interpretación:  En tiempos de preocupación y ansiedad, el consuelo de Dios trae alegría y paz al alma. \n",
      "---------------------------\n",
      "Salmos 119:28: Deshácese mi alma de ansiedad: Corrobórame según tu palabra.\n",
      "Interpretación: Mi alma se siente abrumada por la ansiedad; fortaléceme conforme a tu palabra. \n",
      "---------------------------\n",
      "Hebreos 10:36: Porque la paciencia os es necesaria; para que, habiendo hecho la voluntad de Dios, obtengáis la promesa.\n",
      "Interpretación: La paciencia es necesaria para perseverar en la fe y cumplir la voluntad de Dios, lo cual nos llevará a recibir las promesas divinas. \n"
     ]
    }
   ],
   "source": [
    "prayer = '''Querido Dios, \n",
    "Hoy me encuentro angustiado y ansioso por recibir un email que me puede cambiar la vida. Estoy a la espera de una noticia muy importante para mí, pero mi falta de paciencia y de quererlo todo ahora ya, hace que me angustie y estrese. \n",
    "Por otro lado, hoy he vuelto ir a la fisio por un dolor que tuve en la pierna y ya estoy mejor, el estres hace que me tense mucho y mis musculos acaben contracturandose demasio.\n",
    "Te pido que me des paciencia en este momento, que tenga confianza en que todo va a salir bien, y lo que tú quieres para mí se va cumplir tal y como tú lo planeas.\n",
    "Amén.'''\n",
    "\n",
    "title_query_result = query_collection(\n",
    "    collection=bible_interpretation_collection,\n",
    "    query=prayer,\n",
    "    max_results=3,\n",
    "    dataframe=bible_data\n",
    ")\n",
    "\n",
    "print(f\"Oración: {prayer}\")\n",
    "print('---------------------------')\n",
    "print(title_query_result.iloc[0,3] + ': ' + title_query_result.iloc[0,4])\n",
    "print('Interpretación: ' + title_query_result.iloc[0,5])\n",
    "print('---------------------------')\n",
    "print(title_query_result.iloc[1,3] + ': ' + title_query_result.iloc[1,4])\n",
    "print('Interpretación:' + title_query_result.iloc[1,5])\n",
    "print('---------------------------')\n",
    "print(title_query_result.iloc[2,3] + ': ' + title_query_result.iloc[2,4])\n",
    "print('Interpretación:' + title_query_result.iloc[2,5])"
   ]
  },
  {
   "cell_type": "code",
   "execution_count": 12,
   "metadata": {},
   "outputs": [
    {
     "name": "stdout",
     "output_type": "stream",
     "text": [
      "Oración: Hola, qué tal?\n",
      "---------------------------\n",
      "Salmos 27:14: Aguarda á Jehová; Esfuérzate, y aliéntese tu corazón: Sí, espera á Jehová.\n",
      "Interpretación:  Aguarda al Señor; esfuérzate y aliéntese tu corazón: sí, espera al Señor. \n",
      "---------------------------\n",
      "Salmos 34:4: Busqué á Jehová, y él me oyó, Y libróme de todos mis temores.\n",
      "Interpretación: Busqué al Señor, y él me escuchó, y me libró de todos mis temores. \n",
      "---------------------------\n",
      "Isaías 50:4: El Señor Jehová me dió lengua de sabios, para saber hablar en sazón palabra al cansado; despertará de mañana, despertaráme de mañana oído, para que oiga como los sabios.\n",
      "Interpretación: El Señor Dios me ha dado una lengua instruida, para saber decir al cansado una palabra de aliento; cada mañana me despierta, me despierta el oído para que escuche como los discípulos. \n"
     ]
    }
   ],
   "source": [
    "prayer = \"Hola, qué tal?\"\n",
    "\n",
    "title_query_result = query_collection(\n",
    "    collection=bible_interpretation_collection,\n",
    "    query=prayer,\n",
    "    max_results=3,\n",
    "    dataframe=bible_data\n",
    ")\n",
    "\n",
    "print(f\"Oración: {prayer}\")\n",
    "print('---------------------------')\n",
    "print(title_query_result.iloc[0,3] + ': ' + title_query_result.iloc[0,4])\n",
    "print('Interpretación: ' + title_query_result.iloc[0,5])\n",
    "print('---------------------------')\n",
    "print(title_query_result.iloc[1,3] + ': ' + title_query_result.iloc[1,4])\n",
    "print('Interpretación:' + title_query_result.iloc[1,5])\n",
    "print('---------------------------')\n",
    "print(title_query_result.iloc[2,3] + ': ' + title_query_result.iloc[2,4])\n",
    "print('Interpretación:' + title_query_result.iloc[2,5])"
   ]
  },
  {
   "cell_type": "code",
   "execution_count": 13,
   "metadata": {},
   "outputs": [
    {
     "name": "stdout",
     "output_type": "stream",
     "text": [
      "Oración: Dios en esta oportunidad quiero pedirte que me des luz y fuerzas para poder continuar con la búsqueda de trabajo que estoy haciendo. Se que es un poco dificil conseguir trabajo como extranjero, pero no tengo dudas de que Tú me ayudarás y pondrás la oportunidad ante mis ojos. En el nombre del Padre, del Hijo, del Espíritu Santo, Amén.\n",
      "---------------------------\n",
      "Efesios 3:16: Que os dé, conforme á las riquezas de su gloria, el ser corroborados con potencia en el hombre interior por su Espíritu.\n",
      "Interpretación:  Que Dios, conforme a las riquezas de su gloria, les fortalezca con poder en su ser interior por medio de su Espíritu. \n",
      "---------------------------\n",
      "Salmos 18:29, 30B, 32: Porque contigo desharé ejércitos; Y con mi Dios asaltaré muros. Dios, perfecto su camino: Es acendrada la palabra de Jehová: Escudo es á todos los que en él esperan. Dios es el que me ciñe de fuerza, E hizo perfecto mi camino;\n",
      "Interpretación: Con la ayuda de Dios, puedo superar grandes obstáculos y desafíos. La palabra de Dios es pura y perfecta, y Él protege a quienes confían en Él. Dios me da la fuerza y guía para seguir el camino correcto. \n",
      "---------------------------\n",
      "Efesios 3:16: Que os dé, conforme á las riquezas de su gloria, el ser corroborados con potencia en el hombre interior por su Espíritu.\n",
      "Interpretación: Que Dios, conforme a las riquezas de su gloria, les fortalezca con poder en su ser interior por medio de su Espíritu. \n"
     ]
    }
   ],
   "source": [
    "prayer = '''Dios en esta oportunidad quiero pedirte que me des luz y fuerzas para poder continuar con la búsqueda de trabajo que estoy haciendo. Se que es un poco dificil conseguir trabajo como extranjero, pero no tengo dudas de que Tú me ayudarás y pondrás la oportunidad ante mis ojos. En el nombre del Padre, del Hijo, del Espíritu Santo, Amén.'''\n",
    "\n",
    "title_query_result = query_collection(\n",
    "    collection=bible_interpretation_collection,\n",
    "    query=prayer,\n",
    "    max_results=3,\n",
    "    dataframe=bible_data\n",
    ")\n",
    "\n",
    "print(f\"Oración: {prayer}\")\n",
    "print('---------------------------')\n",
    "print(title_query_result.iloc[0,3] + ': ' + title_query_result.iloc[0,4])\n",
    "print('Interpretación: ' + title_query_result.iloc[0,5])\n",
    "print('---------------------------')\n",
    "print(title_query_result.iloc[1,3] + ': ' + title_query_result.iloc[1,4])\n",
    "print('Interpretación:' + title_query_result.iloc[1,5])\n",
    "print('---------------------------')\n",
    "print(title_query_result.iloc[2,3] + ': ' + title_query_result.iloc[2,4])\n",
    "print('Interpretación:' + title_query_result.iloc[2,5])"
   ]
  },
  {
   "cell_type": "code",
   "execution_count": 14,
   "metadata": {},
   "outputs": [
    {
     "name": "stdout",
     "output_type": "stream",
     "text": [
      "Oración: Le pido a Dios me de claridad en cuanto a mi objetivo a largo plazo profesional/laboral\n",
      "---------------------------\n",
      "Salmos 25:4, 5: Muéstrame, oh Jehová, tus caminos; Enséñame tus sendas.  Encamíname en tu verdad, y enséñame; Porque tú eres el Dios de mi salud: En ti he esperado todo el día.\n",
      "Interpretación:  El salmista está pidiendo a Dios que le muestre el camino correcto y le enseñe la verdad. Está buscando guía y dirección divina en su vida, confiando en Dios para su bienestar y salvación. \n",
      "---------------------------\n",
      "Salmos 119:18: Abre mis ojos, y miraré Las maravillas de tu ley.\n",
      "Interpretación: El salmista está pidiendo a Dios que le dé entendimiento y claridad para poder apreciar y comprender las maravillas y enseñanzas contenidas en la ley divina. \n",
      "---------------------------\n",
      "Salmos 143:10, 11: Enséñame á hacer tu voluntad, porque tú eres mi Dios: Tu buen espíritu me guíe á tierra de rectitud. Por tu nombre, oh Jehová me vivificarás: Por tu justicia, sacarás mi alma de angustia.\n",
      "Interpretación: Enséñame a hacer tu voluntad, porque tú eres mi Dios: Tu buen espíritu me guíe a tierra de rectitud. Por tu nombre, oh Jehová me vivificarás: Por tu justicia, sacarás mi alma de angustia. \n"
     ]
    }
   ],
   "source": [
    "prayer = '''Le pido a Dios me de claridad en cuanto a mi objetivo a largo plazo profesional/laboral'''\n",
    "\n",
    "title_query_result = query_collection(\n",
    "    collection=bible_interpretation_collection,\n",
    "    query=prayer,\n",
    "    max_results=3,\n",
    "    dataframe=bible_data\n",
    ")\n",
    "\n",
    "print(f\"Oración: {prayer}\")\n",
    "print('---------------------------')\n",
    "print(title_query_result.iloc[0,3] + ': ' + title_query_result.iloc[0,4])\n",
    "print('Interpretación: ' + title_query_result.iloc[0,5])\n",
    "print('---------------------------')\n",
    "print(title_query_result.iloc[1,3] + ': ' + title_query_result.iloc[1,4])\n",
    "print('Interpretación:' + title_query_result.iloc[1,5])\n",
    "print('---------------------------')\n",
    "print(title_query_result.iloc[2,3] + ': ' + title_query_result.iloc[2,4])\n",
    "print('Interpretación:' + title_query_result.iloc[2,5])"
   ]
  },
  {
   "cell_type": "code",
   "execution_count": 36,
   "metadata": {},
   "outputs": [
    {
     "name": "stdout",
     "output_type": "stream",
     "text": [
      "Oración: No se que podrá pasar mañana, pero confío en ti. Nunca he estado en tanta sintonía con mi presente, con esta adrenalina de ver la primera cima, de empezar a estirar los brazos para cruzar la meta y de esta fe ciega de que las cosas se van a ir poniendo en su lugar. Hoy la vida me vuelve a enseñar, que nada está en mi control, que todo depende de ti. Y por eso acudo una vez más a tu consejo, guíame señor, dame esa luz para poder convencer si son esos tus planes, muéstrame el camino, dame la esperanza para luchar esta batalla una vez más, para inflar el pecho por creer que todo es posible, pero que es posible junto a ti. Pero te pido también, con las manos temblando del temor, que si esta puerta no es para mi, la cierres por completo, aleja de mi lo que a la larga no sea para tu provecho, si este sendero no he de recorrer, cámbiame el camino, quiebra la oportunidad, porque prefiero perder incluso mis sueños, pero jamás perderte a ti, porque una vida de triunfos es vacío si no estás a mi lado, porque aún en la derrota, hay paz si es estás junto a mi, porque hoy más que nunca, te digo de rodillas, que se haga en mi según tu palabra, que se haga en mi según tu voluntad y te ruego me des la sabiduría para entender, cualquiera que sea tu designio. Amén\n",
      "---------------------------\n",
      "Isaías 41:10: No temas, que yo soy contigo; no desmayes, que yo soy tu Dios que te esfuerzo: siempre te ayudaré, siempre te sustentaré con la diestra de mi justicia.\n",
      "interpretación:  No temas, porque yo estoy contigo; no te desanimes, porque yo soy tu Dios. Te daré fuerzas, te ayudaré y te sostendré con mi mano derecha victoriosa. \n",
      "---------------------------\n",
      "Salmos 138:7: Si anduviere yo en medio de la angustia, tú me vivificarás: Contra la ira de mis enemigos extenderás tu mano, Y salvaráme tu diestra.\n",
      "interpretación: Aunque me encuentre en medio de la angustia, tú me darás vida; contra la ira de mis enemigos extenderás tu mano y me salvarás con tu poder. \n",
      "---------------------------\n",
      "Salmos 143:8: Hazme oir por la mañana tu misericordia, Porque en ti he confiado: Hazme saber el camino por donde ande, Porque á ti he alzado mi alma\n",
      "interpretación: \"Hazme oir por la mañana tu misericordia\" significa que el salmista pide a Dios que le muestre su amor y compasión al comenzar el día. \"Porque en ti he confiado\" indica la fe y confianza del salmista en Dios. \"Hazme saber el camino por donde ande\" es una petición para que Dios guíe sus pasos y decisiones. \"Porque á ti he alzado mi alma\" expresa la entrega y devoción del salmista a Dios. \n"
     ]
    }
   ],
   "source": [
    "oracion = '''No se que podrá pasar mañana, pero confío en ti. Nunca he estado en tanta sintonía con mi presente, con esta adrenalina de ver la primera cima, de empezar a estirar los brazos para cruzar la meta y de esta fe ciega de que las cosas se van a ir poniendo en su lugar. Hoy la vida me vuelve a enseñar, que nada está en mi control, que todo depende de ti. Y por eso acudo una vez más a tu consejo, guíame señor, dame esa luz para poder convencer si son esos tus planes, muéstrame el camino, dame la esperanza para luchar esta batalla una vez más, para inflar el pecho por creer que todo es posible, pero que es posible junto a ti. Pero te pido también, con las manos temblando del temor, que si esta puerta no es para mi, la cierres por completo, aleja de mi lo que a la larga no sea para tu provecho, si este sendero no he de recorrer, cámbiame el camino, quiebra la oportunidad, porque prefiero perder incluso mis sueños, pero jamás perderte a ti, porque una vida de triunfos es vacío si no estás a mi lado, porque aún en la derrota, hay paz si es estás junto a mi, porque hoy más que nunca, te digo de rodillas, que se haga en mi según tu palabra, que se haga en mi según tu voluntad y te ruego me des la sabiduría para entender, cualquiera que sea tu designio. Amén'''\n",
    "\n",
    "title_query_result = query_collection(\n",
    "    collection=bible_interpretation_collection,\n",
    "    query=oracion,\n",
    "    max_results=3,\n",
    "    dataframe=bible_data\n",
    ")\n",
    "\n",
    "print(f\"Oración: {oracion}\")\n",
    "print('---------------------------')\n",
    "print(title_query_result.iloc[0,3] + ': ' + title_query_result.iloc[0,4])\n",
    "print('interpretación: ' + title_query_result.iloc[0,5])\n",
    "print('---------------------------')\n",
    "print(title_query_result.iloc[1,3] + ': ' + title_query_result.iloc[1,4])\n",
    "print('interpretación:' + title_query_result.iloc[1,5])\n",
    "print('---------------------------')\n",
    "print(title_query_result.iloc[2,3] + ': ' + title_query_result.iloc[2,4])\n",
    "print('interpretación:' + title_query_result.iloc[2,5])"
   ]
  },
  {
   "cell_type": "code",
   "execution_count": 15,
   "metadata": {},
   "outputs": [
    {
     "name": "stdout",
     "output_type": "stream",
     "text": [
      "Oración: Dios. Quiero que en este proceso de búsqueda seas mi fuerza y me acompañes en todo momento. \n",
      "Yo se que tienes para mi un plan. Yo se que tu siempre das en la medida correcta y que poco a poco me has mostrado el camino para mi crecimiento.\n",
      "Hace un tiempo me faltaba confianza en mi mismo. Se que con la experiencia laboral anterior me diste la oportunidad de abrir los ojos y saber quien soy.\n",
      "Te doy las gracias porque se que cada paso que me muestras es un paso hacia desarrollar mi máximo potencial.\n",
      "\n",
      "---------------------------\n",
      "Salmos 18:29, 30B, 32: Porque contigo desharé ejércitos; Y con mi Dios asaltaré muros. Dios, perfecto su camino: Es acendrada la palabra de Jehová: Escudo es á todos los que en él esperan. Dios es el que me ciñe de fuerza, E hizo perfecto mi camino;\n",
      "Interpretación:  Con la ayuda de Dios, puedo superar grandes obstáculos y desafíos. La palabra de Dios es pura y perfecta, y Él protege a quienes confían en Él. Dios me da la fuerza y guía para seguir el camino correcto. \n",
      "---------------------------\n",
      "Salmos 142:3: Cuando mi espíritu se angustiaba dentro de mí, tú conociste mi senda. En el camino en que andaba, me escondieron lazo.\n",
      "Interpretación: Cuando mi espíritu estaba angustiado y abatido, Dios conocía mi camino y mis dificultades. En el camino de la vida, otros intentaron ponerme trampas. \n",
      "---------------------------\n",
      "Salmos 143:10, 11: Enséñame á hacer tu voluntad, porque tú eres mi Dios: Tu buen espíritu me guíe á tierra de rectitud. Por tu nombre, oh Jehová me vivificarás: Por tu justicia, sacarás mi alma de angustia.\n",
      "Interpretación: Enséñame a hacer tu voluntad, porque tú eres mi Dios: Tu buen espíritu me guíe a tierra de rectitud. Por tu nombre, oh Jehová me vivificarás: Por tu justicia, sacarás mi alma de angustia. \n"
     ]
    }
   ],
   "source": [
    "prayer = '''Dios. Quiero que en este proceso de búsqueda seas mi fuerza y me acompañes en todo momento. \n",
    "Yo se que tienes para mi un plan. Yo se que tu siempre das en la medida correcta y que poco a poco me has mostrado el camino para mi crecimiento.\n",
    "Hace un tiempo me faltaba confianza en mi mismo. Se que con la experiencia laboral anterior me diste la oportunidad de abrir los ojos y saber quien soy.\n",
    "Te doy las gracias porque se que cada paso que me muestras es un paso hacia desarrollar mi máximo potencial.\n",
    "'''\n",
    "\n",
    "title_query_result = query_collection(\n",
    "    collection=bible_interpretation_collection,\n",
    "    query=prayer,\n",
    "    max_results=3,\n",
    "    dataframe=bible_data\n",
    ")\n",
    "\n",
    "print(f\"Oración: {prayer}\")\n",
    "print('---------------------------')\n",
    "print(title_query_result.iloc[0,3] + ': ' + title_query_result.iloc[0,4])\n",
    "print('Interpretación: ' + title_query_result.iloc[0,5])\n",
    "print('---------------------------')\n",
    "print(title_query_result.iloc[1,3] + ': ' + title_query_result.iloc[1,4])\n",
    "print('Interpretación:' + title_query_result.iloc[1,5])\n",
    "print('---------------------------')\n",
    "print(title_query_result.iloc[2,3] + ': ' + title_query_result.iloc[2,4])\n",
    "print('Interpretación:' + title_query_result.iloc[2,5])"
   ]
  },
  {
   "cell_type": "code",
   "execution_count": 16,
   "metadata": {},
   "outputs": [
    {
     "name": "stdout",
     "output_type": "stream",
     "text": [
      "Oración: Querido Dios,\n",
      "Hoy ha sido un gran día. He vuelto de un viaje de Madrid con mi novia, y ha ido genial me lo he pasado muy bien, \n",
      "aunque he estado cansado durante el día. Y he tenido la noticia, de que ya empezaré a trabajar en una nueva empresa en septiembre,\n",
      "con la cual estoy muy motivado y con muchas ganas de empezar. Esto significa, que debo de poner la renuncia en la actual empresa,\n",
      "dame la serenidad y calma para hacerlo de la mejor manera dando gracias por la oportunidad que me han dado, \n",
      "pero se me presentó una oportunidad irrechazable. Espero que no se lo tomen mal, intentaré decirles con las mejores palabras y respeto. \n",
      "También, hoy ha sido el cumple de mi padre, hemos pasado una bonita cena en familia, con los míos.\n",
      "Muchas gracias por otro día más de vida\n",
      "---------------------------\n",
      "Salmos 71:17, 18: Oh Dios, enseñásteme desde mi mocedad; Y hasta ahora he manifestado tus maravillas. Y aun hasta la vejez y las canas; oh Dios, no me desampares, Hasta que denuncie tu brazo á la posteridad, Tus valentías á todos los que han de venir.\n",
      "Interpretación:  El salmista está agradeciendo a Dios por haberlo guiado y enseñado desde su juventud y pide que Dios no lo abandone en su vejez, para que pueda seguir proclamando las maravillas de Dios a las futuras generaciones. \n",
      "---------------------------\n",
      "Salmos 143:8: Hazme oir por la mañana tu misericordia, Porque en ti he confiado: Hazme saber el camino por donde ande, Porque á ti he alzado mi alma\n",
      "Interpretación: \"Hazme oir por la mañana tu misericordia\" significa que el salmista pide a Dios que le muestre su amor y compasión al comenzar el día. \"Porque en ti he confiado\" indica la fe y confianza del salmista en Dios. \"Hazme saber el camino por donde ande\" es una petición para que Dios guíe sus pasos y decisiones. \"Porque á ti he alzado mi alma\" expresa la entrega y devoción del salmista a Dios. \n",
      "---------------------------\n",
      "Juan 14:28: Habéis oído cómo yo os he dicho: Voy, y vengo á vosotros. Si me amaseis, ciertamente os gozaríais, porque he dicho que voy al Padre: porque el Padre mayor es que yo.\n",
      "Interpretación: Jesús está hablando a sus discípulos sobre su partida y regreso. Les dice que deberían alegrarse porque va al Padre, quien es mayor que él. Esto subraya la relación especial entre Jesús y Dios Padre, y la importancia de su misión divina. \n"
     ]
    }
   ],
   "source": [
    "prayer = '''Querido Dios,\n",
    "Hoy ha sido un gran día. He vuelto de un viaje de Madrid con mi novia, y ha ido genial me lo he pasado muy bien, \n",
    "aunque he estado cansado durante el día. Y he tenido la noticia, de que ya empezaré a trabajar en una nueva empresa en septiembre,\n",
    "con la cual estoy muy motivado y con muchas ganas de empezar. Esto significa, que debo de poner la renuncia en la actual empresa,\n",
    "dame la serenidad y calma para hacerlo de la mejor manera dando gracias por la oportunidad que me han dado, \n",
    "pero se me presentó una oportunidad irrechazable. Espero que no se lo tomen mal, intentaré decirles con las mejores palabras y respeto. \n",
    "También, hoy ha sido el cumple de mi padre, hemos pasado una bonita cena en familia, con los míos.\n",
    "Muchas gracias por otro día más de vida'''\n",
    "\n",
    "title_query_result = query_collection(\n",
    "    collection=bible_interpretation_collection,\n",
    "    query=prayer,\n",
    "    max_results=3,\n",
    "    dataframe=bible_data\n",
    ")\n",
    "\n",
    "print(f\"Oración: {prayer}\")\n",
    "print('---------------------------')\n",
    "print(title_query_result.iloc[0,3] + ': ' + title_query_result.iloc[0,4])\n",
    "print('Interpretación: ' + title_query_result.iloc[0,5])\n",
    "print('---------------------------')\n",
    "print(title_query_result.iloc[1,3] + ': ' + title_query_result.iloc[1,4])\n",
    "print('Interpretación:' + title_query_result.iloc[1,5])\n",
    "print('---------------------------')\n",
    "print(title_query_result.iloc[2,3] + ': ' + title_query_result.iloc[2,4])\n",
    "print('Interpretación:' + title_query_result.iloc[2,5])"
   ]
  },
  {
   "cell_type": "code",
   "execution_count": 32,
   "metadata": {},
   "outputs": [
    {
     "name": "stdout",
     "output_type": "stream",
     "text": [
      "Oración: Señor bendito esta mañana t agradezco la salud y la vida\n",
      "Que tu gracia y misericordia sean hoy conmigo \n",
      "Padre t ruego fortaleza  en todo momento \n",
      "Que tu luz siempre  m acompañe\n",
      "Perdóname en mis momentos d cólera  \n",
      "Ayúdame a tener paciencia  y amor para mi y mis semejantes \n",
      "---------------------------\n",
      "Salmos 116:1, 2: AMO á Jehová, pues ha oído Mi voz y mis súplicas. Porque ha inclinado á mí su oído, Invocaré le por tanto en todos mis días.\n",
      "Interpretación:  Amo al Señor porque ha escuchado mi voz y mis súplicas. Porque ha inclinado su oído hacia mí, lo invocaré todos los días de mi vida. \n",
      "---------------------------\n",
      "Salmos 68:19: Bendito el Señor; cada día nos colma de beneficios El Dios de nuestra salud. (Selah.)\n",
      "Interpretación: Bendito el Señor; cada día nos colma de beneficios. El Dios de nuestra salud. (Selah.) \n",
      "---------------------------\n",
      "2 Colosenses 3:5: Y el Señor enderece vuestros corazones en el amor de Dios, y en la paciencia de Cristo.\n",
      "Interpretación: Que el Señor guíe vuestros corazones hacia el amor de Dios y la paciencia de Cristo. \n"
     ]
    }
   ],
   "source": [
    "oracion = '''Señor bendito esta mañana t agradezco la salud y la vida\n",
    "Que tu gracia y misericordia sean hoy conmigo \n",
    "Padre t ruego fortaleza  en todo momento \n",
    "Que tu luz siempre  m acompañe\n",
    "Perdóname en mis momentos d cólera  \n",
    "Ayúdame a tener paciencia  y amor para mi y mis semejantes '''\n",
    "\n",
    "title_query_result = query_collection(\n",
    "    collection=bible_interpretation_collection,\n",
    "    query=oracion,\n",
    "    max_results=3,\n",
    "    dataframe=bible_data\n",
    ")\n",
    "\n",
    "print(f\"Oración: {oracion}\")\n",
    "print('---------------------------')\n",
    "print(title_query_result.iloc[0,3] + ': ' + title_query_result.iloc[0,4])\n",
    "print('Interpretación: ' + title_query_result.iloc[0,5])\n",
    "print('---------------------------')\n",
    "print(title_query_result.iloc[1,3] + ': ' + title_query_result.iloc[1,4])\n",
    "print('Interpretación:' + title_query_result.iloc[1,5])\n",
    "print('---------------------------')\n",
    "print(title_query_result.iloc[2,3] + ': ' + title_query_result.iloc[2,4])\n",
    "print('Interpretación:' + title_query_result.iloc[2,5])"
   ]
  },
  {
   "cell_type": "code",
   "execution_count": 17,
   "metadata": {},
   "outputs": [
    {
     "name": "stdout",
     "output_type": "stream",
     "text": [
      "Oración: Querido Dios,\n",
      "Hoy ha sido un gran día. He vuelto de un viaje de Madrid con mi novia, y ha ido genial me lo he pasado muy bien, \n",
      "aunque he estado cansado durante el día. Y he tenido la noticia, de que ya empezaré a trabajar en una nueva empresa en septiembre,\n",
      "con la cual estoy muy motivado y con muchas ganas de empezar. Esto significa, que debo de poner la renuncia en la actual empresa,\n",
      "dame la serenidad y calma para hacerlo de la mejor manera dando gracias por la oportunidad que me han dado, \n",
      "pero se me presentó una oportunidad irrechazable. Espero que no se lo tomen mal, intentaré decirles con las mejores palabras y respeto. \n",
      "También, hoy ha sido el cumple de mi padre, hemos pasado una bonita cena en familia, con los míos.\n",
      "Muchas gracias por otro día más de vida\n",
      "---------------------------\n",
      "Salmos 71:17, 18: Oh Dios, enseñásteme desde mi mocedad; Y hasta ahora he manifestado tus maravillas. Y aun hasta la vejez y las canas; oh Dios, no me desampares, Hasta que denuncie tu brazo á la posteridad, Tus valentías á todos los que han de venir.\n",
      "Interpretación:  El salmista está agradeciendo a Dios por haberlo guiado y enseñado desde su juventud y pide que Dios no lo abandone en su vejez, para que pueda seguir proclamando las maravillas de Dios a las futuras generaciones. \n",
      "---------------------------\n",
      "Salmos 143:8: Hazme oir por la mañana tu misericordia, Porque en ti he confiado: Hazme saber el camino por donde ande, Porque á ti he alzado mi alma\n",
      "Interpretación: \"Hazme oir por la mañana tu misericordia\" significa que el salmista pide a Dios que le muestre su amor y compasión al comenzar el día. \"Porque en ti he confiado\" indica la fe y confianza del salmista en Dios. \"Hazme saber el camino por donde ande\" es una petición para que Dios guíe sus pasos y decisiones. \"Porque á ti he alzado mi alma\" expresa la entrega y devoción del salmista a Dios. \n",
      "---------------------------\n",
      "Juan 14:28: Habéis oído cómo yo os he dicho: Voy, y vengo á vosotros. Si me amaseis, ciertamente os gozaríais, porque he dicho que voy al Padre: porque el Padre mayor es que yo.\n",
      "Interpretación: Jesús está hablando a sus discípulos sobre su partida y regreso. Les dice que deberían alegrarse porque va al Padre, quien es mayor que él. Esto subraya la relación especial entre Jesús y Dios Padre, y la importancia de su misión divina. \n"
     ]
    }
   ],
   "source": [
    "oracion = '''Ilumíname señor, dame paz en estos momentos de incertidumbre, sujétame de tu mano, permíteme caminar junto a ti.\n",
    "¿Por qué permites este dolor dentro de nosotros? ¿Por qué este sufrimiento tan profundo? No lograré entender tus motivos, \n",
    "pero entiendo espiritualmente lo que estás haciendo conmigo.\n",
    "Purificas mi alma, me permitiste soltar el control, afianzarme a ti, volver a mirarte cara a cara, \n",
    "entender que todo depende de ti, reconocer la vanidad de mis actos, sentir miedo a cada instante y que mi única fuerza seas tú.\n",
    "No entiendo tus caminos pero decido caminar dentro de ellos, seguir tu luz, guiar a mi familia hacia tus designios, \n",
    "respirar en esa absoluta incertidumbre y orar con todas mis fuerzas para que se haga según tu voluntad.\n",
    "Cuida a mi familia señor, bendice a mi esposa, cúbrela con tu manto sagrado, fortalece a mi hijo, \n",
    "aliéntalo con tu espíritu, dale el soporte que hoy nosotros no podemos darle, \n",
    "que su angel guardián le cuente que estamos todos pendientes de él, \n",
    "que no contamos los minutos para tenerlo en nuestros brazos, pero que sea paciente,\n",
    "que tú tienes varios corazones que limpiar en estos momentos, que su venida está generando santidad en nuestro alrededor.'''\n",
    "\n",
    "title_query_result = query_collection(\n",
    "    collection=bible_interpretation_collection,\n",
    "    query=prayer,\n",
    "    max_results=3,\n",
    "    dataframe=bible_data\n",
    ")\n",
    "\n",
    "print(f\"Oración: {prayer}\")\n",
    "print('---------------------------')\n",
    "print(title_query_result.iloc[0,3] + ': ' + title_query_result.iloc[0,4])\n",
    "print('Interpretación: ' + title_query_result.iloc[0,5])\n",
    "print('---------------------------')\n",
    "print(title_query_result.iloc[1,3] + ': ' + title_query_result.iloc[1,4])\n",
    "print('Interpretación:' + title_query_result.iloc[1,5])\n",
    "print('---------------------------')\n",
    "print(title_query_result.iloc[2,3] + ': ' + title_query_result.iloc[2,4])\n",
    "print('Interpretación:' + title_query_result.iloc[2,5])"
   ]
  },
  {
   "cell_type": "code",
   "execution_count": 34,
   "metadata": {},
   "outputs": [
    {
     "name": "stdout",
     "output_type": "stream",
     "text": [
      "Oración: Ilumíname señor, dame paz en estos momentos de incertidumbre, sujétame de tu mano, permíteme caminar junto a ti. ¿Por qué permites este dolor dentro de nosotros? ¿Por qué este sufrimiento tan profundo? No lograré entender tus motivos, pero entiendo espiritualmente lo que estás haciendo conmigo. Purificas mi alma, me permitiste soltar el control, afianzarme a ti, volver a mirarte cara a cara, entender que todo depende de ti, reconocer la vanidad de mis actos, sentir miedo a cada instante y que mi única fuerza seas tú. No entiendo tus caminos pero decido caminar dentro de ellos, seguir tu luz, guiar a mi familia hacia tus designios, respirar en esa absoluta incertidumbre y orar con todas mis fuerzas para que se haga según tu voluntad.Cuida a mi familia señor, bendice a mi esposa, cúbrela con tu manto sagrado, fortalece a mi hijo, aliéntalo con tu espíritu, dale el soporte que hoy nosotros no podemos darle, que su angel guardián le cuente que estamos todos pendientes de él, que no contamos los minutos para tenerlo en nuestros brazos, pero que sea paciente,que tú tienes varios corazones que limpiar en estos momentos, que su venida está generando santidad en nuestro alrededor.\n",
      "---------------------------\n",
      "Salmos 119:28: Deshácese mi alma de ansiedad: Corrobórame según tu palabra.\n",
      "Interpretación:  Mi alma se siente abrumada por la ansiedad; fortaléceme conforme a tu palabra. \n",
      "---------------------------\n",
      "Salmos 138:7: Si anduviere yo en medio de la angustia, tú me vivificarás: Contra la ira de mis enemigos extenderás tu mano, Y salvaráme tu diestra.\n",
      "Interpretación: Aunque me encuentre en medio de la angustia, tú me darás vida; contra la ira de mis enemigos extenderás tu mano y me salvarás con tu poder. \n",
      "---------------------------\n",
      "Salmos 142:3: Cuando mi espíritu se angustiaba dentro de mí, tú conociste mi senda. En el camino en que andaba, me escondieron lazo.\n",
      "Interpretación: Cuando mi espíritu estaba angustiado y abatido, Dios conocía mi camino y mis dificultades. En el camino de la vida, otros intentaron ponerme trampas. \n",
      "---------------------------\n",
      "Salmos 143:10, 11: Enséñame á hacer tu voluntad, porque tú eres mi Dios: Tu buen espíritu me guíe á tierra de rectitud. Por tu nombre, oh Jehová me vivificarás: Por tu justicia, sacarás mi alma de angustia.\n",
      "Interpretación: Enséñame a hacer tu voluntad, porque tú eres mi Dios: Tu buen espíritu me guíe a tierra de rectitud. Por tu nombre, oh Jehová me vivificarás: Por tu justicia, sacarás mi alma de angustia. \n",
      "---------------------------\n",
      "2 Colosenses 3:5: Y el Señor enderece vuestros corazones en el amor de Dios, y en la paciencia de Cristo.\n",
      "Interpretación: Que el Señor guíe vuestros corazones hacia el amor de Dios y la paciencia de Cristo. \n"
     ]
    }
   ],
   "source": [
    "oracion = '''Ilumíname señor, dame paz en estos momentos de incertidumbre, sujétame de tu mano, permíteme caminar junto a ti. ¿Por qué permites este dolor dentro de nosotros? ¿Por qué este sufrimiento tan profundo? No lograré entender tus motivos, pero entiendo espiritualmente lo que estás haciendo conmigo. Purificas mi alma, me permitiste soltar el control, afianzarme a ti, volver a mirarte cara a cara, entender que todo depende de ti, reconocer la vanidad de mis actos, sentir miedo a cada instante y que mi única fuerza seas tú. No entiendo tus caminos pero decido caminar dentro de ellos, seguir tu luz, guiar a mi familia hacia tus designios, respirar en esa absoluta incertidumbre y orar con todas mis fuerzas para que se haga según tu voluntad.Cuida a mi familia señor, bendice a mi esposa, cúbrela con tu manto sagrado, fortalece a mi hijo, aliéntalo con tu espíritu, dale el soporte que hoy nosotros no podemos darle, que su angel guardián le cuente que estamos todos pendientes de él, que no contamos los minutos para tenerlo en nuestros brazos, pero que sea paciente,que tú tienes varios corazones que limpiar en estos momentos, que su venida está generando santidad en nuestro alrededor.'''\n",
    "\n",
    "title_query_result = query_collection(\n",
    "    collection=bible_interpretation_collection,\n",
    "    query=oracion,\n",
    "    max_results=5,\n",
    "    dataframe=bible_data\n",
    ")\n",
    "\n",
    "print(f\"Oración: {oracion}\")\n",
    "print('---------------------------')\n",
    "print(title_query_result.iloc[0,3] + ': ' + title_query_result.iloc[0,4])\n",
    "print('Interpretación: ' + title_query_result.iloc[0,5])\n",
    "print('---------------------------')\n",
    "print(title_query_result.iloc[1,3] + ': ' + title_query_result.iloc[1,4])\n",
    "print('Interpretación:' + title_query_result.iloc[1,5])\n",
    "print('---------------------------')\n",
    "print(title_query_result.iloc[2,3] + ': ' + title_query_result.iloc[2,4])\n",
    "print('Interpretación:' + title_query_result.iloc[2,5])\n",
    "print('---------------------------')\n",
    "print(title_query_result.iloc[3,3] + ': ' + title_query_result.iloc[3,4])\n",
    "print('Interpretación:' + title_query_result.iloc[3,5])\n",
    "print('---------------------------')\n",
    "print(title_query_result.iloc[4,3] + ': ' + title_query_result.iloc[4,4])\n",
    "print('Interpretación:' + title_query_result.iloc[4,5])"
   ]
  },
  {
   "cell_type": "code",
   "execution_count": 18,
   "metadata": {},
   "outputs": [
    {
     "name": "stdout",
     "output_type": "stream",
     "text": [
      "Oración:  Dios mío gracias por un nuevo día, donde no me falta salud ni a mí ni a los míos. Te pido me des las fuerzas para seguir de pie y no rendirme en este nuevo camino que he tomado fuera de mi país, migrar no es fácil, lo sé, y extraño tanto a mi tierra y los míos que a veces se van las fuerzas de seguir luchando. Estoy aquí a pesar de recibir miles des “NO” y de que me hayan rechazado mi visado para estar aquí en España… será que sigo luchando o tú ya tienes marcado un destino para mí en otro lugar ?\n",
      "---------------------------\n",
      "Job 13:15: He aquí, aunque me matare, en él esperaré;\n",
      "Interpretación:  Aunque Dios me quite la vida, seguiré confiando en Él. \n",
      "---------------------------\n",
      "Isaías 40:29: El da esfuerzo al cansado, y multiplica las fuerzas al que no tiene ningunas.\n",
      "Interpretación: Dios da fuerza y ánimo a aquellos que están cansados y sin energía. \n",
      "---------------------------\n",
      "Salmos 18:29, 30B, 32: Porque contigo desharé ejércitos; Y con mi Dios asaltaré muros. Dios, perfecto su camino: Es acendrada la palabra de Jehová: Escudo es á todos los que en él esperan. Dios es el que me ciñe de fuerza, E hizo perfecto mi camino;\n",
      "Interpretación: Con la ayuda de Dios, puedo superar grandes obstáculos y desafíos. La palabra de Dios es pura y perfecta, y Él protege a quienes confían en Él. Dios me da la fuerza y guía para seguir el camino correcto. \n"
     ]
    }
   ],
   "source": [
    "prayer = ''' Dios mío gracias por un nuevo día, donde no me falta salud ni a mí ni a los míos. Te pido me des las fuerzas para seguir de pie y no rendirme en este nuevo camino que he tomado fuera de mi país, migrar no es fácil, lo sé, y extraño tanto a mi tierra y los míos que a veces se van las fuerzas de seguir luchando. Estoy aquí a pesar de recibir miles des “NO” y de que me hayan rechazado mi visado para estar aquí en España… será que sigo luchando o tú ya tienes marcado un destino para mí en otro lugar ?'''\n",
    "\n",
    "title_query_result = query_collection(\n",
    "    collection=bible_interpretation_collection,\n",
    "    query=prayer,\n",
    "    max_results=3,\n",
    "    dataframe=bible_data\n",
    ")\n",
    "\n",
    "print(f\"Oración: {prayer}\")\n",
    "print('---------------------------')\n",
    "print(title_query_result.iloc[0,3] + ': ' + title_query_result.iloc[0,4])\n",
    "print('Interpretación: ' + title_query_result.iloc[0,5])\n",
    "print('---------------------------')\n",
    "print(title_query_result.iloc[1,3] + ': ' + title_query_result.iloc[1,4])\n",
    "print('Interpretación:' + title_query_result.iloc[1,5])\n",
    "print('---------------------------')\n",
    "print(title_query_result.iloc[2,3] + ': ' + title_query_result.iloc[2,4])\n",
    "print('Interpretación:' + title_query_result.iloc[2,5])"
   ]
  },
  {
   "cell_type": "markdown",
   "metadata": {},
   "source": [
    "# Pinecone\n",
    "\n",
    "https://github.com/openai/openai-cookbook/blob/main/examples/vector_databases/pinecone/Using_Pinecone_for_embeddings_search.ipynb"
   ]
  },
  {
   "cell_type": "code",
   "execution_count": null,
   "metadata": {},
   "outputs": [],
   "source": [
    "!pip install -qU openai==1.2.2 pinecone-client"
   ]
  },
  {
   "cell_type": "markdown",
   "metadata": {},
   "source": [
    "### Create Index"
   ]
  },
  {
   "cell_type": "code",
   "execution_count": null,
   "metadata": {},
   "outputs": [],
   "source": [
    "from pinecone import Pinecone, ServerlessSpec\n",
    "\n",
    "pc = Pinecone(api_key=\"API_KEY\")\n",
    "\n",
    "# Create Index\n",
    "index_name = \"text-embedding-3-large\"\n",
    "\n",
    "if index_name not in pc.list_indexes().names():\n",
    "    pc.create_index(\n",
    "        name=index_name,\n",
    "        dimension=3074,\n",
    "        metric=\"cosine\",\n",
    "        spec=ServerlessSpec(\n",
    "            cloud='aws',\n",
    "            region='us-east-1'\n",
    "        )\n",
    "    )\n",
    "\n",
    "index = pc.Index(index_name)"
   ]
  },
  {
   "cell_type": "markdown",
   "metadata": {},
   "source": [
    "### Embed & Upsert"
   ]
  },
  {
   "cell_type": "code",
   "execution_count": null,
   "metadata": {},
   "outputs": [],
   "source": [
    "# Embed data\n",
    "data = [\n",
    "    {\"id\": \"vec1\", \"text\": \"Apple is a popular fruit known for its sweetness and crisp texture.\"},\n",
    "    {\"id\": \"vec2\", \"text\": \"The tech company Apple is known for its innovative products like the iPhone.\"},\n",
    "    {\"id\": \"vec3\", \"text\": \"Many people enjoy eating apples as a healthy snack.\"},\n",
    "    {\"id\": \"vec4\", \"text\": \"Apple Inc. has revolutionized the tech industry with its sleek designs and user-friendly interfaces.\"},\n",
    "    {\"id\": \"vec5\", \"text\": \"An apple a day keeps the doctor away, as the saying goes.\"},\n",
    "]\n",
    "\n",
    "import openai \n",
    "openai.api_key = \"OPENAI_API_KEY\" \n",
    "\n",
    "\n",
    "def embed(docs: list[str]) -> list[list[float]]:\n",
    "    res = openai.embeddings.create(\n",
    "        input=docs,\n",
    "        model=\"text-embedding-3-large\"\n",
    "    )\n",
    "    doc_embeds = [r.embedding for r in res.data] \n",
    "    return doc_embeds \n",
    "\n",
    "\n",
    "doc_embeds = embed([d[\"text\"] for d in data])\n",
    "\n",
    "vectors = []\n",
    "for d, e in zip(data, doc_embeds):\n",
    "    vectors.append({\n",
    "        \"id\": d['id'],\n",
    "        \"values\": e,\n",
    "        \"metadata\": {'text': d['text']}\n",
    "    })\n",
    "\n",
    "index.upsert(\n",
    "    vectors=vectors,\n",
    "    namespace=\"ns1\"\n",
    ")\n",
    "\n",
    "\n",
    "### Query\n",
    "query = \"Tell me about the tech company known as Apple\"\n",
    "\n",
    "x = embed([query])\n",
    "\n",
    "results = index.query(\n",
    "    namespace=\"ns1\",\n",
    "    vector=x[0],\n",
    "    top_k=3,\n",
    "    include_values=False,\n",
    "    include_metadata=True\n",
    ")\n",
    "\n",
    "print(results)\n"
   ]
  },
  {
   "cell_type": "code",
   "execution_count": null,
   "metadata": {},
   "outputs": [],
   "source": []
  },
  {
   "cell_type": "code",
   "execution_count": null,
   "metadata": {},
   "outputs": [],
   "source": [
    "## Temas a corregir\n",
    "# Hay versiculos repetidos. Quitar versiculos duplicados. \n",
    "# Revisar las interpretaciones. Hay interpretaciones que son un copia y pega. "
   ]
  },
  {
   "cell_type": "code",
   "execution_count": null,
   "metadata": {},
   "outputs": [],
   "source": []
  },
  {
   "cell_type": "code",
   "execution_count": null,
   "metadata": {},
   "outputs": [],
   "source": []
  }
 ],
 "metadata": {
  "kernelspec": {
   "display_name": "base",
   "language": "python",
   "name": "python3"
  },
  "language_info": {
   "codemirror_mode": {
    "name": "ipython",
    "version": 3
   },
   "file_extension": ".py",
   "mimetype": "text/x-python",
   "name": "python",
   "nbconvert_exporter": "python",
   "pygments_lexer": "ipython3",
   "version": "3.11.9"
  }
 },
 "nbformat": 4,
 "nbformat_minor": 2
}
