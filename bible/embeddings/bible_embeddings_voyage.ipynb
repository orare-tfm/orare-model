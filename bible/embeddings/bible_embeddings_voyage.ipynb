{
 "cells": [
  {
   "cell_type": "markdown",
   "metadata": {},
   "source": [
    "# Generating the Embeddings with VoyageAI"
   ]
  },
  {
   "cell_type": "markdown",
   "metadata": {},
   "source": [
    "## Loading libraries and Setting VoyageAI Client"
   ]
  },
  {
   "cell_type": "code",
   "execution_count": 1,
   "metadata": {},
   "outputs": [],
   "source": [
    "# Importing library\n",
    "import json\n",
    "import pandas as pd\n",
    "import os\n",
    "import voyageai\n",
    "\n",
    "# Setting the working directory\n",
    "def find_repo_root(repo_name='orare-model'):\n",
    "    current_dir = os.getcwd()\n",
    "    while current_dir != '/':\n",
    "        if os.path.basename(current_dir) == repo_name:\n",
    "            return current_dir\n",
    "        current_dir = os.path.dirname(current_dir)\n",
    "    raise FileNotFoundError(f\"Repository root '{repo_name}' not found.\")\n",
    "\n",
    "repo_root = find_repo_root()\n",
    "os.chdir(repo_root)\n",
    "\n",
    "# Instantiating the VoyageAI API client\n",
    "vo = voyageai.Client(api_key=os.getenv(\"VOYAGE_API_KEY\"))"
   ]
  },
  {
   "cell_type": "markdown",
   "metadata": {},
   "source": [
    "## Catholic Bible interpreted: v3 - Claude"
   ]
  },
  {
   "cell_type": "code",
   "execution_count": null,
   "metadata": {},
   "outputs": [],
   "source": [
    "# Loading the data\n",
    "with open('bible/data/cat_bible_int_claude.json') as f:\n",
    "    data = json.load(f)\n",
    "\n",
    "# Converting json into df\n",
    "bible_data = pd.DataFrame(data)\n",
    "bible_data.head()"
   ]
  },
  {
   "cell_type": "code",
   "execution_count": 62,
   "metadata": {},
   "outputs": [],
   "source": [
    "embeddings_list = []\n",
    "# Process to get the interpretion of all the Bible in batches of 10 rows\n",
    "for i in range(0, len(bible_data), 100):\n",
    "    # Getting the batch\n",
    "    batch = bible_data.iloc[i:i+100]\n",
    "    input_list = []\n",
    "    for _, row in batch.iterrows():\n",
    "        input_list.append(row['interpretacion'])\n",
    "    # Embed the documents\n",
    "    result = vo.embed(input_list, model=\"voyage-multilingual-2\", input_type=\"document\")\n",
    "    # Append the embeddings to the embeddings_list\n",
    "    for i in result.embeddings:\n",
    "        embeddings_list.append(i)"
   ]
  },
  {
   "cell_type": "code",
   "execution_count": 67,
   "metadata": {},
   "outputs": [],
   "source": [
    "# Append the embeddings to the dataframe\n",
    "bible_data['interpretacion_vector'] = embeddings_list\n",
    "\n",
    "# Saving the embeddings in a file\n",
    "bible_data.to_csv('bible/data/cat_bible_int_claude_emb_voy.txt',sep='|',index=False, encoding='utf-8')"
   ]
  },
  {
   "cell_type": "markdown",
   "metadata": {},
   "source": [
    "## Catholic Bible interpreted: v3 - OpenAI"
   ]
  },
  {
   "cell_type": "code",
   "execution_count": 2,
   "metadata": {},
   "outputs": [
    {
     "data": {
      "text/html": [
       "<div>\n",
       "<style scoped>\n",
       "    .dataframe tbody tr th:only-of-type {\n",
       "        vertical-align: middle;\n",
       "    }\n",
       "\n",
       "    .dataframe tbody tr th {\n",
       "        vertical-align: top;\n",
       "    }\n",
       "\n",
       "    .dataframe thead th {\n",
       "        text-align: right;\n",
       "    }\n",
       "</style>\n",
       "<table border=\"1\" class=\"dataframe\">\n",
       "  <thead>\n",
       "    <tr style=\"text-align: right;\">\n",
       "      <th></th>\n",
       "      <th>id</th>\n",
       "      <th>pasaje</th>\n",
       "      <th>texto</th>\n",
       "      <th>interpretacion</th>\n",
       "      <th>area_vida</th>\n",
       "    </tr>\n",
       "  </thead>\n",
       "  <tbody>\n",
       "    <tr>\n",
       "      <th>0</th>\n",
       "      <td>1</td>\n",
       "      <td>1 Corintios 10:12</td>\n",
       "      <td>Por eso, el que se cree muy seguro, ¡cuídese d...</td>\n",
       "      <td>Un gerente de una empresa, confiado en su expe...</td>\n",
       "      <td>[orgullo]</td>\n",
       "    </tr>\n",
       "    <tr>\n",
       "      <th>1</th>\n",
       "      <td>2</td>\n",
       "      <td>1 Corintios 10:13</td>\n",
       "      <td>Hasta ahora, ustedes no tuvieron tentaciones q...</td>\n",
       "      <td>Imagina a Laura, una joven profesional que se ...</td>\n",
       "      <td>[crecimiento espiritual, maternidad, vicio]</td>\n",
       "    </tr>\n",
       "    <tr>\n",
       "      <th>2</th>\n",
       "      <td>3</td>\n",
       "      <td>1 Corintios 10:31</td>\n",
       "      <td>En resumen, sea que ustedes coman, sea que beb...</td>\n",
       "      <td>Anna es una joven profesional que trabaja en u...</td>\n",
       "      <td>[descanso y vacaciones]</td>\n",
       "    </tr>\n",
       "    <tr>\n",
       "      <th>3</th>\n",
       "      <td>4</td>\n",
       "      <td>1 Corintios 11:9</td>\n",
       "      <td>ni fue creado el hombre a causa de la mujer, s...</td>\n",
       "      <td>En una moderna empresa de tecnología, el papel...</td>\n",
       "      <td>[creación/evolución]</td>\n",
       "    </tr>\n",
       "    <tr>\n",
       "      <th>4</th>\n",
       "      <td>5</td>\n",
       "      <td>1 Corintios 13:13</td>\n",
       "      <td>En una palabra, ahora existen tres cosas: la f...</td>\n",
       "      <td>Imagina un grupo de amigos que, a pesar de viv...</td>\n",
       "      <td>[amor]</td>\n",
       "    </tr>\n",
       "  </tbody>\n",
       "</table>\n",
       "</div>"
      ],
      "text/plain": [
       "   id             pasaje                                              texto  \\\n",
       "0   1  1 Corintios 10:12  Por eso, el que se cree muy seguro, ¡cuídese d...   \n",
       "1   2  1 Corintios 10:13  Hasta ahora, ustedes no tuvieron tentaciones q...   \n",
       "2   3  1 Corintios 10:31  En resumen, sea que ustedes coman, sea que beb...   \n",
       "3   4   1 Corintios 11:9  ni fue creado el hombre a causa de la mujer, s...   \n",
       "4   5  1 Corintios 13:13  En una palabra, ahora existen tres cosas: la f...   \n",
       "\n",
       "                                      interpretacion  \\\n",
       "0  Un gerente de una empresa, confiado en su expe...   \n",
       "1  Imagina a Laura, una joven profesional que se ...   \n",
       "2  Anna es una joven profesional que trabaja en u...   \n",
       "3  En una moderna empresa de tecnología, el papel...   \n",
       "4  Imagina un grupo de amigos que, a pesar de viv...   \n",
       "\n",
       "                                     area_vida  \n",
       "0                                    [orgullo]  \n",
       "1  [crecimiento espiritual, maternidad, vicio]  \n",
       "2                      [descanso y vacaciones]  \n",
       "3                         [creación/evolución]  \n",
       "4                                       [amor]  "
      ]
     },
     "execution_count": 2,
     "metadata": {},
     "output_type": "execute_result"
    }
   ],
   "source": [
    "# Loading the data\n",
    "with open('bible/data/cat_bible_int_openai.json') as f:\n",
    "    data = json.load(f)\n",
    "\n",
    "# Converting json into df\n",
    "bible_data = pd.DataFrame(data)\n",
    "\n",
    "# Creating an id column\n",
    "bible_data['id'] = bible_data.index + 1\n",
    "bible_data = bible_data[['id','pasaje','texto','interpretacion','area_vida']]\n",
    "bible_data.head()"
   ]
  },
  {
   "cell_type": "code",
   "execution_count": 3,
   "metadata": {},
   "outputs": [],
   "source": [
    "embeddings_list = []\n",
    "# Process to get the interpretion of all the Bible in batches of 10 rows\n",
    "for i in range(0, len(bible_data), 100):\n",
    "    # Getting the batch\n",
    "    batch = bible_data.iloc[i:i+100]\n",
    "    input_list = []\n",
    "    for _, row in batch.iterrows():\n",
    "        input_list.append(row['interpretacion'])\n",
    "    # Embed the documents\n",
    "    result = vo.embed(input_list, model=\"voyage-multilingual-2\", input_type=\"document\")\n",
    "    # Append the embeddings to the embeddings_list\n",
    "    for i in result.embeddings:\n",
    "        embeddings_list.append(i)"
   ]
  },
  {
   "cell_type": "code",
   "execution_count": 7,
   "metadata": {},
   "outputs": [],
   "source": [
    "# Append the embeddings to the dataframe\n",
    "bible_data['interpretacion_vector'] = embeddings_list\n",
    "\n",
    "# Saving the embeddings in a file\n",
    "bible_data.to_csv('bible/data/cat_bible_int_openai_emb_voy.txt',sep='|',index=False, encoding='utf-8')"
   ]
  },
  {
   "cell_type": "code",
   "execution_count": null,
   "metadata": {},
   "outputs": [],
   "source": []
  }
 ],
 "metadata": {
  "kernelspec": {
   "display_name": "venv",
   "language": "python",
   "name": "python3"
  },
  "language_info": {
   "codemirror_mode": {
    "name": "ipython",
    "version": 3
   },
   "file_extension": ".py",
   "mimetype": "text/x-python",
   "name": "python",
   "nbconvert_exporter": "python",
   "pygments_lexer": "ipython3",
   "version": "3.11.9"
  }
 },
 "nbformat": 4,
 "nbformat_minor": 2
}
