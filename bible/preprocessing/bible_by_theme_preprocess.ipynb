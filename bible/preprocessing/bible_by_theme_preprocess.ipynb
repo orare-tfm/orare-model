{
 "cells": [
  {
   "cell_type": "markdown",
   "metadata": {},
   "source": [
    "## Bible by Theme"
   ]
  },
  {
   "cell_type": "markdown",
   "metadata": {},
   "source": [
    "### Preprocessing the Bible by Theme"
   ]
  },
  {
   "cell_type": "code",
   "execution_count": 1,
   "metadata": {},
   "outputs": [],
   "source": [
    "# Importing library\n",
    "import json\n",
    "import pandas as pd\n",
    "import os\n",
    "from utils.os_utils import find_repo_root\n",
    "pd.set_option('display.max_colwidth', None)\n",
    "pd.options.mode.chained_assignment = None\n",
    "\n",
    "# Setting directory\n",
    "repo_root = find_repo_root()\n",
    "os.chdir(repo_root)\n",
    "\n",
    "# Loading Fragments of the Bible\n",
    "with open('bible/data/bible_by_theme.json') as f:\n",
    "    fragments = json.load(f)"
   ]
  },
  {
   "cell_type": "code",
   "execution_count": 2,
   "metadata": {},
   "outputs": [],
   "source": [
    "# Preprocessing the Bible by themes\n",
    "# Creating empty lists to save the data\n",
    "list_purpose = []\n",
    "list_passage = []\n",
    "list_text = []\n",
    "list_response = []\n",
    "\n",
    "# For loop to interpret all the fragments of the Bible\n",
    "for item in fragments:\n",
    "    purpose = item['purpose']\n",
    "    verses = item['versiculos']\n",
    "    for verse in verses:\n",
    "        passage = verse['pasaje']\n",
    "        text = verse['texto']\n",
    "        list_purpose.append(purpose)\n",
    "        list_passage.append(passage)\n",
    "        list_text.append(text)"
   ]
  },
  {
   "cell_type": "code",
   "execution_count": 3,
   "metadata": {},
   "outputs": [],
   "source": [
    "# Creating a df with the passages, text and purposes\n",
    "fragments_df = pd.DataFrame({'pasaje': list_passage,\n",
    "                            'texto': list_text,\n",
    "                            'area_vida': list_purpose})"
   ]
  },
  {
   "cell_type": "code",
   "execution_count": 4,
   "metadata": {},
   "outputs": [],
   "source": [
    "import re\n",
    "\n",
    "def clean_text(text):\n",
    "    text = text.replace('\\r\\n', ' ')\n",
    "    text = re.sub(r'\\s{2,}', ' ', text)\n",
    "    return text\n",
    "\n",
    "fragments_df['pasaje'] = fragments_df['pasaje'].apply(clean_text)\n",
    "fragments_df['texto'] = fragments_df['texto'].apply(clean_text)"
   ]
  },
  {
   "cell_type": "code",
   "execution_count": 5,
   "metadata": {},
   "outputs": [
    {
     "data": {
      "text/plain": [
       "pasaje    862\n",
       "texto     867\n",
       "dtype: int64"
      ]
     },
     "execution_count": 5,
     "metadata": {},
     "output_type": "execute_result"
    }
   ],
   "source": [
    "# Counting unique values for each column\n",
    "fragments_df[['pasaje','texto']].nunique()"
   ]
  },
  {
   "cell_type": "code",
   "execution_count": 6,
   "metadata": {},
   "outputs": [
    {
     "data": {
      "text/plain": [
       "pasaje\n",
       "1 Juan 1:9          2\n",
       "Salmos 46:1-3       2\n",
       "Isaías 30:15        2\n",
       "1 Juan 3:8          2\n",
       "Nehemías 8:10       2\n",
       "Lucas 22:31, 32     2\n",
       "Apocalipsis 19:5    2\n",
       "Name: count, dtype: int64"
      ]
     },
     "execution_count": 6,
     "metadata": {},
     "output_type": "execute_result"
    }
   ],
   "source": [
    "# There are some passages that have different texts.\n",
    "# Eliminating duplicates from the df\n",
    "fragments_distinct = fragments_df.drop_duplicates(subset=['pasaje','texto'])\n",
    "# Counting the passages and showing the ones with more than 1 occurrence\n",
    "value_counts = fragments_distinct['pasaje'].value_counts()\n",
    "filtered_counts = value_counts[value_counts > 1]\n",
    "filtered_counts"
   ]
  },
  {
   "cell_type": "code",
   "execution_count": 7,
   "metadata": {},
   "outputs": [
    {
     "data": {
      "text/plain": [
       "85                                                          Y salió una voz del trono, que decía: Load á nuestro Dios todos sus siervos, y los que le teméis, así pequeños como grandes.\n",
       "541    Y de su boca sale una espada aguda, para herir con ella las gentes: y él los regirá con vara de hierro; y él pisa el lagar del vino del furor, y de la ira del Dios Todopoderoso.\n",
       "Name: texto, dtype: object"
      ]
     },
     "execution_count": 7,
     "metadata": {},
     "output_type": "execute_result"
    }
   ],
   "source": [
    "# When reviewing the content of this duplicated verse there is a mistake in the number of verse of one of them\n",
    "fragments_df[fragments_df['pasaje']=='Apocalipsis 19:5']['texto']"
   ]
  },
  {
   "cell_type": "code",
   "execution_count": 8,
   "metadata": {},
   "outputs": [
    {
     "data": {
      "text/plain": [
       "541    Apocalipsis 19:15\n",
       "Name: pasaje, dtype: object"
      ]
     },
     "execution_count": 8,
     "metadata": {},
     "output_type": "execute_result"
    }
   ],
   "source": [
    "# Correcting the verse numer\n",
    "# Specifying the text with the wrong verse number\n",
    "text = 'Y de su boca sale una espada aguda, para herir con ella las gentes: y él los regirá con vara de hierro; y él pisa el lagar del vino del furor, y de la ira del Dios Todopoderoso.'\n",
    "# Replacing the verse number by the correct verse\n",
    "fragments_df.loc[fragments_df['texto'] == text, 'pasaje'] = 'Apocalipsis 19:15'\n",
    "# Verifying the verse correction\n",
    "fragments_df[fragments_df['texto']==text]['pasaje']"
   ]
  },
  {
   "cell_type": "code",
   "execution_count": 9,
   "metadata": {},
   "outputs": [
    {
     "data": {
      "text/plain": [
       "15     Si confesamos nuestros pecados, él es fiel y justo para que nos perdone nuestros pecados, y nos limpie de toda maldad-\n",
       "215    Si confesamos nuestros pecados, él es fiel y justo para que nos perdone nuestros pecados, y nos limpie de toda maldad.\n",
       "Name: texto, dtype: object"
      ]
     },
     "execution_count": 9,
     "metadata": {},
     "output_type": "execute_result"
    }
   ],
   "source": [
    "# We check what are the differences in both text.\n",
    "fragments_df[fragments_df['pasaje']=='1 Juan 1:9']['texto']"
   ]
  },
  {
   "cell_type": "code",
   "execution_count": 10,
   "metadata": {},
   "outputs": [
    {
     "data": {
      "text/plain": [
       "15     Si confesamos nuestros pecados, él es fiel y justo para que nos perdone nuestros pecados, y nos limpie de toda maldad.\n",
       "215    Si confesamos nuestros pecados, él es fiel y justo para que nos perdone nuestros pecados, y nos limpie de toda maldad.\n",
       "Name: texto, dtype: object"
      ]
     },
     "execution_count": 10,
     "metadata": {},
     "output_type": "execute_result"
    }
   ],
   "source": [
    "# We correct the text\n",
    "fragments_df.loc[fragments_df['pasaje'] == '1 Juan 1:9', 'texto'] = 'Si confesamos nuestros pecados, él es fiel y justo para que nos perdone nuestros pecados, y nos limpie de toda maldad.'\n",
    "fragments_df[fragments_df['pasaje']=='1 Juan 1:9']['texto']"
   ]
  },
  {
   "cell_type": "code",
   "execution_count": 11,
   "metadata": {},
   "outputs": [
    {
     "data": {
      "text/plain": [
       "349    Bienaventurado el hombre que tiene su fortaleza en ti; En cuyo corazón están tus caminos. Irán de fortaleza en fortaleza, Verán á Dios en Sión.\n",
       "636    Bienaventurado el hombre que tiene su fortaleza en ti; En cuyo corazón están tus caminos. Irán de fortaleza en fortaleza, Verán á Dios en Sión.\n",
       "Name: texto, dtype: object"
      ]
     },
     "execution_count": 11,
     "metadata": {},
     "output_type": "execute_result"
    }
   ],
   "source": [
    "# Checking the content\n",
    "fragments_df[fragments_df['pasaje']=='Salmos 84:5, 7']['texto']"
   ]
  },
  {
   "cell_type": "code",
   "execution_count": 12,
   "metadata": {},
   "outputs": [
    {
     "data": {
      "text/plain": [
       "349    Bienaventurado el hombre que tiene su fortaleza en ti; En cuyo corazón están tus caminos. Irán de fortaleza en fortaleza, Verán á Dios en Sión.\n",
       "636    Bienaventurado el hombre que tiene su fortaleza en ti; En cuyo corazón están tus caminos. Irán de fortaleza en fortaleza, Verán á Dios en Sión.\n",
       "Name: texto, dtype: object"
      ]
     },
     "execution_count": 12,
     "metadata": {},
     "output_type": "execute_result"
    }
   ],
   "source": [
    "# Correcting the text\n",
    "fragments_df.loc[fragments_df['pasaje'] == 'Salmos 84:5, 7', 'texto'] = 'Bienaventurado el hombre que tiene su fortaleza en ti; En cuyo corazón están tus caminos. Irán de fortaleza en fortaleza, Verán á Dios en Sión.'\n",
    "fragments_df[fragments_df['pasaje']=='Salmos 84:5, 7']['texto']"
   ]
  },
  {
   "cell_type": "code",
   "execution_count": 13,
   "metadata": {},
   "outputs": [
    {
     "data": {
      "text/plain": [
       "88                                                                           En descanso y en reposo seréis salvos; en quietud y en confianza será vuestra fortaleza.\n",
       "139    Porque así dijo el Señor Jehová, el Santo de Israel: En descanso y en reposo seréis salvos; en quietud y en confianza será vuestra fortaleza. Y no quisisteis,\n",
       "641    Porque así dijo el Señor Jehová, el Santo de Israel: En descanso y en reposo seréis salvos; en quietud y en confianza será vuestra fortaleza. Y no quisisteis,\n",
       "Name: texto, dtype: object"
      ]
     },
     "execution_count": 13,
     "metadata": {},
     "output_type": "execute_result"
    }
   ],
   "source": [
    "# Checking the content\n",
    "fragments_df[fragments_df['pasaje']=='Isaías 30:15']['texto']"
   ]
  },
  {
   "cell_type": "code",
   "execution_count": 14,
   "metadata": {},
   "outputs": [
    {
     "data": {
      "text/plain": [
       "88     Porque así dijo el Señor Jehová, el Santo de Israel: En descanso y en reposo seréis salvos; en quietud y en confianza será vuestra fortaleza. Y no quisisteis,\n",
       "139    Porque así dijo el Señor Jehová, el Santo de Israel: En descanso y en reposo seréis salvos; en quietud y en confianza será vuestra fortaleza. Y no quisisteis,\n",
       "641    Porque así dijo el Señor Jehová, el Santo de Israel: En descanso y en reposo seréis salvos; en quietud y en confianza será vuestra fortaleza. Y no quisisteis,\n",
       "Name: texto, dtype: object"
      ]
     },
     "execution_count": 14,
     "metadata": {},
     "output_type": "execute_result"
    }
   ],
   "source": [
    "# Correcting the text\n",
    "fragments_df.loc[fragments_df['pasaje'] == 'Isaías 30:15', 'texto'] = 'Porque así dijo el Señor Jehová, el Santo de Israel: En descanso y en reposo seréis salvos; en quietud y en confianza será vuestra fortaleza. Y no quisisteis,'\n",
    "fragments_df[fragments_df['pasaje']=='Isaías 30:15']['texto']"
   ]
  },
  {
   "cell_type": "code",
   "execution_count": 15,
   "metadata": {},
   "outputs": [
    {
     "data": {
      "text/plain": [
       "431    El que hace pecado, es del diablo; porque el diablo peca desde el principio. Para esto apareció el Hijo de Dios, para deshacer las obras del diablo.\n",
       "796                                                                                 Para esto apareció el Hijo de Dios, para deshacer las obras del diablo.\n",
       "Name: texto, dtype: object"
      ]
     },
     "execution_count": 15,
     "metadata": {},
     "output_type": "execute_result"
    }
   ],
   "source": [
    "# Checking the content\n",
    "fragments_df[fragments_df['pasaje']=='1 Juan 3:8']['texto']"
   ]
  },
  {
   "cell_type": "code",
   "execution_count": 16,
   "metadata": {},
   "outputs": [
    {
     "data": {
      "text/plain": [
       "431    El que hace pecado, es del diablo; porque el diablo peca desde el principio. Para esto apareció el Hijo de Dios, para deshacer las obras del diablo.\n",
       "796    El que hace pecado, es del diablo; porque el diablo peca desde el principio. Para esto apareció el Hijo de Dios, para deshacer las obras del diablo.\n",
       "Name: texto, dtype: object"
      ]
     },
     "execution_count": 16,
     "metadata": {},
     "output_type": "execute_result"
    }
   ],
   "source": [
    "# Correcting the text\n",
    "fragments_df.loc[fragments_df['pasaje'] == '1 Juan 3:8', 'texto'] = 'El que hace pecado, es del diablo; porque el diablo peca desde el principio. Para esto apareció el Hijo de Dios, para deshacer las obras del diablo.'\n",
    "fragments_df[fragments_df['pasaje']=='1 Juan 3:8']['texto']"
   ]
  },
  {
   "cell_type": "code",
   "execution_count": 17,
   "metadata": {},
   "outputs": [
    {
     "data": {
      "text/plain": [
       "67                                                                                                                                                                          porque el gozo de Jehová es vuestra fortaleza.\n",
       "508    Díjoles luego: Id, comed grosuras, y bebed vino dulce, y enviad porciones á los que no tienen prevenido; porque día santo es á nuestro Señor: y no os entristezcáis, porque el gozo de Jehová es vuestra fortaleza.\n",
       "Name: texto, dtype: object"
      ]
     },
     "execution_count": 17,
     "metadata": {},
     "output_type": "execute_result"
    }
   ],
   "source": [
    "# Checking the content\n",
    "fragments_df[fragments_df['pasaje']=='Nehemías 8:10']['texto']"
   ]
  },
  {
   "cell_type": "code",
   "execution_count": 18,
   "metadata": {},
   "outputs": [
    {
     "data": {
      "text/plain": [
       "67     Díjoles luego: Id, comed grosuras, y bebed vino dulce, y enviad porciones á los que no tienen prevenido; porque día santo es á nuestro Señor: y no os entristezcáis, porque el gozo de Jehová es vuestra fortaleza.\n",
       "508    Díjoles luego: Id, comed grosuras, y bebed vino dulce, y enviad porciones á los que no tienen prevenido; porque día santo es á nuestro Señor: y no os entristezcáis, porque el gozo de Jehová es vuestra fortaleza.\n",
       "Name: texto, dtype: object"
      ]
     },
     "execution_count": 18,
     "metadata": {},
     "output_type": "execute_result"
    }
   ],
   "source": [
    "# Correcting the text\n",
    "fragments_df.loc[fragments_df['pasaje'] == 'Nehemías 8:10', 'texto'] = 'Díjoles luego: Id, comed grosuras, y bebed vino dulce, y enviad porciones á los que no tienen prevenido; porque día santo es á nuestro Señor: y no os entristezcáis, porque el gozo de Jehová es vuestra fortaleza.'\n",
    "fragments_df[fragments_df['pasaje']=='Nehemías 8:10']['texto']"
   ]
  },
  {
   "cell_type": "code",
   "execution_count": 19,
   "metadata": {},
   "outputs": [
    {
     "data": {
      "text/plain": [
       "49     Dijo también el Señor: Simón, Simón, he aquí Satanás os ha pedido para zarandaros como á trigo; Mas yo he rogado por ti que tu fe no falte: y tú, una vez vuelto, confirma á tus hermanos.\n",
       "225                           Simón, Simón, he aquí Satanás os ha pedido para zarandaros como á trigo; Mas yo he rogado por ti que tu fe no falte: y tú, una vez vuelto, confirma á tus hermanos.\n",
       "Name: texto, dtype: object"
      ]
     },
     "execution_count": 19,
     "metadata": {},
     "output_type": "execute_result"
    }
   ],
   "source": [
    "# Checking the content\n",
    "fragments_df[fragments_df['pasaje']=='Lucas 22:31, 32']['texto']"
   ]
  },
  {
   "cell_type": "code",
   "execution_count": 20,
   "metadata": {},
   "outputs": [
    {
     "data": {
      "text/plain": [
       "49     Dijo también el Señor: Simón, Simón, he aquí Satanás os ha pedido para zarandaros como á trigo; Mas yo he rogado por ti que tu fe no falte: y tú, una vez vuelto, confirma á tus hermanos.\n",
       "225    Dijo también el Señor: Simón, Simón, he aquí Satanás os ha pedido para zarandaros como á trigo; Mas yo he rogado por ti que tu fe no falte: y tú, una vez vuelto, confirma á tus hermanos.\n",
       "Name: texto, dtype: object"
      ]
     },
     "execution_count": 20,
     "metadata": {},
     "output_type": "execute_result"
    }
   ],
   "source": [
    "# Correcting the text\n",
    "fragments_df.loc[fragments_df['pasaje'] == 'Lucas 22:31, 32', 'texto'] = 'Dijo también el Señor: Simón, Simón, he aquí Satanás os ha pedido para zarandaros como á trigo; Mas yo he rogado por ti que tu fe no falte: y tú, una vez vuelto, confirma á tus hermanos.'\n",
    "fragments_df[fragments_df['pasaje']=='Lucas 22:31, 32']['texto']"
   ]
  },
  {
   "cell_type": "code",
   "execution_count": 21,
   "metadata": {},
   "outputs": [
    {
     "data": {
      "text/plain": [
       "162                                                                    DIOS es nuestro amparo y fortaleza, Nuestro pronto auxilio en las tribulaciones. Por tanto no temeremos aunque la tierra sea removida; Aunque se traspasen los montes al corazón de la mar. Bramarán, turbaránse sus aguas; Temblarán los montes á causa de su braveza. (Selah.)\n",
       "651                                                                    DIOS es nuestro amparo y fortaleza, Nuestro pronto auxilio en las tribulaciones. Por tanto no temeremos aunque la tierra sea removida; Aunque se traspasen los montes al corazón de la mar. Bramarán, turbaránse sus aguas; Temblarán los montes á causa de su braveza. (Selah.)\n",
       "662    Al Músico principal: de los hijos de Coré: Salmo sobre Alamoth. DIOS es nuestro amparo y fortaleza, Nuestro pronto auxilio en las tribulaciones. Por tanto no temeremos aunque la tierra sea removida; Aunque se traspasen los montes al corazón de la mar. Bramarán, turbaránse sus aguas; Temblarán los montes á causa de su braveza. (Selah.)\n",
       "Name: texto, dtype: object"
      ]
     },
     "execution_count": 21,
     "metadata": {},
     "output_type": "execute_result"
    }
   ],
   "source": [
    "# Checking the content\n",
    "fragments_df[fragments_df['pasaje']=='Salmos 46:1-3']['texto']"
   ]
  },
  {
   "cell_type": "code",
   "execution_count": 22,
   "metadata": {},
   "outputs": [
    {
     "data": {
      "text/plain": [
       "162    DIOS es nuestro amparo y fortaleza, Nuestro pronto auxilio en las tribulaciones. Por tanto no temeremos aunque la tierra sea removida; Aunque se traspasen los montes al corazón de la mar. Bramarán, turbaránse sus aguas; Temblarán los montes á causa de su braveza. (Selah.)\n",
       "651    DIOS es nuestro amparo y fortaleza, Nuestro pronto auxilio en las tribulaciones. Por tanto no temeremos aunque la tierra sea removida; Aunque se traspasen los montes al corazón de la mar. Bramarán, turbaránse sus aguas; Temblarán los montes á causa de su braveza. (Selah.)\n",
       "662    DIOS es nuestro amparo y fortaleza, Nuestro pronto auxilio en las tribulaciones. Por tanto no temeremos aunque la tierra sea removida; Aunque se traspasen los montes al corazón de la mar. Bramarán, turbaránse sus aguas; Temblarán los montes á causa de su braveza. (Selah.)\n",
       "Name: texto, dtype: object"
      ]
     },
     "execution_count": 22,
     "metadata": {},
     "output_type": "execute_result"
    }
   ],
   "source": [
    "# Correcting the text\n",
    "fragments_df.loc[fragments_df['pasaje'] == 'Salmos 46:1-3', 'texto'] = 'DIOS es nuestro amparo y fortaleza, Nuestro pronto auxilio en las tribulaciones. Por tanto no temeremos aunque la tierra sea removida; Aunque se traspasen los montes al corazón de la mar. Bramarán, turbaránse sus aguas; Temblarán los montes á causa de su braveza. (Selah.)'\n",
    "fragments_df[fragments_df['pasaje']=='Salmos 46:1-3']['texto']"
   ]
  },
  {
   "cell_type": "code",
   "execution_count": 23,
   "metadata": {},
   "outputs": [
    {
     "data": {
      "text/plain": [
       "pasaje    863\n",
       "texto     861\n",
       "dtype: int64"
      ]
     },
     "execution_count": 23,
     "metadata": {},
     "output_type": "execute_result"
    }
   ],
   "source": [
    "# Counting unique values for each column\n",
    "fragments_df[['pasaje','texto']].nunique()"
   ]
  },
  {
   "cell_type": "code",
   "execution_count": 24,
   "metadata": {},
   "outputs": [
    {
     "data": {
      "text/plain": [
       "texto\n",
       "El Señor Jehová me dió lengua de sabios, para saber hablar en sazón palabra al cansado; despertará de mañana, despertaráme de mañana oído, para que oiga como los sabios.    2\n",
       "Mas el fruto del Espíritu es: caridad, gozo, paz, tolerancia, benignidad, bondad, fe, Mansedumbre, templanza: contra tales cosas no hay ley.                                 2\n",
       "Name: count, dtype: int64"
      ]
     },
     "execution_count": 24,
     "metadata": {},
     "output_type": "execute_result"
    }
   ],
   "source": [
    "# There are some passages that have different texts.\n",
    "# Eliminating duplicates from the df\n",
    "fragments_distinct = fragments_df.drop_duplicates(subset=['pasaje','texto'])\n",
    "# Counting the passages and showing the ones with more than 1 occurrence\n",
    "value_counts = fragments_distinct['texto'].value_counts()\n",
    "filtered_counts = value_counts[value_counts > 1]\n",
    "filtered_counts"
   ]
  },
  {
   "cell_type": "code",
   "execution_count": 25,
   "metadata": {},
   "outputs": [
    {
     "data": {
      "text/html": [
       "<div>\n",
       "<style scoped>\n",
       "    .dataframe tbody tr th:only-of-type {\n",
       "        vertical-align: middle;\n",
       "    }\n",
       "\n",
       "    .dataframe tbody tr th {\n",
       "        vertical-align: top;\n",
       "    }\n",
       "\n",
       "    .dataframe thead th {\n",
       "        text-align: right;\n",
       "    }\n",
       "</style>\n",
       "<table border=\"1\" class=\"dataframe\">\n",
       "  <thead>\n",
       "    <tr style=\"text-align: right;\">\n",
       "      <th></th>\n",
       "      <th>pasaje</th>\n",
       "      <th>texto</th>\n",
       "      <th>area_vida</th>\n",
       "    </tr>\n",
       "  </thead>\n",
       "  <tbody>\n",
       "    <tr>\n",
       "      <th>696</th>\n",
       "      <td>Isaías 50:4</td>\n",
       "      <td>El Señor Jehová me dió lengua de sabios, para saber hablar en sazón palabra al cansado; despertará de mañana, despertaráme de mañana oído, para que oiga como los sabios.</td>\n",
       "      <td>sabiduria</td>\n",
       "    </tr>\n",
       "    <tr>\n",
       "      <th>706</th>\n",
       "      <td>Isaias 50:4</td>\n",
       "      <td>El Señor Jehová me dió lengua de sabios, para saber hablar en sazón palabra al cansado; despertará de mañana, despertaráme de mañana oído, para que oiga como los sabios.</td>\n",
       "      <td>convicción</td>\n",
       "    </tr>\n",
       "  </tbody>\n",
       "</table>\n",
       "</div>"
      ],
      "text/plain": [
       "          pasaje  \\\n",
       "696  Isaías 50:4   \n",
       "706  Isaias 50:4   \n",
       "\n",
       "                                                                                                                                                                         texto  \\\n",
       "696  El Señor Jehová me dió lengua de sabios, para saber hablar en sazón palabra al cansado; despertará de mañana, despertaráme de mañana oído, para que oiga como los sabios.   \n",
       "706  El Señor Jehová me dió lengua de sabios, para saber hablar en sazón palabra al cansado; despertará de mañana, despertaráme de mañana oído, para que oiga como los sabios.   \n",
       "\n",
       "      area_vida  \n",
       "696   sabiduria  \n",
       "706  convicción  "
      ]
     },
     "execution_count": 25,
     "metadata": {},
     "output_type": "execute_result"
    }
   ],
   "source": [
    "# Checking the data\n",
    "fragments_df[fragments_df['texto']=='El Señor Jehová me dió lengua de sabios, para saber hablar en sazón palabra al cansado; despertará de mañana, despertaráme de mañana oído, para que oiga como los sabios.']"
   ]
  },
  {
   "cell_type": "code",
   "execution_count": 26,
   "metadata": {},
   "outputs": [
    {
     "data": {
      "text/plain": [
       "696    Isaías 50:4\n",
       "706    Isaías 50:4\n",
       "Name: pasaje, dtype: object"
      ]
     },
     "execution_count": 26,
     "metadata": {},
     "output_type": "execute_result"
    }
   ],
   "source": [
    "# Correcting the passage name\n",
    "fragments_df.loc[fragments_df['texto'] == 'El Señor Jehová me dió lengua de sabios, para saber hablar en sazón palabra al cansado; despertará de mañana, despertaráme de mañana oído, para que oiga como los sabios.', 'pasaje'] = 'Isaías 50:4'\n",
    "fragments_df[fragments_df['texto']=='El Señor Jehová me dió lengua de sabios, para saber hablar en sazón palabra al cansado; despertará de mañana, despertaráme de mañana oído, para que oiga como los sabios.']['pasaje']"
   ]
  },
  {
   "cell_type": "code",
   "execution_count": 27,
   "metadata": {},
   "outputs": [
    {
     "data": {
      "text/html": [
       "<div>\n",
       "<style scoped>\n",
       "    .dataframe tbody tr th:only-of-type {\n",
       "        vertical-align: middle;\n",
       "    }\n",
       "\n",
       "    .dataframe tbody tr th {\n",
       "        vertical-align: top;\n",
       "    }\n",
       "\n",
       "    .dataframe thead th {\n",
       "        text-align: right;\n",
       "    }\n",
       "</style>\n",
       "<table border=\"1\" class=\"dataframe\">\n",
       "  <thead>\n",
       "    <tr style=\"text-align: right;\">\n",
       "      <th></th>\n",
       "      <th>pasaje</th>\n",
       "      <th>texto</th>\n",
       "      <th>area_vida</th>\n",
       "    </tr>\n",
       "  </thead>\n",
       "  <tbody>\n",
       "    <tr>\n",
       "      <th>749</th>\n",
       "      <td>Galatas 5:22, 23</td>\n",
       "      <td>Mas el fruto del Espíritu es: caridad, gozo, paz, tolerancia, benignidad, bondad, fe, Mansedumbre, templanza: contra tales cosas no hay ley.</td>\n",
       "      <td>orgullo</td>\n",
       "    </tr>\n",
       "    <tr>\n",
       "      <th>925</th>\n",
       "      <td>Gálatas 5:22-23</td>\n",
       "      <td>Mas el fruto del Espíritu es: caridad, gozo, paz, tolerancia, benignidad, bondad, fe, Mansedumbre, templanza: contra tales cosas no hay ley.</td>\n",
       "      <td>Jesús, el hijo de Dios - simplicidad</td>\n",
       "    </tr>\n",
       "  </tbody>\n",
       "</table>\n",
       "</div>"
      ],
      "text/plain": [
       "               pasaje  \\\n",
       "749  Galatas 5:22, 23   \n",
       "925   Gálatas 5:22-23   \n",
       "\n",
       "                                                                                                                                            texto  \\\n",
       "749  Mas el fruto del Espíritu es: caridad, gozo, paz, tolerancia, benignidad, bondad, fe, Mansedumbre, templanza: contra tales cosas no hay ley.   \n",
       "925  Mas el fruto del Espíritu es: caridad, gozo, paz, tolerancia, benignidad, bondad, fe, Mansedumbre, templanza: contra tales cosas no hay ley.   \n",
       "\n",
       "                                area_vida  \n",
       "749                               orgullo  \n",
       "925  Jesús, el hijo de Dios - simplicidad  "
      ]
     },
     "execution_count": 27,
     "metadata": {},
     "output_type": "execute_result"
    }
   ],
   "source": [
    "# Checking the data\n",
    "fragments_df[fragments_df['texto']=='Mas el fruto del Espíritu es: caridad, gozo, paz, tolerancia, benignidad, bondad, fe, Mansedumbre, templanza: contra tales cosas no hay ley.']"
   ]
  },
  {
   "cell_type": "code",
   "execution_count": 28,
   "metadata": {},
   "outputs": [
    {
     "data": {
      "text/plain": [
       "749    Gálatas 5:22-23\n",
       "925    Gálatas 5:22-23\n",
       "Name: pasaje, dtype: object"
      ]
     },
     "execution_count": 28,
     "metadata": {},
     "output_type": "execute_result"
    }
   ],
   "source": [
    "fragments_df.loc[fragments_df['texto'] == 'Mas el fruto del Espíritu es: caridad, gozo, paz, tolerancia, benignidad, bondad, fe, Mansedumbre, templanza: contra tales cosas no hay ley.', 'pasaje'] = 'Gálatas 5:22-23'\n",
    "fragments_df[fragments_df['texto']=='Mas el fruto del Espíritu es: caridad, gozo, paz, tolerancia, benignidad, bondad, fe, Mansedumbre, templanza: contra tales cosas no hay ley.']['pasaje']"
   ]
  },
  {
   "cell_type": "code",
   "execution_count": 29,
   "metadata": {},
   "outputs": [
    {
     "data": {
      "text/plain": [
       "730    Gálatas 5:21, 23\n",
       "Name: pasaje, dtype: object"
      ]
     },
     "execution_count": 29,
     "metadata": {},
     "output_type": "execute_result"
    }
   ],
   "source": [
    "fragments_df.loc[fragments_df['pasaje']=='Galatas 5:21, 23', 'pasaje'] = 'Gálatas 5:21, 23'\n",
    "fragments_df[fragments_df['pasaje']=='Gálatas 5:21, 23']['pasaje']"
   ]
  },
  {
   "cell_type": "code",
   "execution_count": 30,
   "metadata": {},
   "outputs": [
    {
     "data": {
      "text/plain": [
       "pasaje    861\n",
       "texto     861\n",
       "dtype: int64"
      ]
     },
     "execution_count": 30,
     "metadata": {},
     "output_type": "execute_result"
    }
   ],
   "source": [
    "# Counting unique values for each column\n",
    "fragments_df[['pasaje','texto']].nunique()"
   ]
  },
  {
   "cell_type": "code",
   "execution_count": 31,
   "metadata": {},
   "outputs": [],
   "source": [
    "# Now that the information is correct we are group the df by 'pasaje' and 'texto' and list the 'area_vida'\n",
    "grouped_df = fragments_df.groupby(['pasaje', 'texto']).agg({'area_vida': list}).reset_index()"
   ]
  },
  {
   "cell_type": "code",
   "execution_count": 32,
   "metadata": {},
   "outputs": [],
   "source": [
    "# Convert DataFrame to a dictionary\n",
    "grouped_df_dict = grouped_df.to_dict(orient='records')\n",
    "\n",
    "# Save the list as a JSON file\n",
    "with open('bible/data/bible_by_theme_preprocessed.json', 'w', encoding='utf-8') as json_file:\n",
    "    json.dump(grouped_df_dict, json_file, ensure_ascii=False, indent=4)"
   ]
  }
 ],
 "metadata": {
  "kernelspec": {
   "display_name": "base",
   "language": "python",
   "name": "python3"
  },
  "language_info": {
   "codemirror_mode": {
    "name": "ipython",
    "version": 3
   },
   "file_extension": ".py",
   "mimetype": "text/x-python",
   "name": "python",
   "nbconvert_exporter": "python",
   "pygments_lexer": "ipython3",
   "version": "3.11.9"
  }
 },
 "nbformat": 4,
 "nbformat_minor": 2
}
