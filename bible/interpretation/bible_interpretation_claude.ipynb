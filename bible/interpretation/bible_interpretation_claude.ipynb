{
 "cells": [
  {
   "cell_type": "markdown",
   "metadata": {},
   "source": [
    "# Interpreting the Bible with Claude"
   ]
  },
  {
   "cell_type": "code",
   "execution_count": 1,
   "metadata": {},
   "outputs": [],
   "source": [
    "# Importing the libraries\n",
    "import os\n",
    "import anthropic\n",
    "from anthropic import Anthropic\n",
    "import pandas as pd\n",
    "import json\n",
    "\n",
    "# Setting the working directory\n",
    "def find_repo_root(repo_name='orare-model'):\n",
    "    current_dir = os.getcwd()\n",
    "    while current_dir != '/':\n",
    "        if os.path.basename(current_dir) == repo_name:\n",
    "            return current_dir\n",
    "        current_dir = os.path.dirname(current_dir)\n",
    "    raise FileNotFoundError(f\"Repository root '{repo_name}' not found.\")\n",
    "\n",
    "repo_root = find_repo_root()\n",
    "os.chdir(repo_root)\n"
   ]
  },
  {
   "cell_type": "code",
   "execution_count": 2,
   "metadata": {},
   "outputs": [
    {
     "data": {
      "text/html": [
       "<div>\n",
       "<style scoped>\n",
       "    .dataframe tbody tr th:only-of-type {\n",
       "        vertical-align: middle;\n",
       "    }\n",
       "\n",
       "    .dataframe tbody tr th {\n",
       "        vertical-align: top;\n",
       "    }\n",
       "\n",
       "    .dataframe thead th {\n",
       "        text-align: right;\n",
       "    }\n",
       "</style>\n",
       "<table border=\"1\" class=\"dataframe\">\n",
       "  <thead>\n",
       "    <tr style=\"text-align: right;\">\n",
       "      <th></th>\n",
       "      <th>pasaje</th>\n",
       "      <th>texto</th>\n",
       "      <th>texto_cat</th>\n",
       "      <th>area_vida</th>\n",
       "    </tr>\n",
       "  </thead>\n",
       "  <tbody>\n",
       "    <tr>\n",
       "      <th>0</th>\n",
       "      <td>1 Corintios 10:12</td>\n",
       "      <td>Así que, el que piensa estar firme, mire no ca...</td>\n",
       "      <td>Por eso, el que se cree muy seguro, ¡cuídese d...</td>\n",
       "      <td>[orgullo]</td>\n",
       "    </tr>\n",
       "    <tr>\n",
       "      <th>1</th>\n",
       "      <td>1 Corintios 10:13</td>\n",
       "      <td>No os ha tomado tentación, sino humana: mas fi...</td>\n",
       "      <td>Hasta ahora, ustedes no tuvieron tentaciones q...</td>\n",
       "      <td>[crecimiento espiritual, maternidad, vicio]</td>\n",
       "    </tr>\n",
       "    <tr>\n",
       "      <th>2</th>\n",
       "      <td>1 Corintios 10:31</td>\n",
       "      <td>Si pues coméis, ó bebéis, ó hacéis otra cosa, ...</td>\n",
       "      <td>En resumen, sea que ustedes coman, sea que beb...</td>\n",
       "      <td>[descanso y vacaciones]</td>\n",
       "    </tr>\n",
       "    <tr>\n",
       "      <th>3</th>\n",
       "      <td>1 Corintios 11:9</td>\n",
       "      <td>Porque tampoco el varón fué criado por causa d...</td>\n",
       "      <td>ni fue creado el hombre a causa de la mujer, s...</td>\n",
       "      <td>[creación/evolución]</td>\n",
       "    </tr>\n",
       "    <tr>\n",
       "      <th>4</th>\n",
       "      <td>1 Corintios 13:13</td>\n",
       "      <td>Y ahora permanecen la fe, la esperanza, y la c...</td>\n",
       "      <td>En una palabra, ahora existen tres cosas: la f...</td>\n",
       "      <td>[amor]</td>\n",
       "    </tr>\n",
       "  </tbody>\n",
       "</table>\n",
       "</div>"
      ],
      "text/plain": [
       "              pasaje                                              texto  \\\n",
       "0  1 Corintios 10:12  Así que, el que piensa estar firme, mire no ca...   \n",
       "1  1 Corintios 10:13  No os ha tomado tentación, sino humana: mas fi...   \n",
       "2  1 Corintios 10:31  Si pues coméis, ó bebéis, ó hacéis otra cosa, ...   \n",
       "3   1 Corintios 11:9  Porque tampoco el varón fué criado por causa d...   \n",
       "4  1 Corintios 13:13  Y ahora permanecen la fe, la esperanza, y la c...   \n",
       "\n",
       "                                           texto_cat  \\\n",
       "0  Por eso, el que se cree muy seguro, ¡cuídese d...   \n",
       "1  Hasta ahora, ustedes no tuvieron tentaciones q...   \n",
       "2  En resumen, sea que ustedes coman, sea que beb...   \n",
       "3  ni fue creado el hombre a causa de la mujer, s...   \n",
       "4  En una palabra, ahora existen tres cosas: la f...   \n",
       "\n",
       "                                     area_vida  \n",
       "0                                    [orgullo]  \n",
       "1  [crecimiento espiritual, maternidad, vicio]  \n",
       "2                      [descanso y vacaciones]  \n",
       "3                         [creación/evolución]  \n",
       "4                                       [amor]  "
      ]
     },
     "execution_count": 2,
     "metadata": {},
     "output_type": "execute_result"
    }
   ],
   "source": [
    "# Loading the data\n",
    "with open('bible/data/cat_bible_preproc.json') as f:\n",
    "    data = json.load(f)\n",
    "\n",
    "# Converting json into df\n",
    "bible_data = pd.DataFrame(data)\n",
    "bible_data.head()"
   ]
  },
  {
   "cell_type": "code",
   "execution_count": 3,
   "metadata": {},
   "outputs": [
    {
     "data": {
      "text/html": [
       "<div>\n",
       "<style scoped>\n",
       "    .dataframe tbody tr th:only-of-type {\n",
       "        vertical-align: middle;\n",
       "    }\n",
       "\n",
       "    .dataframe tbody tr th {\n",
       "        vertical-align: top;\n",
       "    }\n",
       "\n",
       "    .dataframe thead th {\n",
       "        text-align: right;\n",
       "    }\n",
       "</style>\n",
       "<table border=\"1\" class=\"dataframe\">\n",
       "  <thead>\n",
       "    <tr style=\"text-align: right;\">\n",
       "      <th></th>\n",
       "      <th>pasaje</th>\n",
       "      <th>texto</th>\n",
       "      <th>area_vida</th>\n",
       "    </tr>\n",
       "  </thead>\n",
       "  <tbody>\n",
       "    <tr>\n",
       "      <th>0</th>\n",
       "      <td>1 Corintios 10:12</td>\n",
       "      <td>Por eso, el que se cree muy seguro, ¡cuídese d...</td>\n",
       "      <td>[orgullo]</td>\n",
       "    </tr>\n",
       "    <tr>\n",
       "      <th>1</th>\n",
       "      <td>1 Corintios 10:13</td>\n",
       "      <td>Hasta ahora, ustedes no tuvieron tentaciones q...</td>\n",
       "      <td>[crecimiento espiritual, maternidad, vicio]</td>\n",
       "    </tr>\n",
       "    <tr>\n",
       "      <th>2</th>\n",
       "      <td>1 Corintios 10:31</td>\n",
       "      <td>En resumen, sea que ustedes coman, sea que beb...</td>\n",
       "      <td>[descanso y vacaciones]</td>\n",
       "    </tr>\n",
       "    <tr>\n",
       "      <th>3</th>\n",
       "      <td>1 Corintios 11:9</td>\n",
       "      <td>ni fue creado el hombre a causa de la mujer, s...</td>\n",
       "      <td>[creación/evolución]</td>\n",
       "    </tr>\n",
       "    <tr>\n",
       "      <th>4</th>\n",
       "      <td>1 Corintios 13:13</td>\n",
       "      <td>En una palabra, ahora existen tres cosas: la f...</td>\n",
       "      <td>[amor]</td>\n",
       "    </tr>\n",
       "  </tbody>\n",
       "</table>\n",
       "</div>"
      ],
      "text/plain": [
       "              pasaje                                              texto  \\\n",
       "0  1 Corintios 10:12  Por eso, el que se cree muy seguro, ¡cuídese d...   \n",
       "1  1 Corintios 10:13  Hasta ahora, ustedes no tuvieron tentaciones q...   \n",
       "2  1 Corintios 10:31  En resumen, sea que ustedes coman, sea que beb...   \n",
       "3   1 Corintios 11:9  ni fue creado el hombre a causa de la mujer, s...   \n",
       "4  1 Corintios 13:13  En una palabra, ahora existen tres cosas: la f...   \n",
       "\n",
       "                                     area_vida  \n",
       "0                                    [orgullo]  \n",
       "1  [crecimiento espiritual, maternidad, vicio]  \n",
       "2                      [descanso y vacaciones]  \n",
       "3                         [creación/evolución]  \n",
       "4                                       [amor]  "
      ]
     },
     "execution_count": 3,
     "metadata": {},
     "output_type": "execute_result"
    }
   ],
   "source": [
    "bible_data['texto'] = bible_data['texto_cat']\n",
    "bible_data.drop(columns=['texto_cat'], inplace=True)\n",
    "bible_data = bible_data[['pasaje','texto','area_vida']]\n",
    "bible_data.head()"
   ]
  },
  {
   "cell_type": "code",
   "execution_count": 4,
   "metadata": {},
   "outputs": [],
   "source": [
    "# Initializing the Anthropic client\n",
    "client = Anthropic(\n",
    "    api_key=os.environ.get(\"ANTHROPIC_API_KEY\")\n",
    ")"
   ]
  },
  {
   "cell_type": "code",
   "execution_count": 5,
   "metadata": {},
   "outputs": [],
   "source": [
    "# Defining the system message\n",
    "sys_message = \"Eres un experto en interpretación bíblica con un profundo entendimiento de la vida moderna. Tu tarea es interpretar pasajes de la Biblia de una manera que sea relevante y aplicable a situaciones cotidianas actuales.\""
   ]
  },
  {
   "cell_type": "code",
   "execution_count": 6,
   "metadata": {},
   "outputs": [],
   "source": [
    "# Defining the prompt instructions\n",
    "instructions1 = \"\"\"\n",
    "# Tarea #\n",
    "Para cada pasaje bíblico proporcionado:\n",
    "1. Lee cuidadosamente el texto.\n",
    "2. Identifica el mensaje principal o la enseñanza clave.\n",
    "3. Crea una situación moderna que refleje el tema central del pasaje.\n",
    "4. Describe esa situación moderna y explica como el mensaje del pasaje se aplica.\n",
    "- **No incluyas etiquetas como '# Output #' en tu respuesta.**\n",
    "- **No incluyas saltos de línea en tu respuesta.**\n",
    "- **No incluyas etiquetas como \"Situación moderna:\" o \"Explicación:\"**\n",
    "\n",
    "Tu Respuesta debe tener lo siguiente:\n",
    "Crea una situación moderna que refleje el tema central del pasaje. Describe esa situación moderna y explica como el mensaje del pasaje se aplica.\n",
    "# fin Tareas #\n",
    "\n",
    "# Estructura input #\n",
    "id_libro|fragmento\n",
    "pasaje1|texto1\\n\n",
    "pasaje2|texto2\\n\n",
    "pasajen|texton\n",
    "# Fin estructura input #\n",
    "\n",
    "# Input #\"\"\"\n",
    "\n",
    "instructions2 = \"\"\"# Fin Input #\n",
    "\n",
    "# Estructura Output #\n",
    "id_libro|respuesta\n",
    "pasaje1|respuesta1\\n\n",
    "pasaje2|respuesta2\\n\n",
    "pasajen|respuestan\n",
    "# Fin Estructura Output #\n",
    "\"\"\""
   ]
  },
  {
   "cell_type": "code",
   "execution_count": 7,
   "metadata": {},
   "outputs": [],
   "source": [
    "output_list = []\n",
    "input_tokens_list = []\n",
    "output_tokens_list = []\n",
    "# Process to get the interpretion of all the Bible in batches of 10 rows\n",
    "for i in range(0, len(bible_data), 10):\n",
    "    # Getting the batch\n",
    "    batch = bible_data.iloc[i:i+10]\n",
    "    # Creating the input prompt\n",
    "    input_data = \"\\n\".join([f\"{row['pasaje']}|{row['texto']}\" for _, row in batch.iterrows()])\n",
    "    prompt = f\"\"\"{instructions1}{input_data}{instructions2}\"\"\"\n",
    "    # Getting the output\n",
    "    output_data = client.messages.create(\n",
    "                            model=\"claude-3-5-sonnet-20240620\",\n",
    "                            max_tokens=8192,\n",
    "                            temperature=0,\n",
    "                            system=sys_message,\n",
    "                            messages=[\n",
    "                                {\n",
    "                                    \"role\": \"user\",\n",
    "                                    \"content\": [\n",
    "                                        {\n",
    "                                            \"type\": \"text\",\n",
    "                                            \"text\": prompt\n",
    "                                        }\n",
    "                                    ]\n",
    "                                }\n",
    "                            ]\n",
    "                        )\n",
    "    # Splitting the output\n",
    "    output_data_splitted = output_data.content[0].text.split(\"\\n\\n\")\n",
    "    # List to count the amount of tokens used\n",
    "    input_tokens_list.append(output_data.usage.input_tokens)\n",
    "    output_tokens_list.append(output_data.usage.output_tokens)\n",
    "    # Creating the list with the output content\n",
    "    for response in output_data_splitted:\n",
    "        output_list.append(response)"
   ]
  },
  {
   "cell_type": "code",
   "execution_count": 11,
   "metadata": {},
   "outputs": [
    {
     "name": "stdout",
     "output_type": "stream",
     "text": [
      "Input tokens: 84269\n",
      "Output tokens: 112842\n",
      "Total cost: 1.945437\n"
     ]
    }
   ],
   "source": [
    "# Calculating the estimated costs\n",
    "input_cost = 3/1000000\n",
    "output_cost = 15/1000000\n",
    "total_cost = sum(input_tokens_list)*input_cost + sum(output_tokens_list)*output_cost\n",
    "total_cost\n",
    "\n",
    "print(f\"Input tokens: {sum(input_tokens_list)}\")\n",
    "print(f\"Output tokens: {sum(output_tokens_list)}\")\n",
    "print(f\"Total cost: {total_cost}\")\n"
   ]
  },
  {
   "cell_type": "code",
   "execution_count": 26,
   "metadata": {},
   "outputs": [],
   "source": [
    "# Splitting the output into pasaje and interpretacion\n",
    "list_pasaje = []\n",
    "list_interpretacion = []\n",
    "for i in output_list:\n",
    "    pasaje, interpretacion = i.split(\"|\")\n",
    "    list_pasaje.append(pasaje)\n",
    "    list_interpretacion.append(interpretacion)"
   ]
  },
  {
   "cell_type": "code",
   "execution_count": 53,
   "metadata": {},
   "outputs": [],
   "source": [
    "# Creating the final df\n",
    "bible_data['interpretacion'] = list_interpretacion\n",
    "bible_data['id'] = [i for i in range(1, len(bible_data)+1)]\n",
    "bible_data = bible_data[['id','pasaje','texto','interpretacion','area_vida']]"
   ]
  },
  {
   "cell_type": "code",
   "execution_count": 57,
   "metadata": {},
   "outputs": [],
   "source": [
    "# Convert DataFrame to a dictionary\n",
    "bible_data_json = bible_data.to_dict(orient='records')\n",
    "\n",
    "# Save the list as a JSON file\n",
    "with open('bible/data/cat_bible_int_claude.json', 'w', encoding='utf-8') as json_file:\n",
    "    json.dump(bible_data_json, json_file, ensure_ascii=False, indent=4)"
   ]
  }
 ],
 "metadata": {
  "kernelspec": {
   "display_name": "venv",
   "language": "python",
   "name": "python3"
  },
  "language_info": {
   "codemirror_mode": {
    "name": "ipython",
    "version": 3
   },
   "file_extension": ".py",
   "mimetype": "text/x-python",
   "name": "python",
   "nbconvert_exporter": "python",
   "pygments_lexer": "ipython3",
   "version": "3.11.9"
  }
 },
 "nbformat": 4,
 "nbformat_minor": 2
}
