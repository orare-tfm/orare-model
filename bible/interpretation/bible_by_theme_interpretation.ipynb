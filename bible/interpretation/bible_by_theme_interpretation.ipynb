{
 "cells": [
  {
   "cell_type": "markdown",
   "metadata": {},
   "source": [
    "## Bible by Theme"
   ]
  },
  {
   "cell_type": "markdown",
   "metadata": {},
   "source": [
    "### Preprocessing the Bible by Theme"
   ]
  },
  {
   "cell_type": "code",
   "execution_count": 1,
   "metadata": {},
   "outputs": [],
   "source": [
    "# Importing library\n",
    "import json\n",
    "import pandas as pd\n",
    "import os\n",
    "pd.set_option('display.max_colwidth', None)\n",
    "pd.options.mode.chained_assignment = None  # default='warn'\n",
    "\n",
    "# Setting directory\n",
    "# os.chdir('root_repository_path')\n",
    "os.chdir('/Users/hiroshi/Documents/ds_projects/orare-model')\n",
    "\n",
    "# Loading Fragments of the Bible\n",
    "with open('bible/data/bible_by_theme.json') as f:\n",
    "    fragments = json.load(f)"
   ]
  },
  {
   "cell_type": "code",
   "execution_count": 2,
   "metadata": {},
   "outputs": [],
   "source": [
    "# Preprocessing the Bible by themes\n",
    "# Creating empty lists to save the data\n",
    "list_purpose = []\n",
    "list_passage = []\n",
    "list_text = []\n",
    "list_response = []\n",
    "\n",
    "# For loop to interpret all the fragments of the Bible\n",
    "for item in fragments:\n",
    "    purpose = item['purpose']\n",
    "    verses = item['versiculos']\n",
    "    for verse in verses:\n",
    "        passage = verse['pasaje']\n",
    "        text = verse['texto']\n",
    "        list_purpose.append(purpose)\n",
    "        list_passage.append(passage)\n",
    "        list_text.append(text)"
   ]
  },
  {
   "cell_type": "code",
   "execution_count": 3,
   "metadata": {},
   "outputs": [],
   "source": [
    "# Creating a df with the passages, text and purposes\n",
    "fragments_df = pd.DataFrame({'pasaje': list_passage,\n",
    "                            'texto': list_text,\n",
    "                            'area_vida': list_purpose})"
   ]
  },
  {
   "cell_type": "code",
   "execution_count": 4,
   "metadata": {},
   "outputs": [],
   "source": [
    "import re\n",
    "\n",
    "def clean_text(text):\n",
    "    text = text.replace('\\r\\n', ' ')\n",
    "    text = re.sub(r'\\s{2,}', ' ', text)\n",
    "    return text\n",
    "\n",
    "fragments_df['pasaje'] = fragments_df['pasaje'].apply(clean_text)\n",
    "fragments_df['texto'] = fragments_df['texto'].apply(clean_text)"
   ]
  },
  {
   "cell_type": "code",
   "execution_count": 5,
   "metadata": {},
   "outputs": [
    {
     "data": {
      "text/plain": [
       "pasaje    862\n",
       "texto     867\n",
       "dtype: int64"
      ]
     },
     "execution_count": 5,
     "metadata": {},
     "output_type": "execute_result"
    }
   ],
   "source": [
    "# Counting unique values for each column\n",
    "fragments_df[['pasaje','texto']].nunique()"
   ]
  },
  {
   "cell_type": "code",
   "execution_count": 6,
   "metadata": {},
   "outputs": [
    {
     "data": {
      "text/plain": [
       "pasaje\n",
       "1 Juan 1:9          2\n",
       "Salmos 46:1-3       2\n",
       "Isaías 30:15        2\n",
       "1 Juan 3:8          2\n",
       "Nehemías 8:10       2\n",
       "Lucas 22:31, 32     2\n",
       "Apocalipsis 19:5    2\n",
       "Name: count, dtype: int64"
      ]
     },
     "execution_count": 6,
     "metadata": {},
     "output_type": "execute_result"
    }
   ],
   "source": [
    "# There are some passages that have different texts.\n",
    "# Eliminating duplicates from the df\n",
    "fragments_distinct = fragments_df.drop_duplicates(subset=['pasaje','texto'])\n",
    "# Counting the passages and showing the ones with more than 1 occurrence\n",
    "value_counts = fragments_distinct['pasaje'].value_counts()\n",
    "filtered_counts = value_counts[value_counts > 1]\n",
    "filtered_counts"
   ]
  },
  {
   "cell_type": "code",
   "execution_count": 7,
   "metadata": {},
   "outputs": [
    {
     "data": {
      "text/plain": [
       "85                                                          Y salió una voz del trono, que decía: Load á nuestro Dios todos sus siervos, y los que le teméis, así pequeños como grandes.\n",
       "541    Y de su boca sale una espada aguda, para herir con ella las gentes: y él los regirá con vara de hierro; y él pisa el lagar del vino del furor, y de la ira del Dios Todopoderoso.\n",
       "Name: texto, dtype: object"
      ]
     },
     "execution_count": 7,
     "metadata": {},
     "output_type": "execute_result"
    }
   ],
   "source": [
    "# When reviewing the content of this duplicated verse there is a mistake in the number of verse of one of them\n",
    "fragments_df[fragments_df['pasaje']=='Apocalipsis 19:5']['texto']"
   ]
  },
  {
   "cell_type": "code",
   "execution_count": 8,
   "metadata": {},
   "outputs": [
    {
     "data": {
      "text/plain": [
       "541    Apocalipsis 19:15\n",
       "Name: pasaje, dtype: object"
      ]
     },
     "execution_count": 8,
     "metadata": {},
     "output_type": "execute_result"
    }
   ],
   "source": [
    "# Correcting the verse numer\n",
    "# Specifying the text with the wrong verse number\n",
    "text = 'Y de su boca sale una espada aguda, para herir con ella las gentes: y él los regirá con vara de hierro; y él pisa el lagar del vino del furor, y de la ira del Dios Todopoderoso.'\n",
    "# Replacing the verse number by the correct verse\n",
    "fragments_df.loc[fragments_df['texto'] == text, 'pasaje'] = 'Apocalipsis 19:15'\n",
    "# Verifying the verse correction\n",
    "fragments_df[fragments_df['texto']==text]['pasaje']"
   ]
  },
  {
   "cell_type": "code",
   "execution_count": 9,
   "metadata": {},
   "outputs": [
    {
     "data": {
      "text/plain": [
       "15     Si confesamos nuestros pecados, él es fiel y justo para que nos perdone nuestros pecados, y nos limpie de toda maldad-\n",
       "215    Si confesamos nuestros pecados, él es fiel y justo para que nos perdone nuestros pecados, y nos limpie de toda maldad.\n",
       "Name: texto, dtype: object"
      ]
     },
     "execution_count": 9,
     "metadata": {},
     "output_type": "execute_result"
    }
   ],
   "source": [
    "# We check what are the differences in both text.\n",
    "fragments_df[fragments_df['pasaje']=='1 Juan 1:9']['texto']"
   ]
  },
  {
   "cell_type": "code",
   "execution_count": 10,
   "metadata": {},
   "outputs": [
    {
     "data": {
      "text/plain": [
       "15     Si confesamos nuestros pecados, él es fiel y justo para que nos perdone nuestros pecados, y nos limpie de toda maldad.\n",
       "215    Si confesamos nuestros pecados, él es fiel y justo para que nos perdone nuestros pecados, y nos limpie de toda maldad.\n",
       "Name: texto, dtype: object"
      ]
     },
     "execution_count": 10,
     "metadata": {},
     "output_type": "execute_result"
    }
   ],
   "source": [
    "# We correct the text\n",
    "fragments_df.loc[fragments_df['pasaje'] == '1 Juan 1:9', 'texto'] = 'Si confesamos nuestros pecados, él es fiel y justo para que nos perdone nuestros pecados, y nos limpie de toda maldad.'\n",
    "fragments_df[fragments_df['pasaje']=='1 Juan 1:9']['texto']"
   ]
  },
  {
   "cell_type": "code",
   "execution_count": 11,
   "metadata": {},
   "outputs": [
    {
     "data": {
      "text/plain": [
       "349    Bienaventurado el hombre que tiene su fortaleza en ti; En cuyo corazón están tus caminos. Irán de fortaleza en fortaleza, Verán á Dios en Sión.\n",
       "636    Bienaventurado el hombre que tiene su fortaleza en ti; En cuyo corazón están tus caminos. Irán de fortaleza en fortaleza, Verán á Dios en Sión.\n",
       "Name: texto, dtype: object"
      ]
     },
     "execution_count": 11,
     "metadata": {},
     "output_type": "execute_result"
    }
   ],
   "source": [
    "# Checking the content\n",
    "fragments_df[fragments_df['pasaje']=='Salmos 84:5, 7']['texto']"
   ]
  },
  {
   "cell_type": "code",
   "execution_count": 12,
   "metadata": {},
   "outputs": [
    {
     "data": {
      "text/plain": [
       "349    Bienaventurado el hombre que tiene su fortaleza en ti; En cuyo corazón están tus caminos. Irán de fortaleza en fortaleza, Verán á Dios en Sión.\n",
       "636    Bienaventurado el hombre que tiene su fortaleza en ti; En cuyo corazón están tus caminos. Irán de fortaleza en fortaleza, Verán á Dios en Sión.\n",
       "Name: texto, dtype: object"
      ]
     },
     "execution_count": 12,
     "metadata": {},
     "output_type": "execute_result"
    }
   ],
   "source": [
    "# Correcting the text\n",
    "fragments_df.loc[fragments_df['pasaje'] == 'Salmos 84:5, 7', 'texto'] = 'Bienaventurado el hombre que tiene su fortaleza en ti; En cuyo corazón están tus caminos. Irán de fortaleza en fortaleza, Verán á Dios en Sión.'\n",
    "fragments_df[fragments_df['pasaje']=='Salmos 84:5, 7']['texto']"
   ]
  },
  {
   "cell_type": "code",
   "execution_count": 13,
   "metadata": {},
   "outputs": [
    {
     "data": {
      "text/plain": [
       "88                                                                           En descanso y en reposo seréis salvos; en quietud y en confianza será vuestra fortaleza.\n",
       "139    Porque así dijo el Señor Jehová, el Santo de Israel: En descanso y en reposo seréis salvos; en quietud y en confianza será vuestra fortaleza. Y no quisisteis,\n",
       "641    Porque así dijo el Señor Jehová, el Santo de Israel: En descanso y en reposo seréis salvos; en quietud y en confianza será vuestra fortaleza. Y no quisisteis,\n",
       "Name: texto, dtype: object"
      ]
     },
     "execution_count": 13,
     "metadata": {},
     "output_type": "execute_result"
    }
   ],
   "source": [
    "# Checking the content\n",
    "fragments_df[fragments_df['pasaje']=='Isaías 30:15']['texto']"
   ]
  },
  {
   "cell_type": "code",
   "execution_count": 14,
   "metadata": {},
   "outputs": [
    {
     "data": {
      "text/plain": [
       "88     Porque así dijo el Señor Jehová, el Santo de Israel: En descanso y en reposo seréis salvos; en quietud y en confianza será vuestra fortaleza. Y no quisisteis,\n",
       "139    Porque así dijo el Señor Jehová, el Santo de Israel: En descanso y en reposo seréis salvos; en quietud y en confianza será vuestra fortaleza. Y no quisisteis,\n",
       "641    Porque así dijo el Señor Jehová, el Santo de Israel: En descanso y en reposo seréis salvos; en quietud y en confianza será vuestra fortaleza. Y no quisisteis,\n",
       "Name: texto, dtype: object"
      ]
     },
     "execution_count": 14,
     "metadata": {},
     "output_type": "execute_result"
    }
   ],
   "source": [
    "# Correcting the text\n",
    "fragments_df.loc[fragments_df['pasaje'] == 'Isaías 30:15', 'texto'] = 'Porque así dijo el Señor Jehová, el Santo de Israel: En descanso y en reposo seréis salvos; en quietud y en confianza será vuestra fortaleza. Y no quisisteis,'\n",
    "fragments_df[fragments_df['pasaje']=='Isaías 30:15']['texto']"
   ]
  },
  {
   "cell_type": "code",
   "execution_count": 15,
   "metadata": {},
   "outputs": [
    {
     "data": {
      "text/plain": [
       "431    El que hace pecado, es del diablo; porque el diablo peca desde el principio. Para esto apareció el Hijo de Dios, para deshacer las obras del diablo.\n",
       "796                                                                                 Para esto apareció el Hijo de Dios, para deshacer las obras del diablo.\n",
       "Name: texto, dtype: object"
      ]
     },
     "execution_count": 15,
     "metadata": {},
     "output_type": "execute_result"
    }
   ],
   "source": [
    "# Checking the content\n",
    "fragments_df[fragments_df['pasaje']=='1 Juan 3:8']['texto']"
   ]
  },
  {
   "cell_type": "code",
   "execution_count": 16,
   "metadata": {},
   "outputs": [
    {
     "data": {
      "text/plain": [
       "431    El que hace pecado, es del diablo; porque el diablo peca desde el principio. Para esto apareció el Hijo de Dios, para deshacer las obras del diablo.\n",
       "796    El que hace pecado, es del diablo; porque el diablo peca desde el principio. Para esto apareció el Hijo de Dios, para deshacer las obras del diablo.\n",
       "Name: texto, dtype: object"
      ]
     },
     "execution_count": 16,
     "metadata": {},
     "output_type": "execute_result"
    }
   ],
   "source": [
    "# Correcting the text\n",
    "fragments_df.loc[fragments_df['pasaje'] == '1 Juan 3:8', 'texto'] = 'El que hace pecado, es del diablo; porque el diablo peca desde el principio. Para esto apareció el Hijo de Dios, para deshacer las obras del diablo.'\n",
    "fragments_df[fragments_df['pasaje']=='1 Juan 3:8']['texto']"
   ]
  },
  {
   "cell_type": "code",
   "execution_count": 17,
   "metadata": {},
   "outputs": [
    {
     "data": {
      "text/plain": [
       "67                                                                                                                                                                          porque el gozo de Jehová es vuestra fortaleza.\n",
       "508    Díjoles luego: Id, comed grosuras, y bebed vino dulce, y enviad porciones á los que no tienen prevenido; porque día santo es á nuestro Señor: y no os entristezcáis, porque el gozo de Jehová es vuestra fortaleza.\n",
       "Name: texto, dtype: object"
      ]
     },
     "execution_count": 17,
     "metadata": {},
     "output_type": "execute_result"
    }
   ],
   "source": [
    "# Checking the content\n",
    "fragments_df[fragments_df['pasaje']=='Nehemías 8:10']['texto']"
   ]
  },
  {
   "cell_type": "code",
   "execution_count": 18,
   "metadata": {},
   "outputs": [
    {
     "data": {
      "text/plain": [
       "67     Díjoles luego: Id, comed grosuras, y bebed vino dulce, y enviad porciones á los que no tienen prevenido; porque día santo es á nuestro Señor: y no os entristezcáis, porque el gozo de Jehová es vuestra fortaleza.\n",
       "508    Díjoles luego: Id, comed grosuras, y bebed vino dulce, y enviad porciones á los que no tienen prevenido; porque día santo es á nuestro Señor: y no os entristezcáis, porque el gozo de Jehová es vuestra fortaleza.\n",
       "Name: texto, dtype: object"
      ]
     },
     "execution_count": 18,
     "metadata": {},
     "output_type": "execute_result"
    }
   ],
   "source": [
    "# Correcting the text\n",
    "fragments_df.loc[fragments_df['pasaje'] == 'Nehemías 8:10', 'texto'] = 'Díjoles luego: Id, comed grosuras, y bebed vino dulce, y enviad porciones á los que no tienen prevenido; porque día santo es á nuestro Señor: y no os entristezcáis, porque el gozo de Jehová es vuestra fortaleza.'\n",
    "fragments_df[fragments_df['pasaje']=='Nehemías 8:10']['texto']"
   ]
  },
  {
   "cell_type": "code",
   "execution_count": 19,
   "metadata": {},
   "outputs": [
    {
     "data": {
      "text/plain": [
       "49     Dijo también el Señor: Simón, Simón, he aquí Satanás os ha pedido para zarandaros como á trigo; Mas yo he rogado por ti que tu fe no falte: y tú, una vez vuelto, confirma á tus hermanos.\n",
       "225                           Simón, Simón, he aquí Satanás os ha pedido para zarandaros como á trigo; Mas yo he rogado por ti que tu fe no falte: y tú, una vez vuelto, confirma á tus hermanos.\n",
       "Name: texto, dtype: object"
      ]
     },
     "execution_count": 19,
     "metadata": {},
     "output_type": "execute_result"
    }
   ],
   "source": [
    "# Checking the content\n",
    "fragments_df[fragments_df['pasaje']=='Lucas 22:31, 32']['texto']"
   ]
  },
  {
   "cell_type": "code",
   "execution_count": 20,
   "metadata": {},
   "outputs": [
    {
     "data": {
      "text/plain": [
       "49     Dijo también el Señor: Simón, Simón, he aquí Satanás os ha pedido para zarandaros como á trigo; Mas yo he rogado por ti que tu fe no falte: y tú, una vez vuelto, confirma á tus hermanos.\n",
       "225    Dijo también el Señor: Simón, Simón, he aquí Satanás os ha pedido para zarandaros como á trigo; Mas yo he rogado por ti que tu fe no falte: y tú, una vez vuelto, confirma á tus hermanos.\n",
       "Name: texto, dtype: object"
      ]
     },
     "execution_count": 20,
     "metadata": {},
     "output_type": "execute_result"
    }
   ],
   "source": [
    "# Correcting the text\n",
    "fragments_df.loc[fragments_df['pasaje'] == 'Lucas 22:31, 32', 'texto'] = 'Dijo también el Señor: Simón, Simón, he aquí Satanás os ha pedido para zarandaros como á trigo; Mas yo he rogado por ti que tu fe no falte: y tú, una vez vuelto, confirma á tus hermanos.'\n",
    "fragments_df[fragments_df['pasaje']=='Lucas 22:31, 32']['texto']"
   ]
  },
  {
   "cell_type": "code",
   "execution_count": 21,
   "metadata": {},
   "outputs": [
    {
     "data": {
      "text/plain": [
       "162                                                                    DIOS es nuestro amparo y fortaleza, Nuestro pronto auxilio en las tribulaciones. Por tanto no temeremos aunque la tierra sea removida; Aunque se traspasen los montes al corazón de la mar. Bramarán, turbaránse sus aguas; Temblarán los montes á causa de su braveza. (Selah.)\n",
       "651                                                                    DIOS es nuestro amparo y fortaleza, Nuestro pronto auxilio en las tribulaciones. Por tanto no temeremos aunque la tierra sea removida; Aunque se traspasen los montes al corazón de la mar. Bramarán, turbaránse sus aguas; Temblarán los montes á causa de su braveza. (Selah.)\n",
       "662    Al Músico principal: de los hijos de Coré: Salmo sobre Alamoth. DIOS es nuestro amparo y fortaleza, Nuestro pronto auxilio en las tribulaciones. Por tanto no temeremos aunque la tierra sea removida; Aunque se traspasen los montes al corazón de la mar. Bramarán, turbaránse sus aguas; Temblarán los montes á causa de su braveza. (Selah.)\n",
       "Name: texto, dtype: object"
      ]
     },
     "execution_count": 21,
     "metadata": {},
     "output_type": "execute_result"
    }
   ],
   "source": [
    "# Checking the content\n",
    "fragments_df[fragments_df['pasaje']=='Salmos 46:1-3']['texto']"
   ]
  },
  {
   "cell_type": "code",
   "execution_count": 22,
   "metadata": {},
   "outputs": [
    {
     "data": {
      "text/plain": [
       "162    DIOS es nuestro amparo y fortaleza, Nuestro pronto auxilio en las tribulaciones. Por tanto no temeremos aunque la tierra sea removida; Aunque se traspasen los montes al corazón de la mar. Bramarán, turbaránse sus aguas; Temblarán los montes á causa de su braveza. (Selah.)\n",
       "651    DIOS es nuestro amparo y fortaleza, Nuestro pronto auxilio en las tribulaciones. Por tanto no temeremos aunque la tierra sea removida; Aunque se traspasen los montes al corazón de la mar. Bramarán, turbaránse sus aguas; Temblarán los montes á causa de su braveza. (Selah.)\n",
       "662    DIOS es nuestro amparo y fortaleza, Nuestro pronto auxilio en las tribulaciones. Por tanto no temeremos aunque la tierra sea removida; Aunque se traspasen los montes al corazón de la mar. Bramarán, turbaránse sus aguas; Temblarán los montes á causa de su braveza. (Selah.)\n",
       "Name: texto, dtype: object"
      ]
     },
     "execution_count": 22,
     "metadata": {},
     "output_type": "execute_result"
    }
   ],
   "source": [
    "# Correcting the text\n",
    "fragments_df.loc[fragments_df['pasaje'] == 'Salmos 46:1-3', 'texto'] = 'DIOS es nuestro amparo y fortaleza, Nuestro pronto auxilio en las tribulaciones. Por tanto no temeremos aunque la tierra sea removida; Aunque se traspasen los montes al corazón de la mar. Bramarán, turbaránse sus aguas; Temblarán los montes á causa de su braveza. (Selah.)'\n",
    "fragments_df[fragments_df['pasaje']=='Salmos 46:1-3']['texto']"
   ]
  },
  {
   "cell_type": "code",
   "execution_count": 23,
   "metadata": {},
   "outputs": [
    {
     "data": {
      "text/plain": [
       "pasaje    863\n",
       "texto     861\n",
       "dtype: int64"
      ]
     },
     "execution_count": 23,
     "metadata": {},
     "output_type": "execute_result"
    }
   ],
   "source": [
    "# Counting unique values for each column\n",
    "fragments_df[['pasaje','texto']].nunique()"
   ]
  },
  {
   "cell_type": "code",
   "execution_count": 24,
   "metadata": {},
   "outputs": [
    {
     "data": {
      "text/plain": [
       "texto\n",
       "El Señor Jehová me dió lengua de sabios, para saber hablar en sazón palabra al cansado; despertará de mañana, despertaráme de mañana oído, para que oiga como los sabios.    2\n",
       "Mas el fruto del Espíritu es: caridad, gozo, paz, tolerancia, benignidad, bondad, fe, Mansedumbre, templanza: contra tales cosas no hay ley.                                 2\n",
       "Name: count, dtype: int64"
      ]
     },
     "execution_count": 24,
     "metadata": {},
     "output_type": "execute_result"
    }
   ],
   "source": [
    "# There are some passages that have different texts.\n",
    "# Eliminating duplicates from the df\n",
    "fragments_distinct = fragments_df.drop_duplicates(subset=['pasaje','texto'])\n",
    "# Counting the passages and showing the ones with more than 1 occurrence\n",
    "value_counts = fragments_distinct['texto'].value_counts()\n",
    "filtered_counts = value_counts[value_counts > 1]\n",
    "filtered_counts"
   ]
  },
  {
   "cell_type": "code",
   "execution_count": 25,
   "metadata": {},
   "outputs": [
    {
     "data": {
      "text/html": [
       "<div>\n",
       "<style scoped>\n",
       "    .dataframe tbody tr th:only-of-type {\n",
       "        vertical-align: middle;\n",
       "    }\n",
       "\n",
       "    .dataframe tbody tr th {\n",
       "        vertical-align: top;\n",
       "    }\n",
       "\n",
       "    .dataframe thead th {\n",
       "        text-align: right;\n",
       "    }\n",
       "</style>\n",
       "<table border=\"1\" class=\"dataframe\">\n",
       "  <thead>\n",
       "    <tr style=\"text-align: right;\">\n",
       "      <th></th>\n",
       "      <th>pasaje</th>\n",
       "      <th>texto</th>\n",
       "      <th>area_vida</th>\n",
       "    </tr>\n",
       "  </thead>\n",
       "  <tbody>\n",
       "    <tr>\n",
       "      <th>696</th>\n",
       "      <td>Isaías 50:4</td>\n",
       "      <td>El Señor Jehová me dió lengua de sabios, para saber hablar en sazón palabra al cansado; despertará de mañana, despertaráme de mañana oído, para que oiga como los sabios.</td>\n",
       "      <td>sabiduria</td>\n",
       "    </tr>\n",
       "    <tr>\n",
       "      <th>706</th>\n",
       "      <td>Isaias 50:4</td>\n",
       "      <td>El Señor Jehová me dió lengua de sabios, para saber hablar en sazón palabra al cansado; despertará de mañana, despertaráme de mañana oído, para que oiga como los sabios.</td>\n",
       "      <td>convicción</td>\n",
       "    </tr>\n",
       "  </tbody>\n",
       "</table>\n",
       "</div>"
      ],
      "text/plain": [
       "          pasaje  \\\n",
       "696  Isaías 50:4   \n",
       "706  Isaias 50:4   \n",
       "\n",
       "                                                                                                                                                                         texto  \\\n",
       "696  El Señor Jehová me dió lengua de sabios, para saber hablar en sazón palabra al cansado; despertará de mañana, despertaráme de mañana oído, para que oiga como los sabios.   \n",
       "706  El Señor Jehová me dió lengua de sabios, para saber hablar en sazón palabra al cansado; despertará de mañana, despertaráme de mañana oído, para que oiga como los sabios.   \n",
       "\n",
       "      area_vida  \n",
       "696   sabiduria  \n",
       "706  convicción  "
      ]
     },
     "execution_count": 25,
     "metadata": {},
     "output_type": "execute_result"
    }
   ],
   "source": [
    "# Checking the data\n",
    "fragments_df[fragments_df['texto']=='El Señor Jehová me dió lengua de sabios, para saber hablar en sazón palabra al cansado; despertará de mañana, despertaráme de mañana oído, para que oiga como los sabios.']"
   ]
  },
  {
   "cell_type": "code",
   "execution_count": 26,
   "metadata": {},
   "outputs": [
    {
     "data": {
      "text/plain": [
       "696    Isaías 50:4\n",
       "706    Isaías 50:4\n",
       "Name: pasaje, dtype: object"
      ]
     },
     "execution_count": 26,
     "metadata": {},
     "output_type": "execute_result"
    }
   ],
   "source": [
    "# Correcting the passage name\n",
    "fragments_df.loc[fragments_df['texto'] == 'El Señor Jehová me dió lengua de sabios, para saber hablar en sazón palabra al cansado; despertará de mañana, despertaráme de mañana oído, para que oiga como los sabios.', 'pasaje'] = 'Isaías 50:4'\n",
    "fragments_df[fragments_df['texto']=='El Señor Jehová me dió lengua de sabios, para saber hablar en sazón palabra al cansado; despertará de mañana, despertaráme de mañana oído, para que oiga como los sabios.']['pasaje']"
   ]
  },
  {
   "cell_type": "code",
   "execution_count": 27,
   "metadata": {},
   "outputs": [
    {
     "data": {
      "text/html": [
       "<div>\n",
       "<style scoped>\n",
       "    .dataframe tbody tr th:only-of-type {\n",
       "        vertical-align: middle;\n",
       "    }\n",
       "\n",
       "    .dataframe tbody tr th {\n",
       "        vertical-align: top;\n",
       "    }\n",
       "\n",
       "    .dataframe thead th {\n",
       "        text-align: right;\n",
       "    }\n",
       "</style>\n",
       "<table border=\"1\" class=\"dataframe\">\n",
       "  <thead>\n",
       "    <tr style=\"text-align: right;\">\n",
       "      <th></th>\n",
       "      <th>pasaje</th>\n",
       "      <th>texto</th>\n",
       "      <th>area_vida</th>\n",
       "    </tr>\n",
       "  </thead>\n",
       "  <tbody>\n",
       "    <tr>\n",
       "      <th>749</th>\n",
       "      <td>Galatas 5:22, 23</td>\n",
       "      <td>Mas el fruto del Espíritu es: caridad, gozo, paz, tolerancia, benignidad, bondad, fe, Mansedumbre, templanza: contra tales cosas no hay ley.</td>\n",
       "      <td>orgullo</td>\n",
       "    </tr>\n",
       "    <tr>\n",
       "      <th>925</th>\n",
       "      <td>Gálatas 5:22-23</td>\n",
       "      <td>Mas el fruto del Espíritu es: caridad, gozo, paz, tolerancia, benignidad, bondad, fe, Mansedumbre, templanza: contra tales cosas no hay ley.</td>\n",
       "      <td>Jesús, el hijo de Dios - simplicidad</td>\n",
       "    </tr>\n",
       "  </tbody>\n",
       "</table>\n",
       "</div>"
      ],
      "text/plain": [
       "               pasaje  \\\n",
       "749  Galatas 5:22, 23   \n",
       "925   Gálatas 5:22-23   \n",
       "\n",
       "                                                                                                                                            texto  \\\n",
       "749  Mas el fruto del Espíritu es: caridad, gozo, paz, tolerancia, benignidad, bondad, fe, Mansedumbre, templanza: contra tales cosas no hay ley.   \n",
       "925  Mas el fruto del Espíritu es: caridad, gozo, paz, tolerancia, benignidad, bondad, fe, Mansedumbre, templanza: contra tales cosas no hay ley.   \n",
       "\n",
       "                                area_vida  \n",
       "749                               orgullo  \n",
       "925  Jesús, el hijo de Dios - simplicidad  "
      ]
     },
     "execution_count": 27,
     "metadata": {},
     "output_type": "execute_result"
    }
   ],
   "source": [
    "# Checking the data\n",
    "fragments_df[fragments_df['texto']=='Mas el fruto del Espíritu es: caridad, gozo, paz, tolerancia, benignidad, bondad, fe, Mansedumbre, templanza: contra tales cosas no hay ley.']"
   ]
  },
  {
   "cell_type": "code",
   "execution_count": 28,
   "metadata": {},
   "outputs": [
    {
     "data": {
      "text/plain": [
       "749    Gálatas 5:22-23\n",
       "925    Gálatas 5:22-23\n",
       "Name: pasaje, dtype: object"
      ]
     },
     "execution_count": 28,
     "metadata": {},
     "output_type": "execute_result"
    }
   ],
   "source": [
    "fragments_df.loc[fragments_df['texto'] == 'Mas el fruto del Espíritu es: caridad, gozo, paz, tolerancia, benignidad, bondad, fe, Mansedumbre, templanza: contra tales cosas no hay ley.', 'pasaje'] = 'Gálatas 5:22-23'\n",
    "fragments_df[fragments_df['texto']=='Mas el fruto del Espíritu es: caridad, gozo, paz, tolerancia, benignidad, bondad, fe, Mansedumbre, templanza: contra tales cosas no hay ley.']['pasaje']"
   ]
  },
  {
   "cell_type": "code",
   "execution_count": 29,
   "metadata": {},
   "outputs": [
    {
     "data": {
      "text/plain": [
       "730    Gálatas 5:21, 23\n",
       "Name: pasaje, dtype: object"
      ]
     },
     "execution_count": 29,
     "metadata": {},
     "output_type": "execute_result"
    }
   ],
   "source": [
    "fragments_df.loc[fragments_df['pasaje']=='Galatas 5:21, 23', 'pasaje'] = 'Gálatas 5:21, 23'\n",
    "fragments_df[fragments_df['pasaje']=='Gálatas 5:21, 23']['pasaje']"
   ]
  },
  {
   "cell_type": "code",
   "execution_count": 30,
   "metadata": {},
   "outputs": [
    {
     "data": {
      "text/plain": [
       "pasaje    861\n",
       "texto     861\n",
       "dtype: int64"
      ]
     },
     "execution_count": 30,
     "metadata": {},
     "output_type": "execute_result"
    }
   ],
   "source": [
    "# Counting unique values for each column\n",
    "fragments_df[['pasaje','texto']].nunique()"
   ]
  },
  {
   "cell_type": "code",
   "execution_count": 31,
   "metadata": {},
   "outputs": [],
   "source": [
    "# Now that the information is correct we are group the df by 'pasaje' and 'texto' and list the 'area_vida'\n",
    "grouped_df = fragments_df.groupby(['pasaje', 'texto']).agg({'area_vida': list}).reset_index()"
   ]
  },
  {
   "cell_type": "code",
   "execution_count": 32,
   "metadata": {},
   "outputs": [],
   "source": [
    "# Convert DataFrame to a dictionary\n",
    "grouped_df_dict = grouped_df.to_dict(orient='records')\n",
    "\n",
    "# Save the list as a JSON file\n",
    "with open('bible/data/bible_by_theme_preprocessed.json', 'w', encoding='utf-8') as json_file:\n",
    "    json.dump(grouped_df_dict, json_file, ensure_ascii=False, indent=4)"
   ]
  },
  {
   "cell_type": "markdown",
   "metadata": {},
   "source": [
    "### Interpreting the Bible by fragments"
   ]
  },
  {
   "cell_type": "code",
   "execution_count": 38,
   "metadata": {},
   "outputs": [],
   "source": [
    "import json\n",
    "import os\n",
    "import pandas as pd\n",
    "\n",
    "# Setting directory\n",
    "os.chdir('/Users/hiroshi/Documents/ds_projects/orare-model')\n",
    "\n",
    "# Loading Fragments of the Bible\n",
    "with open('bible/data/bible_by_theme_preprocessed.json') as f:\n",
    "    fragments = json.load(f)"
   ]
  },
  {
   "cell_type": "code",
   "execution_count": 39,
   "metadata": {},
   "outputs": [],
   "source": [
    "# Loading json in df\n",
    "fragments_df = pd.DataFrame(fragments)"
   ]
  },
  {
   "cell_type": "code",
   "execution_count": 40,
   "metadata": {},
   "outputs": [],
   "source": [
    "import openai\n",
    "import os\n",
    "\n",
    "client = openai.OpenAI()\n",
    "\n",
    "def get_completion_4o(prompt, model=\"gpt-4o\"):\n",
    "    messages = [{\"role\": \"user\", \"content\": prompt}]\n",
    "    response = client.chat.completions.create(\n",
    "        model=model,\n",
    "        messages=messages,\n",
    "        temperature=0\n",
    "    )\n",
    "    return response.choices[0].message.content"
   ]
  },
  {
   "cell_type": "code",
   "execution_count": 41,
   "metadata": {},
   "outputs": [],
   "source": [
    "# Prompt Instruction\n",
    "instructions = \"\"\"\n",
    "# Rol #\n",
    "Tu eres el GPT: Catholic Bible Guide by Fr. Abraham Mutholath.\n",
    "Tu rol será el de un sacerdote de una iglesia Católica. Se te dará distintos fragmentos de la Biblia. Tu tarea será leer los fragmentos y realizar las tareas que se detallen en la siguiente sección.\n",
    "# Fin Rol #\n",
    "\n",
    "# Tareas #\n",
    "- Explicar la Biblia (explicacion): si el fragmento de la Biblia no está escrito en un lenguaje antiguo, es ambiguo o no está claro lo que quiere decir debes hacer una explicación breve y concisa. Solo explica lo que no es tan evidente y esté en un lenguaje antiguo o ambiguo.\n",
    "- Identificar Area de la vida (areas): de cada fragmento debes identificar el área de la vida de la que se habla. Las áreas de la vida pueden ser: \"Relaciones familiares/pareja\",\"Amistad\",\"Salud física\",\"Salud mental/emocional\",\"Desarrollo/crecimiento personal\",\"Misión de vida\",\"Dinero\",\"Trabajo\",\"Diversión/Hobbies\",\"Otros\". Para cada fragmento menciona entre 1 y 3 áreas que sean las más importantes.\n",
    "# fin Tareas #\n",
    "\n",
    "# Estructura input #\n",
    "\"id_libro|fragmento\"\n",
    "# Fin estructura input #\n",
    "\n",
    "# Estructura Output #\n",
    "El output debe ser un texto plano separado por | sin \"header\" ni \"footer\"\n",
    "\"id_libro|explicacion|areas(separado por comas)\"\n",
    "# Fin Estructura Output #\n",
    "\"\"\""
   ]
  },
  {
   "cell_type": "code",
   "execution_count": 42,
   "metadata": {},
   "outputs": [],
   "source": [
    "list_response = []\n",
    "\n",
    "for _, verse in fragments_df.iterrows():\n",
    "    input_to_interpret = f\"{verse['pasaje']}|{verse['texto']}\"\n",
    "    prompt = f\"\"\"\n",
    "                {instructions}\n",
    "\n",
    "                # Input # \n",
    "                {input_to_interpret}\n",
    "                # Fin Input #\n",
    "                \"\"\"\n",
    "    response_4o = get_completion_4o(prompt)\n",
    "    list_response.append(response_4o)"
   ]
  },
  {
   "cell_type": "code",
   "execution_count": 43,
   "metadata": {},
   "outputs": [],
   "source": [
    "list_purpose = fragments_df['area_vida'].tolist()\n",
    "list_text = fragments_df['texto'].tolist()\n",
    "list_passage = fragments_df['pasaje'].tolist()"
   ]
  },
  {
   "cell_type": "markdown",
   "metadata": {},
   "source": [
    "#### Merging all the info"
   ]
  },
  {
   "cell_type": "code",
   "execution_count": 54,
   "metadata": {},
   "outputs": [],
   "source": [
    "# Splitting ChatGPT response into passage, interpretatino and areas\n",
    "list_passage_2 = []\n",
    "list_interpretation = []\n",
    "list_areas = []\n",
    "list_id = []\n",
    "\n",
    "i = 0\n",
    "for item in list_response:\n",
    "    passage, interpretation, area = item.split('|')\n",
    "    i=i+1\n",
    "    id = \"vec\"+str(i)\n",
    "    list_id.append(id)\n",
    "    list_passage_2.append(passage)\n",
    "    list_interpretation.append(interpretation)\n",
    "    list_areas.append(area)"
   ]
  },
  {
   "cell_type": "code",
   "execution_count": 55,
   "metadata": {},
   "outputs": [
    {
     "name": "stdout",
     "output_type": "stream",
     "text": [
      "[['Desarrollo/crecimiento personal', 'Salud mental/emocional'], ['Salud mental/emocional', 'Desarrollo/crecimiento personal', 'Misión de vida'], ['Misión de vida', 'Desarrollo/crecimiento personal'], ['Relaciones familiares/pareja'], ['Relaciones familiares/pareja', 'Amistad', 'Desarrollo/crecimiento personal'], ['Relaciones familiares/pareja', 'Amistad', 'Salud mental/emocional'], ['Relaciones familiares/pareja', 'Amistad', 'Desarrollo/crecimiento personal'], ['Misión de vida', 'Trabajo'], ['Misión de vida', 'Desarrollo/crecimiento personal', 'Salud mental/emocional'], ['Relaciones familiares/pareja', 'Amistad', 'Salud mental/emocional'], ['Misión de vida', 'Desarrollo/crecimiento personal', 'Salud mental/emocional'], ['Misión de vida', 'Desarrollo/crecimiento personal', 'Salud mental/emocional'], ['Desarrollo/crecimiento personal', 'Misión de vida', 'Trabajo'], ['Salud física', 'Salud mental/emocional', 'Desarrollo/crecimiento personal'], ['Misión de vida', 'Desarrollo/crecimiento personal'], ['Relaciones familiares/pareja', 'Desarrollo/crecimiento personal'], ['Desarrollo/crecimiento personal', 'Salud mental/emocional'], ['Salud física', 'Salud mental/emocional', 'Desarrollo/crecimiento personal'], ['Salud física', 'Salud mental/emocional', 'Desarrollo/crecimiento personal'], ['Salud física', 'Salud mental/emocional', 'Desarrollo/crecimiento personal'], ['Desarrollo/crecimiento personal', 'Relaciones familiares/pareja', 'Misión de vida'], ['Desarrollo/crecimiento personal', 'Salud mental/emocional', 'Relaciones familiares/pareja'], ['Relaciones familiares/pareja', 'Salud mental/emocional'], ['Relaciones familiares/pareja', 'Desarrollo/crecimiento personal'], ['Relaciones familiares/pareja', 'Salud mental/emocional'], ['Relaciones familiares/pareja', 'Salud física', 'Salud mental/emocional'], ['Relaciones familiares/pareja', 'Misión de vida', 'Desarrollo/crecimiento personal'], ['Relaciones familiares/pareja'], ['Relaciones familiares/pareja', 'Desarrollo/crecimiento personal', 'Salud mental/emocional'], ['Misión de vida', 'Desarrollo/crecimiento personal'], ['Misión de vida', 'Dinero', 'Trabajo'], ['Misión de vida', 'Dinero', 'Trabajo'], ['Desarrollo/crecimiento personal', 'Misión de vida'], ['Misión de vida', 'Desarrollo/crecimiento personal'], ['Desarrollo/crecimiento personal', 'Misión de vida', 'Relaciones familiares/pareja'], ['Relaciones familiares/pareja', 'Misión de vida', 'Desarrollo/crecimiento personal'], ['Salud mental/emocional', 'Desarrollo/crecimiento personal', 'Relaciones familiares/pareja'], ['Salud mental/emocional', 'Desarrollo/crecimiento personal', 'Relaciones familiares/pareja'], ['Relaciones familiares/pareja', 'Desarrollo/crecimiento personal', 'Misión de vida'], ['Relaciones familiares/pareja', 'Amistad', 'Desarrollo/crecimiento personal'], ['Misión de vida', 'Desarrollo/crecimiento personal', 'Salud mental/emocional'], ['Misión de vida', 'Desarrollo/crecimiento personal', 'Salud mental/emocional'], ['Relaciones familiares/pareja', 'Amistad', 'Desarrollo/crecimiento personal'], ['Relaciones familiares/pareja', 'Salud mental/emocional', 'Desarrollo/crecimiento personal'], ['Relaciones familiares/pareja', 'Desarrollo/crecimiento personal', 'Misión de vida'], ['Relaciones familiares/pareja', 'Amistad', 'Desarrollo/crecimiento personal'], ['Desarrollo/crecimiento personal', 'Salud mental/emocional', 'Misión de vida'], ['Relaciones familiares/pareja', 'Amistad', 'Desarrollo/crecimiento personal'], ['Salud mental/emocional', 'Desarrollo/crecimiento personal', 'Misión de vida'], ['Misión de vida', 'Desarrollo/crecimiento personal', 'Salud mental/emocional'], ['Desarrollo/crecimiento personal', 'Misión de vida', 'Salud mental/emocional'], ['Misión de vida', 'Desarrollo/crecimiento personal', 'Salud espiritual'], ['Relaciones familiares/pareja', 'Salud mental/emocional', 'Misión de vida'], ['Salud mental/emocional', 'Desarrollo/crecimiento personal', 'Misión de vida'], ['Salud mental/emocional', 'Desarrollo/crecimiento personal', 'Misión de vida'], ['Desarrollo/crecimiento personal', 'Misión de vida', 'Salud mental/emocional'], ['Relaciones familiares/pareja', 'Amistad', 'Desarrollo/crecimiento personal'], ['Relaciones familiares/pareja', 'Amistad', 'Desarrollo/crecimiento personal'], ['Relaciones familiares/pareja', 'Desarrollo/crecimiento personal', 'Misión de vida'], ['Desarrollo/crecimiento personal', 'Salud mental/emocional', 'Misión de vida'], ['Desarrollo/crecimiento personal', 'Salud mental/emocional', 'Relaciones familiares/pareja'], ['Salud mental/emocional', 'Desarrollo/crecimiento personal', 'Misión de vida'], ['Relaciones familiares/pareja'], ['Salud mental/emocional', 'Desarrollo/crecimiento personal', 'Misión de vida'], ['Salud mental/emocional', 'Misión de vida', 'Desarrollo/crecimiento personal'], ['Desarrollo/crecimiento personal', 'Misión de vida', 'Salud mental/emocional'], ['Relaciones familiares/pareja', 'Amistad', 'Desarrollo/crecimiento personal'], ['Misión de vida', 'Trabajo', 'Desarrollo/crecimiento personal'], ['Relaciones familiares/pareja', 'Salud mental/emocional', 'Desarrollo/crecimiento personal'], ['Salud mental/emocional', 'Desarrollo/crecimiento personal'], ['Salud mental/emocional', 'Desarrollo/crecimiento personal', 'Misión de vida'], ['Salud física', 'Salud mental/emocional', 'Fe'], ['Desarrollo/crecimiento personal', 'Trabajo'], ['Misión de vida', 'Desarrollo/crecimiento personal', 'Salud mental/emocional'], ['Misión de vida', 'Fe/Religión'], ['Relaciones familiares/pareja', 'Misión de vida'], ['Desarrollo/crecimiento personal', 'Salud mental/emocional', 'Relaciones familiares/pareja'], ['Salud mental/emocional', 'Desarrollo/crecimiento personal', 'Misión de vida'], ['Misión de vida', 'Desarrollo/crecimiento personal'], ['Misión de vida', 'Desarrollo/crecimiento personal'], ['Salud mental/emocional', 'Relaciones familiares/pareja'], ['Relaciones familiares/pareja', 'Desarrollo/crecimiento personal', 'Salud mental/emocional'], ['Misión de vida', 'Salud mental/emocional'], ['Salud mental/emocional', 'Desarrollo/crecimiento personal', 'Misión de vida'], ['Desarrollo/crecimiento personal', 'Misión de vida'], ['Desarrollo/crecimiento personal', 'Relaciones familiares/pareja', 'Salud mental/emocional'], ['Relaciones familiares/pareja', 'Misión de vida'], ['Misión de vida', 'Relaciones familiares/pareja'], ['Salud mental/emocional', 'Desarrollo/crecimiento personal', 'Relaciones familiares/pareja'], ['Relaciones familiares/pareja', 'Desarrollo/crecimiento personal', 'Trabajo'], ['Relaciones familiares/pareja', 'Desarrollo/crecimiento personal', 'Misión de vida'], ['Relaciones familiares/pareja', 'Desarrollo/crecimiento personal'], ['Salud física', 'Salud mental/emocional'], ['Dinero', 'Misión de vida', 'Salud mental/emocional'], ['Desarrollo/crecimiento personal', 'Misión de vida', 'Salud mental/emocional'], ['Desarrollo/crecimiento personal', 'Salud mental/emocional'], ['Salud mental/emocional', 'Desarrollo/crecimiento personal', 'Misión de vida'], ['Misión de vida', 'Salud mental/emocional', 'Desarrollo/crecimiento personal'], ['Desarrollo/crecimiento personal', 'Salud mental/emocional', 'Misión de vida'], ['Salud mental/emocional', 'Desarrollo/crecimiento personal', 'Misión de vida'], ['Salud mental/emocional', 'Desarrollo/crecimiento personal', 'Misión de vida'], ['Salud mental/emocional', 'Desarrollo/crecimiento personal', 'Misión de vida'], ['Trabajo', 'Relaciones familiares/pareja'], ['Relaciones familiares/pareja', 'Amistad', 'Salud mental/emocional'], ['Salud mental/emocional', 'Relaciones familiares/pareja', 'Amistad'], ['Desarrollo/crecimiento personal', 'Misión de vida', 'Salud mental/emocional'], ['Desarrollo/crecimiento personal', 'Misión de vida', 'Salud mental/emocional'], ['Salud mental/emocional', 'Desarrollo/crecimiento personal', 'Misión de vida'], ['Desarrollo/crecimiento personal', 'Misión de vida', 'Salud mental/emocional'], ['Salud mental/emocional', 'Misión de vida', 'Desarrollo/crecimiento personal'], ['Desarrollo/crecimiento personal', 'Misión de vida', 'Salud mental/emocional'], ['Salud mental/emocional', 'Desarrollo/crecimiento personal', 'Misión de vida'], ['Desarrollo/crecimiento personal', 'Relaciones familiares/pareja', 'Trabajo'], ['Desarrollo/crecimiento personal', 'Dinero', 'Misión de vida'], ['Dinero', 'Desarrollo/crecimiento personal', 'Misión de vida'], ['Relaciones familiares/pareja'], ['Desarrollo/crecimiento personal', 'Misión de vida', 'Trabajo'], ['Trabajo', 'Desarrollo/crecimiento personal', 'Misión de vida'], ['Misión de vida', 'Salud mental/emocional', 'Relaciones familiares/pareja'], ['Misión de vida', 'Salud mental/emocional'], ['Salud mental/emocional', 'Desarrollo/crecimiento personal', 'Misión de vida'], ['Salud mental/emocional', 'Misión de vida', 'Desarrollo/crecimiento personal'], ['Misión de vida', 'Desarrollo/crecimiento personal', 'Salud mental/emocional'], ['Salud física', 'Salud mental/emocional', 'Fe/Religión'], ['Relaciones familiares/pareja', 'Salud mental/emocional'], ['Salud mental/emocional', 'Desarrollo/crecimiento personal'], ['Salud mental/emocional', 'Misión de vida'], ['Relaciones familiares/pareja', 'Misión de vida'], ['Misión de vida', 'Salud mental/emocional'], ['Salud mental/emocional', 'Misión de vida'], ['Salud mental/emocional', 'Desarrollo/crecimiento personal', 'Misión de vida'], ['Misión de vida', 'Desarrollo/crecimiento personal', 'Salud mental/emocional'], ['Misión de vida', 'Desarrollo/crecimiento personal'], ['Misión de vida', 'Desarrollo/crecimiento personal', 'Salud mental/emocional'], ['Relaciones familiares/pareja', 'Salud mental/emocional', 'Misión de vida'], ['Desarrollo/crecimiento personal', 'Misión de vida', 'Trabajo'], ['Desarrollo/crecimiento personal', 'Misión de vida', 'Trabajo'], ['Desarrollo/crecimiento personal', 'Salud mental/emocional', 'Relaciones familiares/pareja'], ['Desarrollo/crecimiento personal', 'Misión de vida'], ['Misión de vida', 'Desarrollo/crecimiento personal'], ['Salud mental/emocional', 'Misión de vida'], ['Salud física', 'Salud mental/emocional', 'Desarrollo/crecimiento personal'], ['Relaciones familiares/pareja', 'Desarrollo/crecimiento personal', 'Misión de vida'], ['Misión de vida', 'Desarrollo/crecimiento personal'], ['Misión de vida', 'Otros'], ['Misión de vida', 'Desarrollo/crecimiento personal', 'Salud mental/emocional'], ['Salud mental/emocional', 'Misión de vida'], ['Misión de vida', 'Desarrollo/crecimiento personal', 'Salud mental/emocional'], ['Misión de vida', 'Otros'], ['Misión de vida', 'Desarrollo/crecimiento personal', 'Salud mental/emocional'], ['Misión de vida', 'Desarrollo/crecimiento personal'], ['Misión de vida', 'Desarrollo/crecimiento personal'], ['Relaciones familiares/pareja', 'Desarrollo/crecimiento personal', 'Misión de vida'], ['Misión de vida', 'Desarrollo/crecimiento personal'], ['Relaciones familiares/pareja', 'Misión de vida', 'Desarrollo/crecimiento personal'], ['Misión de vida', 'Desarrollo/crecimiento personal'], ['Salud mental/emocional', 'Otros'], ['Desarrollo/crecimiento personal', 'Salud mental/emocional', 'Misión de vida'], ['Relaciones familiares/pareja'], ['Relaciones familiares/pareja'], ['Relaciones familiares/pareja'], ['Relaciones familiares/pareja'], ['Misión de vida', 'Desarrollo/crecimiento personal', 'Otros'], ['Misión de vida', 'Desarrollo/crecimiento personal', 'Otros'], ['Relaciones familiares/pareja', 'Salud mental/emocional', 'Misión de vida'], ['Desarrollo/crecimiento personal', 'Misión de vida'], ['Misión de vida', 'Desarrollo/crecimiento personal'], ['Desarrollo/crecimiento personal', 'Misión de vida'], ['Relaciones familiares/pareja', 'Amistad', 'Salud mental/emocional'], ['Relaciones familiares/pareja', 'Amistad', 'Salud mental/emocional'], ['Salud mental/emocional', 'Relaciones familiares/pareja', 'Desarrollo/crecimiento personal'], ['Relaciones familiares/pareja', 'Salud mental/emocional'], ['Desarrollo/crecimiento personal', 'Salud mental/emocional', 'Relaciones familiares/pareja'], ['Relaciones familiares/pareja', 'Amistad', 'Desarrollo/crecimiento personal'], ['Trabajo', 'Dinero', 'Otros'], ['Desarrollo/crecimiento personal', 'Misión de vida'], ['Misión de vida', 'Desarrollo/crecimiento personal', 'Salud mental/emocional'], ['Misión de vida', 'Desarrollo/crecimiento personal'], ['Relaciones familiares/pareja', 'Desarrollo/crecimiento personal', 'Misión de vida'], ['Relaciones familiares/pareja', 'Desarrollo/crecimiento personal', 'Misión de vida'], ['Salud mental/emocional', 'Misión de vida'], ['Salud mental/emocional', 'Desarrollo/crecimiento personal', 'Misión de vida'], ['Salud mental/emocional', 'Misión de vida'], ['Relaciones familiares/pareja', 'Salud mental/emocional', 'Otros'], ['Relaciones familiares/pareja'], ['Desarrollo/crecimiento personal', 'Misión de vida'], ['Salud mental/emocional', 'Misión de vida'], ['Desarrollo/crecimiento personal', 'Misión de vida', 'Salud mental/emocional'], ['Relaciones familiares/pareja', 'Salud mental/emocional', 'Misión de vida'], ['Salud mental/emocional', 'Misión de vida'], ['Relaciones familiares/pareja', 'Salud mental/emocional', 'Desarrollo/crecimiento personal'], ['Misión de vida'], ['Relaciones familiares/pareja', 'Desarrollo/crecimiento personal', 'Misión de vida'], ['Relaciones familiares/pareja', 'Dinero', 'Trabajo'], ['Salud mental/emocional', 'Relaciones familiares/pareja', 'Desarrollo/crecimiento personal'], ['Trabajo', 'Dinero', 'Salud mental/emocional'], ['Relaciones familiares/pareja', 'Trabajo'], ['Misión de vida', 'Desarrollo/crecimiento personal'], ['Relaciones familiares/pareja', 'Amistad', 'Misión de vida'], ['Relaciones familiares/pareja', 'Desarrollo/crecimiento personal', 'Misión de vida'], ['Misión de vida', 'Desarrollo/crecimiento personal'], ['Salud mental/emocional', 'Desarrollo/crecimiento personal', 'Misión de vida'], ['Misión de vida', 'Desarrollo/crecimiento personal'], ['Desarrollo/crecimiento personal', 'Salud mental/emocional', 'Misión de vida'], ['Desarrollo/crecimiento personal', 'Salud mental/emocional', 'Misión de vida'], ['Desarrollo/crecimiento personal', 'Salud mental/emocional'], ['Relaciones familiares/pareja', 'Amistad', 'Salud mental/emocional'], ['Relaciones familiares/pareja', 'Amistad', 'Salud mental/emocional'], ['Misión de vida', 'Relaciones familiares/pareja', 'Desarrollo/crecimiento personal'], ['Salud física', 'Salud mental/emocional', 'Desarrollo/crecimiento personal'], ['Relaciones familiares/pareja', 'Salud mental/emocional', 'Desarrollo/crecimiento personal'], ['Relaciones familiares/pareja', 'Misión de vida'], ['Relaciones familiares/pareja', 'Desarrollo/crecimiento personal'], ['Salud mental/emocional', 'Desarrollo/crecimiento personal', 'Misión de vida'], ['Desarrollo/crecimiento personal', 'Salud mental/emocional', 'Misión de vida'], ['Desarrollo/crecimiento personal', 'Salud mental/emocional', 'Misión de vida'], ['Misión de vida', 'Desarrollo/crecimiento personal'], ['Salud mental/emocional', 'Desarrollo/crecimiento personal', 'Misión de vida'], ['Salud mental/emocional', 'Desarrollo/crecimiento personal', 'Relaciones familiares/pareja'], ['Misión de vida', 'Trabajo'], ['Relaciones familiares/pareja', 'Desarrollo/crecimiento personal'], ['Salud mental/emocional', 'Misión de vida'], ['Salud mental/emocional', 'Misión de vida'], ['Salud física', 'Salud mental/emocional', 'Desarrollo/crecimiento personal'], ['Relaciones familiares/pareja', 'Desarrollo/crecimiento personal'], ['Misión de vida', 'Desarrollo/crecimiento personal', 'Salud mental/emocional'], ['Relaciones familiares/pareja'], ['Relaciones familiares/pareja', 'Desarrollo/crecimiento personal', 'Dinero'], ['Misión de vida', 'Salud mental/emocional', 'Desarrollo/crecimiento personal'], ['Salud física', 'Misión de vida'], ['Misión de vida', 'Desarrollo/crecimiento personal', 'Relaciones familiares/pareja'], ['Misión de vida', 'Salud mental/emocional'], ['Salud mental/emocional', 'Misión de vida', 'Relaciones familiares/pareja'], ['Relaciones familiares/pareja', 'Salud mental/emocional', 'Desarrollo/crecimiento personal'], ['Relaciones familiares/pareja', 'Misión de vida'], ['Salud mental/emocional', 'Desarrollo/crecimiento personal', 'Misión de vida'], ['Relaciones familiares/pareja', 'Salud mental/emocional', 'Misión de vida'], ['Salud física', 'Desarrollo/crecimiento personal', 'Misión de vida'], ['Desarrollo/crecimiento personal', 'Salud mental/emocional', 'Misión de vida'], ['Misión de vida', 'Salud mental/emocional'], ['Salud mental/emocional', 'Desarrollo/crecimiento personal', 'Otros'], ['Relaciones familiares/pareja', 'Amistad', 'Salud mental/emocional'], ['Desarrollo/crecimiento personal', 'Misión de vida'], ['Relaciones familiares/pareja', 'Amistad', 'Desarrollo/crecimiento personal'], ['Desarrollo/crecimiento personal', 'Misión de vida', 'Relaciones familiares/pareja'], ['Desarrollo/crecimiento personal', 'Misión de vida'], ['Misión de vida', 'Desarrollo/crecimiento personal', 'Salud mental/emocional'], ['Salud mental/emocional', 'Desarrollo/crecimiento personal'], ['Desarrollo/crecimiento personal', 'Misión de vida', 'Salud mental/emocional'], ['Salud mental/emocional', 'Desarrollo/crecimiento personal', 'Misión de vida'], ['Salud mental/emocional', 'Desarrollo/crecimiento personal', 'Misión de vida'], ['Salud mental/emocional', 'Desarrollo/crecimiento personal'], ['Desarrollo/crecimiento personal', 'Salud mental/emocional', 'Misión de vida'], ['Relaciones familiares/pareja', 'Salud mental/emocional'], ['Relaciones familiares/pareja', 'Amistad', 'Desarrollo/crecimiento personal'], ['Relaciones familiares/pareja', 'Salud mental/emocional', 'Desarrollo/crecimiento personal'], ['Desarrollo/crecimiento personal', 'Salud mental/emocional', 'Misión de vida'], ['Desarrollo/crecimiento personal', 'Salud mental/emocional', 'Relaciones familiares/pareja'], ['Desarrollo/crecimiento personal', 'Salud mental/emocional', 'Relaciones familiares/pareja'], ['Desarrollo/crecimiento personal', 'Relaciones familiares/pareja', 'Salud mental/emocional'], ['Desarrollo/crecimiento personal', 'Misión de vida', 'Salud mental/emocional'], ['Relaciones familiares/pareja', 'Salud física', 'Salud mental/emocional'], ['Misión de vida', 'Desarrollo/crecimiento personal'], ['Salud física', 'Salud mental/emocional', 'Relaciones familiares/pareja'], ['Relaciones familiares/pareja', 'Desarrollo/crecimiento personal'], ['Relaciones familiares/pareja', 'Salud mental/emocional', 'Fe/espiritualidad'], ['Misión de vida', 'Otros'], ['Otros'], ['Otros'], ['Otros'], ['Misión de vida', 'Desarrollo/crecimiento personal', 'Relaciones familiares/pareja'], ['Relaciones familiares/pareja', 'Desarrollo/crecimiento personal', 'Misión de vida'], ['Misión de vida', 'Salud mental/emocional', 'Relaciones familiares/pareja'], ['Relaciones familiares/pareja'], ['Misión de vida', 'Desarrollo/crecimiento personal'], ['Relaciones familiares/pareja'], ['Relaciones familiares/pareja', 'Desarrollo/crecimiento personal'], ['Desarrollo/crecimiento personal', 'Misión de vida'], ['Relaciones familiares/pareja', 'Salud física', 'Misión de vida'], ['Relaciones familiares/pareja'], ['Relaciones familiares/pareja', 'Salud mental/emocional', 'Misión de vida'], ['Desarrollo/crecimiento personal', 'Misión de vida', 'Salud mental/emocional'], ['Misión de vida', 'Desarrollo/crecimiento personal', 'Salud mental/emocional'], ['Desarrollo/crecimiento personal', 'Misión de vida', 'Salud mental/emocional'], ['Misión de vida', 'Desarrollo/crecimiento personal', 'Salud mental/emocional'], ['Relaciones familiares/pareja', 'Salud mental/emocional', 'Misión de vida'], ['Misión de vida', 'Desarrollo/crecimiento personal', 'Salud mental/emocional'], ['Misión de vida', 'Desarrollo/crecimiento personal'], ['Desarrollo/crecimiento personal', 'Salud mental/emocional'], ['Relaciones familiares/pareja', 'Amistad', 'Desarrollo/crecimiento personal'], ['Salud mental/emocional', 'Relaciones familiares/pareja', 'Desarrollo/crecimiento personal'], ['Desarrollo/crecimiento personal', 'Salud mental/emocional'], ['Relaciones familiares/pareja', 'Desarrollo/crecimiento personal', 'Salud mental/emocional'], ['Misión de vida', 'Desarrollo/crecimiento personal'], ['Misión de vida', 'Desarrollo/crecimiento personal', 'Salud mental/emocional'], ['Relaciones familiares/pareja', 'Desarrollo/crecimiento personal'], ['Desarrollo/crecimiento personal', 'Salud mental/emocional', 'Dinero'], ['Salud mental/emocional', 'Desarrollo/crecimiento personal', 'Misión de vida'], ['Misión de vida', 'Desarrollo/crecimiento personal'], ['Misión de vida', 'Otros'], ['Misión de vida', 'Salud espiritual'], ['Misión de vida', 'Desarrollo/crecimiento personal'], ['Salud mental/emocional', 'Misión de vida'], ['Desarrollo/crecimiento personal', 'Salud mental/emocional', 'Misión de vida'], ['Salud mental/emocional', 'Desarrollo/crecimiento personal', 'Misión de vida'], ['Salud mental/emocional', 'Desarrollo/crecimiento personal', 'Misión de vida'], ['Misión de vida', 'Desarrollo/crecimiento personal'], ['Salud mental/emocional', 'Desarrollo/crecimiento personal', 'Relaciones familiares/pareja'], ['Salud mental/emocional', 'Misión de vida', 'Desarrollo/crecimiento personal'], ['Misión de vida', 'Desarrollo/crecimiento personal'], ['Relaciones familiares/pareja', 'Misión de vida'], ['Misión de vida', 'Desarrollo/crecimiento personal'], ['Relaciones familiares/pareja', 'Misión de vida', 'Desarrollo/crecimiento personal'], ['Desarrollo/crecimiento personal', 'Misión de vida', 'Relaciones familiares/pareja'], ['Misión de vida', 'Desarrollo/crecimiento personal'], ['Misión de vida', 'Salud mental/emocional'], ['Salud física', 'Fe/Misión de vida'], ['Misión de vida', 'Desarrollo/crecimiento personal'], ['Desarrollo/crecimiento personal', 'Misión de vida', 'Salud mental/emocional'], ['Misión de vida', 'Desarrollo/crecimiento personal', 'Salud mental/emocional'], ['Desarrollo/crecimiento personal', 'Misión de vida'], ['Salud mental/emocional', 'Desarrollo/crecimiento personal', 'Misión de vida'], ['Salud mental/emocional', 'Desarrollo/crecimiento personal', 'Misión de vida'], ['Salud mental/emocional', 'Desarrollo/crecimiento personal', 'Misión de vida'], ['Salud mental/emocional', 'Desarrollo/crecimiento personal', 'Misión de vida'], ['Misión de vida', 'Desarrollo/crecimiento personal', 'Salud mental/emocional'], ['Salud mental/emocional', 'Desarrollo/crecimiento personal', 'Misión de vida'], ['Salud mental/emocional', 'Misión de vida', 'Desarrollo/crecimiento personal'], ['Salud mental/emocional', 'Desarrollo/crecimiento personal', 'Misión de vida'], ['Relaciones familiares/pareja', 'Salud mental/emocional', 'Desarrollo/crecimiento personal'], ['Misión de vida', 'Desarrollo/crecimiento personal'], ['Salud mental/emocional', 'Desarrollo/crecimiento personal'], ['Salud mental/emocional', 'Desarrollo/crecimiento personal', 'Misión de vida'], ['Salud mental/emocional', 'Desarrollo/crecimiento personal', 'Misión de vida'], ['Salud mental/emocional', 'Desarrollo/crecimiento personal', 'Misión de vida'], ['Salud mental/emocional', 'Desarrollo/crecimiento personal', 'Misión de vida'], ['Salud mental/emocional', 'Desarrollo/crecimiento personal', 'Misión de vida'], ['Salud mental/emocional', 'Desarrollo/crecimiento personal', 'Misión de vida'], ['Misión de vida', 'Desarrollo/crecimiento personal'], ['Misión de vida', 'Desarrollo/crecimiento personal'], ['Salud mental/emocional', 'Desarrollo/crecimiento personal', 'Misión de vida'], ['Salud mental/emocional', 'Desarrollo/crecimiento personal', 'Relaciones familiares/pareja'], ['Desarrollo/crecimiento personal', 'Misión de vida', 'Salud mental/emocional'], ['Desarrollo/crecimiento personal', 'Misión de vida', 'Salud mental/emocional'], ['Misión de vida', 'Desarrollo/crecimiento personal'], ['Misión de vida', 'Relaciones familiares/pareja'], ['Misión de vida', 'Desarrollo/crecimiento personal', 'Otros'], ['Misión de vida', 'Desarrollo/crecimiento personal', 'Otros'], ['Misión de vida', 'Desarrollo/crecimiento personal', 'Salud mental/emocional'], ['Misión de vida', 'Salud mental/emocional'], ['Misión de vida', 'Desarrollo/crecimiento personal'], ['Salud mental/emocional', 'Desarrollo/crecimiento personal', 'Misión de vida'], ['Desarrollo/crecimiento personal', 'Misión de vida', 'Salud mental/emocional'], ['Salud mental/emocional', 'Salud física', 'Misión de vida'], ['Relaciones familiares/pareja', 'Salud mental/emocional', 'Desarrollo/crecimiento personal'], ['Relaciones familiares/pareja', 'Salud mental/emocional', 'Desarrollo/crecimiento personal'], ['Salud mental/emocional', 'Desarrollo/crecimiento personal', 'Misión de vida'], ['Misión de vida', 'Desarrollo/crecimiento personal'], ['Salud mental/emocional', 'Desarrollo/crecimiento personal', 'Misión de vida'], ['Salud mental/emocional', 'Desarrollo/crecimiento personal'], ['Misión de vida', 'Desarrollo/crecimiento personal', 'Salud mental/emocional'], ['Misión de vida', 'Salud mental/emocional'], ['Desarrollo/crecimiento personal', 'Salud mental/emocional'], ['Misión de vida', 'Salud mental/emocional', 'Desarrollo/crecimiento personal'], ['Salud mental/emocional', 'Desarrollo/crecimiento personal', 'Misión de vida'], ['Misión de vida', 'Salud mental/emocional'], ['Misión de vida', 'Desarrollo/crecimiento personal', 'Salud mental/emocional'], ['Trabajo', 'Relaciones familiares/pareja', 'Desarrollo/crecimiento personal'], ['Salud mental/emocional', 'Misión de vida'], ['Misión de vida', 'Salud mental/emocional'], ['Misión de vida', 'Relaciones familiares/pareja', 'Desarrollo/crecimiento personal'], ['Misión de vida', 'Desarrollo/crecimiento personal'], ['Misión de vida', 'Desarrollo/crecimiento personal', 'Salud mental/emocional'], ['Misión de vida', 'Salud mental/emocional', 'Desarrollo/crecimiento personal'], ['Desarrollo/crecimiento personal', 'Misión de vida'], ['Misión de vida', 'Desarrollo/crecimiento personal'], ['Misión de vida', 'Salud mental/emocional'], ['Salud mental/emocional', 'Desarrollo/crecimiento personal', 'Misión de vida'], ['Salud mental/emocional', 'Misión de vida', 'Desarrollo/crecimiento personal'], ['Misión de vida', 'Desarrollo/crecimiento personal', 'Salud mental/emocional'], ['Salud física', 'Salud mental/emocional', 'Desarrollo/crecimiento personal'], ['Salud mental/emocional', 'Desarrollo/crecimiento personal', 'Relaciones familiares/pareja'], ['Misión de vida', 'Desarrollo/crecimiento personal', 'Salud mental/emocional'], ['Salud física', 'Salud mental/emocional', 'Desarrollo/crecimiento personal'], ['Relaciones familiares/pareja', 'Misión de vida'], ['Misión de vida', 'Desarrollo/crecimiento personal', 'Salud mental/emocional'], ['Salud mental/emocional', 'Desarrollo/crecimiento personal', 'Relaciones familiares/pareja'], ['Salud mental/emocional', 'Desarrollo/crecimiento personal', 'Relaciones familiares/pareja'], ['Misión de vida', 'Desarrollo/crecimiento personal', 'Salud mental/emocional'], ['Salud mental/emocional', 'Misión de vida'], ['Salud mental/emocional', 'Desarrollo/crecimiento personal', 'Misión de vida'], ['Misión de vida', 'Salud mental/emocional', 'Otros'], ['Relaciones familiares/pareja', 'Desarrollo/crecimiento personal', 'Salud mental/emocional'], ['Misión de vida', 'Desarrollo/crecimiento personal'], ['Salud física', 'Otros'], ['Salud mental/emocional', 'Relaciones familiares/pareja', 'Amistad'], ['Desarrollo/crecimiento personal', 'Salud mental/emocional', 'Misión de vida'], ['Misión de vida', 'Desarrollo/crecimiento personal'], ['Desarrollo/crecimiento personal', 'Misión de vida', 'Salud mental/emocional'], ['Misión de vida', 'Salud mental/emocional'], ['Misión de vida', 'Salud mental/emocional'], ['Misión de vida', 'Desarrollo/crecimiento personal'], ['Relaciones familiares/pareja', 'Salud mental/emocional', 'Misión de vida'], ['Misión de vida', 'Desarrollo/crecimiento personal'], ['Relaciones familiares/pareja', 'Amistad', 'Desarrollo/crecimiento personal'], ['Misión de vida', 'Salud mental/emocional', 'Desarrollo/crecimiento personal'], ['Relaciones familiares/pareja', 'Desarrollo/crecimiento personal', 'Misión de vida'], ['Misión de vida', 'Salud mental/emocional', 'Desarrollo/crecimiento personal'], ['Relaciones familiares/pareja', 'Salud mental/emocional', 'Misión de vida'], ['Relaciones familiares/pareja', 'Misión de vida', 'Desarrollo/crecimiento personal'], ['Desarrollo/crecimiento personal', 'Misión de vida'], ['Salud mental/emocional', 'Desarrollo/crecimiento personal'], ['Relaciones familiares/pareja', 'Salud mental/emocional', 'Misión de vida'], ['Misión de vida', 'Desarrollo/crecimiento personal'], ['Relaciones familiares/pareja', 'Misión de vida', 'Desarrollo/crecimiento personal'], ['Desarrollo/crecimiento personal', 'Salud mental/emocional', 'Relaciones familiares/pareja'], ['Amistad', 'Desarrollo/crecimiento personal'], ['Desarrollo/crecimiento personal', 'Misión de vida'], ['Misión de vida', 'Desarrollo/crecimiento personal'], ['Desarrollo/crecimiento personal', 'Misión de vida'], ['Desarrollo/crecimiento personal', 'Misión de vida', 'Relaciones familiares/pareja'], ['Desarrollo/crecimiento personal', 'Misión de vida', 'Relaciones familiares/pareja'], ['Relaciones familiares/pareja', 'Desarrollo/crecimiento personal', 'Misión de vida'], ['Salud física', 'Salud mental/emocional', 'Relaciones familiares/pareja'], ['Misión de vida', 'Salud mental/emocional', 'Desarrollo/crecimiento personal'], ['Salud mental/emocional', 'Desarrollo/crecimiento personal', 'Misión de vida'], ['Relaciones familiares/pareja', 'Amistad', 'Misión de vida'], ['Misión de vida', 'Desarrollo/crecimiento personal'], ['Misión de vida', 'Relaciones familiares/pareja', 'Salud mental/emocional'], ['Misión de vida', 'Desarrollo/crecimiento personal', 'Relaciones familiares/pareja'], ['Misión de vida', 'Desarrollo/crecimiento personal'], ['Relaciones familiares/pareja', 'Desarrollo/crecimiento personal', 'Misión de vida'], ['Misión de vida', 'Desarrollo/crecimiento personal'], ['Misión de vida', 'Desarrollo/crecimiento personal'], ['Misión de vida', 'Desarrollo/crecimiento personal'], ['Relaciones familiares/pareja', 'Misión de vida', 'Desarrollo/crecimiento personal'], ['Relaciones familiares/pareja', 'Misión de vida', 'Desarrollo/crecimiento personal'], ['Misión de vida', 'Desarrollo/crecimiento personal', 'Salud mental/emocional'], ['Desarrollo/crecimiento personal', 'Misión de vida'], ['Misión de vida', 'Desarrollo/crecimiento personal'], ['Misión de vida', 'Desarrollo/crecimiento personal'], ['Misión de vida', 'Desarrollo/crecimiento personal'], ['Relaciones familiares/pareja', 'Salud mental/emocional', 'Misión de vida'], ['Misión de vida', 'Desarrollo/crecimiento personal', 'Salud mental/emocional'], ['Relaciones familiares/pareja', 'Amistad', 'Desarrollo/crecimiento personal'], ['Relaciones familiares/pareja', 'Salud mental/emocional', 'Desarrollo/crecimiento personal'], ['Relaciones familiares/pareja', 'Desarrollo/crecimiento personal', 'Salud mental/emocional'], ['Misión de vida', 'Salud espiritual'], ['Desarrollo/crecimiento personal', 'Misión de vida', 'Salud mental/emocional'], ['Misión de vida', 'Desarrollo/crecimiento personal'], ['Desarrollo/crecimiento personal', 'Misión de vida', 'Salud mental/emocional'], ['Salud física', 'Salud mental/emocional', 'Relaciones familiares/pareja'], ['Salud mental/emocional', 'Desarrollo/crecimiento personal', 'Misión de vida'], ['Salud mental/emocional', 'Desarrollo/crecimiento personal', 'Misión de vida'], ['Desarrollo/crecimiento personal', 'Misión de vida', 'Salud mental/emocional'], ['Misión de vida', 'Salud mental/emocional'], ['Relaciones familiares/pareja', 'Misión de vida'], ['Relaciones familiares/pareja', 'Amistad', 'Desarrollo/crecimiento personal'], ['Relaciones familiares/pareja', 'Otros'], ['Relaciones familiares/pareja', 'Salud mental/emocional'], ['Relaciones familiares/pareja'], ['Relaciones familiares/pareja', 'Misión de vida'], ['Desarrollo/crecimiento personal', 'Salud mental/emocional', 'Misión de vida'], ['Dinero', 'Misión de vida'], ['Misión de vida', 'Salud mental/emocional'], ['Misión de vida', 'Salud mental/emocional'], ['Salud mental/emocional', 'Desarrollo/crecimiento personal'], ['Salud mental/emocional', 'Desarrollo/crecimiento personal', 'Relaciones familiares/pareja'], ['Misión de vida', 'Salud mental/emocional'], ['Desarrollo/crecimiento personal', 'Misión de vida', 'Trabajo'], ['Desarrollo/crecimiento personal', 'Misión de vida', 'Relaciones familiares/pareja'], ['Desarrollo/crecimiento personal', 'Relaciones familiares/pareja', 'Trabajo'], ['Desarrollo/crecimiento personal', 'Relaciones familiares/pareja'], ['Relaciones familiares/pareja', 'Amistad', 'Salud mental/emocional'], ['Relaciones familiares/pareja', 'Desarrollo/crecimiento personal', 'Salud mental/emocional'], ['Misión de vida', 'Relaciones familiares/pareja'], ['Relaciones familiares/pareja', 'Misión de vida'], ['Misión de vida', 'Salud mental/emocional'], ['Relaciones familiares/pareja', 'Misión de vida'], ['Misión de vida', 'Salud mental/emocional'], ['Relaciones familiares/pareja', 'Misión de vida', 'Salud mental/emocional'], ['Misión de vida', 'Fe/Confianza en Dios'], ['Salud mental/emocional', 'Misión de vida'], ['Relaciones familiares/pareja', 'Salud mental/emocional', 'Desarrollo/crecimiento personal'], ['Relaciones familiares/pareja', 'Salud mental/emocional'], ['Relaciones familiares/pareja', 'Misión de vida'], ['Relaciones familiares/pareja', 'Salud mental/emocional', 'Misión de vida'], ['Relaciones familiares/pareja', 'Misión de vida'], ['Salud mental/emocional', 'Misión de vida'], ['Relaciones familiares/pareja', 'Amistad', 'Salud mental/emocional'], ['Relaciones familiares/pareja', 'Amistad', 'Dinero'], ['Salud mental/emocional', 'Desarrollo/crecimiento personal', 'Misión de vida'], ['Salud física', 'Misión de vida', 'Desarrollo/crecimiento personal'], ['Relaciones familiares/pareja', 'Amistad', 'Desarrollo/crecimiento personal'], ['Misión de vida', 'Desarrollo/crecimiento personal'], ['Dinero', 'Misión de vida'], ['Dinero', 'Misión de vida'], ['Salud física', 'Salud mental/emocional', 'Desarrollo/crecimiento personal'], ['Relaciones familiares/pareja'], ['Relaciones familiares/pareja'], ['Relaciones familiares/pareja', 'Desarrollo/crecimiento personal'], ['Misión de vida', 'Salud mental/emocional'], ['Salud mental/emocional', 'Desarrollo/crecimiento personal', 'Misión de vida'], ['Relaciones familiares/pareja', 'Salud mental/emocional', 'Desarrollo/crecimiento personal'], ['Misión de vida', 'Desarrollo/crecimiento personal'], ['Relaciones familiares/pareja', 'Amistad', 'Misión de vida'], ['Salud mental/emocional', 'Desarrollo/crecimiento personal', 'Misión de vida'], ['Salud física', 'Misión de vida', 'Desarrollo/crecimiento personal'], ['Salud mental/emocional', 'Fe/espiritualidad'], ['Salud física', 'Salud mental/emocional', 'Fe/Misión de vida'], ['Misión de vida', 'Desarrollo/crecimiento personal'], ['Misión de vida', 'Desarrollo/crecimiento personal', 'Salud mental/emocional'], ['Desarrollo/crecimiento personal', 'Salud mental/emocional', 'Misión de vida'], ['Relaciones familiares/pareja', 'Amistad', 'Desarrollo/crecimiento personal'], ['Misión de vida', 'Salud física', 'Salud mental/emocional'], ['Relaciones familiares/pareja', 'Amistad', 'Misión de vida'], ['Misión de vida', 'Salud mental/emocional'], ['Misión de vida', 'Salud mental/emocional'], ['Relaciones familiares/pareja', 'Amistad', 'Misión de vida'], ['Desarrollo/crecimiento personal', 'Misión de vida', 'Relaciones familiares/pareja'], ['Salud mental/emocional', 'Desarrollo/crecimiento personal', 'Misión de vida'], ['Misión de vida', 'Relaciones familiares/pareja'], ['Misión de vida', 'Desarrollo/crecimiento personal', 'Relaciones familiares/pareja'], ['Desarrollo/crecimiento personal', 'Misión de vida', 'Salud mental/emocional'], ['Salud mental/emocional', 'Desarrollo/crecimiento personal', 'Misión de vida'], ['Dinero', 'Relaciones familiares/pareja', 'Misión de vida'], ['Relaciones familiares/pareja', 'Misión de vida', 'Salud mental/emocional'], ['Relaciones familiares/pareja', 'Amistad', 'Salud mental/emocional'], ['Desarrollo/crecimiento personal', 'Misión de vida'], ['Relaciones familiares/pareja', 'Amistad', 'Salud mental/emocional'], ['Desarrollo/crecimiento personal', 'Misión de vida', 'Salud mental/emocional'], ['Misión de vida', 'Relaciones familiares/pareja', 'Desarrollo/crecimiento personal'], ['Relaciones familiares/pareja'], ['Relaciones familiares/pareja', 'Misión de vida'], ['Misión de vida', 'Salud mental/emocional', 'Desarrollo/crecimiento personal'], ['Salud mental/emocional', 'Desarrollo/crecimiento personal', 'Misión de vida'], ['Dinero', 'Misión de vida'], ['Relaciones familiares/pareja', 'Misión de vida'], ['Relaciones familiares/pareja', 'Amistad', 'Misión de vida'], ['Misión de vida', 'Desarrollo/crecimiento personal'], ['Relaciones familiares/pareja', 'Amistad', 'Misión de vida'], ['Salud mental/emocional', 'Misión de vida'], ['Misión de vida', 'Desarrollo/crecimiento personal', 'Relaciones familiares/pareja'], ['Misión de vida', 'Desarrollo/crecimiento personal', 'Relaciones familiares/pareja'], ['Desarrollo/crecimiento personal', 'Misión de vida', 'Salud mental/emocional'], ['Desarrollo/crecimiento personal', 'Misión de vida', 'Relaciones familiares/pareja'], ['Relaciones familiares/pareja', 'Amistad', 'Salud mental/emocional'], ['Relaciones familiares/pareja', 'Desarrollo/crecimiento personal'], ['Relaciones familiares/pareja', 'Amistad', 'Desarrollo/crecimiento personal'], ['Relaciones familiares/pareja', 'Amistad', 'Salud mental/emocional'], ['Relaciones familiares/pareja', 'Amistad', 'Desarrollo/crecimiento personal'], ['Relaciones familiares/pareja', 'Salud mental/emocional', 'Desarrollo/crecimiento personal'], ['Desarrollo/crecimiento personal', 'Misión de vida', 'Relaciones familiares/pareja'], ['Salud mental/emocional', 'Desarrollo/crecimiento personal', 'Misión de vida'], ['Misión de vida', 'Desarrollo/crecimiento personal', 'Dinero'], ['Misión de vida', 'Salud mental/emocional'], ['Misión de vida', 'Salud mental/emocional'], ['Salud mental/emocional', 'Desarrollo/crecimiento personal', 'Misión de vida'], ['Relaciones familiares/pareja', 'Salud mental/emocional', 'Misión de vida'], ['Relaciones familiares/pareja', 'Amistad', 'Desarrollo/crecimiento personal'], ['Desarrollo/crecimiento personal', 'Misión de vida'], ['Misión de vida', 'Salud mental/emocional', 'Desarrollo/crecimiento personal'], ['Desarrollo/crecimiento personal', 'Misión de vida', 'Salud mental/emocional'], ['Salud mental/emocional', 'Desarrollo/crecimiento personal', 'Misión de vida'], ['Desarrollo/crecimiento personal', 'Misión de vida'], ['Salud física', 'Salud mental/emocional', 'Desarrollo/crecimiento personal'], ['Misión de vida', 'Salud mental/emocional', 'Desarrollo/crecimiento personal'], ['Salud mental/emocional', 'Desarrollo/crecimiento personal', 'Misión de vida'], ['Relaciones familiares/pareja', 'Salud mental/emocional', 'Desarrollo/crecimiento personal'], ['Relaciones familiares/pareja', 'Desarrollo/crecimiento personal', 'Otros'], ['Relaciones familiares/pareja', 'Salud mental/emocional'], ['Relaciones familiares/pareja', 'Misión de vida'], ['Relaciones familiares/pareja', 'Misión de vida'], ['Trabajo', 'Dinero', 'Desarrollo/crecimiento personal'], ['Desarrollo/crecimiento personal', 'Relaciones familiares/pareja', 'Salud mental/emocional'], ['Desarrollo/crecimiento personal', 'Relaciones familiares/pareja'], ['Dinero', 'Desarrollo/crecimiento personal', 'Relaciones familiares/pareja'], ['Desarrollo/crecimiento personal', 'Relaciones familiares/pareja', 'Salud mental/emocional'], ['Desarrollo/crecimiento personal', 'Relaciones familiares/pareja', 'Amistad'], ['Relaciones familiares/pareja', 'Amistad', 'Desarrollo/crecimiento personal'], ['Relaciones familiares/pareja', 'Desarrollo/crecimiento personal'], ['Desarrollo/crecimiento personal', 'Salud mental/emocional'], ['Relaciones familiares/pareja', 'Desarrollo/crecimiento personal', 'Salud mental/emocional'], ['Relaciones familiares/pareja', 'Amistad', 'Desarrollo/crecimiento personal'], ['Relaciones familiares/pareja', 'Salud mental/emocional', 'Desarrollo/crecimiento personal'], ['Desarrollo/crecimiento personal', 'Misión de vida'], ['Desarrollo/crecimiento personal', 'Salud mental/emocional'], ['Desarrollo/crecimiento personal', 'Misión de vida'], ['Desarrollo/crecimiento personal', 'Salud mental/emocional'], ['Relaciones familiares/pareja', 'Amistad', 'Salud mental/emocional'], ['Salud mental/emocional', 'Desarrollo/crecimiento personal', 'Misión de vida'], ['Desarrollo/crecimiento personal', 'Salud mental/emocional'], ['Relaciones familiares/pareja'], ['Desarrollo/crecimiento personal', 'Relaciones familiares/pareja'], ['Relaciones familiares/pareja', 'Dinero'], ['Desarrollo/crecimiento personal', 'Relaciones familiares/pareja', 'Amistad'], ['Salud mental/emocional', 'Desarrollo/crecimiento personal', 'Misión de vida'], ['Desarrollo/crecimiento personal'], ['Salud física', 'Salud mental/emocional', 'Desarrollo/crecimiento personal'], ['Desarrollo/crecimiento personal', 'Trabajo', 'Misión de vida'], ['Relaciones familiares/pareja', 'Desarrollo/crecimiento personal'], ['Relaciones familiares/pareja', 'Desarrollo/crecimiento personal', 'Misión de vida'], ['Desarrollo/crecimiento personal', 'Misión de vida'], ['Relaciones familiares/pareja', 'Salud mental/emocional'], ['Relaciones familiares/pareja', 'Desarrollo/crecimiento personal'], ['Desarrollo/crecimiento personal', 'Dinero', 'Misión de vida'], ['Relaciones familiares/pareja', 'Desarrollo/crecimiento personal'], ['Relaciones familiares/pareja', 'Desarrollo/crecimiento personal'], ['Desarrollo/crecimiento personal', 'Trabajo', 'Salud mental/emocional'], ['Trabajo', 'Dinero'], ['Desarrollo/crecimiento personal', 'Salud mental/emocional', 'Relaciones familiares/pareja'], ['Desarrollo/crecimiento personal', 'Misión de vida'], ['Desarrollo/crecimiento personal', 'Salud mental/emocional'], ['Salud mental/emocional', 'Desarrollo/crecimiento personal', 'Misión de vida'], ['Desarrollo/crecimiento personal', 'Misión de vida', 'Salud mental/emocional'], ['Salud mental/emocional', 'Desarrollo/crecimiento personal', 'Misión de vida'], ['Desarrollo/crecimiento personal', 'Misión de vida'], ['Relaciones familiares/pareja', 'Desarrollo/crecimiento personal', 'Salud mental/emocional'], ['Desarrollo/crecimiento personal', 'Salud mental/emocional'], ['Salud mental/emocional', 'Salud física'], ['Salud mental/emocional', 'Desarrollo/crecimiento personal', 'Misión de vida'], ['Relaciones familiares/pareja', 'Amistad', 'Desarrollo/crecimiento personal'], ['Desarrollo/crecimiento personal', 'Relaciones familiares/pareja', 'Amistad'], ['Misión de vida', 'Desarrollo/crecimiento personal', 'Salud mental/emocional'], ['Dinero', 'Desarrollo/crecimiento personal', 'Misión de vida'], ['Desarrollo/crecimiento personal', 'Misión de vida'], ['Relaciones familiares/pareja'], ['Relaciones familiares/pareja', 'Desarrollo/crecimiento personal', 'Misión de vida'], ['Relaciones familiares/pareja', 'Desarrollo/crecimiento personal'], ['Relaciones familiares/pareja', 'Desarrollo/crecimiento personal', 'Salud mental/emocional'], ['Desarrollo/crecimiento personal', 'Misión de vida'], ['Misión de vida', 'Desarrollo/crecimiento personal'], ['Desarrollo/crecimiento personal', 'Misión de vida'], ['Misión de vida', 'Desarrollo/crecimiento personal', 'Salud mental/emocional'], ['Desarrollo/crecimiento personal', 'Misión de vida', 'Salud mental/emocional'], ['Relaciones familiares/pareja', 'Amistad', 'Desarrollo/crecimiento personal'], ['Relaciones familiares/pareja', 'Amistad', 'Salud mental/emocional'], ['Relaciones familiares/pareja', 'Amistad', 'Desarrollo/crecimiento personal'], ['Misión de vida', 'Dinero', 'Trabajo'], ['Relaciones familiares/pareja', 'Amistad', 'Desarrollo/crecimiento personal'], ['Misión de vida', 'Desarrollo/crecimiento personal', 'Salud mental/emocional'], ['Desarrollo/crecimiento personal', 'Salud mental/emocional', 'Misión de vida'], ['Relaciones familiares/pareja', 'Amistad', 'Desarrollo/crecimiento personal'], ['Desarrollo/crecimiento personal', 'Salud mental/emocional'], ['Salud mental/emocional', 'Desarrollo/crecimiento personal', 'Misión de vida'], ['Salud mental/emocional', 'Relaciones familiares/pareja'], ['Misión de vida', 'Desarrollo/crecimiento personal', 'Salud espiritual'], ['Desarrollo/crecimiento personal', 'Salud mental/emocional', 'Misión de vida'], ['Misión de vida', 'Desarrollo/crecimiento personal', 'Salud mental/emocional'], ['Misión de vida', 'Desarrollo/crecimiento personal'], ['Relaciones familiares/pareja', 'Salud mental/emocional'], ['Salud mental/emocional', 'Desarrollo/crecimiento personal', 'Misión de vida'], ['Desarrollo/crecimiento personal', 'Salud mental/emocional', 'Misión de vida'], ['Relaciones familiares/pareja', 'Desarrollo/crecimiento personal', 'Misión de vida'], ['Misión de vida', 'Desarrollo/crecimiento personal', 'Salud mental/emocional'], ['Salud mental/emocional', 'Desarrollo/crecimiento personal', 'Misión de vida'], ['Desarrollo/crecimiento personal', 'Salud mental/emocional', 'Misión de vida'], ['Desarrollo/crecimiento personal', 'Misión de vida', 'Salud mental/emocional'], ['Desarrollo/crecimiento personal', 'Misión de vida', 'Salud mental/emocional'], ['Desarrollo/crecimiento personal', 'Misión de vida'], ['Relaciones familiares/pareja'], ['Salud física', 'Salud mental/emocional', 'Misión de vida'], ['Relaciones familiares/pareja', 'Salud mental/emocional', 'Misión de vida'], ['Salud mental/emocional', 'Desarrollo/crecimiento personal', 'Misión de vida'], ['Misión de vida', 'Salud mental/emocional', 'Desarrollo/crecimiento personal'], ['Salud mental/emocional', 'Desarrollo/crecimiento personal', 'Misión de vida'], ['Misión de vida', 'Salud mental/emocional', 'Desarrollo/crecimiento personal'], ['Salud mental/emocional', 'Misión de vida'], ['Salud mental/emocional', 'Misión de vida', 'Desarrollo/crecimiento personal'], ['Salud mental/emocional', 'Desarrollo/crecimiento personal', 'Misión de vida'], ['Salud mental/emocional', 'Desarrollo/crecimiento personal', 'Misión de vida'], ['Misión de vida', 'Salud mental/emocional'], ['Misión de vida', 'Salud mental/emocional'], ['Misión de vida', 'Salud mental/emocional'], ['Misión de vida', 'Salud mental/emocional'], ['Salud mental/emocional', 'Desarrollo/crecimiento personal'], ['Salud mental/emocional', 'Desarrollo/crecimiento personal', 'Misión de vida'], ['Salud mental/emocional', 'Desarrollo/crecimiento personal', 'Misión de vida'], ['Salud física', 'Salud mental/emocional', 'Desarrollo/crecimiento personal'], ['Salud física', 'Desarrollo/crecimiento personal', 'Misión de vida'], ['Relaciones familiares/pareja', 'Salud mental/emocional', 'Misión de vida'], ['Salud física', 'Relaciones familiares/pareja', 'Misión de vida'], ['Salud mental/emocional', 'Relaciones familiares/pareja', 'Misión de vida'], ['Salud física', 'Salud mental/emocional'], ['Misión de vida', 'Salud mental/emocional'], ['Salud mental/emocional', 'Desarrollo/crecimiento personal', 'Misión de vida'], ['Salud mental/emocional', 'Desarrollo/crecimiento personal', 'Misión de vida'], ['Salud mental/emocional', 'Desarrollo/crecimiento personal', 'Misión de vida'], ['Misión de vida', 'Salud mental/emocional'], ['Misión de vida', 'Relaciones familiares/pareja'], ['Relaciones familiares/pareja', 'Desarrollo/crecimiento personal', 'Misión de vida'], ['Salud mental/emocional', 'Desarrollo/crecimiento personal', 'Misión de vida'], ['Salud mental/emocional', 'Desarrollo/crecimiento personal', 'Misión de vida'], ['Misión de vida', 'Desarrollo/crecimiento personal'], ['Relaciones familiares/pareja', 'Salud mental/emocional'], ['Salud mental/emocional', 'Misión de vida'], ['Salud física', 'Salud mental/emocional', 'Misión de vida'], ['Misión de vida', 'Salud mental/emocional'], ['Misión de vida', 'Desarrollo/crecimiento personal'], ['Desarrollo/crecimiento personal', 'Misión de vida'], ['Desarrollo/crecimiento personal', 'Misión de vida', 'Salud mental/emocional'], ['Desarrollo/crecimiento personal', 'Salud mental/emocional'], ['Salud mental/emocional', 'Desarrollo/crecimiento personal', 'Misión de vida'], ['Desarrollo/crecimiento personal', 'Misión de vida'], ['Desarrollo/crecimiento personal', 'Misión de vida', 'Salud mental/emocional'], ['Salud mental/emocional', 'Desarrollo/crecimiento personal'], ['Misión de vida', 'Desarrollo/crecimiento personal'], ['Salud mental/emocional', 'Desarrollo/crecimiento personal'], ['Desarrollo/crecimiento personal', 'Misión de vida'], ['Relaciones familiares/pareja', 'Amistad', 'Salud mental/emocional'], ['Salud mental/emocional', 'Desarrollo/crecimiento personal', 'Misión de vida'], ['Salud mental/emocional', 'Desarrollo/crecimiento personal'], ['Misión de vida', 'Trabajo', 'Desarrollo/crecimiento personal'], ['Salud mental/emocional', 'Desarrollo/crecimiento personal', 'Trabajo'], ['Relaciones familiares/pareja'], ['Misión de vida', 'Trabajo', 'Salud mental/emocional'], ['Relaciones familiares/pareja', 'Desarrollo/crecimiento personal'], ['Misión de vida', 'Relaciones familiares/pareja', 'Salud mental/emocional'], ['Salud mental/emocional', 'Desarrollo/crecimiento personal', 'Misión de vida'], ['Misión de vida', 'Salud mental/emocional', 'Desarrollo/crecimiento personal'], ['Relaciones familiares/pareja', 'Salud mental/emocional', 'Desarrollo/crecimiento personal'], ['Salud mental/emocional', 'Desarrollo/crecimiento personal', 'Misión de vida'], ['Misión de vida', 'Salud mental/emocional', 'Desarrollo/crecimiento personal'], ['Salud mental/emocional', 'Misión de vida'], ['Salud mental/emocional', 'Misión de vida'], ['Misión de vida', 'Salud mental/emocional'], ['Salud mental/emocional', 'Misión de vida', 'Desarrollo/crecimiento personal'], ['Desarrollo/crecimiento personal', 'Salud mental/emocional'], ['Salud física', 'Misión de vida'], ['Relaciones familiares/pareja', 'Desarrollo/crecimiento personal'], ['Salud física', 'Salud mental/emocional', 'Desarrollo/crecimiento personal'], ['Relaciones familiares/pareja', 'Salud mental/emocional'], ['Salud mental/emocional', 'Relaciones familiares/pareja'], ['Misión de vida', 'Desarrollo/crecimiento personal'], ['Misión de vida', 'Salud mental/emocional', 'Diversión/Hobbies'], ['Misión de vida', 'Diversión/Hobbies'], ['Misión de vida', 'Salud mental/emocional'], ['Salud mental/emocional', 'Misión de vida'], ['Desarrollo/crecimiento personal', 'Misión de vida'], ['Salud mental/emocional', 'Desarrollo/crecimiento personal', 'Misión de vida'], ['Desarrollo/crecimiento personal', 'Relaciones familiares/pareja', 'Salud mental/emocional'], ['Misión de vida', 'Salud mental/emocional', 'Desarrollo/crecimiento personal'], ['Misión de vida', 'Desarrollo/crecimiento personal'], ['Salud mental/emocional', 'Desarrollo/crecimiento personal', 'Misión de vida'], ['Salud física', 'Salud mental/emocional', 'Desarrollo/crecimiento personal'], ['Salud mental/emocional', 'Desarrollo/crecimiento personal', 'Misión de vida'], ['Misión de vida', 'Salud mental/emocional'], ['Salud mental/emocional', 'Desarrollo/crecimiento personal', 'Misión de vida'], ['Salud mental/emocional', 'Misión de vida'], ['Salud mental/emocional', 'Misión de vida'], ['Misión de vida', 'Salud mental/emocional', 'Desarrollo/crecimiento personal'], ['Desarrollo/crecimiento personal', 'Misión de vida'], ['Desarrollo/crecimiento personal', 'Misión de vida', 'Salud mental/emocional'], ['Salud mental/emocional', 'Misión de vida', 'Desarrollo/crecimiento personal'], ['Relaciones familiares/pareja', 'Salud mental/emocional', 'Misión de vida'], ['Desarrollo/crecimiento personal', 'Salud mental/emocional', 'Misión de vida'], ['Salud mental/emocional', 'Desarrollo/crecimiento personal', 'Misión de vida'], ['Salud mental/emocional', 'Desarrollo/crecimiento personal', 'Misión de vida'], ['Salud mental/emocional', 'Desarrollo/crecimiento personal', 'Misión de vida'], ['Salud mental/emocional', 'Desarrollo/crecimiento personal', 'Misión de vida'], ['Relaciones familiares/pareja', 'Misión de vida'], ['Misión de vida', 'Desarrollo/crecimiento personal'], ['Salud mental/emocional', 'Desarrollo/crecimiento personal'], ['Salud mental/emocional', 'Desarrollo/crecimiento personal', 'Misión de vida'], ['Salud mental/emocional', 'Desarrollo/crecimiento personal', 'Misión de vida'], ['Misión de vida', 'Desarrollo/crecimiento personal', 'Salud mental/emocional'], ['Salud mental/emocional', 'Desarrollo/crecimiento personal', 'Misión de vida'], ['Misión de vida', 'Salud mental/emocional'], ['Misión de vida', 'Salud mental/emocional'], ['Desarrollo/crecimiento personal', 'Misión de vida'], ['Desarrollo/crecimiento personal', 'Salud mental/emocional', 'Relaciones familiares/pareja'], ['Salud mental/emocional', 'Desarrollo/crecimiento personal'], ['Salud mental/emocional', 'Desarrollo/crecimiento personal', 'Misión de vida'], ['Salud física', 'Salud mental/emocional'], ['Salud mental/emocional', 'Misión de vida'], ['Salud mental/emocional', 'Desarrollo/crecimiento personal', 'Misión de vida'], ['Salud mental/emocional', 'Desarrollo/crecimiento personal', 'Misión de vida'], ['Salud mental/emocional', 'Relaciones familiares/pareja', 'Amistad'], ['Misión de vida', 'Desarrollo/crecimiento personal'], ['Desarrollo/crecimiento personal', 'Salud mental/emocional'], ['Salud mental/emocional', 'Desarrollo/crecimiento personal', 'Misión de vida'], ['Misión de vida', 'Desarrollo/crecimiento personal'], ['Misión de vida', 'Salud mental/emocional', 'Desarrollo/crecimiento personal'], ['Salud mental/emocional', 'Desarrollo/crecimiento personal', 'Misión de vida'], ['Desarrollo/crecimiento personal', 'Salud mental/emocional', 'Relaciones familiares/pareja'], ['Salud mental/emocional', 'Desarrollo/crecimiento personal', 'Misión de vida'], ['Salud mental/emocional', 'Desarrollo/crecimiento personal', 'Misión de vida'], ['Salud mental/emocional', 'Salud física'], ['Salud mental/emocional', 'Misión de vida'], ['Salud mental/emocional', 'Desarrollo/crecimiento personal'], ['Salud mental/emocional', 'Misión de vida'], ['Salud mental/emocional', 'Desarrollo/crecimiento personal', 'Misión de vida'], ['Salud mental/emocional', 'Desarrollo/crecimiento personal', 'Misión de vida'], ['Salud mental/emocional', 'Desarrollo/crecimiento personal', 'Misión de vida'], ['Salud mental/emocional', 'Misión de vida'], ['Salud mental/emocional', 'Desarrollo/crecimiento personal'], ['Salud mental/emocional', 'Salud física', 'Desarrollo/crecimiento personal'], ['Salud mental/emocional', 'Desarrollo/crecimiento personal', 'Misión de vida'], ['Misión de vida', 'Salud mental/emocional', 'Desarrollo/crecimiento personal'], ['Salud mental/emocional', 'Desarrollo/crecimiento personal', 'Misión de vida'], ['Salud mental/emocional', 'Desarrollo/crecimiento personal', 'Misión de vida'], ['Salud mental/emocional', 'Desarrollo/crecimiento personal'], ['Salud mental/emocional', 'Relaciones familiares/pareja', 'Desarrollo/crecimiento personal'], ['Misión de vida', 'Salud mental/emocional'], ['Misión de vida', 'Salud mental/emocional'], ['Salud mental/emocional', 'Desarrollo/crecimiento personal', 'Misión de vida'], ['Salud mental/emocional', 'Desarrollo/crecimiento personal', 'Misión de vida'], ['Salud mental/emocional', 'Misión de vida'], ['Salud mental/emocional', 'Desarrollo/crecimiento personal', 'Misión de vida'], ['Misión de vida', 'Salud mental/emocional'], ['Relaciones familiares/pareja', 'Salud mental/emocional', 'Desarrollo/crecimiento personal'], ['Salud mental/emocional', 'Desarrollo/crecimiento personal', 'Misión de vida'], ['Salud física', 'Salud mental/emocional', 'Desarrollo/crecimiento personal'], ['Salud mental/emocional', 'Misión de vida'], ['Desarrollo/crecimiento personal', 'Misión de vida', 'Relaciones familiares/pareja'], ['Salud mental/emocional', 'Desarrollo/crecimiento personal', 'Misión de vida'], ['Misión de vida', 'Salud mental/emocional'], ['Misión de vida', 'Salud mental/emocional'], ['Salud mental/emocional', 'Misión de vida'], ['Misión de vida', 'Desarrollo/crecimiento personal'], ['Desarrollo/crecimiento personal', 'Salud mental/emocional', 'Misión de vida'], ['Desarrollo/crecimiento personal', 'Misión de vida', 'Salud mental/emocional'], ['Salud mental/emocional', 'Desarrollo/crecimiento personal', 'Misión de vida'], ['Misión de vida', 'Otros'], ['Misión de vida', 'Salud mental/emocional\\n                # Fin Output #'], ['Misión de vida', 'Salud mental/emocional'], ['Misión de vida', 'Desarrollo/crecimiento personal', 'Salud mental/emocional'], ['Misión de vida', 'Desarrollo/crecimiento personal'], ['Salud mental/emocional', 'Desarrollo/crecimiento personal', 'Misión de vida'], ['Salud mental/emocional', 'Desarrollo/crecimiento personal', 'Misión de vida'], ['Salud mental/emocional', 'Salud física', 'Desarrollo/crecimiento personal'], ['Salud mental/emocional', 'Salud física', 'Fe/espiritualidad'], ['Salud mental/emocional', 'Salud física', 'Fe/espiritualidad'], ['Misión de vida', 'Salud mental/emocional'], ['Misión de vida', 'Salud mental/emocional'], ['Misión de vida', 'Salud mental/emocional'], ['Salud mental/emocional', 'Desarrollo/crecimiento personal'], ['Misión de vida', 'Salud mental/emocional'], ['Salud mental/emocional', 'Desarrollo/crecimiento personal', 'Misión de vida'], ['Misión de vida', 'Desarrollo/crecimiento personal', 'Salud mental/emocional'], ['Salud mental/emocional', 'Desarrollo/crecimiento personal', 'Misión de vida'], ['Desarrollo/crecimiento personal', 'Salud mental/emocional'], ['Desarrollo/crecimiento personal', 'Salud mental/emocional', 'Misión de vida'], ['Desarrollo/crecimiento personal', 'Salud mental/emocional', 'Misión de vida'], ['Desarrollo/crecimiento personal', 'Salud mental/emocional', 'Misión de vida'], ['Relaciones familiares/pareja', 'Amistad', 'Desarrollo/crecimiento personal'], ['Desarrollo/crecimiento personal', 'Misión de vida'], ['Desarrollo/crecimiento personal', 'Salud mental/emocional', 'Relaciones familiares/pareja'], ['Relaciones familiares/pareja', 'Amistad', 'Salud mental/emocional'], ['Desarrollo/crecimiento personal', 'Misión de vida'], ['Desarrollo/crecimiento personal', 'Salud mental/emocional'], ['Desarrollo/crecimiento personal', 'Salud mental/emocional', 'Misión de vida'], ['Relaciones familiares/pareja', 'Salud mental/emocional', 'Desarrollo/crecimiento personal'], ['Salud física', 'Salud mental/emocional', 'Relaciones familiares/pareja'], ['Relaciones familiares/pareja', 'Salud mental/emocional', 'Desarrollo/crecimiento personal'], ['Relaciones familiares/pareja', 'Desarrollo/crecimiento personal', 'Misión de vida'], ['Misión de vida', 'Salud mental/emocional'], ['Desarrollo/crecimiento personal', 'Misión de vida'], ['Desarrollo/crecimiento personal', 'Misión de vida', 'Salud mental/emocional'], ['Desarrollo/crecimiento personal', 'Misión de vida'], ['Misión de vida', 'Desarrollo/crecimiento personal']]\n"
     ]
    }
   ],
   "source": [
    "# Splitting the list_areas to store them as a list and not as a joined string\n",
    "# Also trim the white spaces\n",
    "list_areas_split = [[area.strip() for area in areas.split(',')] for areas in list_areas]\n",
    "print(list_areas_split)"
   ]
  },
  {
   "cell_type": "code",
   "execution_count": 56,
   "metadata": {},
   "outputs": [],
   "source": [
    "# Saving the raw response as a plain text file.\n",
    "bible_by_theme_interpreted = pd.DataFrame({\"id\": list_id,\n",
    "                                           \"pasaje\": list_passage,\n",
    "                                           \"texto\": list_text,\n",
    "                                           \"interpretación\": list_interpretation,\n",
    "                                           \"temas\": list_purpose,\n",
    "                                           \"área_vida\": list_areas_split})\n",
    "bible_by_theme_interpreted.to_csv('bible/data/bible_by_theme_int.txt',sep='|',index=False, encoding='utf-8')"
   ]
  },
  {
   "cell_type": "code",
   "execution_count": 23,
   "metadata": {},
   "outputs": [],
   "source": [
    "# Convert DataFrame to a dictionary\n",
    "bible_by_theme_interpreted_json = bible_by_theme_interpreted.to_dict(orient='records')\n",
    "\n",
    "# Save the list as a JSON file\n",
    "with open('bible/data/bible_by_theme_int.json', 'w', encoding='utf-8') as json_file:\n",
    "    json.dump(bible_by_theme_interpreted_json, json_file, ensure_ascii=False, indent=4)"
   ]
  }
 ],
 "metadata": {
  "kernelspec": {
   "display_name": "base",
   "language": "python",
   "name": "python3"
  },
  "language_info": {
   "codemirror_mode": {
    "name": "ipython",
    "version": 3
   },
   "file_extension": ".py",
   "mimetype": "text/x-python",
   "name": "python",
   "nbconvert_exporter": "python",
   "pygments_lexer": "ipython3",
   "version": "3.11.9"
  }
 },
 "nbformat": 4,
 "nbformat_minor": 2
}
