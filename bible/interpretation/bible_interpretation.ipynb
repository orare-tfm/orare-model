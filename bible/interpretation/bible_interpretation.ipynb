{
 "cells": [
  {
   "cell_type": "markdown",
   "metadata": {},
   "source": [
    "## Preprocessing Bible"
   ]
  },
  {
   "cell_type": "code",
   "execution_count": 5,
   "metadata": {},
   "outputs": [],
   "source": [
    "# Importing library\n",
    "import json\n",
    "import pandas as pd\n",
    "import os\n",
    "\n",
    "# Setting directory\n",
    "# os.chdir('root_repository_path')\n",
    "os.chdir('/Users/hiroshi/Documents/ds_projects/orare-model')\n",
    "\n",
    "# Importing data\n",
    "with open('bible/data/bible.json') as f:\n",
    "    data = json.load(f)"
   ]
  },
  {
   "cell_type": "code",
   "execution_count": 6,
   "metadata": {},
   "outputs": [],
   "source": [
    "# Merging the verses in each chapter\n",
    "\n",
    "# Filtering the \"Salmos\" book\n",
    "psalms_data = [item for item in data if item['testamento'] == 'El Antiguo Testamento' and item['libro'] == 'SALMOS']\n",
    "\n",
    "# Creating an empty list\n",
    "psalms_chapters = []\n",
    "\n",
    "# For loop to merge the verses in each chapter\n",
    "for book in psalms_data:\n",
    "   for chapter in book['capitulos']:\n",
    "        merged_text = ''.join([verse['texto'] for verse in chapter['versiculos']])\n",
    "        psalms_chapters.append({\n",
    "            'capitulo': chapter['numero'],\n",
    "            'texto': merged_text\n",
    "        })\n",
    "\n",
    "# Save psalms_chapters as JSON to a file\n",
    "output_file = 'bible/data/psalms_chapters.json'\n",
    "with open(output_file, 'w', encoding='utf-8') as f:\n",
    "    json.dump(psalms_chapters, f, ensure_ascii=False, indent=4)"
   ]
  },
  {
   "cell_type": "code",
   "execution_count": 7,
   "metadata": {},
   "outputs": [
    {
     "name": "stdout",
     "output_type": "stream",
     "text": [
      "Capitulo 1: ¡Feliz el hombre que no sigue el consejo de los malvados, ni se detiene en el camino de los pecadores, ni se sienta en la reunión de los impíos, sino que se complace en la ley del Señor y la medita de día y de noche! El es como un árbol plantado al borde de las aguas, que produce fruto a su debido tiempo, y cuyas hojas nunca se marchitan: todo lo que haga le saldrá bien. No sucede así con los malvados: ellos son como paja que se lleva el viento. Por eso, no triunfarán los malvados en el juicio, ni los pecadores en la asamblea de los justos; porque el Señor cuida el camino de los justos, pero el camino de los malvados termina mal. \n",
      "Capitulo 2: ¿Por qué se amotinan las naciones y los pueblos hacen vanos proyectos?Los reyes de la tierra se sublevan, y los príncipes conspiran contra el Señor y contra su Ungido:«Rompamos sus ataduras, librémonos de su yugo».El que reina en el cielo se sonríe; el Señor se burla de ellos.Luego los increpa airadamente y los aterra con su furor:«Yo mismo establecí a mi Rey en Sión, mi santa Montaña».Voy a proclamar el decreto del Señor: El me ha dicho: «Tú eres mi hijo, yo te he engendrado hoyPídeme, y te daré las naciones como herencia, y como propiedad, los confines de la tierra.Los quebrarás con un cetro de hierro, los destrozarás como a un vaso de arcilla»Por eso, reyes, sean prudentes; aprendan, gobernantes de la tierra.Sirvan al Señor con temor;temblando, ríndanle homenaje, no sea que se irrite y vayan a la ruina, porque su enojo se enciende en un instante. ¡Felices los que se refugian en él!\n",
      "Capitulo 3: Salmo de David. Cuando huía de su hijo AbsalónSeñor, ¡qué numerosos son mis adversarios, cuántos los que se levantan contra mí!¡Cuántos son los que dicen de mí: «Dios ya no quiere salvarlo»!Pero Tú eres mi escudo protector y mi gloria, tú mantienes erguida mi cabeza.Invoco al Señor en alta voz, y él me responde desde su santa Montaña.Yo me acuesto y me duermo, y me despierto tranquilo porque el Señor me sostiene.No temo a la multitud innumerable, apostada contra mí por todas partes.¡Levántate, Señor! ¡Sálvame, Dios mío! Tú golpeas en la mejilla a mis enemigos y rompes los dientes de los malvados.¡En ti, Señor, está la salvación, y tu bendición sobre tu pueblo!\n",
      "Capitulo 4: Del maestro de coro. Para instrumentos de cuerda, Salmo de David.Respóndeme cuando te invoco, Dios, mi defensor, tú, que en la angustia me diste un desahogo: ten piedad de mí y escucha mi oración.Y ustedes, señores, ¿hasta cuando ultrajarán al que es mi Gloria, amarán lo que falso y buscarán lo engañoso?Sepan que el Señor hizo maravillas por su amigo: él me escucha siempre que lo invoco.Tiemblen, y no pequen más; reflexionen en sus lechos y guarden silencio,ofrezcan los sacrificios que son debidos y tengan confianza en el Señor.Hay muchos que preguntan: «¿Quién nos mostrará la felicidad, si la luz de tu rostro, Señor, se ha alejado de nosotros?».Pero tú has puesto en mi corazón más alegría que cuando abundan el trigo y el vino.Me acuesto en paz y en seguida me duermo, porque sólo tú, Señor, aseguras mi descanso.\n",
      "Capitulo 5: Del maestro de coro. Para flautas. Salmo de David.Señor, escucha mis palabras, atiende a mis gemidos;oye mi clamor, mi Rey y mi Dios, porque te estoy suplicando.Señor, de madrugada ya escuchas mi voz: por la mañana te expongo mi causa y espero tu respuesta.Tú no eres un Dios que ama la maldad; ningún impío será tu huésped,ni los orgullosos podrán resistir delante de tu mirada. Tú detestas a los que hacen el maly destruyes a los mentirosos. ¡Al hombre sanguinario y traicionero lo abomina el Señor!Pero yo, por tu inmensa bondad, llego hasta tu Casa, y me postro ante tu santo Templo con profundo temor.Guíame, Señor, por tu justicia, porque tengo muchos enemigos: ábreme un camino llano.En su boca no hay sinceridad, su corazón es perverso; su garganta es un sepulcro abierto, aunque adulan con la lengua.Castígalos, Señor, como culpables, que fracasen sus intrigas; expúlsalos por sus muchos crímenes, porque se han rebelado contra ti.Así se alegrarán los que en ti se refugian y siempre cantarán jubilosos; tú proteges a los que aman tu Nombre, y ellos se llenarán de gozo.Porque tú, Señor, bendices al justo, como un escudo lo cubre tu favor.\n",
      "Capitulo 6: Del maestro de coro. Para instrumentos de cuerda. En octava. Salmo de David.Señor, no me reprendas por tu enojo ni me castigues por tu indignación.Ten piedad de mí, porque me faltan las fuerzas; sáname, porque mis huesos se estremecen.Mi alma está atormentada, y tú, Señor, ¿hasta cuándo...?Vuélvete, Señor, rescata mi vida, sálvame por tu misericordia,porque en la Muerte nadie se acuerda de ti, ¿y quién podrá alabarte en el Abismo?Estoy agotado de tanto gemir: cada noche empapo mi lecho con llanto, inundo de lágrimas mi cama.Mis ojos están extenuados por el pesar y envejecidos a causa de la opresión.Apártense de mí todos los malvados, porque el Señor ha oído mis sollozos.El Señor ha escuchado mi súplica, el Señor ha aceptado mi plegaria.¡Que caiga sobre mis enemigos la confusión y el terror, y en un instante retrocedan avergonzados!\n",
      "Capitulo 7: Lamentación de David. La que cantó al Señor a propósito de Cus, el benjaminita.Señor, Dios mío, en ti me refugio: sálvame de todos los que me persiguen;líbrame, para que nadie pueda atraparme como un león, que destroza sin remedio.Señor, Dios mío, si cometí alguna bajeza, o hay crímenes en mis manos;si he pagado con traición a mi amigo o he despojado sin razón a mi adversario:que el enemigo me persiga y me alcance, que aplaste mi vida contra el suelo y deje tendidas mis entrañas en el polvo.Levántate, Señor, lleno de indignación; álzate contra el furor de mis adversarios. Despierta para el juicio que has convocado:que una asamblea de pueblos te rodee, y presídelos tu, desde lo alto.El Señor es el Juez de las naciones: júzgame, Señor, conforme a mi justicia y de acuerdo con mi integridad.¡Que se acabe la maldad de los impíos! Tú que sondeas las mentes y los corazones, tú que eres un Dios justo, apoya al inocente.Mi escudo es el Dios Altísimo, que salva a los rectos de corazón.Dios es un Juez justo y puede irritarse en cualquier momento.Si no se convierten, afilará la espada, tenderá su arco y apuntará;preparará sus armas mortíferas, dispondrá sus flechas incendiarias.El malvado concibe la maldad, está grávido de malicia y da a luz la mentira.Cavó una fosa y la ahondó, pero él mismo cayó en la fosa que hizo:su maldad se vuelve sobre su cabeza, su violencia recae sobre su cráneo.Daré gracias al Señor por su justicia y cantaré al nombre del Señor Altísimo.\n",
      "Capitulo 8: Del maestro de coro. Con la cítara de Gat. Salmo de David.¡Señor, nuestro Dios, qué admirable es tu Nombre en toda la tierra! Quiero adorar tu majestad sobre el cielo:con la alabanza de los niños y de los más pequeños, erigiste una fortaleza contra tus adversarios para reprimir al enemigo y al rebelde.Al ver el cielo, obra de tus manos, la luna y la estrellas que has creado:¿qué es el hombre para que pienses en él, el ser humano para que lo cuides?Lo hiciste poco inferior a los ángeles, lo coronaste de gloria y esplendor;le diste dominio sobre la obra de tus manos, todo lo pusiste bajo sus pies:todos los rebaños y ganados, y hasta los animales salvajes;las aves del cielo, los peces del mar y cuanto surca los senderos de las aguas.¡Señor, nuestro Dios, qué admirable es tu Nombre en toda la tierra!\n",
      "Capitulo 9: Del maestro de coro. Para oboes y arpa. Salmo de David. Acción de gracias por la justicia de DiosTe doy gracias, Señor, de todo corazón y proclamaré todas tus maravillasQuiero alegrarme y regocijarme en ti, y cantar himnos a tu Nombre, Altísimo.Cuando retrocedían mis enemigos, tropezaron y perecieron delante de ti,porque tú defendiste mi derecho y mi causa, sentándote en el trono como justo Juez.Escarmentaste a las naciones, destruiste a los impíos y borraste sus nombres para siempre;desapareció el enemigo: es una ruina irreparable; arrasaste las ciudades, y se perdió hasta su recuerdoPero el Señor reina eternamente y establece su trono para el juicio:él gobierna al mundo con justicia y juzga con rectitud a las naciones.El Señor es un baluarte para el oprimido, un baluarte en los momentos de peligro.¡Confíen en ti los que veneran tu Nombre, porque tú no abandonas a los que te buscan!Canten al Señor, que reina en Sión, proclamen entre los pueblos sus proezas.Porque él pide cuenta de la sangre, se acuerda de los pobres y no olvida su clamor.El Señor se apiadó de mí, contempló mi aflicción; me tomó y me alzó de las puertas de la Muerte,para que pudiera proclamar sus alabanzas y alegrarme por su victoria en las puertas de Sión.Los pueblos se han hundido en la fosa que abrieron, su pie quedó atrapado en la red que ocultaron.El Señor se dio a conocer, hizo justicia, y el impío se enredó en sus propias obras.Vuelvan al Abismo los malvados, todos los pueblos que se olvidan de Dios.Porque el pobre no será olvidado para siempre ni se malogra eternamente la esperanza del humilde.¡Levántate, Señor! que los hombres no se envanezcan, y las naciones sean juzgadas en tu presencia.Infúndeles pánico, Señor, para que aprendan que no son más que hombres.\n",
      "Capitulo 10: ¿Por qué te quedas lejos, Señor, y te ocultas en los momentos de peligro?El pobre se consume por la soberbia del malvado y queda envuelto en las intrigas tramadas contra él.Porque el malvado se jacta de su ambición, el codicioso blasfema y menosprecia al Señor;el impío exclama en el colmo de su arrogancia: «No hay ningún Dios que me pida cuenta». Esto es lo único que piensa.Sus caminos prosperan constantemente; tus juicios, allá arriba, lo tienen sin cuidado; elimina de un soplo a todos sus rivalesy se dice a sí mismo: No vacilaré, seré siempre feliz, no tendré contrariedades».Su boca está llena de maldiciones, de engaños y de violencias; detrás de sus palabras hay malicia y opresión;se pone al acecho en los poblados y mata al inocente en lugares ocultos.  Sus ojos espían a los débiles;acecha ocultamente como el león en su guarida; se agazapa para atrapar al pobre, y lo atrapa arrastrándolo en sus redes.Espía, se inclina, se dobla, y cae sobre el débil con todas sus fuerzas.Luego piensa: «Dios lo olvida; aparta su rostro y nunca ve nada».¡Levántate, Señor Dios, alza tu mano, no te olvides de los pobres!¿Por qué el malvado desprecia a Dios, pensando que tú no pides cuenta?Pero tú lo estás viendo: tú consideras los trabajos y el dolor, para tomarlos en tus propias manos. El débil se encomienda a ti; tú eres el protector del huérfano.¡Quiebra el brazo del malvado y del impío, castiga su malicia y no subsistirá!El Señor reina para siempre y los paganos desaparecerán de la tierra.Tú, Señor, escuchas los deseos de los pobres, los reconfortas y les prestas atención.Tú haces justicia al huérfano y al oprimido: ¡que el hombre hecho de tierra no infunda más temor!\n"
     ]
    }
   ],
   "source": [
    "for i in psalms_chapters[:10]:\n",
    "    print(f\"Capitulo {i['capitulo']}: {i['texto']}\")"
   ]
  },
  {
   "cell_type": "markdown",
   "metadata": {},
   "source": [
    "## Interpreting the Bible with ChatGPT"
   ]
  },
  {
   "cell_type": "code",
   "execution_count": 8,
   "metadata": {},
   "outputs": [],
   "source": [
    "# Setting the libraries and connection\n",
    "import openai\n",
    "import os\n",
    "\n",
    "from dotenv import load_dotenv, find_dotenv\n",
    "_ = load_dotenv(find_dotenv())\n",
    "\n",
    "# Loading api_key\n",
    "openai.api_key = os.getenv('OPENAI_API_KEY')"
   ]
  },
  {
   "cell_type": "markdown",
   "metadata": {},
   "source": [
    "### Helper Function"
   ]
  },
  {
   "cell_type": "code",
   "execution_count": 9,
   "metadata": {},
   "outputs": [],
   "source": [
    "client = openai.OpenAI()\n",
    "\n",
    "def get_completion_4o(prompt, model=\"gpt-4o\"):\n",
    "    messages = [{\"role\": \"user\", \"content\": prompt}]\n",
    "    response = client.chat.completions.create(\n",
    "        model=model,\n",
    "        messages=messages,\n",
    "        temperature=0\n",
    "    )\n",
    "    return response.choices[0].message.content"
   ]
  },
  {
   "cell_type": "markdown",
   "metadata": {},
   "source": [
    "### Prompt for Interpreting the Bible"
   ]
  },
  {
   "cell_type": "code",
   "execution_count": 10,
   "metadata": {},
   "outputs": [],
   "source": [
    "# Prompt instruction\n",
    "instructions = \"\"\"\n",
    "# Rol #\n",
    "Tu eres el GPT: Catholic Bible Guide by Fr. Abraham Mutholath.\n",
    "Tu rol será el de un sacerdote de una iglesia Católica. Se te dará distintos fragmentos de la Biblia. Tu tarea será leer los fragmentos y realizar las tareas que se detallen en la siguiente sección.\n",
    "# Fin Rol #\n",
    "\n",
    "# Tareas #\n",
    "- Explicar la Biblia (explicacion): si el fragmento de la Biblia no está escrito en un lenguaje antiguo, es ambiguo o no está claro lo que quiere decir debes hacer una explicación breve y concisa. Solo explica lo que no es tan evidente y esté en un lenguaje antiguo o ambiguo.\n",
    "- Identificar Area de la vida (areas): de cada fragmento debes identificar el área de la vida de la que se habla. Las áreas de la vida pueden ser: \"Relaciones familiares/pareja\",\"Amistad\",\"Salud física\",\"Salud mental/emocional\",\"Desarrollo/crecimiento personal\",\"Misión de vida\",\"Dinero\",\"Trabajo\",\"Diversión/Hobbies\",\"Otros\". Para cada fragmento menciona entre 1 y 3 áreas que sean las más importantes.\n",
    "# fin Tareas #\n",
    "\n",
    "# Estructura input #\n",
    "\"id_libro | fragmento\"\n",
    "# Fin estructura input #\n",
    "\n",
    "# Estructura Output # \n",
    "El output debe ser presentado en formato json con los siguiente campos:\n",
    "- id_libro\n",
    "- fragmento\n",
    "- explicacion\n",
    "- areas (en lista)\n",
    "# Fin output #\n",
    "\"\"\""
   ]
  },
  {
   "cell_type": "code",
   "execution_count": 11,
   "metadata": {},
   "outputs": [
    {
     "name": "stdout",
     "output_type": "stream",
     "text": [
      "['salmos1 | ¡Feliz el hombre que no sigue el consejo de los malvados, ni se detiene en el camino de los pecadores, ni se sienta en la reunión de los impíos, sino que se complace en la ley del Señor y la medita de día y de noche! El es como un árbol plantado al borde de las aguas, que produce fruto a su debido tiempo, y cuyas hojas nunca se marchitan: todo lo que haga le saldrá bien. No sucede así con los malvados: ellos son como paja que se lleva el viento. Por eso, no triunfarán los malvados en el juicio, ni los pecadores en la asamblea de los justos; porque el Señor cuida el camino de los justos, pero el camino de los malvados termina mal.  ', 'salmos2 | ¿Por qué se amotinan las naciones y los pueblos hacen vanos proyectos?Los reyes de la tierra se sublevan, y los príncipes conspiran contra el Señor y contra su Ungido:«Rompamos sus ataduras, librémonos de su yugo».El que reina en el cielo se sonríe; el Señor se burla de ellos.Luego los increpa airadamente y los aterra con su furor:«Yo mismo establecí a mi Rey en Sión, mi santa Montaña».Voy a proclamar el decreto del Señor: El me ha dicho: «Tú eres mi hijo, yo te he engendrado hoyPídeme, y te daré las naciones como herencia, y como propiedad, los confines de la tierra.Los quebrarás con un cetro de hierro, los destrozarás como a un vaso de arcilla»Por eso, reyes, sean prudentes; aprendan, gobernantes de la tierra.Sirvan al Señor con temor;temblando, ríndanle homenaje, no sea que se irrite y vayan a la ruina, porque su enojo se enciende en un instante. ¡Felices los que se refugian en él! ', 'salmos3 | Salmo de David. Cuando huía de su hijo AbsalónSeñor, ¡qué numerosos son mis adversarios, cuántos los que se levantan contra mí!¡Cuántos son los que dicen de mí: «Dios ya no quiere salvarlo»!Pero Tú eres mi escudo protector y mi gloria, tú mantienes erguida mi cabeza.Invoco al Señor en alta voz, y él me responde desde su santa Montaña.Yo me acuesto y me duermo, y me despierto tranquilo porque el Señor me sostiene.No temo a la multitud innumerable, apostada contra mí por todas partes.¡Levántate, Señor! ¡Sálvame, Dios mío! Tú golpeas en la mejilla a mis enemigos y rompes los dientes de los malvados.¡En ti, Señor, está la salvación, y tu bendición sobre tu pueblo! ', 'salmos4 | Del maestro de coro. Para instrumentos de cuerda, Salmo de David.Respóndeme cuando te invoco, Dios, mi defensor, tú, que en la angustia me diste un desahogo: ten piedad de mí y escucha mi oración.Y ustedes, señores, ¿hasta cuando ultrajarán al que es mi Gloria, amarán lo que falso y buscarán lo engañoso?Sepan que el Señor hizo maravillas por su amigo: él me escucha siempre que lo invoco.Tiemblen, y no pequen más; reflexionen en sus lechos y guarden silencio,ofrezcan los sacrificios que son debidos y tengan confianza en el Señor.Hay muchos que preguntan: «¿Quién nos mostrará la felicidad, si la luz de tu rostro, Señor, se ha alejado de nosotros?».Pero tú has puesto en mi corazón más alegría que cuando abundan el trigo y el vino.Me acuesto en paz y en seguida me duermo, porque sólo tú, Señor, aseguras mi descanso. ', 'salmos5 | Del maestro de coro. Para flautas. Salmo de David.Señor, escucha mis palabras, atiende a mis gemidos;oye mi clamor, mi Rey y mi Dios, porque te estoy suplicando.Señor, de madrugada ya escuchas mi voz: por la mañana te expongo mi causa y espero tu respuesta.Tú no eres un Dios que ama la maldad; ningún impío será tu huésped,ni los orgullosos podrán resistir delante de tu mirada. Tú detestas a los que hacen el maly destruyes a los mentirosos. ¡Al hombre sanguinario y traicionero lo abomina el Señor!Pero yo, por tu inmensa bondad, llego hasta tu Casa, y me postro ante tu santo Templo con profundo temor.Guíame, Señor, por tu justicia, porque tengo muchos enemigos: ábreme un camino llano.En su boca no hay sinceridad, su corazón es perverso; su garganta es un sepulcro abierto, aunque adulan con la lengua.Castígalos, Señor, como culpables, que fracasen sus intrigas; expúlsalos por sus muchos crímenes, porque se han rebelado contra ti.Así se alegrarán los que en ti se refugian y siempre cantarán jubilosos; tú proteges a los que aman tu Nombre, y ellos se llenarán de gozo.Porque tú, Señor, bendices al justo, como un escudo lo cubre tu favor. ']\n"
     ]
    }
   ],
   "source": [
    "# Creating sample to try the prompt\n",
    "list_to_interpret = []\n",
    "for i in range(5):\n",
    "    text = f\"salmos{psalms_chapters[i]['capitulo']} | {psalms_chapters[i]['texto']} \"\n",
    "    list_to_interpret.append(text)\n",
    "print(list_to_interpret)"
   ]
  },
  {
   "cell_type": "code",
   "execution_count": 12,
   "metadata": {},
   "outputs": [],
   "source": [
    "# Merging the prompt with the sample data\n",
    "prompt = f\"\"\"\n",
    "{instructions}\n",
    "\n",
    "# Input # \n",
    "{list_to_interpret}\n",
    "# Fin Input #\n",
    "\"\"\""
   ]
  },
  {
   "cell_type": "code",
   "execution_count": 13,
   "metadata": {},
   "outputs": [
    {
     "name": "stdout",
     "output_type": "stream",
     "text": [
      "gpt-4o\n",
      " \n",
      "```json\n",
      "[\n",
      "    {\n",
      "        \"id_libro\": \"salmos1\",\n",
      "        \"fragmento\": \"¡Feliz el hombre que no sigue el consejo de los malvados, ni se detiene en el camino de los pecadores, ni se sienta en la reunión de los impíos, sino que se complace en la ley del Señor y la medita de día y de noche! El es como un árbol plantado al borde de las aguas, que produce fruto a su debido tiempo, y cuyas hojas nunca se marchitan: todo lo que haga le saldrá bien. No sucede así con los malvados: ellos son como paja que se lleva el viento. Por eso, no triunfarán los malvados en el juicio, ni los pecadores en la asamblea de los justos; porque el Señor cuida el camino de los justos, pero el camino de los malvados termina mal.\",\n",
      "        \"explicacion\": \"Este salmo compara a la persona justa con un árbol plantado junto a corrientes de agua, que siempre da fruto y no se marchita. En contraste, los malvados son como paja que el viento dispersa. La justicia y la meditación en la ley del Señor llevan a la prosperidad y la estabilidad, mientras que la maldad lleva a la ruina.\",\n",
      "        \"areas\": [\"Desarrollo/crecimiento personal\", \"Misión de vida\"]\n",
      "    },\n",
      "    {\n",
      "        \"id_libro\": \"salmos2\",\n",
      "        \"fragmento\": \"¿Por qué se amotinan las naciones y los pueblos hacen vanos proyectos?Los reyes de la tierra se sublevan, y los príncipes conspiran contra el Señor y contra su Ungido:«Rompamos sus ataduras, librémonos de su yugo».El que reina en el cielo se sonríe; el Señor se burla de ellos.Luego los increpa airadamente y los aterra con su furor:«Yo mismo establecí a mi Rey en Sión, mi santa Montaña».Voy a proclamar el decreto del Señor: El me ha dicho: «Tú eres mi hijo, yo te he engendrado hoyPídeme, y te daré las naciones como herencia, y como propiedad, los confines de la tierra.Los quebrarás con un cetro de hierro, los destrozarás como a un vaso de arcilla»Por eso, reyes, sean prudentes; aprendan, gobernantes de la tierra.Sirvan al Señor con temor;temblando, ríndanle homenaje, no sea que se irrite y vayan a la ruina, porque su enojo se enciende en un instante. ¡Felices los que se refugian en él!\",\n",
      "        \"explicacion\": \"Este salmo habla de la rebelión de las naciones contra Dios y su Ungido (el Mesías). Dios se burla de sus intentos y declara que ha establecido a su Rey en Sión. Advierte a los reyes y gobernantes que sirvan al Señor con temor y reverencia para evitar su ira. La bendición está en refugiarse en Dios.\",\n",
      "        \"areas\": [\"Misión de vida\", \"Desarrollo/crecimiento personal\"]\n",
      "    },\n",
      "    {\n",
      "        \"id_libro\": \"salmos3\",\n",
      "        \"fragmento\": \"Salmo de David. Cuando huía de su hijo AbsalónSeñor, ¡qué numerosos son mis adversarios, cuántos los que se levantan contra mí!¡Cuántos son los que dicen de mí: «Dios ya no quiere salvarlo»!Pero Tú eres mi escudo protector y mi gloria, tú mantienes erguida mi cabeza.Invoco al Señor en alta voz, y él me responde desde su santa Montaña.Yo me acuesto y me duermo, y me despierto tranquilo porque el Señor me sostiene.No temo a la multitud innumerable, apostada contra mí por todas partes.¡Levántate, Señor! ¡Sálvame, Dios mío! Tú golpeas en la mejilla a mis enemigos y rompes los dientes de los malvados.¡En ti, Señor, está la salvación, y tu bendición sobre tu pueblo!\",\n",
      "        \"explicacion\": \"Este salmo es una oración de David cuando huía de su hijo Absalón. A pesar de estar rodeado de enemigos, David confía en que Dios es su protector y salvador. Expresa su fe en que Dios lo sostendrá y lo salvará de sus adversarios.\",\n",
      "        \"areas\": [\"Salud mental/emocional\", \"Relaciones familiares/pareja\"]\n",
      "    },\n",
      "    {\n",
      "        \"id_libro\": \"salmos4\",\n",
      "        \"fragmento\": \"Del maestro de coro. Para instrumentos de cuerda, Salmo de David.Respóndeme cuando te invoco, Dios, mi defensor, tú, que en la angustia me diste un desahogo: ten piedad de mí y escucha mi oración.Y ustedes, señores, ¿hasta cuando ultrajarán al que es mi Gloria, amarán lo que falso y buscarán lo engañoso?Sepan que el Señor hizo maravillas por su amigo: él me escucha siempre que lo invoco.Tiemblen, y no pequen más; reflexionen en sus lechos y guarden silencio,ofrezcan los sacrificios que son debidos y tengan confianza en el Señor.Hay muchos que preguntan: «¿Quién nos mostrará la felicidad, si la luz de tu rostro, Señor, se ha alejado de nosotros?».Pero tú has puesto en mi corazón más alegría que cuando abundan el trigo y el vino.Me acuesto en paz y en seguida me duermo, porque sólo tú, Señor, aseguras mi descanso.\",\n",
      "        \"explicacion\": \"David pide a Dios que lo escuche y lo defienda en su angustia. Advierte a los que buscan lo falso y engañoso, y les insta a reflexionar y confiar en el Señor. David encuentra más alegría en la presencia de Dios que en la abundancia material, y confía en que Dios le dará paz y descanso.\",\n",
      "        \"areas\": [\"Salud mental/emocional\", \"Desarrollo/crecimiento personal\"]\n",
      "    },\n",
      "    {\n",
      "        \"id_libro\": \"salmos5\",\n",
      "        \"fragmento\": \"Del maestro de coro. Para flautas. Salmo de David.Señor, escucha mis palabras, atiende a mis gemidos;oye mi clamor, mi Rey y mi Dios, porque te estoy suplicando.Señor, de madrugada ya escuchas mi voz: por la mañana te expongo mi causa y espero tu respuesta.Tú no eres un Dios que ama la maldad; ningún impío será tu huésped,ni los orgullosos podrán resistir delante de tu mirada. Tú detestas a los que hacen el maly destruyes a los mentirosos. ¡Al hombre sanguinario y traicionero lo abomina el Señor!Pero yo, por tu inmensa bondad, llego hasta tu Casa, y me postro ante tu santo Templo con profundo temor.Guíame, Señor, por tu justicia, porque tengo muchos enemigos: ábreme un camino llano.En su boca no hay sinceridad, su corazón es perverso; su garganta es un sepulcro abierto, aunque adulan con la lengua.Castígalos, Señor, como culpables, que fracasen sus intrigas; expúlsalos por sus muchos crímenes, porque se han rebelado contra ti.Así se alegrarán los que en ti se refugian y siempre cantarán jubilosos; tú proteges a los que aman tu Nombre, y ellos se llenarán de gozo.Porque tú, Señor, bendices al justo, como un escudo lo cubre tu favor.\",\n",
      "        \"explicacion\": \"David suplica a Dios que escuche su oración y lo guíe en justicia. Describe a Dios como alguien que no tolera la maldad y que castiga a los malvados. David confía en la bondad de Dios y pide ser guiado por un camino recto, mientras que los justos se alegran y encuentran protección en el Señor.\",\n",
      "        \"areas\": [\"Salud mental/emocional\", \"Desarrollo/crecimiento personal\"]\n",
      "    }\n",
      "]\n",
      "```\n"
     ]
    }
   ],
   "source": [
    "# Interpreting the Bible with ChatGPT\n",
    "response_4o = get_completion_4o(prompt)\n",
    "print('gpt-4o')\n",
    "print(' ')\n",
    "print(response_4o)"
   ]
  },
  {
   "cell_type": "code",
   "execution_count": 15,
   "metadata": {},
   "outputs": [],
   "source": [
    "# Loading the response and saving as a plain text file\n",
    "json_response_4o = json.loads(response_4o[7:-3])\n",
    "df_response_4o = pd.DataFrame(json_response_4o)\n",
    "df_response_4o.to_csv('bible/data/psalms_sample_int_gpt4o.txt',sep='|',index=False, encoding='utf-8')\n"
   ]
  },
  {
   "cell_type": "code",
   "execution_count": 17,
   "metadata": {},
   "outputs": [
    {
     "name": "stdout",
     "output_type": "stream",
     "text": [
      "Libro: salmos1\n",
      "Fragmento: ¡Feliz el hombre que no sigue el consejo de los malvados, ni se detiene en el camino de los pecadores, ni se sienta en la reunión de los impíos, sino que se complace en la ley del Señor y la medita de día y de noche! El es como un árbol plantado al borde de las aguas, que produce fruto a su debido tiempo, y cuyas hojas nunca se marchitan: todo lo que haga le saldrá bien. No sucede así con los malvados: ellos son como paja que se lleva el viento. Por eso, no triunfarán los malvados en el juicio, ni los pecadores en la asamblea de los justos; porque el Señor cuida el camino de los justos, pero el camino de los malvados termina mal.\n",
      "Explicación: Este salmo compara a la persona justa con un árbol plantado junto a corrientes de agua, que siempre da fruto y no se marchita. En contraste, los malvados son como paja que el viento dispersa. La justicia y la meditación en la ley del Señor llevan a la prosperidad y la estabilidad, mientras que la maldad lleva a la ruina.\n",
      "Áreas: Desarrollo/crecimiento personal, Misión de vida\n",
      "\n",
      "Libro: salmos2\n",
      "Fragmento: ¿Por qué se amotinan las naciones y los pueblos hacen vanos proyectos?Los reyes de la tierra se sublevan, y los príncipes conspiran contra el Señor y contra su Ungido:«Rompamos sus ataduras, librémonos de su yugo».El que reina en el cielo se sonríe; el Señor se burla de ellos.Luego los increpa airadamente y los aterra con su furor:«Yo mismo establecí a mi Rey en Sión, mi santa Montaña».Voy a proclamar el decreto del Señor: El me ha dicho: «Tú eres mi hijo, yo te he engendrado hoyPídeme, y te daré las naciones como herencia, y como propiedad, los confines de la tierra.Los quebrarás con un cetro de hierro, los destrozarás como a un vaso de arcilla»Por eso, reyes, sean prudentes; aprendan, gobernantes de la tierra.Sirvan al Señor con temor;temblando, ríndanle homenaje, no sea que se irrite y vayan a la ruina, porque su enojo se enciende en un instante. ¡Felices los que se refugian en él!\n",
      "Explicación: Este salmo habla de la rebelión de las naciones contra Dios y su Ungido (el Mesías). Dios se burla de sus intentos y declara que ha establecido a su Rey en Sión. Advierte a los reyes y gobernantes que sirvan al Señor con temor y reverencia para evitar su ira. La bendición está en refugiarse en Dios.\n",
      "Áreas: Misión de vida, Desarrollo/crecimiento personal\n",
      "\n",
      "Libro: salmos3\n",
      "Fragmento: Salmo de David. Cuando huía de su hijo AbsalónSeñor, ¡qué numerosos son mis adversarios, cuántos los que se levantan contra mí!¡Cuántos son los que dicen de mí: «Dios ya no quiere salvarlo»!Pero Tú eres mi escudo protector y mi gloria, tú mantienes erguida mi cabeza.Invoco al Señor en alta voz, y él me responde desde su santa Montaña.Yo me acuesto y me duermo, y me despierto tranquilo porque el Señor me sostiene.No temo a la multitud innumerable, apostada contra mí por todas partes.¡Levántate, Señor! ¡Sálvame, Dios mío! Tú golpeas en la mejilla a mis enemigos y rompes los dientes de los malvados.¡En ti, Señor, está la salvación, y tu bendición sobre tu pueblo!\n",
      "Explicación: Este salmo es una oración de David cuando huía de su hijo Absalón. A pesar de estar rodeado de enemigos, David confía en que Dios es su protector y salvador. Expresa su fe en que Dios lo sostendrá y lo salvará de sus adversarios.\n",
      "Áreas: Salud mental/emocional, Relaciones familiares/pareja\n",
      "\n",
      "Libro: salmos4\n",
      "Fragmento: Del maestro de coro. Para instrumentos de cuerda, Salmo de David.Respóndeme cuando te invoco, Dios, mi defensor, tú, que en la angustia me diste un desahogo: ten piedad de mí y escucha mi oración.Y ustedes, señores, ¿hasta cuando ultrajarán al que es mi Gloria, amarán lo que falso y buscarán lo engañoso?Sepan que el Señor hizo maravillas por su amigo: él me escucha siempre que lo invoco.Tiemblen, y no pequen más; reflexionen en sus lechos y guarden silencio,ofrezcan los sacrificios que son debidos y tengan confianza en el Señor.Hay muchos que preguntan: «¿Quién nos mostrará la felicidad, si la luz de tu rostro, Señor, se ha alejado de nosotros?».Pero tú has puesto en mi corazón más alegría que cuando abundan el trigo y el vino.Me acuesto en paz y en seguida me duermo, porque sólo tú, Señor, aseguras mi descanso.\n",
      "Explicación: David pide a Dios que lo escuche y lo defienda en su angustia. Advierte a los que buscan lo falso y engañoso, y les insta a reflexionar y confiar en el Señor. David encuentra más alegría en la presencia de Dios que en la abundancia material, y confía en que Dios le dará paz y descanso.\n",
      "Áreas: Salud mental/emocional, Desarrollo/crecimiento personal\n",
      "\n",
      "Libro: salmos5\n",
      "Fragmento: Del maestro de coro. Para flautas. Salmo de David.Señor, escucha mis palabras, atiende a mis gemidos;oye mi clamor, mi Rey y mi Dios, porque te estoy suplicando.Señor, de madrugada ya escuchas mi voz: por la mañana te expongo mi causa y espero tu respuesta.Tú no eres un Dios que ama la maldad; ningún impío será tu huésped,ni los orgullosos podrán resistir delante de tu mirada. Tú detestas a los que hacen el maly destruyes a los mentirosos. ¡Al hombre sanguinario y traicionero lo abomina el Señor!Pero yo, por tu inmensa bondad, llego hasta tu Casa, y me postro ante tu santo Templo con profundo temor.Guíame, Señor, por tu justicia, porque tengo muchos enemigos: ábreme un camino llano.En su boca no hay sinceridad, su corazón es perverso; su garganta es un sepulcro abierto, aunque adulan con la lengua.Castígalos, Señor, como culpables, que fracasen sus intrigas; expúlsalos por sus muchos crímenes, porque se han rebelado contra ti.Así se alegrarán los que en ti se refugian y siempre cantarán jubilosos; tú proteges a los que aman tu Nombre, y ellos se llenarán de gozo.Porque tú, Señor, bendices al justo, como un escudo lo cubre tu favor.\n",
      "Explicación: David suplica a Dios que escuche su oración y lo guíe en justicia. Describe a Dios como alguien que no tolera la maldad y que castiga a los malvados. David confía en la bondad de Dios y pide ser guiado por un camino recto, mientras que los justos se alegran y encuentran protección en el Señor.\n",
      "Áreas: Salud mental/emocional, Desarrollo/crecimiento personal\n",
      "\n"
     ]
    }
   ],
   "source": [
    "# Printing the sample interpreted\n",
    "for item in json_response_4o:\n",
    "    print(f\"Libro: {item['id_libro']}\")\n",
    "    print(f\"Fragmento: {item['fragmento']}\")\n",
    "    print(f\"Explicación: {item['explicacion']}\")\n",
    "    print(f\"Áreas: {', '.join(item['areas'])}\")\n",
    "    print()"
   ]
  },
  {
   "cell_type": "markdown",
   "metadata": {},
   "source": [
    "## Interpreting Fragments of the Bible by Theme"
   ]
  },
  {
   "cell_type": "markdown",
   "metadata": {},
   "source": [
    "### Interpreting fragments of the Bible categorized by theme"
   ]
  },
  {
   "cell_type": "code",
   "execution_count": 20,
   "metadata": {},
   "outputs": [],
   "source": [
    "# Loading Fragments of the Bible\n",
    "with open('bible/data/bible_by_theme.json') as f:\n",
    "    fragments = json.load(f)"
   ]
  },
  {
   "cell_type": "code",
   "execution_count": 21,
   "metadata": {},
   "outputs": [],
   "source": [
    "# Prompt Instruction\n",
    "instructions = \"\"\"\n",
    "# Rol #\n",
    "Tu eres el GPT: Catholic Bible Guide by Fr. Abraham Mutholath.\n",
    "Tu rol será el de un sacerdote de una iglesia Católica. Se te dará distintos fragmentos de la Biblia. Tu tarea será leer los fragmentos y realizar las tareas que se detallen en la siguiente sección.\n",
    "# Fin Rol #\n",
    "\n",
    "# Tareas #\n",
    "- Explicar la Biblia (explicacion): si el fragmento de la Biblia no está escrito en un lenguaje antiguo, es ambiguo o no está claro lo que quiere decir debes hacer una explicación breve y concisa. Solo explica lo que no es tan evidente y esté en un lenguaje antiguo o ambiguo.\n",
    "- Identificar Area de la vida (areas): de cada fragmento debes identificar el área de la vida de la que se habla. Las áreas de la vida pueden ser: \"Relaciones familiares/pareja\",\"Amistad\",\"Salud física\",\"Salud mental/emocional\",\"Desarrollo/crecimiento personal\",\"Misión de vida\",\"Dinero\",\"Trabajo\",\"Diversión/Hobbies\",\"Otros\". Para cada fragmento menciona entre 1 y 3 áreas que sean las más importantes.\n",
    "# fin Tareas #\n",
    "\n",
    "# Estructura input #\n",
    "\"id_libro | fragmento\"\n",
    "# Fin estructura input #\n",
    "\n",
    "# Output #\n",
    "El output debe ser un texto plano separado por | sin \"header\" ni \"footer\"\n",
    "\"id_libro | explicacion | areas (separado por comas)\"\n",
    "# Fin Output #\n",
    "\"\"\""
   ]
  },
  {
   "cell_type": "code",
   "execution_count": 22,
   "metadata": {},
   "outputs": [],
   "source": [
    "# Creating empty lists to save the data\n",
    "list_purpose = []\n",
    "list_passage = []\n",
    "list_text = []\n",
    "list_response = []\n",
    "\n",
    "# For loop to interpret all the fragments of the Bible\n",
    "for item in fragments:\n",
    "    purpose = item['purpose']\n",
    "    verses = item['versiculos']\n",
    "    for verse in verses:\n",
    "        passage = verse['pasaje']\n",
    "        text = verse['texto']\n",
    "        list_purpose.append(purpose)\n",
    "        list_passage.append(passage)\n",
    "        list_text.append(text)\n",
    "        input_to_interpret = f\"{passage} | {text}\"\n",
    "        prompt = f\"\"\"\n",
    "                    {instructions}\n",
    "\n",
    "                    # Input # \n",
    "                    {input_to_interpret}\n",
    "                    # Fin Input #\n",
    "                    \"\"\"\n",
    "        response_4o = get_completion_4o(prompt)\n",
    "        list_response.append(response_4o)"
   ]
  },
  {
   "cell_type": "code",
   "execution_count": 46,
   "metadata": {},
   "outputs": [
    {
     "data": {
      "text/plain": [
       "'Proverbios 13:25 | El justo come hasta saciar su alma: Mas el vientre de los impíos tendrá necesidad. Este versículo utiliza una metáfora para contrastar la satisfacción y la plenitud que experimentan los justos con la carencia y la insatisfacción de los impíos. \"El justo come hasta saciar su alma\" sugiere que aquellos que viven rectamente encuentran satisfacción y plenitud en sus vidas, no solo en el sentido físico, sino también espiritual. En cambio, \"el vientre de los impíos tendrá necesidad\" indica que los malvados siempre sentirán una falta o vacío, tanto física como espiritualmente. | Salud mental/emocional, Desarrollo/crecimiento personal, Misión de vida'"
      ]
     },
     "execution_count": 46,
     "metadata": {},
     "output_type": "execute_result"
    }
   ],
   "source": [
    "# Sometimes ChatGPT's output is not correct and should be fixed\n",
    "# For the list_response[182] there is one more pipe \"|\" in the response and this is generating a conflict when merging all the data\n",
    "import re\n",
    "pattern = r' \\| Este'\n",
    "replacement = ' Este'\n",
    "\n",
    "# Replace the pattern in the specified element\n",
    "list_response[182] = re.sub(pattern, replacement, list_response[182])\n",
    "list_response[182]"
   ]
  },
  {
   "cell_type": "code",
   "execution_count": 47,
   "metadata": {},
   "outputs": [],
   "source": [
    "# Splitting ChatGPT response into passage, interpretatino and areas\n",
    "list_passage_2 = []\n",
    "list_interpretation = []\n",
    "list_areas = []\n",
    "\n",
    "for item in list_response:\n",
    "    passage, interpretation, area = item.split('|')\n",
    "    list_passage_2.append(passage)\n",
    "    list_interpretation.append(interpretation)\n",
    "    list_areas.append(area)"
   ]
  },
  {
   "cell_type": "code",
   "execution_count": 60,
   "metadata": {},
   "outputs": [
    {
     "name": "stdout",
     "output_type": "stream",
     "text": [
      "[['Desarrollo/crecimiento personal', 'Misión de vida'], ['Desarrollo/crecimiento personal', 'Misión de vida'], ['Desarrollo/crecimiento personal', 'Misión de vida'], ['Misión de vida', 'Desarrollo/crecimiento personal', 'Salud mental/emocional'], ['Misión de vida', 'Desarrollo/crecimiento personal', 'Salud mental/emocional'], ['Misión de vida', 'Salud mental/emocional'], ['Misión de vida', 'Desarrollo/crecimiento personal'], ['Relaciones familiares/pareja', 'Misión de vida'], ['Desarrollo/crecimiento personal', 'Salud mental/emocional', 'Misión de vida'], ['Misión de vida', 'Desarrollo/crecimiento personal', 'Salud mental/emocional'], ['Misión de vida', 'Desarrollo/crecimiento personal', 'Salud mental/emocional'], ['Desarrollo/crecimiento personal', 'Misión de vida', 'Salud mental/emocional'], ['Misión de vida', 'Desarrollo/crecimiento personal'], ['Desarrollo/crecimiento personal', 'Misión de vida', 'Salud mental/emocional'], ['Misión de vida', 'Desarrollo/crecimiento personal'], ['Salud mental/emocional', 'Desarrollo/crecimiento personal', 'Relaciones familiares/pareja'], ['Relaciones familiares/pareja', 'Desarrollo/crecimiento personal', 'Misión de vida'], ['Salud mental/emocional', 'Desarrollo/crecimiento personal', 'Misión de vida'], ['Misión de vida', 'Salud mental/emocional'], ['Salud mental/emocional', 'Desarrollo/crecimiento personal', 'Misión de vida'], ['Salud mental/emocional', 'Desarrollo/crecimiento personal', 'Misión de vida'], ['Salud mental/emocional', 'Desarrollo/crecimiento personal', 'Misión de vida'], ['Salud mental/emocional', 'Misión de vida'], ['Misión de vida', 'Salud mental/emocional'], ['Salud mental/emocional', 'Desarrollo/crecimiento personal', 'Relaciones familiares/pareja'], ['Salud mental/emocional', 'Desarrollo/crecimiento personal'], ['Salud mental/emocional', 'Relaciones familiares/pareja', 'Misión de vida'], ['Salud mental/emocional', 'Misión de vida'], ['Desarrollo/crecimiento personal', 'Misión de vida'], ['Misión de vida', 'Desarrollo/crecimiento personal'], ['Salud mental/emocional', 'Relaciones familiares/pareja', 'Misión de vida'], ['Misión de vida', 'Desarrollo/crecimiento personal'], ['Misión de vida', 'Desarrollo/crecimiento personal', 'Salud mental/emocional'], ['Misión de vida', 'Salud mental/emocional'], ['Salud mental/emocional', 'Misión de vida'], ['Misión de vida', 'Desarrollo/crecimiento personal', 'Salud mental/emocional'], ['Misión de vida', 'Desarrollo/crecimiento personal', 'Salud mental/emocional'], ['Salud mental/emocional', 'Relaciones familiares/pareja', 'Desarrollo/crecimiento personal'], ['Desarrollo/crecimiento personal', 'Misión de vida', 'Salud mental/emocional'], ['Salud mental/emocional', 'Desarrollo/crecimiento personal', 'Misión de vida'], ['Desarrollo/crecimiento personal', 'Salud mental/emocional', 'Misión de vida'], ['Salud mental/emocional', 'Desarrollo/crecimiento personal', 'Misión de vida'], ['Salud mental/emocional', 'Desarrollo/crecimiento personal', 'Misión de vida'], ['Salud mental/emocional', 'Desarrollo/crecimiento personal', 'Misión de vida'], ['Relaciones familiares/pareja', 'Amistad', 'Misión de vida'], ['Desarrollo/crecimiento personal', 'Misión de vida', 'Salud mental/emocional'], ['Salud mental/emocional', 'Misión de vida'], ['Salud mental/emocional', 'Desarrollo/crecimiento personal', 'Misión de vida'], ['Salud mental/emocional', 'Desarrollo/crecimiento personal', 'Misión de vida'], ['Relaciones familiares/pareja', 'Salud mental/emocional', 'Desarrollo/crecimiento personal'], ['Salud mental/emocional', 'Misión de vida', 'Desarrollo/crecimiento personal'], ['Relaciones familiares/pareja', 'Desarrollo/crecimiento personal', 'Misión de vida'], ['Misión de vida', 'Salud mental/emocional'], ['Misión de vida', 'Desarrollo/crecimiento personal', 'Salud mental/emocional'], ['Salud mental/emocional', 'Misión de vida', 'Desarrollo/crecimiento personal'], ['Misión de vida', 'Salud mental/emocional', 'Desarrollo/crecimiento personal'], ['Salud mental/emocional', 'Desarrollo/crecimiento personal', 'Relaciones familiares/pareja'], ['Misión de vida', 'Salud mental/emocional'], ['Salud mental/emocional', 'Desarrollo/crecimiento personal', 'Relaciones familiares/pareja'], ['Salud mental/emocional', 'Desarrollo/crecimiento personal', 'Misión de vida'], ['Misión de vida', 'Desarrollo/crecimiento personal'], ['Misión de vida', 'Desarrollo/crecimiento personal', 'Salud mental/emocional'], ['Salud mental/emocional', 'Desarrollo/crecimiento personal', 'Misión de vida'], ['Misión de vida', 'Desarrollo/crecimiento personal'], ['Misión de vida', 'Desarrollo/crecimiento personal', 'Salud mental/emocional'], ['Salud mental/emocional', 'Misión de vida'], ['Misión de vida', 'Salud mental/emocional', 'Relaciones familiares/pareja'], ['Salud mental/emocional', 'Desarrollo/crecimiento personal'], ['Misión de vida', 'Salud mental/emocional'], ['Misión de vida', 'Salud mental/emocional'], ['Misión de vida', 'Salud mental/emocional'], ['Salud mental/emocional', 'Misión de vida'], ['Misión de vida', 'Salud mental/emocional'], ['Misión de vida', 'Salud mental/emocional'], ['Misión de vida', 'Salud mental/emocional'], ['Relaciones familiares/pareja', 'Salud mental/emocional', 'Desarrollo/crecimiento personal'], ['Misión de vida', 'Salud mental/emocional'], ['Misión de vida', 'Salud mental/emocional'], ['Misión de vida', 'Salud mental/emocional'], ['Misión de vida', 'Desarrollo/crecimiento personal'], ['Relaciones familiares/pareja', 'Salud mental/emocional', 'Desarrollo/crecimiento personal'], ['Misión de vida', 'Diversión/Hobbies', 'Otros'], ['Relaciones familiares/pareja', 'Amistad', 'Misión de vida'], ['Salud mental/emocional', 'Desarrollo/crecimiento personal', 'Misión de vida'], ['Misión de vida', 'Desarrollo/crecimiento personal'], ['Misión de vida', 'Desarrollo/crecimiento personal'], ['Salud mental/emocional', 'Misión de vida'], ['Salud mental/emocional', 'Desarrollo/crecimiento personal', 'Misión de vida'], ['Salud mental/emocional', 'Desarrollo/crecimiento personal'], ['Salud física', 'Salud mental/emocional', 'Desarrollo/crecimiento personal'], ['Desarrollo/crecimiento personal', 'Salud mental/emocional', 'Misión de vida'], ['Salud mental/emocional', 'Desarrollo/crecimiento personal', 'Misión de vida'], ['Misión de vida', 'Salud mental/emocional'], ['Salud mental/emocional', 'Desarrollo/crecimiento personal', 'Misión de vida'], ['Salud mental/emocional', 'Misión de vida'], ['Desarrollo/crecimiento personal', 'Misión de vida'], ['Desarrollo/crecimiento personal', 'Salud mental/emocional'], ['Desarrollo/crecimiento personal', 'Misión de vida', 'Salud mental/emocional'], ['Salud mental/emocional', 'Desarrollo/crecimiento personal', 'Misión de vida'], ['Relaciones familiares/pareja', 'Salud mental/emocional', 'Misión de vida'], ['Misión de vida', 'Desarrollo/crecimiento personal', 'Salud mental/emocional'], ['Desarrollo/crecimiento personal', 'Misión de vida'], ['Misión de vida', 'Desarrollo/crecimiento personal'], ['Salud mental/emocional', 'Desarrollo/crecimiento personal'], ['Desarrollo/crecimiento personal', 'Salud mental/emocional', 'Misión de vida'], ['Desarrollo/crecimiento personal', 'Misión de vida'], ['Salud mental/emocional', 'Desarrollo/crecimiento personal', 'Misión de vida'], ['Desarrollo/crecimiento personal', 'Salud mental/emocional', 'Misión de vida'], ['Relaciones familiares/pareja', 'Amistad', 'Desarrollo/crecimiento personal'], ['Relaciones familiares/pareja', 'Amistad', 'Misión de vida'], ['Relaciones familiares/pareja', 'Amistad', 'Desarrollo/crecimiento personal'], ['Misión de vida', 'Desarrollo/crecimiento personal', 'Salud mental/emocional'], ['Relaciones familiares/pareja', 'Amistad', 'Desarrollo/crecimiento personal'], ['Relaciones familiares/pareja', 'Desarrollo/crecimiento personal', 'Misión de vida'], ['Desarrollo/crecimiento personal', 'Misión de vida', 'Relaciones familiares/pareja'], ['Amistad', 'Misión de vida'], ['Salud mental/emocional', 'Misión de vida'], ['Relaciones familiares/pareja', 'Amistad', 'Desarrollo/crecimiento personal'], ['Relaciones familiares/pareja', 'Amistad', 'Desarrollo/crecimiento personal'], ['Relaciones familiares/pareja', 'Amistad', 'Desarrollo/crecimiento personal'], ['Relaciones familiares/pareja', 'Amistad', 'Desarrollo/crecimiento personal'], ['Relaciones familiares/pareja', 'Amistad', 'Salud mental/emocional'], ['Relaciones familiares/pareja', 'Amistad', 'Salud mental/emocional'], ['Relaciones familiares/pareja', 'Amistad', 'Desarrollo/crecimiento personal'], ['Relaciones familiares/pareja', 'Amistad', 'Desarrollo/crecimiento personal'], ['Relaciones familiares/pareja', 'Amistad', 'Desarrollo/crecimiento personal'], ['Relaciones familiares/pareja', 'Misión de vida'], ['Relaciones familiares/pareja', 'Amistad', 'Desarrollo/crecimiento personal'], ['Misión de vida', 'Salud mental/emocional'], ['Misión de vida', 'Desarrollo/crecimiento personal'], ['Desarrollo/crecimiento personal', 'Misión de vida', 'Trabajo'], ['Salud mental/emocional', 'Desarrollo/crecimiento personal'], ['Salud mental/emocional', 'Desarrollo/crecimiento personal'], ['Salud mental/emocional', 'Desarrollo/crecimiento personal'], ['Salud mental/emocional', 'Misión de vida'], ['Salud mental/emocional', 'Misión de vida'], ['Salud mental/emocional', 'Desarrollo/crecimiento personal', 'Misión de vida'], ['Salud mental/emocional', 'Desarrollo/crecimiento personal', 'Misión de vida'], ['Salud mental/emocional', 'Desarrollo/crecimiento personal', 'Misión de vida'], ['Salud mental/emocional', 'Desarrollo/crecimiento personal', 'Misión de vida'], ['Salud mental/emocional', 'Desarrollo/crecimiento personal', 'Misión de vida'], ['Salud mental/emocional', 'Desarrollo/crecimiento personal', 'Misión de vida'], ['Salud mental/emocional', 'Desarrollo/crecimiento personal', 'Misión de vida'], ['Salud mental/emocional', 'Misión de vida', 'Desarrollo/crecimiento personal'], ['Salud mental/emocional', 'Misión de vida'], ['Salud mental/emocional', 'Desarrollo/crecimiento personal', 'Misión de vida'], ['Salud mental/emocional', 'Desarrollo/crecimiento personal'], ['Misión de vida', 'Salud mental/emocional'], ['Salud mental/emocional', 'Fe/espiritualidad'], ['Desarrollo/crecimiento personal', 'Salud mental/emocional', 'Misión de vida'], ['Desarrollo/crecimiento personal', 'Salud mental/emocional'], ['Salud espiritual', 'Desarrollo/crecimiento personal', 'Misión de vida'], ['Misión de vida', 'Desarrollo/crecimiento personal'], ['Misión de vida', 'Desarrollo/crecimiento personal'], ['Misión de vida', 'Desarrollo/crecimiento personal', 'Salud mental/emocional'], ['Desarrollo/crecimiento personal', 'Salud mental/emocional'], ['Misión de vida', 'Trabajo', 'Desarrollo/crecimiento personal'], ['Desarrollo/crecimiento personal', 'Salud mental/emocional', 'Misión de vida'], ['Desarrollo/crecimiento personal', 'Salud mental/emocional'], ['Salud mental/emocional', 'Misión de vida'], ['Salud mental/emocional', 'Misión de vida'], ['Salud mental/emocional', 'Desarrollo/crecimiento personal'], ['Salud mental/emocional', 'Desarrollo/crecimiento personal', 'Misión de vida'], ['Salud mental/emocional', 'Desarrollo/crecimiento personal', 'Misión de vida'], ['Salud mental/emocional', 'Salud física', 'Desarrollo/crecimiento personal'], ['Salud mental/emocional', 'Desarrollo/crecimiento personal', 'Misión de vida'], ['Salud mental/emocional', 'Salud física'], ['Salud mental/emocional', 'Desarrollo/crecimiento personal', 'Misión de vida'], ['Salud mental/emocional', 'Desarrollo/crecimiento personal', 'Misión de vida'], ['Salud mental/emocional', 'Desarrollo/crecimiento personal'], ['Salud mental/emocional', 'Relaciones familiares/pareja', 'Misión de vida'], ['Salud mental/emocional', 'Desarrollo/crecimiento personal', 'Misión de vida'], ['Salud mental/emocional', 'Misión de vida'], ['Desarrollo/crecimiento personal', 'Salud mental/emocional', 'Dinero'], ['Relaciones familiares/pareja', 'Salud mental/emocional', 'Desarrollo/crecimiento personal'], ['Salud mental/emocional', 'Misión de vida'], ['Misión de vida', 'Salud mental/emocional'], ['Salud mental/emocional', 'Desarrollo/crecimiento personal', 'Misión de vida'], ['Salud física', 'Salud mental/emocional', 'Desarrollo/crecimiento personal'], ['Relaciones familiares/pareja', 'Misión de vida', 'Desarrollo/crecimiento personal'], ['Salud mental/emocional', 'Desarrollo/crecimiento personal', 'Misión de vida'], ['Salud física', 'Salud mental/emocional', 'Desarrollo/crecimiento personal'], ['Salud mental/emocional', 'Desarrollo/crecimiento personal', 'Misión de vida'], ['Desarrollo/crecimiento personal', 'Misión de vida'], ['Relaciones familiares/pareja', 'Salud física', 'Salud mental/emocional'], ['Dinero', 'Misión de vida', 'Desarrollo/crecimiento personal'], ['Salud mental/emocional', 'Desarrollo/crecimiento personal', 'Misión de vida'], ['Misión de vida', 'Desarrollo/crecimiento personal'], ['Salud mental/emocional', 'Desarrollo/crecimiento personal', 'Misión de vida'], ['Relaciones familiares/pareja', 'Salud mental/emocional', 'Misión de vida'], ['Salud mental/emocional', 'Desarrollo/crecimiento personal', 'Misión de vida'], ['Misión de vida', 'Fe/Confianza en Dios'], ['Trabajo', 'Misión de vida'], ['Salud mental/emocional', 'Desarrollo/crecimiento personal', 'Misión de vida'], ['Dinero', 'Misión de vida', 'Salud mental/emocional'], ['Salud mental/emocional', 'Misión de vida', 'Desarrollo/crecimiento personal'], ['Misión de vida', 'Desarrollo/crecimiento personal', 'Salud mental/emocional'], ['Relaciones familiares/pareja', 'Amistad', 'Salud mental/emocional'], ['Desarrollo/crecimiento personal', 'Relaciones familiares/pareja'], ['Salud mental/emocional', 'Desarrollo/crecimiento personal', 'Misión de vida'], ['Salud mental/emocional', 'Desarrollo/crecimiento personal'], ['Desarrollo/crecimiento personal', 'Relaciones familiares/pareja', 'Amistad'], ['Salud mental/emocional', 'Desarrollo/crecimiento personal', 'Misión de vida'], ['Relaciones familiares/pareja', 'Amistad', 'Salud mental/emocional'], ['Relaciones familiares/pareja', 'Salud mental/emocional', 'Desarrollo/crecimiento personal'], ['Relaciones familiares/pareja', 'Amistad', 'Salud mental/emocional'], ['Relaciones familiares/pareja', 'Amistad', 'Salud mental/emocional'], ['Relaciones familiares/pareja', 'Salud mental/emocional', 'Desarrollo/crecimiento personal'], ['Relaciones familiares/pareja', 'Amistad', 'Salud mental/emocional'], ['Relaciones familiares/pareja', 'Salud mental/emocional', 'Desarrollo/crecimiento personal'], ['Relaciones familiares/pareja', 'Salud mental/emocional', 'Desarrollo/crecimiento personal'], ['Relaciones familiares/pareja', 'Amistad', 'Salud mental/emocional'], ['Relaciones familiares/pareja', 'Amistad', 'Salud mental/emocional'], ['Salud mental/emocional', 'Desarrollo/crecimiento personal', 'Relaciones familiares/pareja'], ['Salud mental/emocional', 'Relaciones familiares/pareja', 'Amistad'], ['Salud mental/emocional', 'Desarrollo/crecimiento personal', 'Relaciones familiares/pareja'], ['Salud mental/emocional', 'Desarrollo/crecimiento personal'], ['Salud mental/emocional', 'Desarrollo/crecimiento personal', 'Misión de vida'], ['Relaciones familiares/pareja', 'Desarrollo/crecimiento personal'], ['Desarrollo/crecimiento personal', 'Misión de vida'], ['Salud mental/emocional', 'Desarrollo/crecimiento personal', 'Misión de vida'], ['Desarrollo/crecimiento personal', 'Salud mental/emocional', 'Misión de vida'], ['Desarrollo/crecimiento personal', 'Misión de vida'], ['Desarrollo/crecimiento personal', 'Misión de vida'], ['Desarrollo/crecimiento personal', 'Misión de vida'], ['Relaciones familiares/pareja', 'Salud mental/emocional', 'Desarrollo/crecimiento personal'], ['Misión de vida', 'Desarrollo/crecimiento personal'], ['Misión de vida', 'Desarrollo/crecimiento personal'], ['Desarrollo/crecimiento personal', 'Misión de vida'], ['Desarrollo/crecimiento personal', 'Misión de vida', 'Relaciones familiares/pareja'], ['Desarrollo/crecimiento personal', 'Misión de vida'], ['Desarrollo/crecimiento personal', 'Salud mental/emocional', 'Misión de vida'], ['Desarrollo/crecimiento personal', 'Misión de vida', 'Salud mental/emocional'], ['Salud mental/emocional', 'Desarrollo/crecimiento personal', 'Misión de vida'], ['Salud física', 'Salud mental/emocional', 'Desarrollo/crecimiento personal'], ['Desarrollo/crecimiento personal', 'Misión de vida', 'Salud mental/emocional'], ['Salud mental/emocional', 'Desarrollo/crecimiento personal', 'Misión de vida'], ['Salud mental/emocional', 'Desarrollo/crecimiento personal', 'Misión de vida'], ['Desarrollo/crecimiento personal', 'Salud mental/emocional', 'Misión de vida'], ['Desarrollo/crecimiento personal', 'Misión de vida'], ['Desarrollo/crecimiento personal', 'Misión de vida'], ['Misión de vida', 'Desarrollo/crecimiento personal', 'Salud mental/emocional'], ['Misión de vida', 'Desarrollo/crecimiento personal'], ['Salud mental/emocional', 'Desarrollo/crecimiento personal'], ['Desarrollo/crecimiento personal', 'Salud mental/emocional', 'Misión de vida'], ['Salud mental/emocional', 'Desarrollo/crecimiento personal', 'Misión de vida'], ['Salud mental/emocional', 'Desarrollo/crecimiento personal', 'Misión de vida'], ['Relaciones familiares/pareja', 'Desarrollo/crecimiento personal', 'Dinero'], ['Dinero', 'Desarrollo/crecimiento personal', 'Misión de vida'], ['Relaciones familiares/pareja', 'Amistad', 'Desarrollo/crecimiento personal'], ['Relaciones familiares/pareja', 'Desarrollo/crecimiento personal', 'Misión de vida'], ['Dinero', 'Desarrollo/crecimiento personal', 'Relaciones familiares/pareja'], ['Dinero', 'Misión de vida', 'Desarrollo/crecimiento personal'], ['Relaciones familiares/pareja', 'Amistad', 'Desarrollo/crecimiento personal'], ['Desarrollo/crecimiento personal', 'Relaciones familiares/pareja', 'Salud mental/emocional'], ['Relaciones familiares/pareja', 'Amistad', 'Misión de vida'], ['Relaciones familiares/pareja', 'Amistad', 'Desarrollo/crecimiento personal'], ['Desarrollo/crecimiento personal', 'Relaciones familiares/pareja', 'Dinero'], ['Dinero', 'Desarrollo/crecimiento personal', 'Misión de vida'], ['Relaciones familiares/pareja', 'Salud física', 'Desarrollo/crecimiento personal'], ['Salud física', 'Salud mental/emocional', 'Desarrollo/crecimiento personal'], ['Salud física', 'Salud mental/emocional', 'Relaciones familiares/pareja'], ['Salud mental/emocional', 'Desarrollo/crecimiento personal', 'Misión de vida'], ['Salud física', 'Salud mental/emocional', 'Desarrollo/crecimiento personal'], ['Salud física', 'Salud mental/emocional'], ['Salud mental/emocional', 'Salud física', 'Desarrollo/crecimiento personal'], ['Salud mental/emocional', 'Misión de vida'], ['Salud física', 'Salud mental/emocional', 'Desarrollo/crecimiento personal'], ['Salud física', 'Salud mental/emocional', 'Desarrollo/crecimiento personal'], ['Misión de vida', 'Salud física', 'Salud mental/emocional'], ['Salud física', 'Salud mental/emocional', 'Misión de vida'], ['Relaciones familiares/pareja', 'Amistad', 'Salud mental/emocional'], ['Salud física', 'Fe/Misión de vida'], ['Salud mental/emocional', 'Desarrollo/crecimiento personal', 'Misión de vida'], ['Desarrollo/crecimiento personal', 'Salud mental/emocional', 'Relaciones familiares/pareja'], ['Salud física', 'Salud mental/emocional', 'Relaciones familiares/pareja'], ['Desarrollo/crecimiento personal', 'Salud mental/emocional'], ['Relaciones familiares/pareja', 'Salud mental/emocional', 'Misión de vida'], ['Salud mental/emocional', 'Misión de vida'], ['Relaciones familiares/pareja', 'Misión de vida'], ['Misión de vida', 'Salud mental/emocional'], ['Misión de vida', 'Desarrollo/crecimiento personal'], ['Salud mental/emocional', 'Desarrollo/crecimiento personal'], ['Salud mental/emocional', 'Misión de vida'], ['Misión de vida', 'Salud mental/emocional'], ['Salud mental/emocional', 'Desarrollo/crecimiento personal', 'Misión de vida'], ['Salud mental/emocional', 'Desarrollo/crecimiento personal', 'Misión de vida'], ['Relaciones familiares/pareja', 'Salud mental/emocional', 'Desarrollo/crecimiento personal'], ['Salud física', 'Salud mental/emocional', 'Fe/espiritualidad'], ['Desarrollo/crecimiento personal', 'Trabajo', 'Misión de vida'], ['Misión de vida', 'Relaciones familiares/pareja'], ['Salud física', 'Misión de vida'], ['Salud mental/emocional', 'Desarrollo/crecimiento personal', 'Misión de vida'], ['Relaciones familiares/pareja', 'Salud mental/emocional', 'Desarrollo/crecimiento personal'], ['Salud mental/emocional', 'Desarrollo/crecimiento personal', 'Misión de vida'], ['Desarrollo/crecimiento personal', 'Misión de vida'], ['Salud mental/emocional', 'Desarrollo/crecimiento personal', 'Misión de vida'], ['Misión de vida', 'Desarrollo/crecimiento personal'], ['Salud mental/emocional', 'Desarrollo/crecimiento personal', 'Misión de vida'], ['Trabajo', 'Dinero'], ['Relaciones familiares/pareja', 'Salud mental/emocional', 'Misión de vida'], ['Relaciones familiares/pareja', 'Misión de vida', 'Trabajo'], ['Desarrollo/crecimiento personal', 'Misión de vida'], ['Desarrollo/crecimiento personal', 'Misión de vida', 'Trabajo'], ['Relaciones familiares/pareja', 'Dinero', 'Trabajo'], ['Desarrollo/crecimiento personal', 'Dinero', 'Relaciones familiares/pareja'], ['Desarrollo/crecimiento personal', 'Misión de vida', 'Trabajo'], ['Misión de vida', 'Trabajo', 'Relaciones familiares/pareja'], ['Salud mental/emocional', 'Desarrollo/crecimiento personal', 'Misión de vida'], ['Salud mental/emocional', 'Desarrollo/crecimiento personal', 'Misión de vida'], ['Misión de vida', 'Relaciones familiares/pareja'], ['Desarrollo/crecimiento personal', 'Misión de vida', 'Salud mental/emocional'], ['Salud mental/emocional', 'Desarrollo/crecimiento personal', 'Misión de vida'], ['Misión de vida', 'Desarrollo/crecimiento personal', 'Salud mental/emocional'], ['Desarrollo/crecimiento personal', 'Misión de vida'], ['Misión de vida', 'Desarrollo/crecimiento personal'], ['Relaciones familiares/pareja', 'Desarrollo/crecimiento personal', 'Misión de vida'], ['Salud espiritual', 'Desarrollo/crecimiento personal', 'Misión de vida'], ['Salud mental/emocional', 'Desarrollo/crecimiento personal', 'Misión de vida'], ['Misión de vida', 'Salud mental/emocional', 'Desarrollo/crecimiento personal'], ['Salud mental/emocional', 'Desarrollo/crecimiento personal'], ['Salud mental/emocional', 'Desarrollo/crecimiento personal', 'Misión de vida'], ['Desarrollo/crecimiento personal', 'Trabajo', 'Salud mental/emocional'], ['Salud mental/emocional', 'Misión de vida'], ['Salud mental/emocional', 'Desarrollo/crecimiento personal', 'Relaciones familiares/pareja'], ['Desarrollo/crecimiento personal', 'Salud mental/emocional', 'Misión de vida'], ['Salud física', 'Salud mental/emocional', 'Desarrollo/crecimiento personal'], ['Salud mental/emocional', 'Misión de vida'], ['Desarrollo/crecimiento personal', 'Salud mental/emocional', 'Misión de vida'], ['Salud física', 'Salud mental/emocional', 'Relaciones familiares/pareja'], ['Desarrollo/crecimiento personal', 'Misión de vida'], ['Relaciones familiares/pareja', 'Misión de vida', 'Desarrollo/crecimiento personal'], ['Salud mental/emocional', 'Misión de vida'], ['Desarrollo/crecimiento personal', 'Salud mental/emocional'], ['Salud mental/emocional', 'Desarrollo/crecimiento personal', 'Misión de vida'], ['Misión de vida', 'Salud mental/emocional'], ['Salud mental/emocional', 'Misión de vida'], ['Salud física', 'Salud mental/emocional', 'Desarrollo/crecimiento personal'], ['Salud mental/emocional', 'Desarrollo/crecimiento personal', 'Misión de vida'], ['Salud mental/emocional', 'Desarrollo/crecimiento personal', 'Misión de vida'], ['Salud mental/emocional', 'Desarrollo/crecimiento personal', 'Misión de vida'], ['Salud mental/emocional', 'Desarrollo/crecimiento personal'], ['Salud física', 'Salud mental/emocional'], ['Salud mental/emocional', 'Misión de vida'], ['Misión de vida', 'Salud mental/emocional', 'Desarrollo/crecimiento personal'], ['Salud mental/emocional', 'Desarrollo/crecimiento personal', 'Misión de vida'], ['Desarrollo/crecimiento personal', 'Misión de vida', 'Relaciones familiares/pareja'], ['Salud mental/emocional', 'Desarrollo/crecimiento personal', 'Misión de vida'], ['Salud física', 'Salud mental/emocional', 'Misión de vida'], ['Misión de vida', 'Desarrollo/crecimiento personal', 'Salud mental/emocional'], ['Salud mental/emocional', 'Desarrollo/crecimiento personal'], ['Salud mental/emocional', 'Fe/espiritualidad'], ['Salud física', 'Salud mental/emocional', 'Desarrollo/crecimiento personal'], ['Salud mental/emocional', 'Desarrollo/crecimiento personal'], ['Salud mental/emocional', 'Desarrollo/crecimiento personal'], ['Salud mental/emocional', 'Relaciones familiares/pareja', 'Desarrollo/crecimiento personal'], ['Salud mental/emocional', 'Misión de vida'], ['Relaciones familiares/pareja', 'Desarrollo/crecimiento personal'], ['Desarrollo/crecimiento personal', 'Salud mental/emocional'], ['Salud mental/emocional', 'Desarrollo/crecimiento personal', 'Misión de vida'], ['Salud mental/emocional', 'Salud física', 'Desarrollo/crecimiento personal'], ['Salud mental/emocional', 'Desarrollo/crecimiento personal', 'Misión de vida'], ['Salud mental/emocional', 'Desarrollo/crecimiento personal', 'Misión de vida'], ['Salud física', 'Salud mental/emocional', 'Desarrollo/crecimiento personal'], ['Salud mental/emocional', 'Desarrollo/crecimiento personal', 'Misión de vida'], ['Salud mental/emocional', 'Desarrollo/crecimiento personal', 'Misión de vida'], ['Misión de vida', 'Desarrollo/crecimiento personal'], ['Desarrollo/crecimiento personal', 'Misión de vida'], ['Misión de vida', 'Salud mental/emocional'], ['Desarrollo/crecimiento personal', 'Misión de vida', 'Salud mental/emocional'], ['Misión de vida', 'Desarrollo/crecimiento personal'], ['Desarrollo/crecimiento personal', 'Misión de vida', 'Relaciones familiares/pareja'], ['Misión de vida', 'Salud mental/emocional', 'Desarrollo/crecimiento personal'], ['Salud mental/emocional', 'Misión de vida'], ['Misión de vida', 'Desarrollo/crecimiento personal', 'Salud mental/emocional'], ['Misión de vida', 'Desarrollo/crecimiento personal'], ['Desarrollo/crecimiento personal', 'Misión de vida', 'Salud mental/emocional'], ['Desarrollo/crecimiento personal', 'Salud mental/emocional', 'Misión de vida'], ['Salud mental/emocional', 'Desarrollo/crecimiento personal', 'Misión de vida'], ['Salud mental/emocional', 'Desarrollo/crecimiento personal', 'Misión de vida'], ['Salud mental/emocional', 'Desarrollo/crecimiento personal', 'Misión de vida'], ['Desarrollo/crecimiento personal', 'Misión de vida'], ['Desarrollo/crecimiento personal', 'Salud mental/emocional', 'Misión de vida'], ['Misión de vida', 'Salud mental/emocional'], ['Salud mental/emocional', 'Desarrollo/crecimiento personal', 'Misión de vida'], ['Salud física', 'Salud mental/emocional', 'Desarrollo/crecimiento personal'], ['Misión de vida', 'Otros'], ['Desarrollo/crecimiento personal', 'Otros'], ['Otros'], ['Otros'], ['Desarrollo/crecimiento personal', 'Misión de vida', 'Relaciones familiares/pareja'], ['Relaciones familiares/pareja', 'Desarrollo/crecimiento personal', 'Misión de vida'], ['Desarrollo/crecimiento personal', 'Misión de vida'], ['Misión de vida', 'Desarrollo/crecimiento personal', 'Salud mental/emocional'], ['Desarrollo/crecimiento personal', 'Misión de vida', 'Salud mental/emocional'], ['Misión de vida', 'Salud mental/emocional'], ['Otros'], ['Misión de vida', 'Desarrollo/crecimiento personal'], ['Misión de vida', 'Desarrollo/crecimiento personal'], ['Salud física', 'Salud mental/emocional', 'Desarrollo/crecimiento personal'], ['Misión de vida', 'Desarrollo/crecimiento personal'], ['Misión de vida', 'Desarrollo/crecimiento personal'], ['Misión de vida', 'Salud mental/emocional'], ['Misión de vida', 'Desarrollo/crecimiento personal'], ['Misión de vida', 'Desarrollo/crecimiento personal'], ['Misión de vida', 'Salud mental/emocional'], ['Relaciones familiares/pareja', 'Amistad', 'Desarrollo/crecimiento personal'], ['Relaciones familiares/pareja'], ['Salud mental/emocional', 'Misión de vida'], ['Misión de vida', 'Desarrollo/crecimiento personal'], ['Misión de vida', 'Desarrollo/crecimiento personal', 'Salud mental/emocional'], ['Misión de vida', 'Salud mental/emocional', 'Desarrollo/crecimiento personal'], ['Relaciones familiares/pareja'], ['Misión de vida', 'Desarrollo/crecimiento personal'], ['Misión de vida', 'Desarrollo/crecimiento personal', 'Otros'], ['Desarrollo/crecimiento personal', 'Misión de vida'], ['Desarrollo/crecimiento personal', 'Misión de vida'], ['Relaciones familiares/pareja', 'Salud física', 'Desarrollo/crecimiento personal'], ['Misión de vida', 'Otros'], ['Misión de vida', 'Desarrollo/crecimiento personal', 'Salud mental/emocional'], ['Misión de vida', 'Desarrollo/crecimiento personal', 'Salud mental/emocional'], ['Misión de vida', 'Desarrollo/crecimiento personal'], ['Misión de vida', 'Desarrollo/crecimiento personal'], ['Misión de vida', 'Otros'], ['Misión de vida', 'Desarrollo/crecimiento personal', 'Salud mental/emocional'], ['Salud mental/emocional', 'Misión de vida'], ['Salud mental/emocional', 'Relaciones familiares/pareja', 'Amistad'], ['Misión de vida', 'Desarrollo/crecimiento personal'], ['Salud mental/emocional', 'Desarrollo/crecimiento personal', 'Misión de vida'], ['Salud mental/emocional', 'Misión de vida'], ['Salud mental/emocional', 'Desarrollo/crecimiento personal', 'Misión de vida'], ['Desarrollo/crecimiento personal', 'Misión de vida', 'Salud mental/emocional'], ['Misión de vida', 'Desarrollo/crecimiento personal', 'Salud mental/emocional'], ['Desarrollo/crecimiento personal', 'Trabajo', 'Dinero'], ['Desarrollo/crecimiento personal', 'Relaciones familiares/pareja', 'Salud mental/emocional'], ['Salud mental/emocional', 'Desarrollo/crecimiento personal', 'Relaciones familiares/pareja'], ['Relaciones familiares/pareja', 'Amistad', 'Desarrollo/crecimiento personal'], ['Desarrollo/crecimiento personal', 'Misión de vida', 'Trabajo'], ['Desarrollo/crecimiento personal', 'Relaciones familiares/pareja', 'Trabajo'], ['Relaciones familiares/pareja', 'Amistad', 'Desarrollo/crecimiento personal'], ['Relaciones familiares/pareja', 'Salud mental/emocional', 'Salud física'], ['Relaciones familiares/pareja', 'Desarrollo/crecimiento personal', 'Misión de vida'], ['Relaciones familiares/pareja', 'Desarrollo/crecimiento personal', 'Misión de vida'], ['Desarrollo/crecimiento personal', 'Misión de vida'], ['Relaciones familiares/pareja', 'Salud mental/emocional', 'Desarrollo/crecimiento personal'], ['Desarrollo/crecimiento personal', 'Misión de vida'], ['Desarrollo/crecimiento personal', 'Salud mental/emocional', 'Misión de vida'], ['Misión de vida', 'Salud mental/emocional'], ['Relaciones familiares/pareja', 'Desarrollo/crecimiento personal'], ['Desarrollo/crecimiento personal', 'Misión de vida'], ['Relaciones familiares/pareja', 'Desarrollo/crecimiento personal'], ['Desarrollo/crecimiento personal', 'Misión de vida', 'Salud mental/emocional'], ['Desarrollo/crecimiento personal', 'Salud mental/emocional'], ['Relaciones familiares/pareja', 'Desarrollo/crecimiento personal'], ['Desarrollo/crecimiento personal', 'Relaciones familiares/pareja'], ['Relaciones familiares/pareja', 'Desarrollo/crecimiento personal'], ['Relaciones familiares/pareja', 'Desarrollo/crecimiento personal'], ['Relaciones familiares/pareja', 'Desarrollo/crecimiento personal'], ['Relaciones familiares/pareja', 'Desarrollo/crecimiento personal'], ['Relaciones familiares/pareja', 'Salud mental/emocional'], ['Relaciones familiares/pareja', 'Misión de vida'], ['Relaciones familiares/pareja', 'Desarrollo/crecimiento personal'], ['Relaciones familiares/pareja', 'Salud mental/emocional'], ['Relaciones familiares/pareja', 'Desarrollo/crecimiento personal', 'Misión de vida'], ['Desarrollo/crecimiento personal', 'Misión de vida', 'Trabajo'], ['Desarrollo/crecimiento personal', 'Salud mental/emocional', 'Relaciones familiares/pareja'], ['Relaciones familiares/pareja', 'Desarrollo/crecimiento personal', 'Salud mental/emocional'], ['Relaciones familiares/pareja', 'Desarrollo/crecimiento personal'], ['Relaciones familiares/pareja', 'Desarrollo/crecimiento personal', 'Misión de vida'], ['Relaciones familiares/pareja', 'Desarrollo/crecimiento personal'], ['Relaciones familiares/pareja', 'Dinero', 'Trabajo'], ['Relaciones familiares/pareja', 'Salud mental/emocional', 'Desarrollo/crecimiento personal'], ['Salud mental/emocional', 'Desarrollo/crecimiento personal'], ['Salud mental/emocional', 'Desarrollo/crecimiento personal', 'Misión de vida'], ['Salud mental/emocional', 'Desarrollo/crecimiento personal', 'Misión de vida'], ['Salud mental/emocional', 'Desarrollo/crecimiento personal'], ['Salud mental/emocional', 'Misión de vida'], ['Salud mental/emocional', 'Desarrollo/crecimiento personal', 'Misión de vida'], ['Salud mental/emocional', 'Misión de vida'], ['Salud mental/emocional', 'Desarrollo/crecimiento personal', 'Misión de vida'], ['Relaciones familiares/pareja', 'Desarrollo/crecimiento personal'], ['Relaciones familiares/pareja', 'Salud mental/emocional'], ['Relaciones familiares/pareja'], ['Relaciones familiares/pareja', 'Salud mental/emocional', 'Desarrollo/crecimiento personal'], ['Relaciones familiares/pareja', 'Salud mental/emocional'], ['Desarrollo/crecimiento personal', 'Relaciones familiares/pareja'], ['Relaciones familiares/pareja', 'Salud mental/emocional', 'Desarrollo/crecimiento personal'], ['Salud mental/emocional', 'Desarrollo/crecimiento personal', 'Misión de vida'], ['Desarrollo/crecimiento personal', 'Misión de vida', 'Salud mental/emocional'], ['Trabajo', 'Relaciones familiares/pareja', 'Salud mental/emocional'], ['Misión de vida', 'Salud mental/emocional'], ['Misión de vida', 'Desarrollo/crecimiento personal'], ['Relaciones familiares/pareja', 'Misión de vida', 'Salud mental/emocional'], ['Salud mental/emocional', 'Relaciones familiares/pareja'], ['Salud mental/emocional', 'Desarrollo/crecimiento personal', 'Misión de vida'], ['Salud mental/emocional', 'Desarrollo/crecimiento personal', 'Misión de vida'], ['Desarrollo/crecimiento personal', 'Misión de vida'], ['Desarrollo/crecimiento personal', 'Salud mental/emocional', 'Misión de vida'], ['Relaciones familiares/pareja', 'Desarrollo/crecimiento personal', 'Misión de vida'], ['Relaciones familiares/pareja', 'Salud mental/emocional', 'Desarrollo/crecimiento personal'], ['Relaciones familiares/pareja', 'Desarrollo/crecimiento personal', 'Misión de vida'], ['Relaciones familiares/pareja', 'Salud mental/emocional', 'Desarrollo/crecimiento personal'], ['Relaciones familiares/pareja', 'Salud mental/emocional', 'Desarrollo/crecimiento personal'], ['Relaciones familiares/pareja'], ['Salud mental/emocional', 'Desarrollo/crecimiento personal', 'Relaciones familiares/pareja'], ['Salud mental/emocional', 'Misión de vida', 'Desarrollo/crecimiento personal'], ['Misión de vida', 'Desarrollo/crecimiento personal'], ['Misión de vida', 'Salud mental/emocional'], ['Relaciones familiares/pareja', 'Salud mental/emocional', 'Otros'], ['Salud mental/emocional', 'Desarrollo/crecimiento personal', 'Misión de vida'], ['Salud mental/emocional', 'Desarrollo/crecimiento personal', 'Misión de vida'], ['Misión de vida', 'Salud mental/emocional'], ['Misión de vida', 'Desarrollo/crecimiento personal'], ['Misión de vida', 'Salud mental/emocional', 'Desarrollo/crecimiento personal'], ['Salud física', 'Salud mental/emocional', 'Desarrollo/crecimiento personal'], ['Misión de vida', 'Salud mental/emocional'], ['Misión de vida', 'Salud mental/emocional'], ['Misión de vida', 'Salud mental/emocional'], ['Misión de vida', 'Salud mental/emocional'], ['Misión de vida', 'Salud mental/emocional'], ['Misión de vida', 'Salud mental/emocional'], ['Misión de vida', 'Salud mental/emocional'], ['Misión de vida', 'Desarrollo/crecimiento personal'], ['Relaciones familiares/pareja', 'Salud mental/emocional', 'Desarrollo/crecimiento personal'], ['Misión de vida', 'Salud mental/emocional'], ['Misión de vida', 'Desarrollo/crecimiento personal'], ['Salud mental/emocional', 'Misión de vida'], ['Salud mental/emocional', 'Desarrollo/crecimiento personal', 'Misión de vida'], ['Relaciones familiares/pareja', 'Misión de vida', 'Desarrollo/crecimiento personal'], ['Misión de vida', 'Salud mental/emocional'], ['Misión de vida', 'Salud mental/emocional'], ['Salud mental/emocional', 'Desarrollo/crecimiento personal', 'Misión de vida'], ['Relaciones familiares/pareja', 'Amistad', 'Salud mental/emocional'], ['Salud mental/emocional', 'Desarrollo/crecimiento personal', 'Misión de vida'], ['Salud mental/emocional', 'Desarrollo/crecimiento personal'], ['Salud mental/emocional', 'Desarrollo/crecimiento personal', 'Misión de vida'], ['Relaciones familiares/pareja', 'Salud mental/emocional', 'Misión de vida'], ['Misión de vida', 'Desarrollo/crecimiento personal'], ['Relaciones familiares/pareja', 'Amistad', 'Desarrollo/crecimiento personal'], ['Salud mental/emocional', 'Desarrollo/crecimiento personal', 'Misión de vida'], ['Salud mental/emocional', 'Misión de vida'], ['Misión de vida', 'Otros'], ['Salud física', 'Salud mental/emocional', 'Relaciones familiares/pareja'], ['Salud mental/emocional', 'Desarrollo/crecimiento personal'], ['Desarrollo/crecimiento personal', 'Salud mental/emocional', 'Relaciones familiares/pareja'], ['Salud mental/emocional', 'Desarrollo/crecimiento personal'], ['Desarrollo/crecimiento personal', 'Salud mental/emocional'], ['Salud mental/emocional', 'Desarrollo/crecimiento personal', 'Misión de vida'], ['Relaciones familiares/pareja', 'Salud mental/emocional'], ['Relaciones familiares/pareja', 'Amistad', 'Salud mental/emocional'], ['Relaciones familiares/pareja', 'Salud mental/emocional', 'Misión de vida'], ['Misión de vida', 'Relaciones familiares/pareja', 'Desarrollo/crecimiento personal'], ['Salud mental/emocional', 'Desarrollo/crecimiento personal', 'Misión de vida'], ['Salud mental/emocional', 'Desarrollo/crecimiento personal'], ['Relaciones familiares/pareja', 'Salud mental/emocional'], ['Salud mental/emocional', 'Desarrollo/crecimiento personal', 'Misión de vida'], ['Salud mental/emocional', 'Desarrollo/crecimiento personal'], ['Salud mental/emocional', 'Desarrollo/crecimiento personal', 'Relaciones familiares/pareja'], ['Salud mental/emocional', 'Relaciones familiares/pareja', 'Desarrollo/crecimiento personal'], ['Salud mental/emocional', 'Misión de vida', 'Desarrollo/crecimiento personal'], ['Salud física', 'Salud mental/emocional', 'Desarrollo/crecimiento personal'], ['Salud mental/emocional', 'Desarrollo/crecimiento personal'], ['Misión de vida', 'Desarrollo/crecimiento personal'], ['Misión de vida', 'Desarrollo/crecimiento personal', 'Salud mental/emocional'], ['Trabajo', 'Dinero', 'Misión de vida'], ['Misión de vida', 'Salud mental/emocional', 'Desarrollo/crecimiento personal'], ['Misión de vida', 'Desarrollo/crecimiento personal'], ['Relaciones familiares/pareja', 'Amistad', 'Salud mental/emocional'], ['Relaciones familiares/pareja', 'Misión de vida'], ['Relaciones familiares/pareja', 'Amistad', 'Misión de vida'], ['Salud mental/emocional', 'Fe/espiritualidad'], ['Salud física', 'Salud mental/emocional', 'Fe/Misión de vida'], ['Relaciones familiares/pareja', 'Misión de vida', 'Desarrollo/crecimiento personal'], ['Misión de vida', 'Salud mental/emocional'], ['Relaciones familiares/pareja', 'Salud mental/emocional', 'Misión de vida'], ['Salud mental/emocional', 'Desarrollo/crecimiento personal'], ['Salud mental/emocional', 'Desarrollo/crecimiento personal'], ['Salud mental/emocional', 'Desarrollo/crecimiento personal'], ['Desarrollo/crecimiento personal', 'Relaciones familiares/pareja', 'Trabajo'], ['Misión de vida', 'Relaciones familiares/pareja', 'Salud mental/emocional'], ['Salud mental/emocional', 'Relaciones familiares/pareja'], ['Salud mental/emocional', 'Desarrollo/crecimiento personal'], ['Salud mental/emocional', 'Desarrollo/crecimiento personal', 'Misión de vida'], ['Relaciones familiares/pareja', 'Salud mental/emocional'], ['Salud mental/emocional', 'Desarrollo/crecimiento personal', 'Misión de vida'], ['Salud mental/emocional', 'Misión de vida'], ['Salud mental/emocional', 'Desarrollo/crecimiento personal', 'Misión de vida'], ['Misión de vida', 'Desarrollo/crecimiento personal'], ['Relaciones familiares/pareja', 'Amistad', 'Salud mental/emocional'], ['Desarrollo/crecimiento personal', 'Salud mental/emocional', 'Misión de vida'], ['Relaciones familiares/pareja', 'Amistad', 'Desarrollo/crecimiento personal'], ['Salud mental/emocional', 'Desarrollo/crecimiento personal', 'Misión de vida'], ['Salud mental/emocional', 'Relaciones familiares/pareja'], ['Relaciones familiares/pareja', 'Amistad', 'Salud mental/emocional'], ['Relaciones familiares/pareja', 'Salud mental/emocional'], ['Relaciones familiares/pareja', 'Amistad', 'Salud mental/emocional'], ['Relaciones familiares/pareja', 'Amistad', 'Salud mental/emocional'], ['Relaciones familiares/pareja', 'Salud mental/emocional'], ['Desarrollo/crecimiento personal', 'Relaciones familiares/pareja', 'Salud mental/emocional'], ['Desarrollo/crecimiento personal', 'Salud mental/emocional', 'Relaciones familiares/pareja'], ['Relaciones familiares/pareja', 'Amistad', 'Salud mental/emocional'], ['Relaciones familiares/pareja', 'Amistad', 'Salud mental/emocional'], ['Misión de vida', 'Desarrollo/crecimiento personal'], ['Desarrollo/crecimiento personal', 'Salud mental/emocional', 'Misión de vida'], ['Relaciones familiares/pareja', 'Salud mental/emocional', 'Misión de vida'], ['Salud mental/emocional', 'Relaciones familiares/pareja', 'Desarrollo/crecimiento personal'], ['Misión de vida', 'Desarrollo/crecimiento personal'], ['Desarrollo/crecimiento personal', 'Salud mental/emocional', 'Relaciones familiares/pareja'], ['Relaciones familiares/pareja', 'Amistad', 'Desarrollo/crecimiento personal'], ['Misión de vida', 'Salud espiritual'], ['Relaciones familiares/pareja', 'Amistad', 'Salud mental/emocional'], ['Desarrollo/crecimiento personal', 'Salud mental/emocional', 'Relaciones familiares/pareja'], ['Salud mental/emocional', 'Relaciones familiares/pareja', 'Otros'], ['Salud mental/emocional', 'Desarrollo/crecimiento personal', 'Relaciones familiares/pareja'], ['Salud mental/emocional', 'Salud física'], ['Salud mental/emocional', 'Salud física', 'Desarrollo/crecimiento personal'], ['Salud mental/emocional', 'Salud física'], ['Salud mental/emocional', 'Desarrollo/crecimiento personal', 'Trabajo'], ['Salud mental/emocional', 'Salud física'], ['Trabajo', 'Salud mental/emocional', 'Dinero'], ['Salud mental/emocional', 'Misión de vida'], ['Misión de vida', 'Desarrollo/crecimiento personal', 'Salud mental/emocional'], ['Desarrollo/crecimiento personal', 'Misión de vida'], ['Salud mental/emocional', 'Misión de vida'], ['Salud mental/emocional', 'Misión de vida'], ['Salud mental/emocional', 'Misión de vida'], ['Salud mental/emocional', 'Misión de vida'], ['Misión de vida', 'Salud mental/emocional'], ['Salud mental/emocional', 'Desarrollo/crecimiento personal', 'Misión de vida'], ['Misión de vida', 'Salud mental/emocional'], ['Misión de vida', 'Fe/Religión'], ['Salud mental/emocional', 'Desarrollo/crecimiento personal', 'Misión de vida'], ['Desarrollo/crecimiento personal', 'Salud mental/emocional', 'Misión de vida'], ['Salud mental/emocional', 'Desarrollo/crecimiento personal', 'Misión de vida'], ['Salud mental/emocional', 'Desarrollo/crecimiento personal', 'Misión de vida'], ['Salud mental/emocional', 'Misión de vida'], ['Misión de vida', 'Salud mental/emocional'], ['Salud mental/emocional', 'Desarrollo/crecimiento personal', 'Misión de vida'], ['Salud mental/emocional', 'Desarrollo/crecimiento personal', 'Relaciones familiares/pareja'], ['Salud mental/emocional', 'Misión de vida', 'Desarrollo/crecimiento personal'], ['Desarrollo/crecimiento personal', 'Misión de vida', 'Salud mental/emocional'], ['Salud mental/emocional', 'Desarrollo/crecimiento personal', 'Misión de vida'], ['Misión de vida', 'Desarrollo/crecimiento personal'], ['Desarrollo/crecimiento personal', 'Misión de vida', 'Relaciones familiares/pareja'], ['Desarrollo/crecimiento personal', 'Salud mental/emocional', 'Misión de vida'], ['Salud física', 'Salud mental/emocional', 'Fe/Religión'], ['Salud mental/emocional', 'Relaciones familiares/pareja'], ['Misión de vida', 'Salud mental/emocional', 'Otros'], ['Salud mental/emocional', 'Desarrollo/crecimiento personal', 'Misión de vida'], ['Salud mental/emocional', 'Misión de vida'], ['Salud mental/emocional', 'Desarrollo/crecimiento personal', 'Misión de vida'], ['Salud mental/emocional', 'Desarrollo/crecimiento personal', 'Misión de vida'], ['Salud mental/emocional', 'Desarrollo/crecimiento personal', 'Misión de vida'], ['Salud mental/emocional', 'Otros'], ['Salud mental/emocional', 'Misión de vida'], ['Misión de vida', 'Salud mental/emocional'], ['Salud física', 'Salud mental/emocional', 'Relaciones familiares/pareja'], ['Salud mental/emocional', 'Desarrollo/crecimiento personal'], ['Salud mental/emocional', 'Desarrollo/crecimiento personal', 'Otros'], ['Salud mental/emocional', 'Desarrollo/crecimiento personal', 'Misión de vida'], ['Salud mental/emocional', 'Desarrollo/crecimiento personal', 'Misión de vida'], ['Desarrollo/crecimiento personal', 'Misión de vida', 'Salud mental/emocional'], ['Salud mental/emocional', 'Desarrollo/crecimiento personal', 'Misión de vida'], ['Salud mental/emocional', 'Desarrollo/crecimiento personal', 'Misión de vida'], ['Salud mental/emocional', 'Fe/espiritualidad', 'Desarrollo/crecimiento personal'], ['Salud mental/emocional', 'Desarrollo/crecimiento personal', 'Misión de vida'], ['Misión de vida', 'Salud mental/emocional'], ['Salud mental/emocional', 'Misión de vida', 'Desarrollo/crecimiento personal'], ['Salud mental/emocional', 'Desarrollo/crecimiento personal', 'Misión de vida'], ['Misión de vida', 'Salud mental/emocional'], ['Trabajo', 'Desarrollo/crecimiento personal', 'Misión de vida'], ['Salud mental/emocional', 'Desarrollo/crecimiento personal', 'Misión de vida'], ['Desarrollo/crecimiento personal', 'Salud mental/emocional', 'Misión de vida'], ['Desarrollo/crecimiento personal', 'Misión de vida'], ['Desarrollo/crecimiento personal', 'Salud mental/emocional', 'Misión de vida'], ['Misión de vida', 'Desarrollo/crecimiento personal', 'Salud mental/emocional'], ['Misión de vida', 'Desarrollo/crecimiento personal'], ['Misión de vida', 'Desarrollo/crecimiento personal', 'Salud mental/emocional'], ['Desarrollo/crecimiento personal', 'Misión de vida'], ['Desarrollo/crecimiento personal', 'Misión de vida'], ['Desarrollo/crecimiento personal', 'Salud mental/emocional'], ['Salud mental/emocional', 'Misión de vida', 'Desarrollo/crecimiento personal'], ['Misión de vida', 'Salud mental/emocional'], ['Desarrollo/crecimiento personal', 'Misión de vida'], ['Desarrollo/crecimiento personal', 'Misión de vida'], ['Salud mental/emocional', 'Desarrollo/crecimiento personal', 'Misión de vida'], ['Desarrollo/crecimiento personal', 'Salud mental/emocional'], ['Desarrollo/crecimiento personal', 'Relaciones familiares/pareja', 'Amistad'], ['Desarrollo/crecimiento personal', 'Misión de vida'], ['Desarrollo/crecimiento personal', 'Relaciones familiares/pareja', 'Trabajo'], ['Desarrollo/crecimiento personal', 'Relaciones familiares/pareja', 'Amistad'], ['Desarrollo/crecimiento personal', 'Trabajo', 'Relaciones familiares/pareja'], ['Desarrollo/crecimiento personal', 'Salud mental/emocional', 'Trabajo'], ['Desarrollo/crecimiento personal', 'Misión de vida'], ['Misión de vida', 'Desarrollo/crecimiento personal', 'Salud mental/emocional'], ['Salud mental/emocional', 'Desarrollo/crecimiento personal', 'Misión de vida'], ['Desarrollo/crecimiento personal', 'Misión de vida', 'Salud mental/emocional'], ['Misión de vida', 'Desarrollo/crecimiento personal'], ['Desarrollo/crecimiento personal', 'Misión de vida'], ['Relaciones familiares/pareja', 'Amistad', 'Desarrollo/crecimiento personal'], ['Relaciones familiares/pareja', 'Trabajo', 'Otros'], ['Desarrollo/crecimiento personal', 'Salud mental/emocional'], ['Desarrollo/crecimiento personal', 'Salud mental/emocional', 'Relaciones familiares/pareja'], ['Misión de vida', 'Desarrollo/crecimiento personal'], ['Salud mental/emocional', 'Desarrollo/crecimiento personal', 'Misión de vida'], ['Misión de vida', 'Desarrollo/crecimiento personal'], ['Desarrollo/crecimiento personal', 'Misión de vida', 'Salud mental/emocional'], ['Misión de vida', 'Desarrollo/crecimiento personal'], ['Misión de vida', 'Salud mental/emocional'], ['Desarrollo/crecimiento personal', 'Misión de vida', 'Relaciones familiares/pareja'], ['Misión de vida', 'Desarrollo/crecimiento personal', 'Relaciones familiares/pareja'], ['Misión de vida', 'Desarrollo/crecimiento personal', 'Relaciones familiares/pareja'], ['Desarrollo/crecimiento personal', 'Misión de vida'], ['Misión de vida', 'Desarrollo/crecimiento personal'], ['Misión de vida', 'Desarrollo/crecimiento personal'], ['Misión de vida', 'Trabajo', 'Salud mental/emocional'], ['Misión de vida', 'Desarrollo/crecimiento personal'], ['Misión de vida', 'Desarrollo/crecimiento personal'], ['Misión de vida', 'Desarrollo/crecimiento personal'], ['Relaciones familiares/pareja', 'Desarrollo/crecimiento personal', 'Misión de vida'], ['Salud física', 'Salud mental/emocional', 'Desarrollo/crecimiento personal'], ['Salud mental/emocional', 'Desarrollo/crecimiento personal', 'Relaciones familiares/pareja'], ['Desarrollo/crecimiento personal', 'Salud mental/emocional', 'Misión de vida'], ['Desarrollo/crecimiento personal', 'Salud mental/emocional', 'Misión de vida'], ['Misión de vida', 'Desarrollo/crecimiento personal'], ['Desarrollo/crecimiento personal', 'Misión de vida', 'Salud mental/emocional'], ['Desarrollo/crecimiento personal', 'Relaciones familiares/pareja', 'Salud mental/emocional'], ['Desarrollo/crecimiento personal', 'Salud mental/emocional'], ['Salud física', 'Salud mental/emocional', 'Desarrollo/crecimiento personal'], ['Salud mental/emocional', 'Desarrollo/crecimiento personal', 'Misión de vida'], ['Desarrollo/crecimiento personal', 'Salud mental/emocional', 'Relaciones familiares/pareja'], ['Salud física', 'Salud mental/emocional', 'Desarrollo/crecimiento personal'], ['Salud física', 'Salud mental/emocional'], ['Desarrollo/crecimiento personal', 'Misión de vida', 'Salud mental/emocional'], ['Salud mental/emocional', 'Desarrollo/crecimiento personal', 'Relaciones familiares/pareja'], ['Desarrollo/crecimiento personal', 'Relaciones familiares/pareja', 'Salud mental/emocional'], ['Desarrollo/crecimiento personal', 'Trabajo'], ['Desarrollo/crecimiento personal', 'Relaciones familiares/pareja', 'Salud mental/emocional'], ['Relaciones familiares/pareja', 'Amistad', 'Desarrollo/crecimiento personal'], ['Relaciones familiares/pareja', 'Salud mental/emocional', 'Desarrollo/crecimiento personal'], ['Desarrollo/crecimiento personal', 'Salud mental/emocional'], ['Desarrollo/crecimiento personal', 'Salud mental/emocional'], ['Desarrollo/crecimiento personal', 'Misión de vida'], ['Desarrollo/crecimiento personal', 'Salud mental/emocional'], ['Desarrollo/crecimiento personal', 'Dinero', 'Misión de vida'], ['Desarrollo/crecimiento personal', 'Relaciones familiares/pareja', 'Salud mental/emocional'], ['Desarrollo/crecimiento personal', 'Salud mental/emocional', 'Misión de vida'], ['Desarrollo/crecimiento personal', 'Relaciones familiares/pareja', 'Salud mental/emocional'], ['Desarrollo/crecimiento personal', 'Salud mental/emocional'], ['Desarrollo/crecimiento personal', 'Salud mental/emocional', 'Relaciones familiares/pareja'], ['Relaciones familiares/pareja', 'Amistad', 'Desarrollo/crecimiento personal'], ['Desarrollo/crecimiento personal', 'Salud mental/emocional'], ['Desarrollo/crecimiento personal', 'Misión de vida'], ['Relaciones familiares/pareja', 'Desarrollo/crecimiento personal', 'Salud mental/emocional'], ['Relaciones familiares/pareja', 'Amistad'], ['Relaciones familiares/pareja', 'Misión de vida'], ['Salud mental/emocional', 'Desarrollo/crecimiento personal', 'Misión de vida'], ['Relaciones familiares/pareja', 'Salud mental/emocional', 'Misión de vida'], ['Salud mental/emocional', 'Desarrollo/crecimiento personal'], ['Salud mental/emocional', 'Desarrollo/crecimiento personal'], ['Relaciones familiares/pareja'], ['Relaciones familiares/pareja', 'Salud mental/emocional', 'Misión de vida'], ['Salud mental/emocional', 'Desarrollo/crecimiento personal', 'Misión de vida'], ['Salud mental/emocional', 'Relaciones familiares/pareja', 'Amistad'], ['Misión de vida', 'Desarrollo/crecimiento personal', 'Salud mental/emocional'], ['Salud mental/emocional', 'Desarrollo/crecimiento personal', 'Misión de vida'], ['Desarrollo/crecimiento personal', 'Misión de vida', 'Salud mental/emocional'], ['Desarrollo/crecimiento personal', 'Misión de vida'], ['Misión de vida', 'Desarrollo/crecimiento personal'], ['Relaciones familiares/pareja', 'Amistad', 'Salud mental/emocional'], ['Misión de vida', 'Salud mental/emocional'], ['Dinero', 'Relaciones familiares/pareja', 'Misión de vida'], ['Dinero', 'Misión de vida', 'Trabajo'], ['Relaciones familiares/pareja', 'Misión de vida'], ['Misión de vida', 'Relaciones familiares/pareja'], ['Relaciones familiares/pareja', 'Trabajo', 'Dinero'], ['Relaciones familiares/pareja', 'Amistad', 'Desarrollo/crecimiento personal'], ['Misión de vida', 'Trabajo'], ['Relaciones familiares/pareja', 'Desarrollo/crecimiento personal', 'Misión de vida'], ['Relaciones familiares/pareja', 'Salud mental/emocional'], ['Desarrollo/crecimiento personal', 'Salud mental/emocional', 'Relaciones familiares/pareja'], ['Desarrollo/crecimiento personal', 'Relaciones familiares/pareja', 'Salud mental/emocional'], ['Desarrollo/crecimiento personal', 'Salud mental/emocional', 'Misión de vida'], ['Relaciones familiares/pareja', 'Desarrollo/crecimiento personal', 'Salud mental/emocional'], ['Relaciones familiares/pareja', 'Desarrollo/crecimiento personal'], ['Misión de vida', 'Salud mental/emocional'], ['Misión de vida', 'Salud física', 'Salud mental/emocional'], ['Misión de vida', 'Desarrollo/crecimiento personal', 'Relaciones familiares/pareja'], ['Desarrollo/crecimiento personal', 'Misión de vida'], ['Misión de vida', 'Salud física', 'Salud mental/emocional'], ['Misión de vida', 'Salud mental/emocional'], ['Misión de vida', 'Salud mental/emocional'], ['Salud mental/emocional', 'Desarrollo/crecimiento personal', 'Misión de vida'], ['Salud mental/emocional', 'Desarrollo/crecimiento personal', 'Relaciones familiares/pareja'], ['Salud mental/emocional', 'Desarrollo/crecimiento personal', 'Misión de vida'], ['Salud mental/emocional', 'Desarrollo/crecimiento personal', 'Misión de vida'], ['Misión de vida', 'Desarrollo/crecimiento personal'], ['Salud mental/emocional', 'Desarrollo/crecimiento personal', 'Misión de vida'], ['Misión de vida', 'Desarrollo/crecimiento personal'], ['Relaciones familiares/pareja', 'Misión de vida'], ['Misión de vida', 'Salud mental/emocional'], ['Misión de vida', 'Desarrollo/crecimiento personal', 'Relaciones familiares/pareja'], ['Salud mental/emocional', 'Misión de vida'], ['Dinero', 'Misión de vida'], ['Misión de vida', 'Desarrollo/crecimiento personal'], ['Desarrollo/crecimiento personal', 'Trabajo', 'Salud mental/emocional'], ['Salud mental/emocional', 'Relaciones familiares/pareja', 'Desarrollo/crecimiento personal'], ['Misión de vida', 'Desarrollo/crecimiento personal'], ['Relaciones familiares/pareja', 'Salud mental/emocional', 'Misión de vida'], ['Salud mental/emocional', 'Desarrollo/crecimiento personal', 'Misión de vida'], ['Salud mental/emocional', 'Desarrollo/crecimiento personal', 'Misión de vida'], ['Salud mental/emocional', 'Desarrollo/crecimiento personal', 'Misión de vida'], ['Salud mental/emocional', 'Misión de vida'], ['Misión de vida', 'Desarrollo/crecimiento personal'], ['Misión de vida', 'Desarrollo/crecimiento personal', 'Salud mental/emocional'], ['Salud mental/emocional', 'Misión de vida', 'Relaciones familiares/pareja'], ['Salud mental/emocional', 'Desarrollo/crecimiento personal', 'Misión de vida'], ['Misión de vida', 'Desarrollo/crecimiento personal'], ['Relaciones familiares/pareja'], ['Relaciones familiares/pareja'], ['Relaciones familiares/pareja', 'Salud física'], ['Relaciones familiares/pareja', 'Salud mental/emocional'], ['Relaciones familiares/pareja', 'Salud mental/emocional'], ['Relaciones familiares/pareja', 'Misión de vida'], ['Relaciones familiares/pareja'], ['Relaciones familiares/pareja', 'Desarrollo/crecimiento personal'], ['Relaciones familiares/pareja', 'Desarrollo/crecimiento personal'], ['Relaciones familiares/pareja', 'Otros'], ['Relaciones familiares/pareja', 'Desarrollo/crecimiento personal'], ['Relaciones familiares/pareja', 'Desarrollo/crecimiento personal'], ['Relaciones familiares/pareja', 'Salud mental/emocional'], ['Relaciones familiares/pareja', 'Salud mental/emocional'], ['Relaciones familiares/pareja'], ['Relaciones familiares/pareja', 'Salud mental/emocional'], ['Relaciones familiares/pareja'], ['Relaciones familiares/pareja', 'Desarrollo/crecimiento personal'], ['Relaciones familiares/pareja'], ['Relaciones familiares/pareja', 'Desarrollo/crecimiento personal'], ['Relaciones familiares/pareja', 'Salud mental/emocional'], ['Relaciones familiares/pareja'], ['Relaciones familiares/pareja', 'Dinero'], ['Relaciones familiares/pareja', 'Salud mental/emocional'], ['Relaciones familiares/pareja', 'Trabajo', 'Diversión/Hobbies'], ['Relaciones familiares/pareja'], ['Relaciones familiares/pareja'], ['Relaciones familiares/pareja'], ['Relaciones familiares/pareja', 'Salud mental/emocional', 'Desarrollo/crecimiento personal'], ['Relaciones familiares/pareja', 'Misión de vida'], ['Relaciones familiares/pareja', 'Misión de vida', 'Salud mental/emocional'], ['Relaciones familiares/pareja', 'Misión de vida'], ['Relaciones familiares/pareja', 'Misión de vida'], ['Relaciones familiares/pareja', 'Desarrollo/crecimiento personal'], ['Relaciones familiares/pareja'], ['Misión de vida', 'Relaciones familiares/pareja', 'Desarrollo/crecimiento personal'], ['Relaciones familiares/pareja', 'Misión de vida'], ['Relaciones familiares/pareja'], ['Relaciones familiares/pareja', 'Desarrollo/crecimiento personal'], ['Relaciones familiares/pareja', 'Desarrollo/crecimiento personal'], ['Desarrollo/crecimiento personal', 'Relaciones familiares/pareja'], ['Relaciones familiares/pareja', 'Desarrollo/crecimiento personal', 'Misión de vida'], ['Relaciones familiares/pareja', 'Salud mental/emocional', 'Desarrollo/crecimiento personal'], ['Relaciones familiares/pareja'], ['Relaciones familiares/pareja', 'Salud mental/emocional', 'Desarrollo/crecimiento personal'], ['Desarrollo/crecimiento personal', 'Relaciones familiares/pareja', 'Salud mental/emocional'], ['Salud física', 'Desarrollo/crecimiento personal', 'Misión de vida'], ['Relaciones familiares/pareja', 'Salud física', 'Salud mental/emocional'], ['Relaciones familiares/pareja', 'Salud mental/emocional'], ['Salud física', 'Salud mental/emocional'], ['Relaciones familiares/pareja', 'Desarrollo/crecimiento personal', 'Salud mental/emocional'], ['Relaciones familiares/pareja', 'Desarrollo/crecimiento personal'], ['Relaciones familiares/pareja', 'Misión de vida'], ['Relaciones familiares/pareja', 'Misión de vida'], ['Relaciones familiares/pareja', 'Salud mental/emocional', 'Desarrollo/crecimiento personal'], ['Relaciones familiares/pareja', 'Desarrollo/crecimiento personal', 'Salud mental/emocional'], ['Relaciones familiares/pareja'], ['Desarrollo/crecimiento personal', 'Salud mental/emocional', 'Misión de vida'], ['Relaciones familiares/pareja', 'Desarrollo/crecimiento personal', 'Salud mental/emocional'], ['Desarrollo/crecimiento personal', 'Relaciones familiares/pareja', 'Salud mental/emocional'], ['Relaciones familiares/pareja', 'Desarrollo/crecimiento personal', 'Trabajo'], ['Relaciones familiares/pareja', 'Desarrollo/crecimiento personal', 'Misión de vida'], ['Relaciones familiares/pareja', 'Desarrollo/crecimiento personal'], ['Relaciones familiares/pareja', 'Desarrollo/crecimiento personal'], ['Relaciones familiares/pareja', 'Desarrollo/crecimiento personal', 'Misión de vida'], ['Desarrollo/crecimiento personal', 'Salud mental/emocional', 'Relaciones familiares/pareja'], ['Misión de vida', 'Salud mental/emocional', 'Desarrollo/crecimiento personal'], ['Desarrollo/crecimiento personal', 'Misión de vida', 'Relaciones familiares/pareja'], ['Desarrollo/crecimiento personal', 'Salud mental/emocional', 'Relaciones familiares/pareja'], ['Misión de vida'], ['Misión de vida', 'Relaciones familiares/pareja'], ['Misión de vida', 'Desarrollo/crecimiento personal'], ['Misión de vida', 'Desarrollo/crecimiento personal'], ['Misión de vida', 'Desarrollo/crecimiento personal'], ['Salud mental/emocional', 'Misión de vida', 'Desarrollo/crecimiento personal'], ['Relaciones familiares/pareja', 'Misión de vida'], ['Misión de vida', 'Relaciones familiares/pareja'], ['Relaciones familiares/pareja', 'Misión de vida'], ['Misión de vida', 'Desarrollo/crecimiento personal', 'Relaciones familiares/pareja'], ['Misión de vida', 'Desarrollo/crecimiento personal'], ['Misión de vida', 'Desarrollo/crecimiento personal'], ['Relaciones familiares/pareja', 'Amistad', 'Desarrollo/crecimiento personal'], ['Relaciones familiares/pareja', 'Misión de vida'], ['Salud mental/emocional', 'Misión de vida'], ['Misión de vida', 'Desarrollo/crecimiento personal'], ['Misión de vida', 'Desarrollo/crecimiento personal'], ['Misión de vida', 'Desarrollo/crecimiento personal'], ['Misión de vida', 'Desarrollo/crecimiento personal'], ['Relaciones familiares/pareja', 'Salud mental/emocional', 'Misión de vida'], ['Misión de vida', 'Salud espiritual'], ['Misión de vida', 'Desarrollo/crecimiento personal'], ['Misión de vida', 'Desarrollo/crecimiento personal'], ['Relaciones familiares/pareja', 'Salud mental/emocional', 'Misión de vida'], ['Misión de vida', 'Desarrollo/crecimiento personal'], ['Misión de vida', 'Desarrollo/crecimiento personal', 'Relaciones familiares/pareja'], ['Salud mental/emocional', 'Desarrollo/crecimiento personal', 'Misión de vida'], ['Desarrollo/crecimiento personal', 'Misión de vida'], ['Relaciones familiares/pareja', 'Misión de vida', 'Salud mental/emocional'], ['Misión de vida', 'Salud mental/emocional'], ['Misión de vida', 'Desarrollo/crecimiento personal'], ['Relaciones familiares/pareja', 'Amistad', 'Misión de vida'], ['Misión de vida', 'Desarrollo/crecimiento personal'], ['Relaciones familiares/pareja', 'Desarrollo/crecimiento personal', 'Misión de vida'], ['Salud mental/emocional', 'Desarrollo/crecimiento personal', 'Misión de vida'], ['Misión de vida', 'Desarrollo/crecimiento personal', 'Salud mental/emocional'], ['Salud física', 'Salud mental/emocional', 'Desarrollo/crecimiento personal'], ['Misión de vida', 'Desarrollo/crecimiento personal'], ['Desarrollo/crecimiento personal', 'Salud mental/emocional', 'Relaciones familiares/pareja'], ['Relaciones familiares/pareja', 'Desarrollo/crecimiento personal', 'Misión de vida'], ['Misión de vida', 'Relaciones familiares/pareja', 'Desarrollo/crecimiento personal'], ['Relaciones familiares/pareja', 'Amistad', 'Salud mental/emocional'], ['Desarrollo/crecimiento personal', 'Misión de vida', 'Relaciones familiares/pareja'], ['Misión de vida', 'Desarrollo/crecimiento personal', 'Otros'], ['Misión de vida', 'Desarrollo/crecimiento personal'], ['Salud mental/emocional', 'Desarrollo/crecimiento personal'], ['Misión de vida', 'Desarrollo/crecimiento personal'], ['Misión de vida', 'Desarrollo/crecimiento personal'], ['Misión de vida', 'Desarrollo/crecimiento personal'], ['Misión de vida', 'Desarrollo/crecimiento personal', 'Salud mental/emocional'], ['Misión de vida', 'Desarrollo/crecimiento personal'], ['Salud mental/emocional', 'Misión de vida'], ['Misión de vida', 'Salud mental/emocional'], ['Relaciones familiares/pareja', 'Salud mental/emocional', 'Misión de vida'], ['Relaciones familiares/pareja', 'Misión de vida', 'Desarrollo/crecimiento personal'], ['Misión de vida', 'Desarrollo/crecimiento personal'], ['Misión de vida', 'Desarrollo/crecimiento personal', 'Salud mental/emocional'], ['Misión de vida', 'Desarrollo/crecimiento personal']]\n"
     ]
    }
   ],
   "source": [
    "# Splitting the list_areas to store them as a list and not as a joined string\n",
    "# Also trim the white spaces\n",
    "list_areas_split = [[area.strip() for area in areas.split(',')] for areas in list_areas]\n",
    "print(list_areas_split)"
   ]
  },
  {
   "cell_type": "code",
   "execution_count": 61,
   "metadata": {},
   "outputs": [],
   "source": [
    "# Saving the raw response as a plain text file.\n",
    "bible_by_theme_interpreted = pd.DataFrame({\"purpose\": list_purpose,\n",
    "\"pasaje\": list_passage,\n",
    "\"texto\": list_text,\n",
    "\"interpretación\": list_interpretation,\n",
    "\"áreas de la vida\": list_areas_split})\n",
    "bible_by_theme_interpreted.to_csv('bible/data/bible_by_theme_int.txt',sep='|',index=False, encoding='utf-8')"
   ]
  },
  {
   "cell_type": "code",
   "execution_count": 62,
   "metadata": {},
   "outputs": [],
   "source": [
    "# Transforming the lists as a json format\n",
    "# Creating an empty dictionary to store the data\n",
    "grouped_data = {}\n",
    "\n",
    "# Iterate through the lists and populate the dictionary\n",
    "for purpose, passage, text, interpretation, area in zip(list_purpose, list_passage, list_text, list_interpretation, list_areas_split):\n",
    "    if purpose not in grouped_data:\n",
    "        grouped_data[purpose] = []\n",
    "    grouped_data[purpose].append({\n",
    "        'pasaje': passage,\n",
    "        'texto': text,\n",
    "        'interpretación': interpretation,\n",
    "        'áreas de la vida': area\n",
    "    })\n",
    "\n",
    "# Convert the dictionary to the desired list format\n",
    "output_data = [{'purpose': purpose, 'versículos': verses} for purpose, verses in grouped_data.items()]\n",
    "\n",
    "# Save the list as a JSON file\n",
    "with open('bible/data/bible_by_theme_int.json', 'w', encoding='utf-8') as json_file:\n",
    "    json.dump(output_data, json_file, ensure_ascii=False, indent=4)"
   ]
  }
 ],
 "metadata": {
  "kernelspec": {
   "display_name": "base",
   "language": "python",
   "name": "python3"
  },
  "language_info": {
   "codemirror_mode": {
    "name": "ipython",
    "version": 3
   },
   "file_extension": ".py",
   "mimetype": "text/x-python",
   "name": "python",
   "nbconvert_exporter": "python",
   "pygments_lexer": "ipython3",
   "version": "3.11.9"
  }
 },
 "nbformat": 4,
 "nbformat_minor": 2
}
