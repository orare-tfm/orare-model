{
 "cells": [
  {
   "cell_type": "markdown",
   "metadata": {},
   "source": [
    "# Interpreting Psalms"
   ]
  },
  {
   "cell_type": "markdown",
   "metadata": {},
   "source": [
    "## Filtering Psalms"
   ]
  },
  {
   "cell_type": "code",
   "execution_count": null,
   "metadata": {},
   "outputs": [],
   "source": [
    "# Importing library\n",
    "import json\n",
    "import pandas as pd\n",
    "import os\n",
    "\n",
    "# Setting directory\n",
    "# os.chdir('root_repository_path')\n",
    "os.chdir('/Users/hiroshi/Documents/ds_projects/orare-model')\n",
    "\n",
    "# Importing data\n",
    "with open('bible/data/bible.json') as f:\n",
    "    data = json.load(f)"
   ]
  },
  {
   "cell_type": "code",
   "execution_count": null,
   "metadata": {},
   "outputs": [],
   "source": [
    "# Merging the verses in each chapter\n",
    "\n",
    "# Filtering the \"Salmos\" book\n",
    "psalms_data = [item for item in data if item['testamento'] == 'El Antiguo Testamento' and item['libro'] == 'SALMOS']\n",
    "\n",
    "# Creating an empty list\n",
    "psalms_chapters = []\n",
    "\n",
    "# For loop to merge the verses in each chapter\n",
    "for book in psalms_data:\n",
    "   for chapter in book['capitulos']:\n",
    "        merged_text = ''.join([verse['texto'] for verse in chapter['versiculos']])\n",
    "        psalms_chapters.append({\n",
    "            'capitulo': chapter['numero'],\n",
    "            'texto': merged_text\n",
    "        })\n",
    "\n",
    "# Save psalms_chapters as JSON to a file\n",
    "output_file = 'bible/data/psalms_chapters.json'\n",
    "with open(output_file, 'w', encoding='utf-8') as f:\n",
    "    json.dump(psalms_chapters, f, ensure_ascii=False, indent=4)"
   ]
  },
  {
   "cell_type": "code",
   "execution_count": null,
   "metadata": {},
   "outputs": [],
   "source": [
    "for i in psalms_chapters[:10]:\n",
    "    print(f\"Capitulo {i['capitulo']}: {i['texto']}\")"
   ]
  },
  {
   "cell_type": "markdown",
   "metadata": {},
   "source": [
    "## Interpreting Psalms with ChatGPT"
   ]
  },
  {
   "cell_type": "code",
   "execution_count": null,
   "metadata": {},
   "outputs": [],
   "source": [
    "client = openai.OpenAI()\n",
    "\n",
    "def get_completion_4o(prompt, model=\"gpt-4o\"):\n",
    "    messages = [{\"role\": \"user\", \"content\": prompt}]\n",
    "    response = client.chat.completions.create(\n",
    "        model=model,\n",
    "        messages=messages,\n",
    "        temperature=0\n",
    "    )\n",
    "    return response.choices[0].message.content"
   ]
  },
  {
   "cell_type": "code",
   "execution_count": null,
   "metadata": {},
   "outputs": [],
   "source": [
    "# Prompt instruction\n",
    "instructions = \"\"\"\n",
    "# Rol #\n",
    "Tu eres el GPT: Catholic Bible Guide by Fr. Abraham Mutholath.\n",
    "Tu rol será el de un sacerdote de una iglesia Católica. Se te dará distintos fragmentos de la Biblia. Tu tarea será leer los fragmentos y realizar las tareas que se detallen en la siguiente sección.\n",
    "# Fin Rol #\n",
    "\n",
    "# Tareas #\n",
    "- Explicar la Biblia (explicacion): si el fragmento de la Biblia no está escrito en un lenguaje antiguo, es ambiguo o no está claro lo que quiere decir debes hacer una explicación breve y concisa. Solo explica lo que no es tan evidente y esté en un lenguaje antiguo o ambiguo.\n",
    "- Identificar Area de la vida (areas): de cada fragmento debes identificar el área de la vida de la que se habla. Las áreas de la vida pueden ser: \"Relaciones familiares/pareja\",\"Amistad\",\"Salud física\",\"Salud mental/emocional\",\"Desarrollo/crecimiento personal\",\"Misión de vida\",\"Dinero\",\"Trabajo\",\"Diversión/Hobbies\",\"Otros\". Para cada fragmento menciona entre 1 y 3 áreas que sean las más importantes.\n",
    "# fin Tareas #\n",
    "\n",
    "# Estructura input #\n",
    "\"id_libro | fragmento\"\n",
    "# Fin estructura input #\n",
    "\n",
    "# Estructura Output # \n",
    "El output debe ser presentado en formato json con los siguiente campos:\n",
    "- id_libro\n",
    "- fragmento\n",
    "- explicacion\n",
    "- areas (en lista)\n",
    "# Fin output #\n",
    "\"\"\""
   ]
  },
  {
   "cell_type": "code",
   "execution_count": null,
   "metadata": {},
   "outputs": [],
   "source": [
    "# Creating sample to try the prompt\n",
    "list_to_interpret = []\n",
    "for i in range(5):\n",
    "    text = f\"salmos{psalms_chapters[i]['capitulo']} | {psalms_chapters[i]['texto']} \"\n",
    "    list_to_interpret.append(text)\n",
    "print(list_to_interpret)"
   ]
  },
  {
   "cell_type": "code",
   "execution_count": null,
   "metadata": {},
   "outputs": [],
   "source": [
    "# Merging the prompt with the sample data\n",
    "prompt = f\"\"\"\n",
    "{instructions}\n",
    "\n",
    "# Input # \n",
    "{list_to_interpret}\n",
    "# Fin Input #\n",
    "\"\"\""
   ]
  },
  {
   "cell_type": "code",
   "execution_count": null,
   "metadata": {},
   "outputs": [],
   "source": [
    "# Interpreting the Bible with ChatGPT\n",
    "response_4o = get_completion_4o(prompt)\n",
    "print('gpt-4o')\n",
    "print(' ')\n",
    "print(response_4o)"
   ]
  },
  {
   "cell_type": "code",
   "execution_count": null,
   "metadata": {},
   "outputs": [],
   "source": [
    "# Loading the response and saving as a plain text file\n",
    "json_response_4o = json.loads(response_4o[7:-3])\n",
    "df_response_4o = pd.DataFrame(json_response_4o)\n",
    "#df_response_4o.to_csv('bible/data/psalms_sample_int_gpt4o.txt',sep='|',index=False, encoding='utf-8')"
   ]
  },
  {
   "cell_type": "code",
   "execution_count": null,
   "metadata": {},
   "outputs": [],
   "source": [
    "# Printing the sample interpreted\n",
    "for item in json_response_4o:\n",
    "    print(f\"Libro: {item['id_libro']}\")\n",
    "    print(f\"Fragmento: {item['fragmento']}\")\n",
    "    print(f\"Explicación: {item['explicacion']}\")\n",
    "    print(f\"Áreas: {', '.join(item['areas'])}\")\n",
    "    print()"
   ]
  }
 ],
 "metadata": {
  "language_info": {
   "name": "python"
  }
 },
 "nbformat": 4,
 "nbformat_minor": 2
}
