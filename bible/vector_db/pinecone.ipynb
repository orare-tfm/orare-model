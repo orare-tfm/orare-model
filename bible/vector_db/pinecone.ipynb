{
 "cells": [
  {
   "cell_type": "markdown",
   "metadata": {},
   "source": [
    "# Inserting Data into Pinecone db"
   ]
  },
  {
   "cell_type": "markdown",
   "metadata": {},
   "source": [
    "https://github.com/openai/openai-cookbook/blob/main/examples/vector_databases/pinecone/Using_Pinecone_for_embeddings_search.ipynb"
   ]
  },
  {
   "cell_type": "code",
   "execution_count": 2,
   "metadata": {},
   "outputs": [],
   "source": [
    "# Importing libraries\n",
    "import pandas as pd\n",
    "import numpy as np\n",
    "import os\n",
    "import ast\n",
    "from typing import List, Iterator\n",
    "import json\n",
    "\n",
    "# Setting the working directory\n",
    "def find_repo_root(repo_name='orare-model'):\n",
    "    current_dir = os.getcwd()\n",
    "    while current_dir != '/':\n",
    "        if os.path.basename(current_dir) == repo_name:\n",
    "            return current_dir\n",
    "        current_dir = os.path.dirname(current_dir)\n",
    "    raise FileNotFoundError(f\"Repository root '{repo_name}' not found.\")\n",
    "\n",
    "# Setting directory\n",
    "repo_root = find_repo_root()\n",
    "os.chdir(repo_root)"
   ]
  },
  {
   "cell_type": "code",
   "execution_count": 3,
   "metadata": {},
   "outputs": [
    {
     "name": "stderr",
     "output_type": "stream",
     "text": [
      "/Users/hiroshi/Documents/ds_projects/orare-model/venv/lib/python3.11/site-packages/pinecone/data/index.py:1: TqdmWarning: IProgress not found. Please update jupyter and ipywidgets. See https://ipywidgets.readthedocs.io/en/stable/user_install.html\n",
      "  from tqdm.autonotebook import tqdm\n"
     ]
    }
   ],
   "source": [
    "import pinecone\n",
    "from pinecone import Pinecone\n",
    "\n",
    "# Pinecone API\n",
    "pc_api_key = os.getenv(\"PINECONE_API_KEY\")\n",
    "pc = Pinecone(api_key=pc_api_key)"
   ]
  },
  {
   "cell_type": "code",
   "execution_count": 4,
   "metadata": {},
   "outputs": [],
   "source": [
    "# Models a simple batch generator that make chunks out of an input DataFrame\n",
    "class BatchGenerator:\n",
    "   \n",
    "    def __init__(self, batch_size: int = 10) -> None:\n",
    "        self.batch_size = batch_size\n",
    "    \n",
    "    # Makes chunks out of an input DataFrame\n",
    "    def to_batches(self, df: pd.DataFrame) -> Iterator[pd.DataFrame]:\n",
    "        splits = self.splits_num(df.shape[0])\n",
    "        if splits <= 1:\n",
    "            yield df\n",
    "        else:\n",
    "            for chunk in np.array_split(df, splits):\n",
    "                yield chunk\n",
    "\n",
    "    # Determines how many chunks DataFrame contains\n",
    "    def splits_num(self, elements: int) -> int:\n",
    "        return int(np.ceil(elements / self.batch_size))\n",
    "    \n",
    "    __call__ = to_batches\n",
    "\n",
    "df_batcher = BatchGenerator(200)"
   ]
  },
  {
   "cell_type": "code",
   "execution_count": 23,
   "metadata": {},
   "outputs": [
    {
     "data": {
      "text/plain": [
       "{'dimension': 1536,\n",
       " 'index_fullness': 0.0,\n",
       " 'namespaces': {},\n",
       " 'total_vector_count': 0}"
      ]
     },
     "execution_count": 23,
     "metadata": {},
     "output_type": "execute_result"
    }
   ],
   "source": [
    "# Index for Bible By Theme Interpreted v1 and v2\n",
    "index_name = 'bible-verses-openai-small'\n",
    "\n",
    "# Setting the host of the index from the Pinecone web admin portal\n",
    "index = pc.Index(index_name=index_name, host='https://bible-verses-openai-small-rsup9mo.svc.aped-4627-b74a.pinecone.io')\n",
    "\n",
    "# Check index size of the namespace to confirm all of our docs have been loaded\n",
    "index.describe_index_stats()"
   ]
  },
  {
   "cell_type": "markdown",
   "metadata": {
    "vscode": {
     "languageId": "plaintext"
    }
   },
   "source": [
    "## Bible By Theme Interpreted: v1"
   ]
  },
  {
   "cell_type": "code",
   "execution_count": 24,
   "metadata": {},
   "outputs": [
    {
     "name": "stdout",
     "output_type": "stream",
     "text": [
      "<class 'pandas.core.frame.DataFrame'>\n",
      "RangeIndex: 861 entries, 0 to 860\n",
      "Data columns (total 8 columns):\n",
      " #   Column                 Non-Null Count  Dtype \n",
      "---  ------                 --------------  ----- \n",
      " 0   id                     861 non-null    object\n",
      " 1   pasaje                 861 non-null    object\n",
      " 2   texto                  861 non-null    object\n",
      " 3   interpretación         861 non-null    object\n",
      " 4   temas                  861 non-null    object\n",
      " 5   área_vida              861 non-null    object\n",
      " 6   texto_vector           861 non-null    object\n",
      " 7   interpretacion_vector  861 non-null    object\n",
      "dtypes: object(8)\n",
      "memory usage: 53.9+ KB\n"
     ]
    }
   ],
   "source": [
    "# Reading the bible interpreted with embeddings\n",
    "bible_data = pd.read_csv('bible/data/bible_by_theme_int_emb_v1.txt', sep='|', encoding='utf-8')\n",
    "\n",
    "# Tranforming vector string into list\n",
    "bible_data['interpretacion_vector'] = bible_data['interpretacion_vector'].apply(ast.literal_eval)\n",
    "\n",
    "# Showing the bible_data object\n",
    "bible_data.info(show_counts=True)"
   ]
  },
  {
   "cell_type": "code",
   "execution_count": 26,
   "metadata": {},
   "outputs": [
    {
     "data": {
      "text/html": [
       "<div>\n",
       "<style scoped>\n",
       "    .dataframe tbody tr th:only-of-type {\n",
       "        vertical-align: middle;\n",
       "    }\n",
       "\n",
       "    .dataframe tbody tr th {\n",
       "        vertical-align: top;\n",
       "    }\n",
       "\n",
       "    .dataframe thead th {\n",
       "        text-align: right;\n",
       "    }\n",
       "</style>\n",
       "<table border=\"1\" class=\"dataframe\">\n",
       "  <thead>\n",
       "    <tr style=\"text-align: right;\">\n",
       "      <th></th>\n",
       "      <th>id</th>\n",
       "      <th>interpretacion_vector</th>\n",
       "      <th>metadata</th>\n",
       "    </tr>\n",
       "  </thead>\n",
       "  <tbody>\n",
       "    <tr>\n",
       "      <th>0</th>\n",
       "      <td>1</td>\n",
       "      <td>[0.05086807906627655, 0.006340509746223688, 0....</td>\n",
       "      <td>{'pasaje': '1 Corintios 10:12', 'texto': 'Así ...</td>\n",
       "    </tr>\n",
       "    <tr>\n",
       "      <th>1</th>\n",
       "      <td>2</td>\n",
       "      <td>[0.04511460289359093, -0.013647807762026787, -...</td>\n",
       "      <td>{'pasaje': '1 Corintios 10:13', 'texto': 'No o...</td>\n",
       "    </tr>\n",
       "    <tr>\n",
       "      <th>2</th>\n",
       "      <td>3</td>\n",
       "      <td>[0.0449271984398365, 0.04290250688791275, -0.0...</td>\n",
       "      <td>{'pasaje': '1 Corintios 10:31', 'texto': 'Si p...</td>\n",
       "    </tr>\n",
       "    <tr>\n",
       "      <th>3</th>\n",
       "      <td>4</td>\n",
       "      <td>[0.06745994836091995, 0.06209307909011841, -0....</td>\n",
       "      <td>{'pasaje': '1 Corintios 11:9', 'texto': 'Porqu...</td>\n",
       "    </tr>\n",
       "    <tr>\n",
       "      <th>4</th>\n",
       "      <td>5</td>\n",
       "      <td>[0.030204113572835922, -0.004405524581670761, ...</td>\n",
       "      <td>{'pasaje': '1 Corintios 13:13', 'texto': 'Y ah...</td>\n",
       "    </tr>\n",
       "  </tbody>\n",
       "</table>\n",
       "</div>"
      ],
      "text/plain": [
       "   id                              interpretacion_vector  \\\n",
       "0   1  [0.05086807906627655, 0.006340509746223688, 0....   \n",
       "1   2  [0.04511460289359093, -0.013647807762026787, -...   \n",
       "2   3  [0.0449271984398365, 0.04290250688791275, -0.0...   \n",
       "3   4  [0.06745994836091995, 0.06209307909011841, -0....   \n",
       "4   5  [0.030204113572835922, -0.004405524581670761, ...   \n",
       "\n",
       "                                            metadata  \n",
       "0  {'pasaje': '1 Corintios 10:12', 'texto': 'Así ...  \n",
       "1  {'pasaje': '1 Corintios 10:13', 'texto': 'No o...  \n",
       "2  {'pasaje': '1 Corintios 10:31', 'texto': 'Si p...  \n",
       "3  {'pasaje': '1 Corintios 11:9', 'texto': 'Porqu...  \n",
       "4  {'pasaje': '1 Corintios 13:13', 'texto': 'Y ah...  "
      ]
     },
     "execution_count": 26,
     "metadata": {},
     "output_type": "execute_result"
    }
   ],
   "source": [
    "# Formatting the Bible dataframe\n",
    "# Transforming index as numeric value\n",
    "bible_data['id'] = bible_data['id'].str.replace('vec', '').astype(int)\n",
    "\n",
    "# Craeting column \"metadata\"\n",
    "bible_data['metadata'] = bible_data.apply(lambda row: {\n",
    "    'pasaje': row['pasaje'],\n",
    "    'texto': row['texto'],\n",
    "    'interpretacion': row['interpretación'],\n",
    "    'temas': row['temas'],\n",
    "    'area_vida': row['área_vida']\n",
    "}, axis=1)\n",
    "\n",
    "# Dropping the columns inserted in metadata\n",
    "bible_data = bible_data.drop(columns=['pasaje','texto','interpretación','temas','área_vida'])\n",
    "\n",
    "# Reordering columns\n",
    "columns = ['id','interpretacion_vector','metadata']\n",
    "bible_data = bible_data[columns]\n",
    "bible_data.head()"
   ]
  },
  {
   "cell_type": "code",
   "execution_count": 27,
   "metadata": {},
   "outputs": [
    {
     "name": "stdout",
     "output_type": "stream",
     "text": [
      "Uploading vectors to content namespace..\n"
     ]
    },
    {
     "name": "stderr",
     "output_type": "stream",
     "text": [
      "/Users/hiroshi/Documents/ds_projects/orare-model/venv/lib/python3.11/site-packages/numpy/core/fromnumeric.py:59: FutureWarning: 'DataFrame.swapaxes' is deprecated and will be removed in a future version. Please use 'DataFrame.transpose' instead.\n",
      "  return bound(*args, **kwds)\n"
     ]
    }
   ],
   "source": [
    "# Upsert content vectors in content namespace - this can take a few minutes\n",
    "print(\"Uploading vectors to content namespace..\")\n",
    "for batch_df in df_batcher(bible_data):\n",
    "    vectors = list(zip(batch_df.id.astype(str), batch_df.interpretacion_vector, batch_df.metadata))\n",
    "    index.upsert(vectors=vectors, namespace='v1')"
   ]
  },
  {
   "cell_type": "code",
   "execution_count": 28,
   "metadata": {},
   "outputs": [
    {
     "data": {
      "text/plain": [
       "{'dimension': 1536,\n",
       " 'index_fullness': 0.0,\n",
       " 'namespaces': {'v1': {'vector_count': 861}},\n",
       " 'total_vector_count': 861}"
      ]
     },
     "execution_count": 28,
     "metadata": {},
     "output_type": "execute_result"
    }
   ],
   "source": [
    "# Check index size of the namespace to confirm all of our docs have been loaded\n",
    "index.describe_index_stats()"
   ]
  },
  {
   "cell_type": "markdown",
   "metadata": {},
   "source": [
    "## Bible By Theme Interpreted: v2"
   ]
  },
  {
   "cell_type": "code",
   "execution_count": 29,
   "metadata": {},
   "outputs": [
    {
     "name": "stdout",
     "output_type": "stream",
     "text": [
      "<class 'pandas.core.frame.DataFrame'>\n",
      "RangeIndex: 861 entries, 0 to 860\n",
      "Data columns (total 6 columns):\n",
      " #   Column                 Non-Null Count  Dtype \n",
      "---  ------                 --------------  ----- \n",
      " 0   id                     861 non-null    object\n",
      " 1   pasaje                 861 non-null    object\n",
      " 2   texto                  861 non-null    object\n",
      " 3   interpretación         861 non-null    object\n",
      " 4   temas                  861 non-null    object\n",
      " 5   interpretacion_vector  861 non-null    object\n",
      "dtypes: object(6)\n",
      "memory usage: 40.5+ KB\n"
     ]
    }
   ],
   "source": [
    "# Reading the bible interpreted with embeddings\n",
    "bible_data = pd.read_csv('bible/data/bible_by_theme_int_emb_v2.txt', sep='|', encoding='utf-8')\n",
    "\n",
    "# Tranforming vector string into list\n",
    "bible_data['interpretacion_vector'] = bible_data['interpretacion_vector'].apply(ast.literal_eval)\n",
    "\n",
    "# Showing the bible_data object\n",
    "bible_data.info(show_counts=True)"
   ]
  },
  {
   "cell_type": "code",
   "execution_count": 31,
   "metadata": {},
   "outputs": [
    {
     "data": {
      "text/html": [
       "<div>\n",
       "<style scoped>\n",
       "    .dataframe tbody tr th:only-of-type {\n",
       "        vertical-align: middle;\n",
       "    }\n",
       "\n",
       "    .dataframe tbody tr th {\n",
       "        vertical-align: top;\n",
       "    }\n",
       "\n",
       "    .dataframe thead th {\n",
       "        text-align: right;\n",
       "    }\n",
       "</style>\n",
       "<table border=\"1\" class=\"dataframe\">\n",
       "  <thead>\n",
       "    <tr style=\"text-align: right;\">\n",
       "      <th></th>\n",
       "      <th>id</th>\n",
       "      <th>interpretacion_vector</th>\n",
       "      <th>metadata</th>\n",
       "    </tr>\n",
       "  </thead>\n",
       "  <tbody>\n",
       "    <tr>\n",
       "      <th>0</th>\n",
       "      <td>1</td>\n",
       "      <td>[0.04122506454586983, -0.013365025632083416, 0...</td>\n",
       "      <td>{'pasaje': '1 Corintios 10:12', 'texto': 'Así ...</td>\n",
       "    </tr>\n",
       "    <tr>\n",
       "      <th>1</th>\n",
       "      <td>2</td>\n",
       "      <td>[0.04572800546884537, -0.02974953129887581, 0....</td>\n",
       "      <td>{'pasaje': '1 Corintios 10:13', 'texto': 'No o...</td>\n",
       "    </tr>\n",
       "    <tr>\n",
       "      <th>2</th>\n",
       "      <td>3</td>\n",
       "      <td>[0.04388764873147011, 0.016837339848279953, 0....</td>\n",
       "      <td>{'pasaje': '1 Corintios 10:31', 'texto': 'Si p...</td>\n",
       "    </tr>\n",
       "    <tr>\n",
       "      <th>3</th>\n",
       "      <td>4</td>\n",
       "      <td>[0.07951465994119644, 0.01010322105139494, 0.0...</td>\n",
       "      <td>{'pasaje': '1 Corintios 11:9', 'texto': 'Porqu...</td>\n",
       "    </tr>\n",
       "    <tr>\n",
       "      <th>4</th>\n",
       "      <td>5</td>\n",
       "      <td>[0.02176767587661743, -0.029667839407920837, 0...</td>\n",
       "      <td>{'pasaje': '1 Corintios 13:13', 'texto': 'Y ah...</td>\n",
       "    </tr>\n",
       "  </tbody>\n",
       "</table>\n",
       "</div>"
      ],
      "text/plain": [
       "   id                              interpretacion_vector  \\\n",
       "0   1  [0.04122506454586983, -0.013365025632083416, 0...   \n",
       "1   2  [0.04572800546884537, -0.02974953129887581, 0....   \n",
       "2   3  [0.04388764873147011, 0.016837339848279953, 0....   \n",
       "3   4  [0.07951465994119644, 0.01010322105139494, 0.0...   \n",
       "4   5  [0.02176767587661743, -0.029667839407920837, 0...   \n",
       "\n",
       "                                            metadata  \n",
       "0  {'pasaje': '1 Corintios 10:12', 'texto': 'Así ...  \n",
       "1  {'pasaje': '1 Corintios 10:13', 'texto': 'No o...  \n",
       "2  {'pasaje': '1 Corintios 10:31', 'texto': 'Si p...  \n",
       "3  {'pasaje': '1 Corintios 11:9', 'texto': 'Porqu...  \n",
       "4  {'pasaje': '1 Corintios 13:13', 'texto': 'Y ah...  "
      ]
     },
     "execution_count": 31,
     "metadata": {},
     "output_type": "execute_result"
    }
   ],
   "source": [
    "# Formatting the Bible dataframe\n",
    "# Transforming index as numeric value\n",
    "bible_data['id'] = bible_data['id'].str.replace('vec', '').astype(int)\n",
    "\n",
    "# Craeting column \"metadata\"\n",
    "bible_data['metadata'] = bible_data.apply(lambda row: {\n",
    "    'pasaje': row['pasaje'],\n",
    "    'texto': row['texto'],\n",
    "    'interpretacion': row['interpretación'],\n",
    "    'temas': row['temas']\n",
    "}, axis=1)\n",
    "\n",
    "# Dropping the columns inserted in metadata\n",
    "bible_data = bible_data.drop(columns=['pasaje','texto','interpretación','temas'])\n",
    "\n",
    "# Reordering columns\n",
    "columns = ['id','interpretacion_vector','metadata']\n",
    "bible_data = bible_data[columns]\n",
    "bible_data.head()"
   ]
  },
  {
   "cell_type": "code",
   "execution_count": 32,
   "metadata": {},
   "outputs": [
    {
     "name": "stdout",
     "output_type": "stream",
     "text": [
      "Uploading vectors to content namespace..\n"
     ]
    },
    {
     "name": "stderr",
     "output_type": "stream",
     "text": [
      "/Users/hiroshi/Documents/ds_projects/orare-model/venv/lib/python3.11/site-packages/numpy/core/fromnumeric.py:59: FutureWarning: 'DataFrame.swapaxes' is deprecated and will be removed in a future version. Please use 'DataFrame.transpose' instead.\n",
      "  return bound(*args, **kwds)\n"
     ]
    }
   ],
   "source": [
    "# Upsert content vectors in content namespace - this can take a few minutes\n",
    "print(\"Uploading vectors to content namespace..\")\n",
    "for batch_df in df_batcher(bible_data):\n",
    "    vectors = list(zip(batch_df.id.astype(str), batch_df.interpretacion_vector, batch_df.metadata))\n",
    "    index.upsert(vectors=vectors, namespace='v2')"
   ]
  },
  {
   "cell_type": "code",
   "execution_count": 33,
   "metadata": {},
   "outputs": [
    {
     "data": {
      "text/plain": [
       "{'dimension': 1536,\n",
       " 'index_fullness': 0.0,\n",
       " 'namespaces': {'v1': {'vector_count': 861}, 'v2': {'vector_count': 861}},\n",
       " 'total_vector_count': 1722}"
      ]
     },
     "execution_count": 33,
     "metadata": {},
     "output_type": "execute_result"
    }
   ],
   "source": [
    "# Check index size of the namespace to confirm all of our docs have been loaded\n",
    "index.describe_index_stats()"
   ]
  },
  {
   "cell_type": "markdown",
   "metadata": {},
   "source": [
    "# Catholic Bible Interpreted: v3"
   ]
  },
  {
   "cell_type": "code",
   "execution_count": 5,
   "metadata": {},
   "outputs": [
    {
     "data": {
      "text/plain": [
       "{'dimension': 3072,\n",
       " 'index_fullness': 0.0,\n",
       " 'namespaces': {},\n",
       " 'total_vector_count': 0}"
      ]
     },
     "execution_count": 5,
     "metadata": {},
     "output_type": "execute_result"
    }
   ],
   "source": [
    "# Index for Bible By Theme Interpreted v1 and v2\n",
    "index_name = 'bible-verses-openai-large'\n",
    "\n",
    "# Setting the host of the index from the Pinecone web admin portal\n",
    "index = pc.Index(index_name=index_name, host='https://bible-verses-openai-large-rsup9mo.svc.aped-4627-b74a.pinecone.io')\n",
    "\n",
    "# Check index size of the namespace to confirm all of our docs have been loaded\n",
    "index.describe_index_stats()"
   ]
  },
  {
   "cell_type": "code",
   "execution_count": 6,
   "metadata": {},
   "outputs": [
    {
     "name": "stdout",
     "output_type": "stream",
     "text": [
      "<class 'pandas.core.frame.DataFrame'>\n",
      "RangeIndex: 858 entries, 0 to 857\n",
      "Data columns (total 6 columns):\n",
      " #   Column                 Non-Null Count  Dtype \n",
      "---  ------                 --------------  ----- \n",
      " 0   id                     858 non-null    int64 \n",
      " 1   pasaje                 858 non-null    object\n",
      " 2   texto                  858 non-null    object\n",
      " 3   interpretacion         858 non-null    object\n",
      " 4   area_vida              858 non-null    object\n",
      " 5   interpretacion_vector  858 non-null    object\n",
      "dtypes: int64(1), object(5)\n",
      "memory usage: 40.3+ KB\n"
     ]
    }
   ],
   "source": [
    "# Reading the bible interpreted with embeddings\n",
    "bible_data = pd.read_csv('bible/data/cat_bible_int_openai_emb.txt', sep='|', encoding='utf-8')\n",
    "\n",
    "# Tranforming vector string into list\n",
    "bible_data['interpretacion_vector'] = bible_data['interpretacion_vector'].apply(ast.literal_eval)\n",
    "\n",
    "# Showing the bible_data object\n",
    "bible_data.info(show_counts=True)"
   ]
  },
  {
   "cell_type": "code",
   "execution_count": 9,
   "metadata": {},
   "outputs": [
    {
     "data": {
      "text/html": [
       "<div>\n",
       "<style scoped>\n",
       "    .dataframe tbody tr th:only-of-type {\n",
       "        vertical-align: middle;\n",
       "    }\n",
       "\n",
       "    .dataframe tbody tr th {\n",
       "        vertical-align: top;\n",
       "    }\n",
       "\n",
       "    .dataframe thead th {\n",
       "        text-align: right;\n",
       "    }\n",
       "</style>\n",
       "<table border=\"1\" class=\"dataframe\">\n",
       "  <thead>\n",
       "    <tr style=\"text-align: right;\">\n",
       "      <th></th>\n",
       "      <th>id</th>\n",
       "      <th>interpretacion_vector</th>\n",
       "      <th>metadata</th>\n",
       "    </tr>\n",
       "  </thead>\n",
       "  <tbody>\n",
       "    <tr>\n",
       "      <th>0</th>\n",
       "      <td>1</td>\n",
       "      <td>[-0.016444619745016098, -0.0008524770382791758...</td>\n",
       "      <td>{'pasaje': '1 Corintios 10:12', 'texto': 'Por ...</td>\n",
       "    </tr>\n",
       "    <tr>\n",
       "      <th>1</th>\n",
       "      <td>2</td>\n",
       "      <td>[0.007297295145690441, -0.030060498043894768, ...</td>\n",
       "      <td>{'pasaje': '1 Corintios 10:13', 'texto': 'Hast...</td>\n",
       "    </tr>\n",
       "    <tr>\n",
       "      <th>2</th>\n",
       "      <td>3</td>\n",
       "      <td>[-0.023252546787261963, -0.01617797650396824, ...</td>\n",
       "      <td>{'pasaje': '1 Corintios 10:31', 'texto': 'En r...</td>\n",
       "    </tr>\n",
       "    <tr>\n",
       "      <th>3</th>\n",
       "      <td>4</td>\n",
       "      <td>[-0.040891166776418686, -0.0006036538979969919...</td>\n",
       "      <td>{'pasaje': '1 Corintios 11:9', 'texto': 'ni fu...</td>\n",
       "    </tr>\n",
       "    <tr>\n",
       "      <th>4</th>\n",
       "      <td>5</td>\n",
       "      <td>[-0.030409976840019226, 0.008826683275401592, ...</td>\n",
       "      <td>{'pasaje': '1 Corintios 13:13', 'texto': 'En u...</td>\n",
       "    </tr>\n",
       "  </tbody>\n",
       "</table>\n",
       "</div>"
      ],
      "text/plain": [
       "   id                              interpretacion_vector  \\\n",
       "0   1  [-0.016444619745016098, -0.0008524770382791758...   \n",
       "1   2  [0.007297295145690441, -0.030060498043894768, ...   \n",
       "2   3  [-0.023252546787261963, -0.01617797650396824, ...   \n",
       "3   4  [-0.040891166776418686, -0.0006036538979969919...   \n",
       "4   5  [-0.030409976840019226, 0.008826683275401592, ...   \n",
       "\n",
       "                                            metadata  \n",
       "0  {'pasaje': '1 Corintios 10:12', 'texto': 'Por ...  \n",
       "1  {'pasaje': '1 Corintios 10:13', 'texto': 'Hast...  \n",
       "2  {'pasaje': '1 Corintios 10:31', 'texto': 'En r...  \n",
       "3  {'pasaje': '1 Corintios 11:9', 'texto': 'ni fu...  \n",
       "4  {'pasaje': '1 Corintios 13:13', 'texto': 'En u...  "
      ]
     },
     "execution_count": 9,
     "metadata": {},
     "output_type": "execute_result"
    }
   ],
   "source": [
    "# Formatting the Bible dataframe\n",
    "\n",
    "# Craeting column \"metadata\"\n",
    "bible_data['metadata'] = bible_data.apply(lambda row: {\n",
    "    'pasaje': row['pasaje'],\n",
    "    'texto': row['texto'],\n",
    "    'interpretacion': row['interpretacion'],\n",
    "    'temas': row['area_vida']\n",
    "}, axis=1)\n",
    "\n",
    "# Dropping the columns inserted in metadata\n",
    "bible_data = bible_data.drop(columns=['pasaje','texto','interpretacion','area_vida'])\n",
    "\n",
    "# Reordering columns\n",
    "columns = ['id','interpretacion_vector','metadata']\n",
    "bible_data = bible_data[columns]\n",
    "bible_data.head()"
   ]
  },
  {
   "cell_type": "code",
   "execution_count": 10,
   "metadata": {},
   "outputs": [
    {
     "name": "stdout",
     "output_type": "stream",
     "text": [
      "Uploading vectors to content namespace..\n"
     ]
    },
    {
     "name": "stderr",
     "output_type": "stream",
     "text": [
      "/Users/hiroshi/Documents/ds_projects/orare-model/venv/lib/python3.11/site-packages/numpy/core/fromnumeric.py:59: FutureWarning: 'DataFrame.swapaxes' is deprecated and will be removed in a future version. Please use 'DataFrame.transpose' instead.\n",
      "  return bound(*args, **kwds)\n"
     ]
    }
   ],
   "source": [
    "# Upsert content vectors in content namespace - this can take a few minutes\n",
    "print(\"Uploading vectors to content namespace..\")\n",
    "for batch_df in df_batcher(bible_data):\n",
    "    vectors = list(zip(batch_df.id.astype(str), batch_df.interpretacion_vector, batch_df.metadata))\n",
    "    index.upsert(vectors=vectors, namespace='v3')"
   ]
  },
  {
   "cell_type": "code",
   "execution_count": 15,
   "metadata": {},
   "outputs": [
    {
     "data": {
      "text/plain": [
       "{'dimension': 3072,\n",
       " 'index_fullness': 0.0,\n",
       " 'namespaces': {'v3': {'vector_count': 858}},\n",
       " 'total_vector_count': 858}"
      ]
     },
     "execution_count": 15,
     "metadata": {},
     "output_type": "execute_result"
    }
   ],
   "source": [
    "# Check index size of the namespace to confirm all of our docs have been loaded\n",
    "index.describe_index_stats()"
   ]
  }
 ],
 "metadata": {
  "kernelspec": {
   "display_name": "venv",
   "language": "python",
   "name": "python3"
  },
  "language_info": {
   "codemirror_mode": {
    "name": "ipython",
    "version": 3
   },
   "file_extension": ".py",
   "mimetype": "text/x-python",
   "name": "python",
   "nbconvert_exporter": "python",
   "pygments_lexer": "ipython3",
   "version": "3.11.9"
  }
 },
 "nbformat": 4,
 "nbformat_minor": 2
}
